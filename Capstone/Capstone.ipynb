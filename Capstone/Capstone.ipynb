{
 "cells": [
  {
   "cell_type": "code",
   "execution_count": 1,
   "metadata": {
    "collapsed": true
   },
   "outputs": [],
   "source": [
    "import pandas as pd\n",
    "import numpy as np\n",
    "import matplotlib.pyplot as plt\n",
    "%matplotlib inline"
   ]
  },
  {
   "cell_type": "code",
   "execution_count": 2,
   "metadata": {},
   "outputs": [
    {
     "data": {
      "text/html": [
       "<div>\n",
       "<style>\n",
       "    .dataframe thead tr:only-child th {\n",
       "        text-align: right;\n",
       "    }\n",
       "\n",
       "    .dataframe thead th {\n",
       "        text-align: left;\n",
       "    }\n",
       "\n",
       "    .dataframe tbody tr th {\n",
       "        vertical-align: top;\n",
       "    }\n",
       "</style>\n",
       "<table border=\"1\" class=\"dataframe\">\n",
       "  <thead>\n",
       "    <tr style=\"text-align: right;\">\n",
       "      <th></th>\n",
       "      <th>cuisine</th>\n",
       "      <th>id</th>\n",
       "      <th>ingredients</th>\n",
       "    </tr>\n",
       "  </thead>\n",
       "  <tbody>\n",
       "    <tr>\n",
       "      <th>0</th>\n",
       "      <td>greek</td>\n",
       "      <td>10259</td>\n",
       "      <td>[romaine lettuce, black olives, grape tomatoes...</td>\n",
       "    </tr>\n",
       "    <tr>\n",
       "      <th>1</th>\n",
       "      <td>southern_us</td>\n",
       "      <td>25693</td>\n",
       "      <td>[plain flour, ground pepper, salt, tomatoes, g...</td>\n",
       "    </tr>\n",
       "    <tr>\n",
       "      <th>2</th>\n",
       "      <td>filipino</td>\n",
       "      <td>20130</td>\n",
       "      <td>[eggs, pepper, salt, mayonaise, cooking oil, g...</td>\n",
       "    </tr>\n",
       "    <tr>\n",
       "      <th>3</th>\n",
       "      <td>indian</td>\n",
       "      <td>22213</td>\n",
       "      <td>[water, vegetable oil, wheat, salt]</td>\n",
       "    </tr>\n",
       "    <tr>\n",
       "      <th>4</th>\n",
       "      <td>indian</td>\n",
       "      <td>13162</td>\n",
       "      <td>[black pepper, shallots, cornflour, cayenne pe...</td>\n",
       "    </tr>\n",
       "  </tbody>\n",
       "</table>\n",
       "</div>"
      ],
      "text/plain": [
       "       cuisine     id                                        ingredients\n",
       "0        greek  10259  [romaine lettuce, black olives, grape tomatoes...\n",
       "1  southern_us  25693  [plain flour, ground pepper, salt, tomatoes, g...\n",
       "2     filipino  20130  [eggs, pepper, salt, mayonaise, cooking oil, g...\n",
       "3       indian  22213                [water, vegetable oil, wheat, salt]\n",
       "4       indian  13162  [black pepper, shallots, cornflour, cayenne pe..."
      ]
     },
     "execution_count": 2,
     "metadata": {},
     "output_type": "execute_result"
    }
   ],
   "source": [
    "# read training data\n",
    "train = pd.read_json('../data/train.json')\n",
    "train.head()"
   ]
  },
  {
   "cell_type": "code",
   "execution_count": 81,
   "metadata": {
    "scrolled": true
   },
   "outputs": [
    {
     "data": {
      "text/plain": [
       "(39774, 6)"
      ]
     },
     "execution_count": 81,
     "metadata": {},
     "output_type": "execute_result"
    }
   ],
   "source": [
    "train.shape"
   ]
  },
  {
   "cell_type": "code",
   "execution_count": 4,
   "metadata": {},
   "outputs": [
    {
     "data": {
      "text/plain": [
       "cuisine        0\n",
       "id             0\n",
       "ingredients    0\n",
       "dtype: int64"
      ]
     },
     "execution_count": 4,
     "metadata": {},
     "output_type": "execute_result"
    }
   ],
   "source": [
    "# count the number of null values in each column\n",
    "train.isnull().sum()"
   ]
  },
  {
   "cell_type": "code",
   "execution_count": 82,
   "metadata": {},
   "outputs": [
    {
     "data": {
      "text/plain": [
       "list"
      ]
     },
     "execution_count": 82,
     "metadata": {},
     "output_type": "execute_result"
    }
   ],
   "source": [
    "# check the type of ingredients\n",
    "type(train.loc[0, 'ingredients'])"
   ]
  },
  {
   "cell_type": "markdown",
   "metadata": {},
   "source": [
    "So ingredients are stored as a list of strings, not as a string"
   ]
  },
  {
   "cell_type": "code",
   "execution_count": 6,
   "metadata": {
    "collapsed": true
   },
   "outputs": [],
   "source": [
    "cuisines = train.cuisine.value_counts()"
   ]
  },
  {
   "cell_type": "code",
   "execution_count": 7,
   "metadata": {
    "scrolled": true
   },
   "outputs": [
    {
     "data": {
      "text/plain": [
       "(20L,)"
      ]
     },
     "execution_count": 7,
     "metadata": {},
     "output_type": "execute_result"
    }
   ],
   "source": [
    "cuisines.shape"
   ]
  },
  {
   "cell_type": "code",
   "execution_count": 10,
   "metadata": {},
   "outputs": [
    {
     "data": {
      "text/plain": [
       "italian         7838\n",
       "mexican         6438\n",
       "southern_us     4320\n",
       "indian          3003\n",
       "chinese         2673\n",
       "french          2646\n",
       "cajun_creole    1546\n",
       "thai            1539\n",
       "japanese        1423\n",
       "greek           1175\n",
       "spanish          989\n",
       "korean           830\n",
       "vietnamese       825\n",
       "moroccan         821\n",
       "british          804\n",
       "filipino         755\n",
       "irish            667\n",
       "jamaican         526\n",
       "russian          489\n",
       "brazilian        467\n",
       "Name: cuisine, dtype: int64"
      ]
     },
     "execution_count": 10,
     "metadata": {},
     "output_type": "execute_result"
    }
   ],
   "source": [
    "# class distribution\n",
    "cuisines"
   ]
  },
  {
   "cell_type": "markdown",
   "metadata": {},
   "source": [
    "# Exploratory Visualisation"
   ]
  },
  {
   "cell_type": "code",
   "execution_count": 8,
   "metadata": {
    "scrolled": true
   },
   "outputs": [
    {
     "data": {
      "image/png": "[encoded data removed]",
      "text/plain": [
       "<matplotlib.figure.Figure at 0x5eac978>"
      ]
     },
     "metadata": {},
     "output_type": "display_data"
    }
   ],
   "source": [
    "cuisines.plot.barh(title='Cusines', fontsize=15)\n",
    "plt.savefig('Cusines.png')\n",
    "plt.show()"
   ]
  },
  {
   "cell_type": "code",
   "execution_count": 12,
   "metadata": {},
   "outputs": [
    {
     "data": {
      "text/html": [
       "<div>\n",
       "<style>\n",
       "    .dataframe thead tr:only-child th {\n",
       "        text-align: right;\n",
       "    }\n",
       "\n",
       "    .dataframe thead th {\n",
       "        text-align: left;\n",
       "    }\n",
       "\n",
       "    .dataframe tbody tr th {\n",
       "        vertical-align: top;\n",
       "    }\n",
       "</style>\n",
       "<table border=\"1\" class=\"dataframe\">\n",
       "  <thead>\n",
       "    <tr style=\"text-align: right;\">\n",
       "      <th></th>\n",
       "      <th>cuisine</th>\n",
       "      <th>id</th>\n",
       "      <th>ingredients</th>\n",
       "      <th>num_ingredients</th>\n",
       "    </tr>\n",
       "  </thead>\n",
       "  <tbody>\n",
       "    <tr>\n",
       "      <th>0</th>\n",
       "      <td>greek</td>\n",
       "      <td>10259</td>\n",
       "      <td>[romaine lettuce, black olives, grape tomatoes...</td>\n",
       "      <td>9</td>\n",
       "    </tr>\n",
       "    <tr>\n",
       "      <th>1</th>\n",
       "      <td>southern_us</td>\n",
       "      <td>25693</td>\n",
       "      <td>[plain flour, ground pepper, salt, tomatoes, g...</td>\n",
       "      <td>11</td>\n",
       "    </tr>\n",
       "    <tr>\n",
       "      <th>2</th>\n",
       "      <td>filipino</td>\n",
       "      <td>20130</td>\n",
       "      <td>[eggs, pepper, salt, mayonaise, cooking oil, g...</td>\n",
       "      <td>12</td>\n",
       "    </tr>\n",
       "    <tr>\n",
       "      <th>3</th>\n",
       "      <td>indian</td>\n",
       "      <td>22213</td>\n",
       "      <td>[water, vegetable oil, wheat, salt]</td>\n",
       "      <td>4</td>\n",
       "    </tr>\n",
       "    <tr>\n",
       "      <th>4</th>\n",
       "      <td>indian</td>\n",
       "      <td>13162</td>\n",
       "      <td>[black pepper, shallots, cornflour, cayenne pe...</td>\n",
       "      <td>20</td>\n",
       "    </tr>\n",
       "  </tbody>\n",
       "</table>\n",
       "</div>"
      ],
      "text/plain": [
       "       cuisine     id                                        ingredients  \\\n",
       "0        greek  10259  [romaine lettuce, black olives, grape tomatoes...   \n",
       "1  southern_us  25693  [plain flour, ground pepper, salt, tomatoes, g...   \n",
       "2     filipino  20130  [eggs, pepper, salt, mayonaise, cooking oil, g...   \n",
       "3       indian  22213                [water, vegetable oil, wheat, salt]   \n",
       "4       indian  13162  [black pepper, shallots, cornflour, cayenne pe...   \n",
       "\n",
       "   num_ingredients  \n",
       "0                9  \n",
       "1               11  \n",
       "2               12  \n",
       "3                4  \n",
       "4               20  "
      ]
     },
     "execution_count": 12,
     "metadata": {},
     "output_type": "execute_result"
    }
   ],
   "source": [
    "# count the number of ingredients in each recipe\n",
    "train['num_of_ingredients'] = train.ingredients.apply(len)\n",
    "train.head()"
   ]
  },
  {
   "cell_type": "code",
   "execution_count": 13,
   "metadata": {
    "scrolled": false
   },
   "outputs": [
    {
     "data": {
      "text/plain": [
       "cuisine\n",
       "brazilian        9.520343\n",
       "british          9.708955\n",
       "cajun_creole    12.617076\n",
       "chinese         11.982791\n",
       "filipino        10.000000\n",
       "french           9.817838\n",
       "greek           10.182128\n",
       "indian          12.705961\n",
       "irish            9.299850\n",
       "italian          9.909033\n",
       "jamaican        12.214829\n",
       "japanese         9.735067\n",
       "korean          11.284337\n",
       "mexican         10.877446\n",
       "moroccan        12.909866\n",
       "russian         10.224949\n",
       "southern_us      9.634954\n",
       "spanish         10.423660\n",
       "thai            12.545809\n",
       "vietnamese      12.675152\n",
       "Name: num_ingredients, dtype: float64"
      ]
     },
     "execution_count": 13,
     "metadata": {},
     "output_type": "execute_result"
    }
   ],
   "source": [
    "# for each cuisine, calculate the mean number of ingredients\n",
    "train.groupby('cuisine').num_ingredients.mean()"
   ]
  },
  {
   "cell_type": "code",
   "execution_count": 14,
   "metadata": {
    "scrolled": true
   },
   "outputs": [
    {
     "data": {
      "text/html": [
       "<div>\n",
       "<style>\n",
       "    .dataframe thead tr:only-child th {\n",
       "        text-align: right;\n",
       "    }\n",
       "\n",
       "    .dataframe thead th {\n",
       "        text-align: left;\n",
       "    }\n",
       "\n",
       "    .dataframe tbody tr th {\n",
       "        vertical-align: top;\n",
       "    }\n",
       "</style>\n",
       "<table border=\"1\" class=\"dataframe\">\n",
       "  <thead>\n",
       "    <tr style=\"text-align: right;\">\n",
       "      <th></th>\n",
       "      <th>count</th>\n",
       "      <th>mean</th>\n",
       "      <th>std</th>\n",
       "      <th>min</th>\n",
       "      <th>25%</th>\n",
       "      <th>50%</th>\n",
       "      <th>75%</th>\n",
       "      <th>max</th>\n",
       "    </tr>\n",
       "    <tr>\n",
       "      <th>cuisine</th>\n",
       "      <th></th>\n",
       "      <th></th>\n",
       "      <th></th>\n",
       "      <th></th>\n",
       "      <th></th>\n",
       "      <th></th>\n",
       "      <th></th>\n",
       "      <th></th>\n",
       "    </tr>\n",
       "  </thead>\n",
       "  <tbody>\n",
       "    <tr>\n",
       "      <th>brazilian</th>\n",
       "      <td>467.0</td>\n",
       "      <td>9.520343</td>\n",
       "      <td>5.555139</td>\n",
       "      <td>2.0</td>\n",
       "      <td>5.0</td>\n",
       "      <td>9.0</td>\n",
       "      <td>13.0</td>\n",
       "      <td>59.0</td>\n",
       "    </tr>\n",
       "    <tr>\n",
       "      <th>british</th>\n",
       "      <td>804.0</td>\n",
       "      <td>9.708955</td>\n",
       "      <td>4.165011</td>\n",
       "      <td>2.0</td>\n",
       "      <td>7.0</td>\n",
       "      <td>9.0</td>\n",
       "      <td>12.0</td>\n",
       "      <td>30.0</td>\n",
       "    </tr>\n",
       "    <tr>\n",
       "      <th>cajun_creole</th>\n",
       "      <td>1546.0</td>\n",
       "      <td>12.617076</td>\n",
       "      <td>4.611601</td>\n",
       "      <td>2.0</td>\n",
       "      <td>9.0</td>\n",
       "      <td>12.0</td>\n",
       "      <td>16.0</td>\n",
       "      <td>31.0</td>\n",
       "    </tr>\n",
       "    <tr>\n",
       "      <th>chinese</th>\n",
       "      <td>2673.0</td>\n",
       "      <td>11.982791</td>\n",
       "      <td>4.042125</td>\n",
       "      <td>2.0</td>\n",
       "      <td>9.0</td>\n",
       "      <td>12.0</td>\n",
       "      <td>14.0</td>\n",
       "      <td>38.0</td>\n",
       "    </tr>\n",
       "    <tr>\n",
       "      <th>filipino</th>\n",
       "      <td>755.0</td>\n",
       "      <td>10.000000</td>\n",
       "      <td>3.855135</td>\n",
       "      <td>2.0</td>\n",
       "      <td>7.0</td>\n",
       "      <td>10.0</td>\n",
       "      <td>12.0</td>\n",
       "      <td>38.0</td>\n",
       "    </tr>\n",
       "    <tr>\n",
       "      <th>french</th>\n",
       "      <td>2646.0</td>\n",
       "      <td>9.817838</td>\n",
       "      <td>4.144744</td>\n",
       "      <td>1.0</td>\n",
       "      <td>7.0</td>\n",
       "      <td>9.0</td>\n",
       "      <td>12.0</td>\n",
       "      <td>31.0</td>\n",
       "    </tr>\n",
       "    <tr>\n",
       "      <th>greek</th>\n",
       "      <td>1175.0</td>\n",
       "      <td>10.182128</td>\n",
       "      <td>3.729461</td>\n",
       "      <td>1.0</td>\n",
       "      <td>7.0</td>\n",
       "      <td>10.0</td>\n",
       "      <td>12.0</td>\n",
       "      <td>27.0</td>\n",
       "    </tr>\n",
       "    <tr>\n",
       "      <th>indian</th>\n",
       "      <td>3003.0</td>\n",
       "      <td>12.705961</td>\n",
       "      <td>5.016806</td>\n",
       "      <td>1.0</td>\n",
       "      <td>9.0</td>\n",
       "      <td>12.0</td>\n",
       "      <td>16.0</td>\n",
       "      <td>49.0</td>\n",
       "    </tr>\n",
       "    <tr>\n",
       "      <th>irish</th>\n",
       "      <td>667.0</td>\n",
       "      <td>9.299850</td>\n",
       "      <td>3.700505</td>\n",
       "      <td>2.0</td>\n",
       "      <td>7.0</td>\n",
       "      <td>9.0</td>\n",
       "      <td>12.0</td>\n",
       "      <td>27.0</td>\n",
       "    </tr>\n",
       "    <tr>\n",
       "      <th>italian</th>\n",
       "      <td>7838.0</td>\n",
       "      <td>9.909033</td>\n",
       "      <td>3.806708</td>\n",
       "      <td>1.0</td>\n",
       "      <td>7.0</td>\n",
       "      <td>10.0</td>\n",
       "      <td>12.0</td>\n",
       "      <td>65.0</td>\n",
       "    </tr>\n",
       "    <tr>\n",
       "      <th>jamaican</th>\n",
       "      <td>526.0</td>\n",
       "      <td>12.214829</td>\n",
       "      <td>4.763897</td>\n",
       "      <td>2.0</td>\n",
       "      <td>9.0</td>\n",
       "      <td>12.0</td>\n",
       "      <td>15.0</td>\n",
       "      <td>35.0</td>\n",
       "    </tr>\n",
       "    <tr>\n",
       "      <th>japanese</th>\n",
       "      <td>1423.0</td>\n",
       "      <td>9.735067</td>\n",
       "      <td>4.245882</td>\n",
       "      <td>1.0</td>\n",
       "      <td>7.0</td>\n",
       "      <td>9.0</td>\n",
       "      <td>12.0</td>\n",
       "      <td>34.0</td>\n",
       "    </tr>\n",
       "    <tr>\n",
       "      <th>korean</th>\n",
       "      <td>830.0</td>\n",
       "      <td>11.284337</td>\n",
       "      <td>3.878880</td>\n",
       "      <td>2.0</td>\n",
       "      <td>9.0</td>\n",
       "      <td>11.0</td>\n",
       "      <td>14.0</td>\n",
       "      <td>29.0</td>\n",
       "    </tr>\n",
       "    <tr>\n",
       "      <th>mexican</th>\n",
       "      <td>6438.0</td>\n",
       "      <td>10.877446</td>\n",
       "      <td>4.660183</td>\n",
       "      <td>1.0</td>\n",
       "      <td>7.0</td>\n",
       "      <td>10.0</td>\n",
       "      <td>14.0</td>\n",
       "      <td>52.0</td>\n",
       "    </tr>\n",
       "    <tr>\n",
       "      <th>moroccan</th>\n",
       "      <td>821.0</td>\n",
       "      <td>12.909866</td>\n",
       "      <td>4.799813</td>\n",
       "      <td>2.0</td>\n",
       "      <td>9.0</td>\n",
       "      <td>13.0</td>\n",
       "      <td>16.0</td>\n",
       "      <td>31.0</td>\n",
       "    </tr>\n",
       "    <tr>\n",
       "      <th>russian</th>\n",
       "      <td>489.0</td>\n",
       "      <td>10.224949</td>\n",
       "      <td>4.051223</td>\n",
       "      <td>2.0</td>\n",
       "      <td>7.0</td>\n",
       "      <td>10.0</td>\n",
       "      <td>13.0</td>\n",
       "      <td>25.0</td>\n",
       "    </tr>\n",
       "    <tr>\n",
       "      <th>southern_us</th>\n",
       "      <td>4320.0</td>\n",
       "      <td>9.634954</td>\n",
       "      <td>3.869404</td>\n",
       "      <td>1.0</td>\n",
       "      <td>7.0</td>\n",
       "      <td>9.0</td>\n",
       "      <td>12.0</td>\n",
       "      <td>40.0</td>\n",
       "    </tr>\n",
       "    <tr>\n",
       "      <th>spanish</th>\n",
       "      <td>989.0</td>\n",
       "      <td>10.423660</td>\n",
       "      <td>4.160919</td>\n",
       "      <td>1.0</td>\n",
       "      <td>7.0</td>\n",
       "      <td>10.0</td>\n",
       "      <td>13.0</td>\n",
       "      <td>35.0</td>\n",
       "    </tr>\n",
       "    <tr>\n",
       "      <th>thai</th>\n",
       "      <td>1539.0</td>\n",
       "      <td>12.545809</td>\n",
       "      <td>4.411794</td>\n",
       "      <td>1.0</td>\n",
       "      <td>9.0</td>\n",
       "      <td>12.0</td>\n",
       "      <td>15.0</td>\n",
       "      <td>40.0</td>\n",
       "    </tr>\n",
       "    <tr>\n",
       "      <th>vietnamese</th>\n",
       "      <td>825.0</td>\n",
       "      <td>12.675152</td>\n",
       "      <td>5.256173</td>\n",
       "      <td>1.0</td>\n",
       "      <td>9.0</td>\n",
       "      <td>12.0</td>\n",
       "      <td>16.0</td>\n",
       "      <td>31.0</td>\n",
       "    </tr>\n",
       "  </tbody>\n",
       "</table>\n",
       "</div>"
      ],
      "text/plain": [
       "               count       mean       std  min  25%   50%   75%   max\n",
       "cuisine                                                              \n",
       "brazilian      467.0   9.520343  5.555139  2.0  5.0   9.0  13.0  59.0\n",
       "british        804.0   9.708955  4.165011  2.0  7.0   9.0  12.0  30.0\n",
       "cajun_creole  1546.0  12.617076  4.611601  2.0  9.0  12.0  16.0  31.0\n",
       "chinese       2673.0  11.982791  4.042125  2.0  9.0  12.0  14.0  38.0\n",
       "filipino       755.0  10.000000  3.855135  2.0  7.0  10.0  12.0  38.0\n",
       "french        2646.0   9.817838  4.144744  1.0  7.0   9.0  12.0  31.0\n",
       "greek         1175.0  10.182128  3.729461  1.0  7.0  10.0  12.0  27.0\n",
       "indian        3003.0  12.705961  5.016806  1.0  9.0  12.0  16.0  49.0\n",
       "irish          667.0   9.299850  3.700505  2.0  7.0   9.0  12.0  27.0\n",
       "italian       7838.0   9.909033  3.806708  1.0  7.0  10.0  12.0  65.0\n",
       "jamaican       526.0  12.214829  4.763897  2.0  9.0  12.0  15.0  35.0\n",
       "japanese      1423.0   9.735067  4.245882  1.0  7.0   9.0  12.0  34.0\n",
       "korean         830.0  11.284337  3.878880  2.0  9.0  11.0  14.0  29.0\n",
       "mexican       6438.0  10.877446  4.660183  1.0  7.0  10.0  14.0  52.0\n",
       "moroccan       821.0  12.909866  4.799813  2.0  9.0  13.0  16.0  31.0\n",
       "russian        489.0  10.224949  4.051223  2.0  7.0  10.0  13.0  25.0\n",
       "southern_us   4320.0   9.634954  3.869404  1.0  7.0   9.0  12.0  40.0\n",
       "spanish        989.0  10.423660  4.160919  1.0  7.0  10.0  13.0  35.0\n",
       "thai          1539.0  12.545809  4.411794  1.0  9.0  12.0  15.0  40.0\n",
       "vietnamese     825.0  12.675152  5.256173  1.0  9.0  12.0  16.0  31.0"
      ]
     },
     "execution_count": 14,
     "metadata": {},
     "output_type": "execute_result"
    }
   ],
   "source": [
    "# for each cuisine describe the number of ingredients\n",
    "train.groupby('cuisine').num_ingredients.describe()\n"
   ]
  },
  {
   "cell_type": "markdown",
   "metadata": {},
   "source": [
    "# As part of Feature Engineering lets add more features "
   ]
  },
  {
   "cell_type": "code",
   "execution_count": 3,
   "metadata": {
    "collapsed": true
   },
   "outputs": [],
   "source": [
    "def number_of_ingredients(df):\n",
    "    df['num_of_ingredients'] = df.ingredients.apply(len)\n",
    "    return df"
   ]
  },
  {
   "cell_type": "code",
   "execution_count": 4,
   "metadata": {
    "collapsed": true
   },
   "outputs": [],
   "source": [
    "def mean_ingredient_length(df):\n",
    "    df['ingredient_length'] = df.ingredients.apply(lambda x: np.mean([len(item) for item in x]))\n",
    "    return df"
   ]
  },
  {
   "cell_type": "code",
   "execution_count": 18,
   "metadata": {
    "collapsed": true
   },
   "outputs": [],
   "source": [
    "ing = train.loc[5, 'ingredients']"
   ]
  },
  {
   "cell_type": "code",
   "execution_count": 19,
   "metadata": {},
   "outputs": [
    {
     "data": {
      "text/plain": [
       "[u'plain flour',\n",
       " u'sugar',\n",
       " u'butter',\n",
       " u'eggs',\n",
       " u'fresh ginger root',\n",
       " u'salt',\n",
       " u'ground cinnamon',\n",
       " u'milk',\n",
       " u'vanilla extract',\n",
       " u'ground ginger',\n",
       " u'powdered sugar',\n",
       " u'baking powder']"
      ]
     },
     "execution_count": 19,
     "metadata": {},
     "output_type": "execute_result"
    }
   ],
   "source": [
    "ing"
   ]
  },
  {
   "cell_type": "code",
   "execution_count": 20,
   "metadata": {},
   "outputs": [
    {
     "data": {
      "text/plain": [
       "list"
      ]
     },
     "execution_count": 20,
     "metadata": {},
     "output_type": "execute_result"
    }
   ],
   "source": [
    "type(ing)"
   ]
  },
  {
   "cell_type": "markdown",
   "metadata": {},
   "source": [
    "# converting this list of strings into list to make the Countvectoriser process easy"
   ]
  },
  {
   "cell_type": "code",
   "execution_count": 5,
   "metadata": {
    "collapsed": true
   },
   "outputs": [],
   "source": [
    "def ingredients_as_string(df):\n",
    "    df['ingredients_string'] = df.ingredients.astype(str)\n",
    "    return df"
   ]
  },
  {
   "cell_type": "code",
   "execution_count": 6,
   "metadata": {
    "collapsed": true
   },
   "outputs": [],
   "source": [
    "# calling the functions defined above to create new features\n",
    "train = number_of_ingredients(train)\n",
    "train = mean_ingredient_length(train)\n",
    "train = ingredients_as_string(train)"
   ]
  },
  {
   "cell_type": "code",
   "execution_count": 185,
   "metadata": {},
   "outputs": [
    {
     "data": {
      "text/html": [
       "<div>\n",
       "<style>\n",
       "    .dataframe thead tr:only-child th {\n",
       "        text-align: right;\n",
       "    }\n",
       "\n",
       "    .dataframe thead th {\n",
       "        text-align: left;\n",
       "    }\n",
       "\n",
       "    .dataframe tbody tr th {\n",
       "        vertical-align: top;\n",
       "    }\n",
       "</style>\n",
       "<table border=\"1\" class=\"dataframe\">\n",
       "  <thead>\n",
       "    <tr style=\"text-align: right;\">\n",
       "      <th></th>\n",
       "      <th>cuisine</th>\n",
       "      <th>id</th>\n",
       "      <th>ingredients</th>\n",
       "      <th>num_of_ingredients</th>\n",
       "      <th>ingredient_length</th>\n",
       "      <th>ingredients_string</th>\n",
       "    </tr>\n",
       "  </thead>\n",
       "  <tbody>\n",
       "    <tr>\n",
       "      <th>0</th>\n",
       "      <td>greek</td>\n",
       "      <td>10259</td>\n",
       "      <td>[romaine lettuce, black olives, grape tomatoes...</td>\n",
       "      <td>9</td>\n",
       "      <td>12.000000</td>\n",
       "      <td>[u'romaine lettuce', u'black olives', u'grape ...</td>\n",
       "    </tr>\n",
       "    <tr>\n",
       "      <th>1</th>\n",
       "      <td>southern_us</td>\n",
       "      <td>25693</td>\n",
       "      <td>[plain flour, ground pepper, salt, tomatoes, g...</td>\n",
       "      <td>11</td>\n",
       "      <td>10.090909</td>\n",
       "      <td>[u'plain flour', u'ground pepper', u'salt', u'...</td>\n",
       "    </tr>\n",
       "    <tr>\n",
       "      <th>2</th>\n",
       "      <td>filipino</td>\n",
       "      <td>20130</td>\n",
       "      <td>[eggs, pepper, salt, mayonaise, cooking oil, g...</td>\n",
       "      <td>12</td>\n",
       "      <td>10.333333</td>\n",
       "      <td>[u'eggs', u'pepper', u'salt', u'mayonaise', u'...</td>\n",
       "    </tr>\n",
       "    <tr>\n",
       "      <th>3</th>\n",
       "      <td>indian</td>\n",
       "      <td>22213</td>\n",
       "      <td>[water, vegetable oil, wheat, salt]</td>\n",
       "      <td>4</td>\n",
       "      <td>6.750000</td>\n",
       "      <td>[u'water', u'vegetable oil', u'wheat', u'salt']</td>\n",
       "    </tr>\n",
       "    <tr>\n",
       "      <th>4</th>\n",
       "      <td>indian</td>\n",
       "      <td>13162</td>\n",
       "      <td>[black pepper, shallots, cornflour, cayenne pe...</td>\n",
       "      <td>20</td>\n",
       "      <td>10.100000</td>\n",
       "      <td>[u'black pepper', u'shallots', u'cornflour', u...</td>\n",
       "    </tr>\n",
       "  </tbody>\n",
       "</table>\n",
       "</div>"
      ],
      "text/plain": [
       "       cuisine     id                                        ingredients  \\\n",
       "0        greek  10259  [romaine lettuce, black olives, grape tomatoes...   \n",
       "1  southern_us  25693  [plain flour, ground pepper, salt, tomatoes, g...   \n",
       "2     filipino  20130  [eggs, pepper, salt, mayonaise, cooking oil, g...   \n",
       "3       indian  22213                [water, vegetable oil, wheat, salt]   \n",
       "4       indian  13162  [black pepper, shallots, cornflour, cayenne pe...   \n",
       "\n",
       "   num_of_ingredients  ingredient_length  \\\n",
       "0                   9          12.000000   \n",
       "1                  11          10.090909   \n",
       "2                  12          10.333333   \n",
       "3                   4           6.750000   \n",
       "4                  20          10.100000   \n",
       "\n",
       "                                  ingredients_string  \n",
       "0  [u'romaine lettuce', u'black olives', u'grape ...  \n",
       "1  [u'plain flour', u'ground pepper', u'salt', u'...  \n",
       "2  [u'eggs', u'pepper', u'salt', u'mayonaise', u'...  \n",
       "3    [u'water', u'vegetable oil', u'wheat', u'salt']  \n",
       "4  [u'black pepper', u'shallots', u'cornflour', u...  "
      ]
     },
     "execution_count": 185,
     "metadata": {},
     "output_type": "execute_result"
    }
   ],
   "source": [
    "# our dataset with new features\n",
    "train.head()"
   ]
  },
  {
   "cell_type": "code",
   "execution_count": null,
   "metadata": {
    "collapsed": true
   },
   "outputs": [],
   "source": []
  },
  {
   "cell_type": "markdown",
   "metadata": {},
   "source": [
    "# Base line model -- Naive Bayes"
   ]
  },
  {
   "cell_type": "code",
   "execution_count": 83,
   "metadata": {
    "collapsed": true
   },
   "outputs": [],
   "source": [
    "# define X and y\n",
    "X = train.ingredients_string\n",
    "y = train.cuisine"
   ]
  },
  {
   "cell_type": "code",
   "execution_count": 84,
   "metadata": {
    "scrolled": true
   },
   "outputs": [
    {
     "data": {
      "text/plain": [
       "0    [u'romaine lettuce', u'black olives', u'grape ...\n",
       "1    [u'plain flour', u'ground pepper', u'salt', u'...\n",
       "2    [u'eggs', u'pepper', u'salt', u'mayonaise', u'...\n",
       "3      [u'water', u'vegetable oil', u'wheat', u'salt']\n",
       "4    [u'black pepper', u'shallots', u'cornflour', u...\n",
       "Name: ingredients_string, dtype: object"
      ]
     },
     "execution_count": 84,
     "metadata": {},
     "output_type": "execute_result"
    }
   ],
   "source": [
    "# Now X was converted into series of ster\n",
    "X.head()"
   ]
  },
  {
   "cell_type": "code",
   "execution_count": 85,
   "metadata": {
    "collapsed": true
   },
   "outputs": [],
   "source": [
    "ing = train.loc[5, 'ingredients_string']"
   ]
  },
  {
   "cell_type": "code",
   "execution_count": 86,
   "metadata": {},
   "outputs": [
    {
     "data": {
      "text/plain": [
       "\"[u'plain flour', u'sugar', u'butter', u'eggs', u'fresh ginger root', u'salt', u'ground cinnamon', u'milk', u'vanilla extract', u'ground ginger', u'powdered sugar', u'baking powder']\""
      ]
     },
     "execution_count": 86,
     "metadata": {},
     "output_type": "execute_result"
    }
   ],
   "source": [
    "ing"
   ]
  },
  {
   "cell_type": "code",
   "execution_count": 87,
   "metadata": {},
   "outputs": [
    {
     "data": {
      "text/plain": [
       "str"
      ]
     },
     "execution_count": 87,
     "metadata": {},
     "output_type": "execute_result"
    }
   ],
   "source": [
    "# we have successfully created new features which are of string type\n",
    "type(ing)\n"
   ]
  },
  {
   "cell_type": "code",
   "execution_count": 19,
   "metadata": {
    "collapsed": true
   },
   "outputs": [],
   "source": [
    "from sklearn.feature_extraction.text import CountVectorizer\n",
    "vect = CountVectorizer()"
   ]
  },
  {
   "cell_type": "code",
   "execution_count": 94,
   "metadata": {
    "collapsed": true
   },
   "outputs": [],
   "source": [
    "from sklearn.naive_bayes import MultinomialNB\n",
    "nb = MultinomialNB()"
   ]
  },
  {
   "cell_type": "code",
   "execution_count": 95,
   "metadata": {
    "collapsed": true
   },
   "outputs": [],
   "source": [
    "# create a pipeline of vectorization and Naive Bayes\n",
    "from sklearn.pipeline import make_pipeline\n",
    "pipe = make_pipeline(vect, nb)"
   ]
  },
  {
   "cell_type": "code",
   "execution_count": 96,
   "metadata": {},
   "outputs": [
    {
     "data": {
      "text/plain": [
       "[('countvectorizer',\n",
       "  CountVectorizer(analyzer=u'word', binary=False, decode_error=u'strict',\n",
       "          dtype=<type 'numpy.int64'>, encoding=u'utf-8', input=u'content',\n",
       "          lowercase=True, max_df=1.0, max_features=None, min_df=1,\n",
       "          ngram_range=(1, 1), preprocessor=None, stop_words=None,\n",
       "          strip_accents=None, token_pattern=u'(?u)\\\\b\\\\w\\\\w+\\\\b',\n",
       "          tokenizer=None, vocabulary=None)),\n",
       " ('multinomialnb', MultinomialNB(alpha=1.0, class_prior=None, fit_prior=True))]"
      ]
     },
     "execution_count": 96,
     "metadata": {},
     "output_type": "execute_result"
    }
   ],
   "source": [
    "# examine the pipeline steps\n",
    "pipe.steps"
   ]
  },
  {
   "cell_type": "code",
   "execution_count": 88,
   "metadata": {},
   "outputs": [
    {
     "data": {
      "text/plain": [
       "['multinomialnb', 'countvectorizer']"
      ]
     },
     "execution_count": 88,
     "metadata": {},
     "output_type": "execute_result"
    }
   ],
   "source": [
    "# pipeline steps are automatically assigned names by make_pipeline\n",
    "pipe.named_steps.keys()"
   ]
  },
  {
   "cell_type": "code",
   "execution_count": 114,
   "metadata": {},
   "outputs": [
    {
     "data": {
      "text/plain": [
       "{'countvectorizer__max_df': [0.03, 0.02]}"
      ]
     },
     "execution_count": 114,
     "metadata": {},
     "output_type": "execute_result"
    }
   ],
   "source": [
    "param_grid = {}\n",
    "param_grid['countvectorizer__max_df'] = [0.03, 0.02]\n",
    "param_grid"
   ]
  },
  {
   "cell_type": "code",
   "execution_count": 115,
   "metadata": {
    "collapsed": true
   },
   "outputs": [],
   "source": [
    "# pass the pipeline to GridSearchCV\n",
    "from sklearn.model_selection import GridSearchCV\n",
    "grid = GridSearchCV(pipe, param_grid, cv=5, scoring='accuracy')"
   ]
  },
  {
   "cell_type": "code",
   "execution_count": 116,
   "metadata": {},
   "outputs": [
    {
     "name": "stdout",
     "output_type": "stream",
     "text": [
      "Wall time: 22.5 s\n"
     ]
    },
    {
     "data": {
      "text/plain": [
       "GridSearchCV(cv=5, error_score='raise',\n",
       "       estimator=Pipeline(memory=None,\n",
       "     steps=[('countvectorizer', CountVectorizer(analyzer=u'word', binary=False, decode_error=u'strict',\n",
       "        dtype=<type 'numpy.int64'>, encoding=u'utf-8', input=u'content',\n",
       "        lowercase=True, max_df=1.0, max_features=None, min_df=1,\n",
       "        ngram_range=(1, 1)..., vocabulary=None)), ('multinomialnb', MultinomialNB(alpha=1.0, class_prior=None, fit_prior=True))]),\n",
       "       fit_params=None, iid=True, n_jobs=1,\n",
       "       param_grid={'countvectorizer__max_df': [0.03, 0.02]},\n",
       "       pre_dispatch='2*n_jobs', refit=True, return_train_score='warn',\n",
       "       scoring='accuracy', verbose=0)"
      ]
     },
     "execution_count": 116,
     "metadata": {},
     "output_type": "execute_result"
    }
   ],
   "source": [
    "%time grid.fit(X, y)"
   ]
  },
  {
   "cell_type": "code",
   "execution_count": 118,
   "metadata": {},
   "outputs": [
    {
     "name": "stderr",
     "output_type": "stream",
     "text": [
      "C:\\Users\\SMARASAN\\AppData\\Local\\Continuum\\anaconda2\\lib\\site-packages\\sklearn\\model_selection\\_search.py:761: DeprecationWarning: The grid_scores_ attribute was deprecated in version 0.18 in favor of the more elaborate cv_results_ attribute. The grid_scores_ attribute will not be available from 0.20\n",
      "  DeprecationWarning)\n"
     ]
    },
    {
     "data": {
      "text/plain": [
       "[mean: 0.66898, std: 0.00539, params: {'countvectorizer__max_df': 0.03},\n",
       " mean: 0.64489, std: 0.00564, params: {'countvectorizer__max_df': 0.02}]"
      ]
     },
     "execution_count": 118,
     "metadata": {},
     "output_type": "execute_result"
    }
   ],
   "source": [
    "# scores for all combination of parameters\n",
    "grid.grid_scores_"
   ]
  },
  {
   "cell_type": "code",
   "execution_count": 119,
   "metadata": {
    "collapsed": true
   },
   "outputs": [],
   "source": [
    "# applying the same functions to test data as well to create new features\n",
    "test_data = pd.read_json('../data/test.json')\n",
    "test_data = number_of_ingredients(test_data)\n",
    "test_data = mean_ingredient_length(test_data)\n",
    "test_data = ingredients_as_string(test_data) "
   ]
  },
  {
   "cell_type": "code",
   "execution_count": 120,
   "metadata": {
    "collapsed": true
   },
   "outputs": [],
   "source": [
    "X_new = test_data.ingredients_string"
   ]
  },
  {
   "cell_type": "code",
   "execution_count": 82,
   "metadata": {},
   "outputs": [
    {
     "data": {
      "text/plain": [
       "Pipeline(memory=None,\n",
       "     steps=[('countvectorizer', CountVectorizer(analyzer=u'word', binary=False, decode_error=u'strict',\n",
       "        dtype=<type 'numpy.int64'>, encoding=u'utf-8', input=u'content',\n",
       "        lowercase=True, max_df=0.1, max_features=None, min_df=1,\n",
       "        ngram_range=(1, 1), preprocessor=None, stop_words=None,...ty='l2', random_state=None, solver='liblinear', tol=0.0001,\n",
       "          verbose=0, warm_start=False))])"
      ]
     },
     "execution_count": 82,
     "metadata": {},
     "output_type": "execute_result"
    }
   ],
   "source": [
    "grid.best_estimator_"
   ]
  },
  {
   "cell_type": "code",
   "execution_count": 121,
   "metadata": {},
   "outputs": [
    {
     "data": {
      "text/plain": [
       "array([u'indian', u'southern_us', u'italian', ..., u'italian',\n",
       "       u'southern_us', u'mexican'],\n",
       "      dtype='<U12')"
      ]
     },
     "execution_count": 121,
     "metadata": {},
     "output_type": "execute_result"
    }
   ],
   "source": [
    "# GridSearchCV automatically refits the best model from the possible combinations\n",
    "test_data_pred = grid.predict(X_new)\n",
    "test_data_pred"
   ]
  },
  {
   "cell_type": "code",
   "execution_count": 122,
   "metadata": {
    "collapsed": true
   },
   "outputs": [],
   "source": [
    "pd.DataFrame({'id':test_data.id, 'cuisine':test_data_pred}).set_index('id').to_csv('sub_nb.csv')"
   ]
  },
  {
   "cell_type": "code",
   "execution_count": null,
   "metadata": {
    "collapsed": true
   },
   "outputs": [],
   "source": []
  },
  {
   "cell_type": "code",
   "execution_count": 98,
   "metadata": {
    "scrolled": true
   },
   "outputs": [
    {
     "data": {
      "text/html": [
       "<div>\n",
       "<style>\n",
       "    .dataframe thead tr:only-child th {\n",
       "        text-align: right;\n",
       "    }\n",
       "\n",
       "    .dataframe thead th {\n",
       "        text-align: left;\n",
       "    }\n",
       "\n",
       "    .dataframe tbody tr th {\n",
       "        vertical-align: top;\n",
       "    }\n",
       "</style>\n",
       "<table border=\"1\" class=\"dataframe\">\n",
       "  <thead>\n",
       "    <tr style=\"text-align: right;\">\n",
       "      <th></th>\n",
       "      <th>cuisine</th>\n",
       "      <th>id</th>\n",
       "      <th>ingredients</th>\n",
       "      <th>num_of_ingredients</th>\n",
       "      <th>ingredient_length</th>\n",
       "      <th>ingredients_string</th>\n",
       "    </tr>\n",
       "  </thead>\n",
       "  <tbody>\n",
       "    <tr>\n",
       "      <th>0</th>\n",
       "      <td>greek</td>\n",
       "      <td>10259</td>\n",
       "      <td>[romaine lettuce, black olives, grape tomatoes...</td>\n",
       "      <td>9</td>\n",
       "      <td>12.000000</td>\n",
       "      <td>[u'romaine lettuce', u'black olives', u'grape ...</td>\n",
       "    </tr>\n",
       "    <tr>\n",
       "      <th>1</th>\n",
       "      <td>southern_us</td>\n",
       "      <td>25693</td>\n",
       "      <td>[plain flour, ground pepper, salt, tomatoes, g...</td>\n",
       "      <td>11</td>\n",
       "      <td>10.090909</td>\n",
       "      <td>[u'plain flour', u'ground pepper', u'salt', u'...</td>\n",
       "    </tr>\n",
       "    <tr>\n",
       "      <th>2</th>\n",
       "      <td>filipino</td>\n",
       "      <td>20130</td>\n",
       "      <td>[eggs, pepper, salt, mayonaise, cooking oil, g...</td>\n",
       "      <td>12</td>\n",
       "      <td>10.333333</td>\n",
       "      <td>[u'eggs', u'pepper', u'salt', u'mayonaise', u'...</td>\n",
       "    </tr>\n",
       "    <tr>\n",
       "      <th>3</th>\n",
       "      <td>indian</td>\n",
       "      <td>22213</td>\n",
       "      <td>[water, vegetable oil, wheat, salt]</td>\n",
       "      <td>4</td>\n",
       "      <td>6.750000</td>\n",
       "      <td>[u'water', u'vegetable oil', u'wheat', u'salt']</td>\n",
       "    </tr>\n",
       "    <tr>\n",
       "      <th>4</th>\n",
       "      <td>indian</td>\n",
       "      <td>13162</td>\n",
       "      <td>[black pepper, shallots, cornflour, cayenne pe...</td>\n",
       "      <td>20</td>\n",
       "      <td>10.100000</td>\n",
       "      <td>[u'black pepper', u'shallots', u'cornflour', u...</td>\n",
       "    </tr>\n",
       "  </tbody>\n",
       "</table>\n",
       "</div>"
      ],
      "text/plain": [
       "       cuisine     id                                        ingredients  \\\n",
       "0        greek  10259  [romaine lettuce, black olives, grape tomatoes...   \n",
       "1  southern_us  25693  [plain flour, ground pepper, salt, tomatoes, g...   \n",
       "2     filipino  20130  [eggs, pepper, salt, mayonaise, cooking oil, g...   \n",
       "3       indian  22213                [water, vegetable oil, wheat, salt]   \n",
       "4       indian  13162  [black pepper, shallots, cornflour, cayenne pe...   \n",
       "\n",
       "   num_of_ingredients  ingredient_length  \\\n",
       "0                   9          12.000000   \n",
       "1                  11          10.090909   \n",
       "2                  12          10.333333   \n",
       "3                   4           6.750000   \n",
       "4                  20          10.100000   \n",
       "\n",
       "                                  ingredients_string  \n",
       "0  [u'romaine lettuce', u'black olives', u'grape ...  \n",
       "1  [u'plain flour', u'ground pepper', u'salt', u'...  \n",
       "2  [u'eggs', u'pepper', u'salt', u'mayonaise', u'...  \n",
       "3    [u'water', u'vegetable oil', u'wheat', u'salt']  \n",
       "4  [u'black pepper', u'shallots', u'cornflour', u...  "
      ]
     },
     "execution_count": 98,
     "metadata": {},
     "output_type": "execute_result"
    }
   ],
   "source": [
    "train.head()"
   ]
  },
  {
   "cell_type": "code",
   "execution_count": 101,
   "metadata": {
    "collapsed": true
   },
   "outputs": [],
   "source": [
    "# the idea is to apply feature union (adding features to a document matrix)"
   ]
  },
  {
   "cell_type": "code",
   "execution_count": 99,
   "metadata": {
    "collapsed": true
   },
   "outputs": [],
   "source": [
    "# this funciton will return the features which we have created as part of our feature engineering process\n",
    "def new_features(df):\n",
    "     return df.loc[:, ['num_of_ingredients', 'ingredient_length']]"
   ]
  },
  {
   "cell_type": "code",
   "execution_count": 100,
   "metadata": {},
   "outputs": [
    {
     "data": {
      "text/html": [
       "<div>\n",
       "<style>\n",
       "    .dataframe thead tr:only-child th {\n",
       "        text-align: right;\n",
       "    }\n",
       "\n",
       "    .dataframe thead th {\n",
       "        text-align: left;\n",
       "    }\n",
       "\n",
       "    .dataframe tbody tr th {\n",
       "        vertical-align: top;\n",
       "    }\n",
       "</style>\n",
       "<table border=\"1\" class=\"dataframe\">\n",
       "  <thead>\n",
       "    <tr style=\"text-align: right;\">\n",
       "      <th></th>\n",
       "      <th>num_of_ingredients</th>\n",
       "      <th>ingredient_length</th>\n",
       "    </tr>\n",
       "  </thead>\n",
       "  <tbody>\n",
       "    <tr>\n",
       "      <th>0</th>\n",
       "      <td>9</td>\n",
       "      <td>12.000000</td>\n",
       "    </tr>\n",
       "    <tr>\n",
       "      <th>1</th>\n",
       "      <td>11</td>\n",
       "      <td>10.090909</td>\n",
       "    </tr>\n",
       "    <tr>\n",
       "      <th>2</th>\n",
       "      <td>12</td>\n",
       "      <td>10.333333</td>\n",
       "    </tr>\n",
       "    <tr>\n",
       "      <th>3</th>\n",
       "      <td>4</td>\n",
       "      <td>6.750000</td>\n",
       "    </tr>\n",
       "    <tr>\n",
       "      <th>4</th>\n",
       "      <td>20</td>\n",
       "      <td>10.100000</td>\n",
       "    </tr>\n",
       "  </tbody>\n",
       "</table>\n",
       "</div>"
      ],
      "text/plain": [
       "   num_of_ingredients  ingredient_length\n",
       "0                   9          12.000000\n",
       "1                  11          10.090909\n",
       "2                  12          10.333333\n",
       "3                   4           6.750000\n",
       "4                  20          10.100000"
      ]
     },
     "execution_count": 100,
     "metadata": {},
     "output_type": "execute_result"
    }
   ],
   "source": [
    "new_features(train).head()"
   ]
  },
  {
   "cell_type": "code",
   "execution_count": 103,
   "metadata": {},
   "outputs": [
    {
     "data": {
      "text/plain": [
       "sklearn.preprocessing._function_transformer.FunctionTransformer"
      ]
     },
     "execution_count": 103,
     "metadata": {},
     "output_type": "execute_result"
    }
   ],
   "source": [
    "# create a transformer\n",
    "from sklearn.preprocessing import FunctionTransformer\n",
    "new_features_ft = FunctionTransformer(new_features, validate=False)\n",
    "type(new_features_ft)"
   ]
  },
  {
   "cell_type": "code",
   "execution_count": 14,
   "metadata": {},
   "outputs": [
    {
     "data": {
      "text/html": [
       "<div>\n",
       "<style>\n",
       "    .dataframe thead tr:only-child th {\n",
       "        text-align: right;\n",
       "    }\n",
       "\n",
       "    .dataframe thead th {\n",
       "        text-align: left;\n",
       "    }\n",
       "\n",
       "    .dataframe tbody tr th {\n",
       "        vertical-align: top;\n",
       "    }\n",
       "</style>\n",
       "<table border=\"1\" class=\"dataframe\">\n",
       "  <thead>\n",
       "    <tr style=\"text-align: right;\">\n",
       "      <th></th>\n",
       "      <th>num_of_ingredients</th>\n",
       "      <th>ingredient_length</th>\n",
       "    </tr>\n",
       "  </thead>\n",
       "  <tbody>\n",
       "    <tr>\n",
       "      <th>0</th>\n",
       "      <td>9</td>\n",
       "      <td>12.000000</td>\n",
       "    </tr>\n",
       "    <tr>\n",
       "      <th>1</th>\n",
       "      <td>11</td>\n",
       "      <td>10.090909</td>\n",
       "    </tr>\n",
       "    <tr>\n",
       "      <th>2</th>\n",
       "      <td>12</td>\n",
       "      <td>10.333333</td>\n",
       "    </tr>\n",
       "    <tr>\n",
       "      <th>3</th>\n",
       "      <td>4</td>\n",
       "      <td>6.750000</td>\n",
       "    </tr>\n",
       "    <tr>\n",
       "      <th>4</th>\n",
       "      <td>20</td>\n",
       "      <td>10.100000</td>\n",
       "    </tr>\n",
       "    <tr>\n",
       "      <th>5</th>\n",
       "      <td>12</td>\n",
       "      <td>10.083333</td>\n",
       "    </tr>\n",
       "    <tr>\n",
       "      <th>6</th>\n",
       "      <td>13</td>\n",
       "      <td>10.923077</td>\n",
       "    </tr>\n",
       "    <tr>\n",
       "      <th>7</th>\n",
       "      <td>10</td>\n",
       "      <td>11.300000</td>\n",
       "    </tr>\n",
       "    <tr>\n",
       "      <th>8</th>\n",
       "      <td>13</td>\n",
       "      <td>12.538462</td>\n",
       "    </tr>\n",
       "    <tr>\n",
       "      <th>9</th>\n",
       "      <td>6</td>\n",
       "      <td>13.833333</td>\n",
       "    </tr>\n",
       "  </tbody>\n",
       "</table>\n",
       "</div>"
      ],
      "text/plain": [
       "   num_of_ingredients  ingredient_length\n",
       "0                   9          12.000000\n",
       "1                  11          10.090909\n",
       "2                  12          10.333333\n",
       "3                   4           6.750000\n",
       "4                  20          10.100000\n",
       "5                  12          10.083333\n",
       "6                  13          10.923077\n",
       "7                  10          11.300000\n",
       "8                  13          12.538462\n",
       "9                   6          13.833333"
      ]
     },
     "execution_count": 14,
     "metadata": {},
     "output_type": "execute_result"
    }
   ],
   "source": [
    "new_features_ft.transform(train).head(10)"
   ]
  },
  {
   "cell_type": "code",
   "execution_count": 105,
   "metadata": {
    "collapsed": true
   },
   "outputs": [],
   "source": [
    "# function to return ingredients in string format\n",
    "def get_ingredients(df):    \n",
    "    return df.ingredients_string\n"
   ]
  },
  {
   "cell_type": "code",
   "execution_count": 17,
   "metadata": {
    "scrolled": true
   },
   "outputs": [
    {
     "name": "stdout",
     "output_type": "stream",
     "text": [
      "<class 'pandas.core.series.Series'>\n",
      "<class 'pandas.core.frame.DataFrame'>\n"
     ]
    },
    {
     "data": {
      "text/plain": [
       "0    [u'romaine lettuce', u'black olives', u'grape ...\n",
       "1    [u'plain flour', u'ground pepper', u'salt', u'...\n",
       "2    [u'eggs', u'pepper', u'salt', u'mayonaise', u'...\n",
       "3      [u'water', u'vegetable oil', u'wheat', u'salt']\n",
       "4    [u'black pepper', u'shallots', u'cornflour', u...\n",
       "5    [u'plain flour', u'sugar', u'butter', u'eggs',...\n",
       "6    [u'olive oil', u'salt', u'medium shrimp', u'pe...\n",
       "7    [u'sugar', u'pistachio nuts', u'white almond b...\n",
       "8    [u'olive oil', u'purple onion', u'fresh pineap...\n",
       "9    [u'chopped tomatoes', u'fresh basil', u'garlic...\n",
       "Name: ingredients_string, dtype: object"
      ]
     },
     "execution_count": 17,
     "metadata": {},
     "output_type": "execute_result"
    }
   ],
   "source": [
    "new_features_ingredients = FunctionTransformer(get_ingredients, validate=False)\n",
    "new_features_ingredients.transform(train).head(10)"
   ]
  },
  {
   "cell_type": "markdown",
   "metadata": {},
   "source": [
    "FeatureUnion applies a list of transformers in parallel to the input data\n",
    "This is useful for combining several feature extraction mechanisms into a single transformer."
   ]
  },
  {
   "cell_type": "code",
   "execution_count": 107,
   "metadata": {
    "collapsed": true
   },
   "outputs": [],
   "source": [
    "from sklearn.pipeline import make_union\n",
    "from sklearn.pipeline import make_pipeline"
   ]
  },
  {
   "cell_type": "code",
   "execution_count": 108,
   "metadata": {
    "collapsed": true
   },
   "outputs": [],
   "source": [
    "from sklearn.linear_model import LogisticRegression\n",
    "log_reg = LogisticRegression()"
   ]
  },
  {
   "cell_type": "code",
   "execution_count": 109,
   "metadata": {},
   "outputs": [],
   "source": [
    "union = make_union(make_pipeline(new_features_ingredients, vect), new_features_ft)\n",
    "pipe = make_pipeline(union, log_reg)"
   ]
  },
  {
   "cell_type": "code",
   "execution_count": 110,
   "metadata": {},
   "outputs": [
    {
     "data": {
      "text/plain": [
       "[('featureunion', FeatureUnion(n_jobs=1,\n",
       "         transformer_list=[('pipeline', Pipeline(memory=None,\n",
       "       steps=[('functiontransformer', FunctionTransformer(accept_sparse=False,\n",
       "            func=<function get_ingredients at 0x000000000C2DCDD8>,\n",
       "            inv_kw_args=None, inverse_func=None, kw_args=None,\n",
       "            pass_y='deprecated', validate=Fals... inv_kw_args=None, inverse_func=None, kw_args=None,\n",
       "            pass_y='deprecated', validate=False))],\n",
       "         transformer_weights=None)),\n",
       " ('logisticregression',\n",
       "  LogisticRegression(C=1.0, class_weight=None, dual=False, fit_intercept=True,\n",
       "            intercept_scaling=1, max_iter=100, multi_class='ovr', n_jobs=1,\n",
       "            penalty='l2', random_state=None, solver='liblinear', tol=0.0001,\n",
       "            verbose=0, warm_start=False))]"
      ]
     },
     "execution_count": 110,
     "metadata": {},
     "output_type": "execute_result"
    }
   ],
   "source": [
    "pipe.steps"
   ]
  },
  {
   "cell_type": "code",
   "execution_count": 121,
   "metadata": {},
   "outputs": [
    {
     "data": {
      "text/plain": [
       "{'featureunion__pipeline__countvectorizer__max_df': [0.05,\n",
       "  0.06,\n",
       "  0.04,\n",
       "  0.07,\n",
       "  0.1],\n",
       " 'featureunion__pipeline__countvectorizer__ngram_range': [(1, 1), (1, 2)],\n",
       " 'featureunion__pipeline__countvectorizer__token_pattern': ['\\\\b\\\\w\\\\w+\\\\b',\n",
       "  \"'([a-z ]+)'\"],\n",
       " 'logisticregression__C': [0.01, 0.1, 0.4, 0.6, 0.5, 1]}"
      ]
     },
     "execution_count": 121,
     "metadata": {},
     "output_type": "execute_result"
    }
   ],
   "source": [
    "param_grid = {}\n",
    "param_grid['featureunion__pipeline__countvectorizer__token_pattern'] = [r\"\\b\\w\\w+\\b\", r\"'([a-z ]+)'\"]\n",
    "param_grid['featureunion__pipeline__countvectorizer__max_df'] = [0.05, 0.06, 0.04, 0.07, 0.1]\n",
    "param_grid['featureunion__pipeline__countvectorizer__ngram_range'] = [(1,1), (1,2)]\n",
    "param_grid['logisticregression__C'] = [0.01, 0.1, 0.4, 0.6, 0.5, 1]\n",
    "param_grid"
   ]
  },
  {
   "cell_type": "code",
   "execution_count": 116,
   "metadata": {
    "collapsed": true
   },
   "outputs": [],
   "source": [
    "# pass the pipeline (instead of the model) to GridSearchCV\n",
    "from sklearn.model_selection import GridSearchCV\n",
    "grid = GridSearchCV(pipe, param_grid, cv=20, scoring='accuracy')"
   ]
  },
  {
   "cell_type": "code",
   "execution_count": 25,
   "metadata": {},
   "outputs": [
    {
     "data": {
      "text/html": [
       "<div>\n",
       "<style>\n",
       "    .dataframe thead tr:only-child th {\n",
       "        text-align: right;\n",
       "    }\n",
       "\n",
       "    .dataframe thead th {\n",
       "        text-align: left;\n",
       "    }\n",
       "\n",
       "    .dataframe tbody tr th {\n",
       "        vertical-align: top;\n",
       "    }\n",
       "</style>\n",
       "<table border=\"1\" class=\"dataframe\">\n",
       "  <thead>\n",
       "    <tr style=\"text-align: right;\">\n",
       "      <th></th>\n",
       "      <th>cuisine</th>\n",
       "      <th>id</th>\n",
       "      <th>ingredients</th>\n",
       "      <th>num_of_ingredients</th>\n",
       "      <th>ingredient_length</th>\n",
       "      <th>ingredients_string</th>\n",
       "    </tr>\n",
       "  </thead>\n",
       "  <tbody>\n",
       "    <tr>\n",
       "      <th>0</th>\n",
       "      <td>greek</td>\n",
       "      <td>10259</td>\n",
       "      <td>[romaine lettuce, black olives, grape tomatoes...</td>\n",
       "      <td>9</td>\n",
       "      <td>12.000000</td>\n",
       "      <td>[u'romaine lettuce', u'black olives', u'grape ...</td>\n",
       "    </tr>\n",
       "    <tr>\n",
       "      <th>1</th>\n",
       "      <td>southern_us</td>\n",
       "      <td>25693</td>\n",
       "      <td>[plain flour, ground pepper, salt, tomatoes, g...</td>\n",
       "      <td>11</td>\n",
       "      <td>10.090909</td>\n",
       "      <td>[u'plain flour', u'ground pepper', u'salt', u'...</td>\n",
       "    </tr>\n",
       "    <tr>\n",
       "      <th>2</th>\n",
       "      <td>filipino</td>\n",
       "      <td>20130</td>\n",
       "      <td>[eggs, pepper, salt, mayonaise, cooking oil, g...</td>\n",
       "      <td>12</td>\n",
       "      <td>10.333333</td>\n",
       "      <td>[u'eggs', u'pepper', u'salt', u'mayonaise', u'...</td>\n",
       "    </tr>\n",
       "    <tr>\n",
       "      <th>3</th>\n",
       "      <td>indian</td>\n",
       "      <td>22213</td>\n",
       "      <td>[water, vegetable oil, wheat, salt]</td>\n",
       "      <td>4</td>\n",
       "      <td>6.750000</td>\n",
       "      <td>[u'water', u'vegetable oil', u'wheat', u'salt']</td>\n",
       "    </tr>\n",
       "    <tr>\n",
       "      <th>4</th>\n",
       "      <td>indian</td>\n",
       "      <td>13162</td>\n",
       "      <td>[black pepper, shallots, cornflour, cayenne pe...</td>\n",
       "      <td>20</td>\n",
       "      <td>10.100000</td>\n",
       "      <td>[u'black pepper', u'shallots', u'cornflour', u...</td>\n",
       "    </tr>\n",
       "  </tbody>\n",
       "</table>\n",
       "</div>"
      ],
      "text/plain": [
       "       cuisine     id                                        ingredients  \\\n",
       "0        greek  10259  [romaine lettuce, black olives, grape tomatoes...   \n",
       "1  southern_us  25693  [plain flour, ground pepper, salt, tomatoes, g...   \n",
       "2     filipino  20130  [eggs, pepper, salt, mayonaise, cooking oil, g...   \n",
       "3       indian  22213                [water, vegetable oil, wheat, salt]   \n",
       "4       indian  13162  [black pepper, shallots, cornflour, cayenne pe...   \n",
       "\n",
       "   num_of_ingredients  ingredient_length  \\\n",
       "0                   9          12.000000   \n",
       "1                  11          10.090909   \n",
       "2                  12          10.333333   \n",
       "3                   4           6.750000   \n",
       "4                  20          10.100000   \n",
       "\n",
       "                                  ingredients_string  \n",
       "0  [u'romaine lettuce', u'black olives', u'grape ...  \n",
       "1  [u'plain flour', u'ground pepper', u'salt', u'...  \n",
       "2  [u'eggs', u'pepper', u'salt', u'mayonaise', u'...  \n",
       "3    [u'water', u'vegetable oil', u'wheat', u'salt']  \n",
       "4  [u'black pepper', u'shallots', u'cornflour', u...  "
      ]
     },
     "execution_count": 25,
     "metadata": {},
     "output_type": "execute_result"
    }
   ],
   "source": [
    "train.head()"
   ]
  },
  {
   "cell_type": "code",
   "execution_count": 117,
   "metadata": {
    "scrolled": true
   },
   "outputs": [
    {
     "name": "stdout",
     "output_type": "stream",
     "text": [
      "<class 'pandas.core.series.Series'>\n",
      "<class 'pandas.core.frame.DataFrame'>\n",
      "<class 'pandas.core.series.Series'>\n",
      "<class 'pandas.core.frame.DataFrame'>\n",
      "<class 'pandas.core.series.Series'>\n",
      "<class 'pandas.core.frame.DataFrame'>\n",
      "<class 'pandas.core.series.Series'>\n",
      "<class 'pandas.core.frame.DataFrame'>\n",
      "<class 'pandas.core.series.Series'>\n",
      "<class 'pandas.core.frame.DataFrame'>\n",
      "<class 'pandas.core.series.Series'>\n",
      "<class 'pandas.core.frame.DataFrame'>\n",
      "<class 'pandas.core.series.Series'>\n",
      "<class 'pandas.core.frame.DataFrame'>\n",
      "<class 'pandas.core.series.Series'>\n",
      "<class 'pandas.core.frame.DataFrame'>\n",
      "<class 'pandas.core.series.Series'>\n",
      "<class 'pandas.core.frame.DataFrame'>\n",
      "<class 'pandas.core.series.Series'>\n",
      "<class 'pandas.core.frame.DataFrame'>\n",
      "<class 'pandas.core.series.Series'>\n",
      "<class 'pandas.core.frame.DataFrame'>\n",
      "<class 'pandas.core.series.Series'>\n",
      "<class 'pandas.core.frame.DataFrame'>\n",
      "<class 'pandas.core.series.Series'>\n",
      "<class 'pandas.core.frame.DataFrame'>\n",
      "<class 'pandas.core.series.Series'>\n",
      "<class 'pandas.core.frame.DataFrame'>\n",
      "<class 'pandas.core.series.Series'>\n",
      "<class 'pandas.core.frame.DataFrame'>\n",
      "<class 'pandas.core.series.Series'>\n",
      "<class 'pandas.core.frame.DataFrame'>\n",
      "<class 'pandas.core.series.Series'>\n",
      "<class 'pandas.core.frame.DataFrame'>\n",
      "<class 'pandas.core.series.Series'>\n",
      "<class 'pandas.core.frame.DataFrame'>\n",
      "<class 'pandas.core.series.Series'>\n",
      "<class 'pandas.core.frame.DataFrame'>\n",
      "<class 'pandas.core.series.Series'>\n",
      "<class 'pandas.core.frame.DataFrame'>\n",
      "<class 'pandas.core.series.Series'>\n",
      "<class 'pandas.core.frame.DataFrame'>\n",
      "<class 'pandas.core.series.Series'>\n",
      "<class 'pandas.core.frame.DataFrame'>\n",
      "<class 'pandas.core.series.Series'>\n",
      "<class 'pandas.core.frame.DataFrame'>\n",
      "<class 'pandas.core.series.Series'>\n",
      "<class 'pandas.core.frame.DataFrame'>\n",
      "<class 'pandas.core.series.Series'>\n",
      "<class 'pandas.core.frame.DataFrame'>\n",
      "<class 'pandas.core.series.Series'>\n",
      "<class 'pandas.core.frame.DataFrame'>\n",
      "<class 'pandas.core.series.Series'>\n",
      "<class 'pandas.core.frame.DataFrame'>\n",
      "<class 'pandas.core.series.Series'>\n",
      "<class 'pandas.core.frame.DataFrame'>\n",
      "<class 'pandas.core.series.Series'>\n",
      "<class 'pandas.core.frame.DataFrame'>\n",
      "<class 'pandas.core.series.Series'>\n",
      "<class 'pandas.core.frame.DataFrame'>\n",
      "<class 'pandas.core.series.Series'>\n",
      "<class 'pandas.core.frame.DataFrame'>\n"
     ]
    },
    {
     "data": {
      "text/plain": [
       "GridSearchCV(cv=5, error_score='raise',\n",
       "       estimator=Pipeline(memory=None,\n",
       "     steps=[('featureunion', FeatureUnion(n_jobs=1,\n",
       "       transformer_list=[('pipeline', Pipeline(memory=None,\n",
       "     steps=[('functiontransformer', FunctionTransformer(accept_sparse=False,\n",
       "          func=<function get_ingredients at 0x000000000C2DCDD8>,\n",
       "          inv_kw_args=None, inverse_func=None, kw_a...ty='l2', random_state=None, solver='liblinear', tol=0.0001,\n",
       "          verbose=0, warm_start=False))]),\n",
       "       fit_params=None, iid=True, n_jobs=1,\n",
       "       param_grid={'logisticregression__C': [0.01, 0.1]},\n",
       "       pre_dispatch='2*n_jobs', refit=True, return_train_score='warn',\n",
       "       scoring='accuracy', verbose=0)"
      ]
     },
     "execution_count": 117,
     "metadata": {},
     "output_type": "execute_result"
    }
   ],
   "source": [
    "grid.fit(train, y)"
   ]
  },
  {
   "cell_type": "code",
   "execution_count": 29,
   "metadata": {},
   "outputs": [
    {
     "name": "stderr",
     "output_type": "stream",
     "text": [
      "C:\\Users\\SMARASAN\\AppData\\Local\\Continuum\\anaconda2\\lib\\site-packages\\sklearn\\model_selection\\_search.py:761: DeprecationWarning: The grid_scores_ attribute was deprecated in version 0.18 in favor of the more elaborate cv_results_ attribute. The grid_scores_ attribute will not be available from 0.20\n",
      "  DeprecationWarning)\n"
     ]
    },
    {
     "data": {
      "text/plain": [
       "[mean: 0.61844, std: 0.00888, params: {'featureunion__pipeline__countvectorizer__token_pattern': '\\\\b\\\\w\\\\w+\\\\b', 'featureunion__pipeline__countvectorizer__max_df': 0.05, 'featureunion__pipeline__countvectorizer__ngram_range': (1, 1), 'logisticregression__C': 0.01},\n",
       " mean: 0.71061, std: 0.00858, params: {'featureunion__pipeline__countvectorizer__token_pattern': '\\\\b\\\\w\\\\w+\\\\b', 'featureunion__pipeline__countvectorizer__max_df': 0.05, 'featureunion__pipeline__countvectorizer__ngram_range': (1, 1), 'logisticregression__C': 0.1},\n",
       " mean: 0.73284, std: 0.00958, params: {'featureunion__pipeline__countvectorizer__token_pattern': '\\\\b\\\\w\\\\w+\\\\b', 'featureunion__pipeline__countvectorizer__max_df': 0.05, 'featureunion__pipeline__countvectorizer__ngram_range': (1, 1), 'logisticregression__C': 0.4},\n",
       " mean: 0.73528, std: 0.00947, params: {'featureunion__pipeline__countvectorizer__token_pattern': '\\\\b\\\\w\\\\w+\\\\b', 'featureunion__pipeline__countvectorizer__max_df': 0.05, 'featureunion__pipeline__countvectorizer__ngram_range': (1, 1), 'logisticregression__C': 0.6},\n",
       " mean: 0.73407, std: 0.00991, params: {'featureunion__pipeline__countvectorizer__token_pattern': '\\\\b\\\\w\\\\w+\\\\b', 'featureunion__pipeline__countvectorizer__max_df': 0.05, 'featureunion__pipeline__countvectorizer__ngram_range': (1, 1), 'logisticregression__C': 0.5},\n",
       " mean: 0.73621, std: 0.00939, params: {'featureunion__pipeline__countvectorizer__token_pattern': '\\\\b\\\\w\\\\w+\\\\b', 'featureunion__pipeline__countvectorizer__max_df': 0.05, 'featureunion__pipeline__countvectorizer__ngram_range': (1, 1), 'logisticregression__C': 1},\n",
       " mean: 0.61935, std: 0.00777, params: {'featureunion__pipeline__countvectorizer__token_pattern': \"'([a-z ]+)'\", 'featureunion__pipeline__countvectorizer__max_df': 0.05, 'featureunion__pipeline__countvectorizer__ngram_range': (1, 1), 'logisticregression__C': 0.01},\n",
       " mean: 0.73266, std: 0.00723, params: {'featureunion__pipeline__countvectorizer__token_pattern': \"'([a-z ]+)'\", 'featureunion__pipeline__countvectorizer__max_df': 0.05, 'featureunion__pipeline__countvectorizer__ngram_range': (1, 1), 'logisticregression__C': 0.1},\n",
       " mean: 0.76223, std: 0.00879, params: {'featureunion__pipeline__countvectorizer__token_pattern': \"'([a-z ]+)'\", 'featureunion__pipeline__countvectorizer__max_df': 0.05, 'featureunion__pipeline__countvectorizer__ngram_range': (1, 1), 'logisticregression__C': 0.4},\n",
       " mean: 0.76688, std: 0.00919, params: {'featureunion__pipeline__countvectorizer__token_pattern': \"'([a-z ]+)'\", 'featureunion__pipeline__countvectorizer__max_df': 0.05, 'featureunion__pipeline__countvectorizer__ngram_range': (1, 1), 'logisticregression__C': 0.6},\n",
       " mean: 0.76507, std: 0.00882, params: {'featureunion__pipeline__countvectorizer__token_pattern': \"'([a-z ]+)'\", 'featureunion__pipeline__countvectorizer__max_df': 0.05, 'featureunion__pipeline__countvectorizer__ngram_range': (1, 1), 'logisticregression__C': 0.5},\n",
       " mean: 0.77025, std: 0.00869, params: {'featureunion__pipeline__countvectorizer__token_pattern': \"'([a-z ]+)'\", 'featureunion__pipeline__countvectorizer__max_df': 0.05, 'featureunion__pipeline__countvectorizer__ngram_range': (1, 1), 'logisticregression__C': 1},\n",
       " mean: 0.68733, std: 0.00702, params: {'featureunion__pipeline__countvectorizer__token_pattern': '\\\\b\\\\w\\\\w+\\\\b', 'featureunion__pipeline__countvectorizer__max_df': 0.05, 'featureunion__pipeline__countvectorizer__ngram_range': (1, 2), 'logisticregression__C': 0.01},\n",
       " mean: 0.76721, std: 0.00766, params: {'featureunion__pipeline__countvectorizer__token_pattern': '\\\\b\\\\w\\\\w+\\\\b', 'featureunion__pipeline__countvectorizer__max_df': 0.05, 'featureunion__pipeline__countvectorizer__ngram_range': (1, 2), 'logisticregression__C': 0.1},\n",
       " mean: 0.77862, std: 0.00868, params: {'featureunion__pipeline__countvectorizer__token_pattern': '\\\\b\\\\w\\\\w+\\\\b', 'featureunion__pipeline__countvectorizer__max_df': 0.05, 'featureunion__pipeline__countvectorizer__ngram_range': (1, 2), 'logisticregression__C': 0.4},\n",
       " mean: 0.77923, std: 0.00837, params: {'featureunion__pipeline__countvectorizer__token_pattern': '\\\\b\\\\w\\\\w+\\\\b', 'featureunion__pipeline__countvectorizer__max_df': 0.05, 'featureunion__pipeline__countvectorizer__ngram_range': (1, 2), 'logisticregression__C': 0.6},\n",
       " mean: 0.77900, std: 0.00878, params: {'featureunion__pipeline__countvectorizer__token_pattern': '\\\\b\\\\w\\\\w+\\\\b', 'featureunion__pipeline__countvectorizer__max_df': 0.05, 'featureunion__pipeline__countvectorizer__ngram_range': (1, 2), 'logisticregression__C': 0.5},\n",
       " mean: 0.77830, std: 0.00849, params: {'featureunion__pipeline__countvectorizer__token_pattern': '\\\\b\\\\w\\\\w+\\\\b', 'featureunion__pipeline__countvectorizer__max_df': 0.05, 'featureunion__pipeline__countvectorizer__ngram_range': (1, 2), 'logisticregression__C': 1},\n",
       " mean: 0.62553, std: 0.00659, params: {'featureunion__pipeline__countvectorizer__token_pattern': \"'([a-z ]+)'\", 'featureunion__pipeline__countvectorizer__max_df': 0.05, 'featureunion__pipeline__countvectorizer__ngram_range': (1, 2), 'logisticregression__C': 0.01},\n",
       " mean: 0.73714, std: 0.00745, params: {'featureunion__pipeline__countvectorizer__token_pattern': \"'([a-z ]+)'\", 'featureunion__pipeline__countvectorizer__max_df': 0.05, 'featureunion__pipeline__countvectorizer__ngram_range': (1, 2), 'logisticregression__C': 0.1},\n",
       " mean: 0.76392, std: 0.00835, params: {'featureunion__pipeline__countvectorizer__token_pattern': \"'([a-z ]+)'\", 'featureunion__pipeline__countvectorizer__max_df': 0.05, 'featureunion__pipeline__countvectorizer__ngram_range': (1, 2), 'logisticregression__C': 0.4},\n",
       " mean: 0.76698, std: 0.00802, params: {'featureunion__pipeline__countvectorizer__token_pattern': \"'([a-z ]+)'\", 'featureunion__pipeline__countvectorizer__max_df': 0.05, 'featureunion__pipeline__countvectorizer__ngram_range': (1, 2), 'logisticregression__C': 0.6},\n",
       " mean: 0.76615, std: 0.00786, params: {'featureunion__pipeline__countvectorizer__token_pattern': \"'([a-z ]+)'\", 'featureunion__pipeline__countvectorizer__max_df': 0.05, 'featureunion__pipeline__countvectorizer__ngram_range': (1, 2), 'logisticregression__C': 0.5},\n",
       " mean: 0.76935, std: 0.00808, params: {'featureunion__pipeline__countvectorizer__token_pattern': \"'([a-z ]+)'\", 'featureunion__pipeline__countvectorizer__max_df': 0.05, 'featureunion__pipeline__countvectorizer__ngram_range': (1, 2), 'logisticregression__C': 1},\n",
       " mean: 0.63755, std: 0.00847, params: {'featureunion__pipeline__countvectorizer__token_pattern': '\\\\b\\\\w\\\\w+\\\\b', 'featureunion__pipeline__countvectorizer__max_df': 0.06, 'featureunion__pipeline__countvectorizer__ngram_range': (1, 1), 'logisticregression__C': 0.01},\n",
       " mean: 0.72537, std: 0.01005, params: {'featureunion__pipeline__countvectorizer__token_pattern': '\\\\b\\\\w\\\\w+\\\\b', 'featureunion__pipeline__countvectorizer__max_df': 0.06, 'featureunion__pipeline__countvectorizer__ngram_range': (1, 1), 'logisticregression__C': 0.1},\n",
       " mean: 0.74519, std: 0.00949, params: {'featureunion__pipeline__countvectorizer__token_pattern': '\\\\b\\\\w\\\\w+\\\\b', 'featureunion__pipeline__countvectorizer__max_df': 0.06, 'featureunion__pipeline__countvectorizer__ngram_range': (1, 1), 'logisticregression__C': 0.4},\n",
       " mean: 0.74740, std: 0.00951, params: {'featureunion__pipeline__countvectorizer__token_pattern': '\\\\b\\\\w\\\\w+\\\\b', 'featureunion__pipeline__countvectorizer__max_df': 0.06, 'featureunion__pipeline__countvectorizer__ngram_range': (1, 1), 'logisticregression__C': 0.6},\n",
       " mean: 0.74664, std: 0.00971, params: {'featureunion__pipeline__countvectorizer__token_pattern': '\\\\b\\\\w\\\\w+\\\\b', 'featureunion__pipeline__countvectorizer__max_df': 0.06, 'featureunion__pipeline__countvectorizer__ngram_range': (1, 1), 'logisticregression__C': 0.5},\n",
       " mean: 0.74964, std: 0.01069, params: {'featureunion__pipeline__countvectorizer__token_pattern': '\\\\b\\\\w\\\\w+\\\\b', 'featureunion__pipeline__countvectorizer__max_df': 0.06, 'featureunion__pipeline__countvectorizer__ngram_range': (1, 1), 'logisticregression__C': 1},\n",
       " mean: 0.62083, std: 0.00732, params: {'featureunion__pipeline__countvectorizer__token_pattern': \"'([a-z ]+)'\", 'featureunion__pipeline__countvectorizer__max_df': 0.06, 'featureunion__pipeline__countvectorizer__ngram_range': (1, 1), 'logisticregression__C': 0.01},\n",
       " mean: 0.73437, std: 0.00676, params: {'featureunion__pipeline__countvectorizer__token_pattern': \"'([a-z ]+)'\", 'featureunion__pipeline__countvectorizer__max_df': 0.06, 'featureunion__pipeline__countvectorizer__ngram_range': (1, 1), 'logisticregression__C': 0.1},\n",
       " mean: 0.76495, std: 0.00792, params: {'featureunion__pipeline__countvectorizer__token_pattern': \"'([a-z ]+)'\", 'featureunion__pipeline__countvectorizer__max_df': 0.06, 'featureunion__pipeline__countvectorizer__ngram_range': (1, 1), 'logisticregression__C': 0.4},\n",
       " mean: 0.76935, std: 0.00904, params: {'featureunion__pipeline__countvectorizer__token_pattern': \"'([a-z ]+)'\", 'featureunion__pipeline__countvectorizer__max_df': 0.06, 'featureunion__pipeline__countvectorizer__ngram_range': (1, 1), 'logisticregression__C': 0.6},\n",
       " mean: 0.76744, std: 0.00827, params: {'featureunion__pipeline__countvectorizer__token_pattern': \"'([a-z ]+)'\", 'featureunion__pipeline__countvectorizer__max_df': 0.06, 'featureunion__pipeline__countvectorizer__ngram_range': (1, 1), 'logisticregression__C': 0.5},\n",
       " mean: 0.77239, std: 0.00914, params: {'featureunion__pipeline__countvectorizer__token_pattern': \"'([a-z ]+)'\", 'featureunion__pipeline__countvectorizer__max_df': 0.06, 'featureunion__pipeline__countvectorizer__ngram_range': (1, 1), 'logisticregression__C': 1},\n",
       " mean: 0.69777, std: 0.00639, params: {'featureunion__pipeline__countvectorizer__token_pattern': '\\\\b\\\\w\\\\w+\\\\b', 'featureunion__pipeline__countvectorizer__max_df': 0.06, 'featureunion__pipeline__countvectorizer__ngram_range': (1, 2), 'logisticregression__C': 0.01},\n",
       " mean: 0.76998, std: 0.00752, params: {'featureunion__pipeline__countvectorizer__token_pattern': '\\\\b\\\\w\\\\w+\\\\b', 'featureunion__pipeline__countvectorizer__max_df': 0.06, 'featureunion__pipeline__countvectorizer__ngram_range': (1, 2), 'logisticregression__C': 0.1},\n",
       " mean: 0.78131, std: 0.00823, params: {'featureunion__pipeline__countvectorizer__token_pattern': '\\\\b\\\\w\\\\w+\\\\b', 'featureunion__pipeline__countvectorizer__max_df': 0.06, 'featureunion__pipeline__countvectorizer__ngram_range': (1, 2), 'logisticregression__C': 0.4},\n",
       " mean: 0.78209, std: 0.00755, params: {'featureunion__pipeline__countvectorizer__token_pattern': '\\\\b\\\\w\\\\w+\\\\b', 'featureunion__pipeline__countvectorizer__max_df': 0.06, 'featureunion__pipeline__countvectorizer__ngram_range': (1, 2), 'logisticregression__C': 0.6},\n",
       " mean: 0.78182, std: 0.00809, params: {'featureunion__pipeline__countvectorizer__token_pattern': '\\\\b\\\\w\\\\w+\\\\b', 'featureunion__pipeline__countvectorizer__max_df': 0.06, 'featureunion__pipeline__countvectorizer__ngram_range': (1, 2), 'logisticregression__C': 0.5},\n",
       " mean: 0.78106, std: 0.00755, params: {'featureunion__pipeline__countvectorizer__token_pattern': '\\\\b\\\\w\\\\w+\\\\b', 'featureunion__pipeline__countvectorizer__max_df': 0.06, 'featureunion__pipeline__countvectorizer__ngram_range': (1, 2), 'logisticregression__C': 1},\n",
       " mean: 0.62566, std: 0.00627, params: {'featureunion__pipeline__countvectorizer__token_pattern': \"'([a-z ]+)'\", 'featureunion__pipeline__countvectorizer__max_df': 0.06, 'featureunion__pipeline__countvectorizer__ngram_range': (1, 2), 'logisticregression__C': 0.01},\n",
       " mean: 0.73754, std: 0.00747, params: {'featureunion__pipeline__countvectorizer__token_pattern': \"'([a-z ]+)'\", 'featureunion__pipeline__countvectorizer__max_df': 0.06, 'featureunion__pipeline__countvectorizer__ngram_range': (1, 2), 'logisticregression__C': 0.1},\n",
       " mean: 0.76462, std: 0.00757, params: {'featureunion__pipeline__countvectorizer__token_pattern': \"'([a-z ]+)'\", 'featureunion__pipeline__countvectorizer__max_df': 0.06, 'featureunion__pipeline__countvectorizer__ngram_range': (1, 2), 'logisticregression__C': 0.4},\n",
       " mean: 0.76786, std: 0.00838, params: {'featureunion__pipeline__countvectorizer__token_pattern': \"'([a-z ]+)'\", 'featureunion__pipeline__countvectorizer__max_df': 0.06, 'featureunion__pipeline__countvectorizer__ngram_range': (1, 2), 'logisticregression__C': 0.6},\n",
       " mean: 0.76698, std: 0.00769, params: {'featureunion__pipeline__countvectorizer__token_pattern': \"'([a-z ]+)'\", 'featureunion__pipeline__countvectorizer__max_df': 0.06, 'featureunion__pipeline__countvectorizer__ngram_range': (1, 2), 'logisticregression__C': 0.5},\n",
       " mean: 0.77000, std: 0.00837, params: {'featureunion__pipeline__countvectorizer__token_pattern': \"'([a-z ]+)'\", 'featureunion__pipeline__countvectorizer__max_df': 0.06, 'featureunion__pipeline__countvectorizer__ngram_range': (1, 2), 'logisticregression__C': 1},\n",
       " mean: 0.59959, std: 0.00923, params: {'featureunion__pipeline__countvectorizer__token_pattern': '\\\\b\\\\w\\\\w+\\\\b', 'featureunion__pipeline__countvectorizer__max_df': 0.04, 'featureunion__pipeline__countvectorizer__ngram_range': (1, 1), 'logisticregression__C': 0.01},\n",
       " mean: 0.69387, std: 0.00962, params: {'featureunion__pipeline__countvectorizer__token_pattern': '\\\\b\\\\w\\\\w+\\\\b', 'featureunion__pipeline__countvectorizer__max_df': 0.04, 'featureunion__pipeline__countvectorizer__ngram_range': (1, 1), 'logisticregression__C': 0.1},\n",
       " mean: 0.71635, std: 0.00829, params: {'featureunion__pipeline__countvectorizer__token_pattern': '\\\\b\\\\w\\\\w+\\\\b', 'featureunion__pipeline__countvectorizer__max_df': 0.04, 'featureunion__pipeline__countvectorizer__ngram_range': (1, 1), 'logisticregression__C': 0.4},\n",
       " mean: 0.71941, std: 0.00854, params: {'featureunion__pipeline__countvectorizer__token_pattern': '\\\\b\\\\w\\\\w+\\\\b', 'featureunion__pipeline__countvectorizer__max_df': 0.04, 'featureunion__pipeline__countvectorizer__ngram_range': (1, 1), 'logisticregression__C': 0.6},\n",
       " mean: 0.71806, std: 0.00798, params: {'featureunion__pipeline__countvectorizer__token_pattern': '\\\\b\\\\w\\\\w+\\\\b', 'featureunion__pipeline__countvectorizer__max_df': 0.04, 'featureunion__pipeline__countvectorizer__ngram_range': (1, 1), 'logisticregression__C': 0.5},\n",
       " mean: 0.72200, std: 0.00852, params: {'featureunion__pipeline__countvectorizer__token_pattern': '\\\\b\\\\w\\\\w+\\\\b', 'featureunion__pipeline__countvectorizer__max_df': 0.04, 'featureunion__pipeline__countvectorizer__ngram_range': (1, 1), 'logisticregression__C': 1},\n",
       " mean: 0.60283, std: 0.00644, params: {'featureunion__pipeline__countvectorizer__token_pattern': \"'([a-z ]+)'\", 'featureunion__pipeline__countvectorizer__max_df': 0.04, 'featureunion__pipeline__countvectorizer__ngram_range': (1, 1), 'logisticregression__C': 0.01},\n",
       " mean: 0.72075, std: 0.00816, params: {'featureunion__pipeline__countvectorizer__token_pattern': \"'([a-z ]+)'\", 'featureunion__pipeline__countvectorizer__max_df': 0.04, 'featureunion__pipeline__countvectorizer__ngram_range': (1, 1), 'logisticregression__C': 0.1},\n",
       " mean: 0.75381, std: 0.00900, params: {'featureunion__pipeline__countvectorizer__token_pattern': \"'([a-z ]+)'\", 'featureunion__pipeline__countvectorizer__max_df': 0.04, 'featureunion__pipeline__countvectorizer__ngram_range': (1, 1), 'logisticregression__C': 0.4},\n",
       " mean: 0.75750, std: 0.00867, params: {'featureunion__pipeline__countvectorizer__token_pattern': \"'([a-z ]+)'\", 'featureunion__pipeline__countvectorizer__max_df': 0.04, 'featureunion__pipeline__countvectorizer__ngram_range': (1, 1), 'logisticregression__C': 0.6},\n",
       " mean: 0.75567, std: 0.00904, params: {'featureunion__pipeline__countvectorizer__token_pattern': \"'([a-z ]+)'\", 'featureunion__pipeline__countvectorizer__max_df': 0.04, 'featureunion__pipeline__countvectorizer__ngram_range': (1, 1), 'logisticregression__C': 0.5},\n",
       " mean: 0.76211, std: 0.00936, params: {'featureunion__pipeline__countvectorizer__token_pattern': \"'([a-z ]+)'\", 'featureunion__pipeline__countvectorizer__max_df': 0.04, 'featureunion__pipeline__countvectorizer__ngram_range': (1, 1), 'logisticregression__C': 1},\n",
       " mean: 0.67846, std: 0.00706, params: {'featureunion__pipeline__countvectorizer__token_pattern': '\\\\b\\\\w\\\\w+\\\\b', 'featureunion__pipeline__countvectorizer__max_df': 0.04, 'featureunion__pipeline__countvectorizer__ngram_range': (1, 2), 'logisticregression__C': 0.01},\n",
       " mean: 0.76271, std: 0.00952, params: {'featureunion__pipeline__countvectorizer__token_pattern': '\\\\b\\\\w\\\\w+\\\\b', 'featureunion__pipeline__countvectorizer__max_df': 0.04, 'featureunion__pipeline__countvectorizer__ngram_range': (1, 2), 'logisticregression__C': 0.1},\n",
       " mean: 0.77357, std: 0.00925, params: {'featureunion__pipeline__countvectorizer__token_pattern': '\\\\b\\\\w\\\\w+\\\\b', 'featureunion__pipeline__countvectorizer__max_df': 0.04, 'featureunion__pipeline__countvectorizer__ngram_range': (1, 2), 'logisticregression__C': 0.4},\n",
       " mean: 0.77465, std: 0.00856, params: {'featureunion__pipeline__countvectorizer__token_pattern': '\\\\b\\\\w\\\\w+\\\\b', 'featureunion__pipeline__countvectorizer__max_df': 0.04, 'featureunion__pipeline__countvectorizer__ngram_range': (1, 2), 'logisticregression__C': 0.6},\n",
       " mean: 0.77455, std: 0.00890, params: {'featureunion__pipeline__countvectorizer__token_pattern': '\\\\b\\\\w\\\\w+\\\\b', 'featureunion__pipeline__countvectorizer__max_df': 0.04, 'featureunion__pipeline__countvectorizer__ngram_range': (1, 2), 'logisticregression__C': 0.5},\n",
       " mean: 0.77478, std: 0.00851, params: {'featureunion__pipeline__countvectorizer__token_pattern': '\\\\b\\\\w\\\\w+\\\\b', 'featureunion__pipeline__countvectorizer__max_df': 0.04, 'featureunion__pipeline__countvectorizer__ngram_range': (1, 2), 'logisticregression__C': 1},\n",
       " mean: 0.61176, std: 0.00593, params: {'featureunion__pipeline__countvectorizer__token_pattern': \"'([a-z ]+)'\", 'featureunion__pipeline__countvectorizer__max_df': 0.04, 'featureunion__pipeline__countvectorizer__ngram_range': (1, 2), 'logisticregression__C': 0.01},\n",
       " mean: 0.73050, std: 0.00866, params: {'featureunion__pipeline__countvectorizer__token_pattern': \"'([a-z ]+)'\", 'featureunion__pipeline__countvectorizer__max_df': 0.04, 'featureunion__pipeline__countvectorizer__ngram_range': (1, 2), 'logisticregression__C': 0.1},\n",
       " mean: 0.75921, std: 0.00815, params: {'featureunion__pipeline__countvectorizer__token_pattern': \"'([a-z ]+)'\", 'featureunion__pipeline__countvectorizer__max_df': 0.04, 'featureunion__pipeline__countvectorizer__ngram_range': (1, 2), 'logisticregression__C': 0.4},\n",
       " mean: 0.76198, std: 0.00893, params: {'featureunion__pipeline__countvectorizer__token_pattern': \"'([a-z ]+)'\", 'featureunion__pipeline__countvectorizer__max_df': 0.04, 'featureunion__pipeline__countvectorizer__ngram_range': (1, 2), 'logisticregression__C': 0.6},\n",
       " mean: 0.76090, std: 0.00845, params: {'featureunion__pipeline__countvectorizer__token_pattern': \"'([a-z ]+)'\", 'featureunion__pipeline__countvectorizer__max_df': 0.04, 'featureunion__pipeline__countvectorizer__ngram_range': (1, 2), 'logisticregression__C': 0.5},\n",
       " mean: 0.76472, std: 0.00814, params: {'featureunion__pipeline__countvectorizer__token_pattern': \"'([a-z ]+)'\", 'featureunion__pipeline__countvectorizer__max_df': 0.04, 'featureunion__pipeline__countvectorizer__ngram_range': (1, 2), 'logisticregression__C': 1},\n",
       " mean: 0.65216, std: 0.00803, params: {'featureunion__pipeline__countvectorizer__token_pattern': '\\\\b\\\\w\\\\w+\\\\b', 'featureunion__pipeline__countvectorizer__max_df': 0.07, 'featureunion__pipeline__countvectorizer__ngram_range': (1, 1), 'logisticregression__C': 0.01},\n",
       " mean: 0.73701, std: 0.00877, params: {'featureunion__pipeline__countvectorizer__token_pattern': '\\\\b\\\\w\\\\w+\\\\b', 'featureunion__pipeline__countvectorizer__max_df': 0.07, 'featureunion__pipeline__countvectorizer__ngram_range': (1, 1), 'logisticregression__C': 0.1},\n",
       " mean: 0.75542, std: 0.00986, params: {'featureunion__pipeline__countvectorizer__token_pattern': '\\\\b\\\\w\\\\w+\\\\b', 'featureunion__pipeline__countvectorizer__max_df': 0.07, 'featureunion__pipeline__countvectorizer__ngram_range': (1, 1), 'logisticregression__C': 0.4},\n",
       " mean: 0.75818, std: 0.00978, params: {'featureunion__pipeline__countvectorizer__token_pattern': '\\\\b\\\\w\\\\w+\\\\b', 'featureunion__pipeline__countvectorizer__max_df': 0.07, 'featureunion__pipeline__countvectorizer__ngram_range': (1, 1), 'logisticregression__C': 0.6},\n",
       " mean: 0.75708, std: 0.00965, params: {'featureunion__pipeline__countvectorizer__token_pattern': '\\\\b\\\\w\\\\w+\\\\b', 'featureunion__pipeline__countvectorizer__max_df': 0.07, 'featureunion__pipeline__countvectorizer__ngram_range': (1, 1), 'logisticregression__C': 0.5},\n",
       " mean: 0.76004, std: 0.00968, params: {'featureunion__pipeline__countvectorizer__token_pattern': '\\\\b\\\\w\\\\w+\\\\b', 'featureunion__pipeline__countvectorizer__max_df': 0.07, 'featureunion__pipeline__countvectorizer__ngram_range': (1, 1), 'logisticregression__C': 1},\n",
       " mean: 0.62395, std: 0.00715, params: {'featureunion__pipeline__countvectorizer__token_pattern': \"'([a-z ]+)'\", 'featureunion__pipeline__countvectorizer__max_df': 0.07, 'featureunion__pipeline__countvectorizer__ngram_range': (1, 1), 'logisticregression__C': 0.01},\n",
       " mean: 0.73634, std: 0.00619, params: {'featureunion__pipeline__countvectorizer__token_pattern': \"'([a-z ]+)'\", 'featureunion__pipeline__countvectorizer__max_df': 0.07, 'featureunion__pipeline__countvectorizer__ngram_range': (1, 1), 'logisticregression__C': 0.1},\n",
       " mean: 0.76681, std: 0.00811, params: {'featureunion__pipeline__countvectorizer__token_pattern': \"'([a-z ]+)'\", 'featureunion__pipeline__countvectorizer__max_df': 0.07, 'featureunion__pipeline__countvectorizer__ngram_range': (1, 1), 'logisticregression__C': 0.4},\n",
       " mean: 0.77113, std: 0.00929, params: {'featureunion__pipeline__countvectorizer__token_pattern': \"'([a-z ]+)'\", 'featureunion__pipeline__countvectorizer__max_df': 0.07, 'featureunion__pipeline__countvectorizer__ngram_range': (1, 1), 'logisticregression__C': 0.6},\n",
       " mean: 0.76932, std: 0.00934, params: {'featureunion__pipeline__countvectorizer__token_pattern': \"'([a-z ]+)'\", 'featureunion__pipeline__countvectorizer__max_df': 0.07, 'featureunion__pipeline__countvectorizer__ngram_range': (1, 1), 'logisticregression__C': 0.5},\n",
       " mean: 0.77407, std: 0.00924, params: {'featureunion__pipeline__countvectorizer__token_pattern': \"'([a-z ]+)'\", 'featureunion__pipeline__countvectorizer__max_df': 0.07, 'featureunion__pipeline__countvectorizer__ngram_range': (1, 1), 'logisticregression__C': 1},\n",
       " mean: 0.70564, std: 0.00606, params: {'featureunion__pipeline__countvectorizer__token_pattern': '\\\\b\\\\w\\\\w+\\\\b', 'featureunion__pipeline__countvectorizer__max_df': 0.07, 'featureunion__pipeline__countvectorizer__ngram_range': (1, 2), 'logisticregression__C': 0.01},\n",
       " mean: 0.77365, std: 0.00659, params: {'featureunion__pipeline__countvectorizer__token_pattern': '\\\\b\\\\w\\\\w+\\\\b', 'featureunion__pipeline__countvectorizer__max_df': 0.07, 'featureunion__pipeline__countvectorizer__ngram_range': (1, 2), 'logisticregression__C': 0.1},\n",
       " mean: 0.78350, std: 0.00744, params: {'featureunion__pipeline__countvectorizer__token_pattern': '\\\\b\\\\w\\\\w+\\\\b', 'featureunion__pipeline__countvectorizer__max_df': 0.07, 'featureunion__pipeline__countvectorizer__ngram_range': (1, 2), 'logisticregression__C': 0.4},\n",
       " mean: 0.78403, std: 0.00732, params: {'featureunion__pipeline__countvectorizer__token_pattern': '\\\\b\\\\w\\\\w+\\\\b', 'featureunion__pipeline__countvectorizer__max_df': 0.07, 'featureunion__pipeline__countvectorizer__ngram_range': (1, 2), 'logisticregression__C': 0.6},\n",
       " mean: 0.78395, std: 0.00757, params: {'featureunion__pipeline__countvectorizer__token_pattern': '\\\\b\\\\w\\\\w+\\\\b', 'featureunion__pipeline__countvectorizer__max_df': 0.07, 'featureunion__pipeline__countvectorizer__ngram_range': (1, 2), 'logisticregression__C': 0.5},\n",
       " mean: 0.78260, std: 0.00777, params: {'featureunion__pipeline__countvectorizer__token_pattern': '\\\\b\\\\w\\\\w+\\\\b', 'featureunion__pipeline__countvectorizer__max_df': 0.07, 'featureunion__pipeline__countvectorizer__ngram_range': (1, 2), 'logisticregression__C': 1},\n",
       " mean: 0.62772, std: 0.00635, params: {'featureunion__pipeline__countvectorizer__token_pattern': \"'([a-z ]+)'\", 'featureunion__pipeline__countvectorizer__max_df': 0.07, 'featureunion__pipeline__countvectorizer__ngram_range': (1, 2), 'logisticregression__C': 0.01},\n",
       " mean: 0.73978, std: 0.00646, params: {'featureunion__pipeline__countvectorizer__token_pattern': \"'([a-z ]+)'\", 'featureunion__pipeline__countvectorizer__max_df': 0.07, 'featureunion__pipeline__countvectorizer__ngram_range': (1, 2), 'logisticregression__C': 0.1},\n",
       " mean: 0.76522, std: 0.00780, params: {'featureunion__pipeline__countvectorizer__token_pattern': \"'([a-z ]+)'\", 'featureunion__pipeline__countvectorizer__max_df': 0.07, 'featureunion__pipeline__countvectorizer__ngram_range': (1, 2), 'logisticregression__C': 0.4},\n",
       " mean: 0.76849, std: 0.00852, params: {'featureunion__pipeline__countvectorizer__token_pattern': \"'([a-z ]+)'\", 'featureunion__pipeline__countvectorizer__max_df': 0.07, 'featureunion__pipeline__countvectorizer__ngram_range': (1, 2), 'logisticregression__C': 0.6},\n",
       " mean: 0.76713, std: 0.00798, params: {'featureunion__pipeline__countvectorizer__token_pattern': \"'([a-z ]+)'\", 'featureunion__pipeline__countvectorizer__max_df': 0.07, 'featureunion__pipeline__countvectorizer__ngram_range': (1, 2), 'logisticregression__C': 0.5},\n",
       " mean: 0.76975, std: 0.00859, params: {'featureunion__pipeline__countvectorizer__token_pattern': \"'([a-z ]+)'\", 'featureunion__pipeline__countvectorizer__max_df': 0.07, 'featureunion__pipeline__countvectorizer__ngram_range': (1, 2), 'logisticregression__C': 1},\n",
       " mean: 0.67099, std: 0.00850, params: {'featureunion__pipeline__countvectorizer__token_pattern': '\\\\b\\\\w\\\\w+\\\\b', 'featureunion__pipeline__countvectorizer__max_df': 0.1, 'featureunion__pipeline__countvectorizer__ngram_range': (1, 1), 'logisticregression__C': 0.01},\n",
       " mean: 0.74725, std: 0.00920, params: {'featureunion__pipeline__countvectorizer__token_pattern': '\\\\b\\\\w\\\\w+\\\\b', 'featureunion__pipeline__countvectorizer__max_df': 0.1, 'featureunion__pipeline__countvectorizer__ngram_range': (1, 1), 'logisticregression__C': 0.1},\n",
       " mean: 0.76409, std: 0.01032, params: {'featureunion__pipeline__countvectorizer__token_pattern': '\\\\b\\\\w\\\\w+\\\\b', 'featureunion__pipeline__countvectorizer__max_df': 0.1, 'featureunion__pipeline__countvectorizer__ngram_range': (1, 1), 'logisticregression__C': 0.4},\n",
       " mean: 0.76663, std: 0.00964, params: {'featureunion__pipeline__countvectorizer__token_pattern': '\\\\b\\\\w\\\\w+\\\\b', 'featureunion__pipeline__countvectorizer__max_df': 0.1, 'featureunion__pipeline__countvectorizer__ngram_range': (1, 1), 'logisticregression__C': 0.6},\n",
       " mean: 0.76575, std: 0.00957, params: {'featureunion__pipeline__countvectorizer__token_pattern': '\\\\b\\\\w\\\\w+\\\\b', 'featureunion__pipeline__countvectorizer__max_df': 0.1, 'featureunion__pipeline__countvectorizer__ngram_range': (1, 1), 'logisticregression__C': 0.5},\n",
       " mean: 0.76899, std: 0.00909, params: {'featureunion__pipeline__countvectorizer__token_pattern': '\\\\b\\\\w\\\\w+\\\\b', 'featureunion__pipeline__countvectorizer__max_df': 0.1, 'featureunion__pipeline__countvectorizer__ngram_range': (1, 1), 'logisticregression__C': 1},\n",
       " mean: 0.62915, std: 0.00611, params: {'featureunion__pipeline__countvectorizer__token_pattern': \"'([a-z ]+)'\", 'featureunion__pipeline__countvectorizer__max_df': 0.1, 'featureunion__pipeline__countvectorizer__ngram_range': (1, 1), 'logisticregression__C': 0.01},\n",
       " mean: 0.74074, std: 0.00695, params: {'featureunion__pipeline__countvectorizer__token_pattern': \"'([a-z ]+)'\", 'featureunion__pipeline__countvectorizer__max_df': 0.1, 'featureunion__pipeline__countvectorizer__ngram_range': (1, 1), 'logisticregression__C': 0.1},\n",
       " mean: 0.76955, std: 0.00812, params: {'featureunion__pipeline__countvectorizer__token_pattern': \"'([a-z ]+)'\", 'featureunion__pipeline__countvectorizer__max_df': 0.1, 'featureunion__pipeline__countvectorizer__ngram_range': (1, 1), 'logisticregression__C': 0.4},\n",
       " mean: 0.77438, std: 0.00818, params: {'featureunion__pipeline__countvectorizer__token_pattern': \"'([a-z ]+)'\", 'featureunion__pipeline__countvectorizer__max_df': 0.1, 'featureunion__pipeline__countvectorizer__ngram_range': (1, 1), 'logisticregression__C': 0.6},\n",
       " mean: 0.77246, std: 0.00779, params: {'featureunion__pipeline__countvectorizer__token_pattern': \"'([a-z ]+)'\", 'featureunion__pipeline__countvectorizer__max_df': 0.1, 'featureunion__pipeline__countvectorizer__ngram_range': (1, 1), 'logisticregression__C': 0.5},\n",
       " mean: 0.77732, std: 0.00790, params: {'featureunion__pipeline__countvectorizer__token_pattern': \"'([a-z ]+)'\", 'featureunion__pipeline__countvectorizer__max_df': 0.1, 'featureunion__pipeline__countvectorizer__ngram_range': (1, 1), 'logisticregression__C': 1},\n",
       " mean: 0.71056, std: 0.00543, params: {'featureunion__pipeline__countvectorizer__token_pattern': '\\\\b\\\\w\\\\w+\\\\b', 'featureunion__pipeline__countvectorizer__max_df': 0.1, 'featureunion__pipeline__countvectorizer__ngram_range': (1, 2), 'logisticregression__C': 0.01},\n",
       " mean: 0.77586, std: 0.00693, params: {'featureunion__pipeline__countvectorizer__token_pattern': '\\\\b\\\\w\\\\w+\\\\b', 'featureunion__pipeline__countvectorizer__max_df': 0.1, 'featureunion__pipeline__countvectorizer__ngram_range': (1, 2), 'logisticregression__C': 0.1},\n",
       " mean: 0.78604, std: 0.00726, params: {'featureunion__pipeline__countvectorizer__token_pattern': '\\\\b\\\\w\\\\w+\\\\b', 'featureunion__pipeline__countvectorizer__max_df': 0.1, 'featureunion__pipeline__countvectorizer__ngram_range': (1, 2), 'logisticregression__C': 0.4},\n",
       " mean: 0.78524, std: 0.00748, params: {'featureunion__pipeline__countvectorizer__token_pattern': '\\\\b\\\\w\\\\w+\\\\b', 'featureunion__pipeline__countvectorizer__max_df': 0.1, 'featureunion__pipeline__countvectorizer__ngram_range': (1, 2), 'logisticregression__C': 0.6},\n",
       " mean: 0.78589, std: 0.00747, params: {'featureunion__pipeline__countvectorizer__token_pattern': '\\\\b\\\\w\\\\w+\\\\b', 'featureunion__pipeline__countvectorizer__max_df': 0.1, 'featureunion__pipeline__countvectorizer__ngram_range': (1, 2), 'logisticregression__C': 0.5},\n",
       " mean: 0.78421, std: 0.00727, params: {'featureunion__pipeline__countvectorizer__token_pattern': '\\\\b\\\\w\\\\w+\\\\b', 'featureunion__pipeline__countvectorizer__max_df': 0.1, 'featureunion__pipeline__countvectorizer__ngram_range': (1, 2), 'logisticregression__C': 1},\n",
       " mean: 0.63280, std: 0.00599, params: {'featureunion__pipeline__countvectorizer__token_pattern': \"'([a-z ]+)'\", 'featureunion__pipeline__countvectorizer__max_df': 0.1, 'featureunion__pipeline__countvectorizer__ngram_range': (1, 2), 'logisticregression__C': 0.01},\n",
       " mean: 0.74187, std: 0.00601, params: {'featureunion__pipeline__countvectorizer__token_pattern': \"'([a-z ]+)'\", 'featureunion__pipeline__countvectorizer__max_df': 0.1, 'featureunion__pipeline__countvectorizer__ngram_range': (1, 2), 'logisticregression__C': 0.1},\n",
       " mean: 0.76618, std: 0.00743, params: {'featureunion__pipeline__countvectorizer__token_pattern': \"'([a-z ]+)'\", 'featureunion__pipeline__countvectorizer__max_df': 0.1, 'featureunion__pipeline__countvectorizer__ngram_range': (1, 2), 'logisticregression__C': 0.4},\n",
       " mean: 0.76982, std: 0.00766, params: {'featureunion__pipeline__countvectorizer__token_pattern': \"'([a-z ]+)'\", 'featureunion__pipeline__countvectorizer__max_df': 0.1, 'featureunion__pipeline__countvectorizer__ngram_range': (1, 2), 'logisticregression__C': 0.6},\n",
       " mean: 0.76806, std: 0.00770, params: {'featureunion__pipeline__countvectorizer__token_pattern': \"'([a-z ]+)'\", 'featureunion__pipeline__countvectorizer__max_df': 0.1, 'featureunion__pipeline__countvectorizer__ngram_range': (1, 2), 'logisticregression__C': 0.5},\n",
       " mean: 0.77194, std: 0.00752, params: {'featureunion__pipeline__countvectorizer__token_pattern': \"'([a-z ]+)'\", 'featureunion__pipeline__countvectorizer__max_df': 0.1, 'featureunion__pipeline__countvectorizer__ngram_range': (1, 2), 'logisticregression__C': 1}]"
      ]
     },
     "execution_count": 29,
     "metadata": {},
     "output_type": "execute_result"
    }
   ],
   "source": [
    "# examine the score for each combination of parameters\n",
    "grid.grid_scores_"
   ]
  },
  {
   "cell_type": "code",
   "execution_count": 111,
   "metadata": {
    "scrolled": true
   },
   "outputs": [
    {
     "name": "stdout",
     "output_type": "stream",
     "text": [
      "0.786041132398\n",
      "{'featureunion__pipeline__countvectorizer__token_pattern': '\\\\b\\\\w\\\\w+\\\\b', 'featureunion__pipeline__countvectorizer__max_df': 0.1, 'featureunion__pipeline__countvectorizer__ngram_range': (1, 2), 'logisticregression__C': 0.4}\n"
     ]
    }
   ],
   "source": [
    "# print the single best score and parameters that produced that score\n",
    "print(grid.best_score_)\n",
    "print(grid.best_params_)"
   ]
  },
  {
   "cell_type": "code",
   "execution_count": 112,
   "metadata": {},
   "outputs": [],
   "source": [
    "\n",
    "test_data = pd.read_json('../data/test.json')\n",
    "test_data = number_of_ingredients(test_data)\n",
    "test_data = mean_ingredient_length(test_data)\n",
    "test_data = ingredients_as_string(test_data) "
   ]
  },
  {
   "cell_type": "code",
   "execution_count": 122,
   "metadata": {
    "scrolled": false
   },
   "outputs": [
    {
     "name": "stdout",
     "output_type": "stream",
     "text": [
      "<class 'pandas.core.series.Series'>\n",
      "<class 'pandas.core.frame.DataFrame'>\n"
     ]
    },
    {
     "data": {
      "text/plain": [
       "array([u'british', u'southern_us', u'italian', ..., u'italian',\n",
       "       u'southern_us', u'mexican'], dtype=object)"
      ]
     },
     "execution_count": 122,
     "metadata": {},
     "output_type": "execute_result"
    }
   ],
   "source": [
    "test_data_pred = grid.predict(test_data)\n",
    "test_data_pred"
   ]
  },
  {
   "cell_type": "code",
   "execution_count": 123,
   "metadata": {
    "scrolled": true
   },
   "outputs": [],
   "source": [
    "# writing results to a dataframe\n",
    "pd.DataFrame({'id':test_data.id, 'cuisine':test_data_pred}).set_index('id').to_csv('sub_fu_log_reg_4.csv')"
   ]
  },
  {
   "cell_type": "code",
   "execution_count": null,
   "metadata": {
    "collapsed": true
   },
   "outputs": [],
   "source": []
  }
 ],
 "metadata": {
  "kernelspec": {
   "display_name": "Python 2",
   "language": "python",
   "name": "python2"
  },
  "language_info": {
   "codemirror_mode": {
    "name": "ipython",
    "version": 2
   },
   "file_extension": ".py",
   "mimetype": "text/x-python",
   "name": "python",
   "nbconvert_exporter": "python",
   "pygments_lexer": "ipython2",
   "version": "2.7.14"
  }
 },
 "nbformat": 4,
 "nbformat_minor": 2
}

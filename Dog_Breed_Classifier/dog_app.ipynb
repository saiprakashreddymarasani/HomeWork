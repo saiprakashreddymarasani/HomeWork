{
 "cells": [
  {
   "cell_type": "markdown",
   "metadata": {},
   "source": [
    "# Artificial Intelligence Nanodegree\n",
    "\n",
    "## Convolutional Neural Networks\n",
    "\n",
    "## Project: Write an Algorithm for a Dog Identification App \n",
    "\n",
    "---\n",
    "\n",
    "In this notebook, some template code has already been provided for you, and you will need to implement additional functionality to successfully complete this project. You will not need to modify the included code beyond what is requested. Sections that begin with **'(IMPLEMENTATION)'** in the header indicate that the following block of code will require additional functionality which you must provide. Instructions will be provided for each section, and the specifics of the implementation are marked in the code block with a 'TODO' statement. Please be sure to read the instructions carefully! \n",
    "\n",
    "> **Note**: Once you have completed all of the code implementations, you need to finalize your work by exporting the iPython Notebook as an HTML document. Before exporting the notebook to html, all of the code cells need to have been run so that reviewers can see the final implementation and output. You can then export the notebook by using the menu above and navigating to  \\n\",\n",
    "    \"**File -> Download as -> HTML (.html)**. Include the finished document along with this notebook as your submission.\n",
    "\n",
    "In addition to implementing code, there will be questions that you must answer which relate to the project and your implementation. Each section where you will answer a question is preceded by a **'Question X'** header. Carefully read each question and provide thorough answers in the following text boxes that begin with **'Answer:'**. Your project submission will be evaluated based on your answers to each of the questions and the implementation you provide.\n",
    "\n",
    ">**Note:** Code and Markdown cells can be executed using the **Shift + Enter** keyboard shortcut.  Markdown cells can be edited by double-clicking the cell to enter edit mode.\n",
    "\n",
    "The rubric contains _optional_ \"Stand Out Suggestions\" for enhancing the project beyond the minimum requirements. If you decide to pursue the \"Stand Out Suggestions\", you should include the code in this IPython notebook.\n",
    "\n",
    "\n",
    "\n",
    "---\n",
    "### Why We're Here \n",
    "\n",
    "In this notebook, you will make the first steps towards developing an algorithm that could be used as part of a mobile or web app.  At the end of this project, your code will accept any user-supplied image as input.  If a dog is detected in the image, it will provide an estimate of the dog's breed.  If a human is detected, it will provide an estimate of the dog breed that is most resembling.  The image below displays potential sample output of your finished project (... but we expect that each student's algorithm will behave differently!). \n",
    "\n",
    "![Sample Dog Output](images/sample_dog_output.png)\n",
    "\n",
    "In this real-world setting, you will need to piece together a series of models to perform different tasks; for instance, the algorithm that detects humans in an image will be different from the CNN that infers dog breed.  There are many points of possible failure, and no perfect algorithm exists.  Your imperfect solution will nonetheless create a fun user experience!\n",
    "\n",
    "### The Road Ahead\n",
    "\n",
    "We break the notebook into separate steps.  Feel free to use the links below to navigate the notebook.\n",
    "\n",
    "* [Step 0](#step0): Import Datasets\n",
    "* [Step 1](#step1): Detect Humans\n",
    "* [Step 2](#step2): Detect Dogs\n",
    "* [Step 3](#step3): Create a CNN to Classify Dog Breeds (from Scratch)\n",
    "* [Step 4](#step4): Use a CNN to Classify Dog Breeds (using Transfer Learning)\n",
    "* [Step 5](#step5): Create a CNN to Classify Dog Breeds (using Transfer Learning)\n",
    "* [Step 6](#step6): Write your Algorithm\n",
    "* [Step 7](#step7): Test Your Algorithm\n",
    "\n",
    "---\n",
    "<a id='step0'></a>\n",
    "## Step 0: Import Datasets\n",
    "\n",
    "### Import Dog Dataset\n",
    "\n",
    "In the code cell below, we import a dataset of dog images.  We populate a few variables through the use of the `load_files` function from the scikit-learn library:\n",
    "- `train_files`, `valid_files`, `test_files` - numpy arrays containing file paths to images\n",
    "- `train_targets`, `valid_targets`, `test_targets` - numpy arrays containing onehot-encoded classification labels \n",
    "- `dog_names` - list of string-valued dog breed names for translating labels"
   ]
  },
  {
   "cell_type": "code",
   "execution_count": 2,
   "metadata": {
    "scrolled": true
   },
   "outputs": [
    {
     "name": "stderr",
     "output_type": "stream",
     "text": [
      "C:\\Users\\SMARASAN\\AppData\\Local\\Continuum\\anaconda2\\envs\\py36\\lib\\site-packages\\h5py\\__init__.py:36: FutureWarning: Conversion of the second argument of issubdtype from `float` to `np.floating` is deprecated. In future, it will be treated as `np.float64 == np.dtype(float).type`.\n",
      "  from ._conv import register_converters as _register_converters\n",
      "Using TensorFlow backend.\n"
     ]
    },
    {
     "name": "stdout",
     "output_type": "stream",
     "text": [
      "There are 133 total dog categories.\n",
      "There are 8351 total dog images.\n",
      "\n",
      "There are 6680 training dog images.\n",
      "There are 835 validation dog images.\n",
      "There are 836 test dog images.\n"
     ]
    }
   ],
   "source": [
    "from sklearn.datasets import load_files       \n",
    "from keras.utils import np_utils\n",
    "import numpy as np\n",
    "from glob import glob\n",
    "\n",
    "# define function to load train, test, and validation datasets\n",
    "def load_dataset(path):\n",
    "    data = load_files(path)\n",
    "    dog_files = np.array(data['filenames'])\n",
    "    dog_targets = np_utils.to_categorical(np.array(data['target']), 133)\n",
    "    return dog_files, dog_targets\n",
    "\n",
    "# load train, test, and validation datasets\n",
    "train_files, train_targets = load_dataset('dogImages/train')\n",
    "valid_files, valid_targets = load_dataset('dogImages/valid')\n",
    "test_files, test_targets = load_dataset('dogImages/test')\n",
    "\n",
    "# load list of dog names\n",
    "dog_names = [item[20:-1] for item in sorted(glob(\"dogImages/train/*/\"))]\n",
    "\n",
    "# print statistics about the dataset\n",
    "print('There are %d total dog categories.' % len(dog_names))\n",
    "print('There are %s total dog images.\\n' % len(np.hstack([train_files, valid_files, test_files])))\n",
    "print('There are %d training dog images.' % len(train_files))\n",
    "print('There are %d validation dog images.' % len(valid_files))\n",
    "print('There are %d test dog images.'% len(test_files))"
   ]
  },
  {
   "cell_type": "markdown",
   "metadata": {},
   "source": [
    "### Import Human Dataset\n",
    "\n",
    "In the code cell below, we import a dataset of human images, where the file paths are stored in the numpy array `human_files`."
   ]
  },
  {
   "cell_type": "code",
   "execution_count": 3,
   "metadata": {},
   "outputs": [
    {
     "name": "stdout",
     "output_type": "stream",
     "text": [
      "There are 13233 total human images.\n"
     ]
    }
   ],
   "source": [
    "import random\n",
    "random.seed(8675309)\n",
    "\n",
    "# load filenames in shuffled human dataset\n",
    "human_files = np.array(glob(\"lfw/*/*\"))\n",
    "random.shuffle(human_files)\n",
    "\n",
    "# print statistics about the dataset\n",
    "print('There are %d total human images.' % len(human_files))"
   ]
  },
  {
   "cell_type": "markdown",
   "metadata": {},
   "source": [
    "---\n",
    "<a id='step1'></a>\n",
    "## Step 1: Detect Humans\n",
    "\n",
    "We use OpenCV's implementation of [Haar feature-based cascade classifiers](http://docs.opencv.org/trunk/d7/d8b/tutorial_py_face_detection.html) to detect human faces in images.  OpenCV provides many pre-trained face detectors, stored as XML files on [github](https://github.com/opencv/opencv/tree/master/data/haarcascades).  We have downloaded one of these detectors and stored it in the `haarcascades` directory.\n",
    "\n",
    "In the next code cell, we demonstrate how to use this detector to find human faces in a sample image."
   ]
  },
  {
   "cell_type": "code",
   "execution_count": 4,
   "metadata": {},
   "outputs": [
    {
     "name": "stdout",
     "output_type": "stream",
     "text": [
      "Number of faces detected: 1\n"
     ]
    },
    {
     "data": {
      "image/png": "[encoded data removed]",
      "text/plain": [
       "<Figure size 432x288 with 1 Axes>"
      ]
     },
     "metadata": {},
     "output_type": "display_data"
    }
   ],
   "source": [
    "import cv2                \n",
    "import matplotlib.pyplot as plt                        \n",
    "%matplotlib inline                               \n",
    "\n",
    "# extract pre-trained face detector\n",
    "face_cascade = cv2.CascadeClassifier('haarcascades/haarcascade_frontalface_alt.xml')\n",
    "\n",
    "# load color (BGR) image\n",
    "img = cv2.imread(human_files[3])\n",
    "# convert BGR image to grayscale\n",
    "gray = cv2.cvtColor(img, cv2.COLOR_BGR2GRAY)\n",
    "\n",
    "# find faces in image\n",
    "faces = face_cascade.detectMultiScale(gray)\n",
    "\n",
    "# print number of faces detected in the image\n",
    "print('Number of faces detected:', len(faces))\n",
    "\n",
    "# get bounding box for each detected face\n",
    "for (x,y,w,h) in faces:\n",
    "    # add bounding box to color image\n",
    "    cv2.rectangle(img,(x,y),(x+w,y+h),(255,0,0),2)\n",
    "    \n",
    "# convert BGR image to RGB for plotting\n",
    "cv_rgb = cv2.cvtColor(img, cv2.COLOR_BGR2RGB)\n",
    "\n",
    "# display the image, along with bounding box\n",
    "plt.imshow(cv_rgb)\n",
    "plt.show()"
   ]
  },
  {
   "cell_type": "markdown",
   "metadata": {},
   "source": [
    "Before using any of the face detectors, it is standard procedure to convert the images to grayscale.  The `detectMultiScale` function executes the classifier stored in `face_cascade` and takes the grayscale image as a parameter.  \n",
    "\n",
    "In the above code, `faces` is a numpy array of detected faces, where each row corresponds to a detected face.  Each detected face is a 1D array with four entries that specifies the bounding box of the detected face.  The first two entries in the array (extracted in the above code as `x` and `y`) specify the horizontal and vertical positions of the top left corner of the bounding box.  The last two entries in the array (extracted here as `w` and `h`) specify the width and height of the box.\n",
    "\n",
    "### Write a Human Face Detector\n",
    "\n",
    "We can use this procedure to write a function that returns `True` if a human face is detected in an image and `False` otherwise.  This function, aptly named `face_detector`, takes a string-valued file path to an image as input and appears in the code block below."
   ]
  },
  {
   "cell_type": "code",
   "execution_count": 5,
   "metadata": {},
   "outputs": [],
   "source": [
    "# returns \"True\" if face is detected in image stored at img_path\n",
    "def face_detector(img_path):\n",
    "    img = cv2.imread(img_path)\n",
    "    gray = cv2.cvtColor(img, cv2.COLOR_BGR2GRAY)\n",
    "    faces = face_cascade.detectMultiScale(gray)\n",
    "    return len(faces) > 0"
   ]
  },
  {
   "cell_type": "markdown",
   "metadata": {},
   "source": [
    "### (IMPLEMENTATION) Assess the Human Face Detector\n",
    "\n",
    "__Question 1:__ Use the code cell below to test the performance of the `face_detector` function.  \n",
    "- What percentage of the first 100 images in `human_files` have a detected human face?  \n",
    "- What percentage of the first 100 images in `dog_files` have a detected human face? \n",
    "\n",
    "Ideally, we would like 100% of human images with a detected face and 0% of dog images with a detected face.  You will see that our algorithm falls short of this goal, but still gives acceptable performance.  We extract the file paths for the first 100 images from each of the datasets and store them in the numpy arrays `human_files_short` and `dog_files_short`.\n",
    "\n",
    "__Answer:__ Percentage of the first 100 images in human_files with detected human face is 99.0 and \n",
    "Percentage of the first 100 images in dog_files with detected human face is 12.0"
   ]
  },
  {
   "cell_type": "code",
   "execution_count": 6,
   "metadata": {},
   "outputs": [
    {
     "name": "stdout",
     "output_type": "stream",
     "text": [
      "Percentage of the first 100 images in human_files with detected human face is 99.0\n",
      "Percentage of the first 100 images in dog_files with detected human face is 12.0\n"
     ]
    }
   ],
   "source": [
    "human_files_short = human_files[:100]\n",
    "dog_files_short = train_files[:100]\n",
    "# Do NOT modify the code above this line.\n",
    "\n",
    "## TODO: Test the performance of the face_detector algorithm ## on the images in human_files_short and dog_files_short.\n",
    "human = 0\n",
    "dog = 0\n",
    "\n",
    "for each_image in human_files_short:\n",
    "    if face_detector(each_image):\n",
    "        human += 1\n",
    "        \n",
    "for each_image in dog_files_short:\n",
    "    if face_detector(each_image):\n",
    "        dog += 1\n",
    "\n",
    "        \n",
    "print (\"Percentage of the first 100 images in human_files with detected human face is {human_face}\"\n",
    "       .format(human_face=(human/len(human_files_short)) * 100))\n",
    "print (\"Percentage of the first 100 images in dog_files with detected human face is {dog_face}\"\n",
    "       .format(dog_face=(dog/len(dog_files_short)) * 100))"
   ]
  },
  {
   "cell_type": "markdown",
   "metadata": {},
   "source": [
    "__Question 2:__ This algorithmic choice necessitates that we communicate to the user that we accept human images only when they provide a clear view of a face (otherwise, we risk having unneccessarily frustrated users!). In your opinion, is this a reasonable expectation to pose on the user? If not, can you think of a way to detect humans in images that does not necessitate an image with a clearly presented face?\n",
    "\n",
    "__Answer:__\n",
    "I dont think restricting a user to provide a clear view of the face will be a good approach, for an example consider the photos being posted in social networks most of them will not be with clear view of the face :). May be we can train our algorithm with wide variety of photos with different angles, backgrounds and lightening conditions then we may overcome the problem.\n",
    "We suggest the face detector from OpenCV as a potential way to detect human images in your algorithm, but you are free to explore other approaches, especially approaches that make use of deep learning :).  Please use the code cell below to design and test your own face detection algorithm.  If you decide to pursue this _optional_ task, report performance on each of the datasets."
   ]
  },
  {
   "cell_type": "code",
   "execution_count": null,
   "metadata": {
    "collapsed": true
   },
   "outputs": [],
   "source": [
    "## (Optional) TODO: Report the performance of another  \n",
    "## face detection algorithm on the LFW dataset\n",
    "### Feel free to use as many code cells as needed."
   ]
  },
  {
   "cell_type": "markdown",
   "metadata": {},
   "source": [
    "---\n",
    "<a id='step2'></a>\n",
    "## Step 2: Detect Dogs\n",
    "\n",
    "In this section, we use a pre-trained [ResNet-50](http://ethereon.github.io/netscope/#/gist/db945b393d40bfa26006) model to detect dogs in images.  Our first line of code downloads the ResNet-50 model, along with weights that have been trained on [ImageNet](http://www.image-net.org/), a very large, very popular dataset used for image classification and other vision tasks.  ImageNet contains over 10 million URLs, each linking to an image containing an object from one of [1000 categories](https://gist.github.com/yrevar/942d3a0ac09ec9e5eb3a).  Given an image, this pre-trained ResNet-50 model returns a prediction (derived from the available categories in ImageNet) for the object that is contained in the image."
   ]
  },
  {
   "cell_type": "code",
   "execution_count": 11,
   "metadata": {},
   "outputs": [],
   "source": [
    "from keras.applications.resnet50 import ResNet50\n",
    "\n",
    "# define ResNet50 model\n",
    "ResNet50_model = ResNet50(weights='imagenet')"
   ]
  },
  {
   "cell_type": "markdown",
   "metadata": {},
   "source": [
    "### Pre-process the Data\n",
    "\n",
    "When using TensorFlow as backend, Keras CNNs require a 4D array (which we'll also refer to as a 4D tensor) as input, with shape\n",
    "\n",
    "$$\n",
    "(\\text{nb_samples}, \\text{rows}, \\text{columns}, \\text{channels}),\n",
    "$$\n",
    "\n",
    "where `nb_samples` corresponds to the total number of images (or samples), and `rows`, `columns`, and `channels` correspond to the number of rows, columns, and channels for each image, respectively.  \n",
    "\n",
    "The `path_to_tensor` function below takes a string-valued file path to a color image as input and returns a 4D tensor suitable for supplying to a Keras CNN.  The function first loads the image and resizes it to a square image that is $224 \\times 224$ pixels.  Next, the image is converted to an array, which is then resized to a 4D tensor.  In this case, since we are working with color images, each image has three channels.  Likewise, since we are processing a single image (or sample), the returned tensor will always have shape\n",
    "\n",
    "$$\n",
    "(1, 224, 224, 3).\n",
    "$$\n",
    "\n",
    "The `paths_to_tensor` function takes a numpy array of string-valued image paths as input and returns a 4D tensor with shape \n",
    "\n",
    "$$\n",
    "(\\text{nb_samples}, 224, 224, 3).\n",
    "$$\n",
    "\n",
    "Here, `nb_samples` is the number of samples, or number of images, in the supplied array of image paths.  It is best to think of `nb_samples` as the number of 3D tensors (where each 3D tensor corresponds to a different image) in your dataset!"
   ]
  },
  {
   "cell_type": "code",
   "execution_count": 7,
   "metadata": {},
   "outputs": [],
   "source": [
    "from keras.preprocessing import image                  \n",
    "from tqdm import tqdm\n",
    "\n",
    "def path_to_tensor(img_path):\n",
    "    # loads RGB image as PIL.Image.Image type\n",
    "    img = image.load_img(img_path, target_size=(224, 224))\n",
    "    # convert PIL.Image.Image type to 3D tensor with shape (224, 224, 3)\n",
    "    x = image.img_to_array(img)\n",
    "    # convert 3D tensor to 4D tensor with shape (1, 224, 224, 3) and return 4D tensor\n",
    "    return np.expand_dims(x, axis=0)\n",
    "\n",
    "def paths_to_tensor(img_paths):\n",
    "    list_of_tensors = [path_to_tensor(img_path) for img_path in tqdm(img_paths)]\n",
    "    return np.vstack(list_of_tensors)"
   ]
  },
  {
   "cell_type": "markdown",
   "metadata": {},
   "source": [
    "### Making Predictions with ResNet-50\n",
    "\n",
    "Getting the 4D tensor ready for ResNet-50, and for any other pre-trained model in Keras, requires some additional processing.  First, the RGB image is converted to BGR by reordering the channels.  All pre-trained models have the additional normalization step that the mean pixel (expressed in RGB as $[103.939, 116.779, 123.68]$ and calculated from all pixels in all images in ImageNet) must be subtracted from every pixel in each image.  This is implemented in the imported function `preprocess_input`.  If you're curious, you can check the code for `preprocess_input` [here](https://github.com/fchollet/keras/blob/master/keras/applications/imagenet_utils.py).\n",
    "\n",
    "Now that we have a way to format our image for supplying to ResNet-50, we are now ready to use the model to extract the predictions.  This is accomplished with the `predict` method, which returns an array whose $i$-th entry is the model's predicted probability that the image belongs to the $i$-th ImageNet category.  This is implemented in the `ResNet50_predict_labels` function below.\n",
    "\n",
    "By taking the argmax of the predicted probability vector, we obtain an integer corresponding to the model's predicted object class, which we can identify with an object category through the use of this [dictionary](https://gist.github.com/yrevar/942d3a0ac09ec9e5eb3a). "
   ]
  },
  {
   "cell_type": "code",
   "execution_count": 8,
   "metadata": {},
   "outputs": [],
   "source": [
    "from keras.applications.resnet50 import preprocess_input, decode_predictions\n",
    "\n",
    "def ResNet50_predict_labels(img_path):\n",
    "    # returns prediction vector for image located at img_path\n",
    "    img = preprocess_input(path_to_tensor(img_path))\n",
    "    return np.argmax(ResNet50_model.predict(img))"
   ]
  },
  {
   "cell_type": "markdown",
   "metadata": {},
   "source": [
    "### Write a Dog Detector\n",
    "\n",
    "While looking at the [dictionary](https://gist.github.com/yrevar/942d3a0ac09ec9e5eb3a), you will notice that the categories corresponding to dogs appear in an uninterrupted sequence and correspond to dictionary keys 151-268, inclusive, to include all categories from `'Chihuahua'` to `'Mexican hairless'`.  Thus, in order to check to see if an image is predicted to contain a dog by the pre-trained ResNet-50 model, we need only check if the `ResNet50_predict_labels` function above returns a value between 151 and 268 (inclusive).\n",
    "\n",
    "We use these ideas to complete the `dog_detector` function below, which returns `True` if a dog is detected in an image (and `False` if not)."
   ]
  },
  {
   "cell_type": "code",
   "execution_count": 9,
   "metadata": {},
   "outputs": [],
   "source": [
    "### returns \"True\" if a dog is detected in the image stored at img_path\n",
    "def dog_detector(img_path):\n",
    "    prediction = ResNet50_predict_labels(img_path)\n",
    "    return ((prediction <= 268) & (prediction >= 151)) "
   ]
  },
  {
   "cell_type": "markdown",
   "metadata": {},
   "source": [
    "### (IMPLEMENTATION) Assess the Dog Detector\n",
    "\n",
    "__Question 3:__ Use the code cell below to test the performance of your `dog_detector` function.  \n",
    "- What percentage of the images in `human_files_short` have a detected dog?  \n",
    "- What percentage of the images in `dog_files_short` have a detected dog?\n",
    "\n",
    "__Answer:__ Percentage of the first 100 images in human_files with detected dog face is 1.0 and\n",
    "            Percentage of the first 100 images in dog_files with detected dog face is 100.0"
   ]
  },
  {
   "cell_type": "code",
   "execution_count": 12,
   "metadata": {},
   "outputs": [
    {
     "name": "stdout",
     "output_type": "stream",
     "text": [
      "Percentage of the first 100 images in human_files with detected dog face is 1.0\n",
      "Percentage of the first 100 images in dog_files with detected dog face is 100.0\n"
     ]
    }
   ],
   "source": [
    "### TODO: Test the performance of the dog_detector function\n",
    "### on the images in human_files_short and dog_files_short.\n",
    "\n",
    "human = 0\n",
    "dog = 0\n",
    "\n",
    "for each_image in human_files_short:\n",
    "    if dog_detector(each_image):\n",
    "        human += 1\n",
    "        \n",
    "for each_image in dog_files_short:\n",
    "    if dog_detector(each_image):\n",
    "        dog += 1\n",
    "        \n",
    "print (\"Percentage of the first 100 images in human_files with detected dog face is {human_face}\"\n",
    "       .format(human_face=(human/len(human_files_short)) * 100))\n",
    "print (\"Percentage of the first 100 images in dog_files with detected dog face is {dog_face}\"\n",
    "       .format(dog_face=(dog/len(dog_files_short)) * 100))"
   ]
  },
  {
   "cell_type": "markdown",
   "metadata": {},
   "source": [
    "---\n",
    "<a id='step3'></a>\n",
    "## Step 3: Create a CNN to Classify Dog Breeds (from Scratch)\n",
    "\n",
    "Now that we have functions for detecting humans and dogs in images, we need a way to predict breed from images.  In this step, you will create a CNN that classifies dog breeds.  You must create your CNN _from scratch_ (so, you can't use transfer learning _yet_!), and you must attain a test accuracy of at least 1%.  In Step 5 of this notebook, you will have the opportunity to use transfer learning to create a CNN that attains greatly improved accuracy.\n",
    "\n",
    "Be careful with adding too many trainable layers!  More parameters means longer training, which means you are more likely to need a GPU to accelerate the training process.  Thankfully, Keras provides a handy estimate of the time that each epoch is likely to take; you can extrapolate this estimate to figure out how long it will take for your algorithm to train. \n",
    "\n",
    "We mention that the task of assigning breed to dogs from images is considered exceptionally challenging.  To see why, consider that *even a human* would have great difficulty in distinguishing between a Brittany and a Welsh Springer Spaniel.  \n",
    "\n",
    "Brittany | Welsh Springer Spaniel\n",
    "- | - \n",
    "<img src=\"images/Brittany_02625.jpg\" width=\"100\"> | <img src=\"images/Welsh_springer_spaniel_08203.jpg\" width=\"200\">\n",
    "\n",
    "It is not difficult to find other dog breed pairs with minimal inter-class variation (for instance, Curly-Coated Retrievers and American Water Spaniels).  \n",
    "\n",
    "Curly-Coated Retriever | American Water Spaniel\n",
    "- | -\n",
    "<img src=\"images/Curly-coated_retriever_03896.jpg\" width=\"200\"> | <img src=\"images/American_water_spaniel_00648.jpg\" width=\"200\">\n",
    "\n",
    "\n",
    "Likewise, recall that labradors come in yellow, chocolate, and black.  Your vision-based algorithm will have to conquer this high intra-class variation to determine how to classify all of these different shades as the same breed.  \n",
    "\n",
    "Yellow Labrador | Chocolate Labrador | Black Labrador\n",
    "- | -\n",
    "<img src=\"images/Labrador_retriever_06457.jpg\" width=\"150\"> | <img src=\"images/Labrador_retriever_06455.jpg\" width=\"240\"> | <img src=\"images/Labrador_retriever_06449.jpg\" width=\"220\">\n",
    "\n",
    "We also mention that random chance presents an exceptionally low bar: setting aside the fact that the classes are slightly imabalanced, a random guess will provide a correct answer roughly 1 in 133 times, which corresponds to an accuracy of less than 1%.  \n",
    "\n",
    "Remember that the practice is far ahead of the theory in deep learning.  Experiment with many different architectures, and trust your intuition.  And, of course, have fun! \n",
    "\n",
    "### Pre-process the Data\n",
    "\n",
    "We rescale the images by dividing every pixel in every image by 255."
   ]
  },
  {
   "cell_type": "code",
   "execution_count": 13,
   "metadata": {},
   "outputs": [
    {
     "name": "stderr",
     "output_type": "stream",
     "text": [
      "100%|█████████████████████████████████████| 6680/6680 [00:56<00:00, 118.75it/s]\n",
      "100%|███████████████████████████████████████| 835/835 [00:06<00:00, 129.02it/s]\n",
      "100%|███████████████████████████████████████| 836/836 [00:06<00:00, 131.03it/s]\n"
     ]
    }
   ],
   "source": [
    "from PIL import ImageFile                            \n",
    "ImageFile.LOAD_TRUNCATED_IMAGES = True                 \n",
    "\n",
    "# pre-process the data for Keras\n",
    "train_tensors = paths_to_tensor(train_files).astype('float32')/255\n",
    "valid_tensors = paths_to_tensor(valid_files).astype('float32')/255\n",
    "test_tensors = paths_to_tensor(test_files).astype('float32')/255"
   ]
  },
  {
   "cell_type": "markdown",
   "metadata": {},
   "source": [
    "### (IMPLEMENTATION) Model Architecture\n",
    "\n",
    "Create a CNN to classify dog breed.  At the end of your code cell block, summarize the layers of your model by executing the line:\n",
    "    \n",
    "        model.summary()\n",
    "\n",
    "We have imported some Python modules to get you started, but feel free to import as many modules as you need.  If you end up getting stuck, here's a hint that specifies a model that trains relatively fast on CPU and attains >1% test accuracy in 5 epochs:\n",
    "\n",
    "![Sample CNN](images/sample_cnn.png)\n",
    "           \n",
    "__Question 4:__ Outline the steps you took to get to your final CNN architecture and your reasoning at each step.  If you chose to use the hinted architecture above, describe why you think that CNN architecture should work well for the image classification task.\n",
    "\n",
    "__Answer:__  I have choosen to use the similar architecture as given above. In my architecture I have used 3 convlution layers which can detect patterns in the images to differentiate dog breeds and pooling layers to reduce dimensionality of an array. I have also used dropout layers to prevent overfitting and softmax to classify the output into 133 categories."
   ]
  },
  {
   "cell_type": "code",
   "execution_count": 89,
   "metadata": {},
   "outputs": [
    {
     "name": "stdout",
     "output_type": "stream",
     "text": [
      "_________________________________________________________________\n",
      "Layer (type)                 Output Shape              Param #   \n",
      "=================================================================\n",
      "conv2d_1226 (Conv2D)         (None, 224, 224, 16)      208       \n",
      "_________________________________________________________________\n",
      "max_pooling2d_57 (MaxPooling (None, 112, 112, 16)      0         \n",
      "_________________________________________________________________\n",
      "conv2d_1227 (Conv2D)         (None, 112, 112, 32)      2080      \n",
      "_________________________________________________________________\n",
      "max_pooling2d_58 (MaxPooling (None, 56, 56, 32)        0         \n",
      "_________________________________________________________________\n",
      "conv2d_1228 (Conv2D)         (None, 56, 56, 64)        8256      \n",
      "_________________________________________________________________\n",
      "max_pooling2d_59 (MaxPooling (None, 28, 28, 64)        0         \n",
      "_________________________________________________________________\n",
      "dropout_3 (Dropout)          (None, 28, 28, 64)        0         \n",
      "_________________________________________________________________\n",
      "flatten_3 (Flatten)          (None, 50176)             0         \n",
      "_________________________________________________________________\n",
      "dense_5 (Dense)              (None, 500)               25088500  \n",
      "_________________________________________________________________\n",
      "dropout_4 (Dropout)          (None, 500)               0         \n",
      "_________________________________________________________________\n",
      "dense_6 (Dense)              (None, 133)               66633     \n",
      "=================================================================\n",
      "Total params: 25,165,677\n",
      "Trainable params: 25,165,677\n",
      "Non-trainable params: 0\n",
      "_________________________________________________________________\n"
     ]
    }
   ],
   "source": [
    "from keras.layers import Conv2D, MaxPooling2D, GlobalAveragePooling2D\n",
    "from keras.layers import Dropout, Flatten, Dense\n",
    "from keras.models import Sequential\n",
    "\n",
    "model = Sequential()\n",
    "model.add(Conv2D(filters=16, kernel_size=2, padding='same', activation='relu', input_shape=(224, 224, 3)))\n",
    "model.add(MaxPooling2D(pool_size=2))\n",
    "\n",
    "model.add(Conv2D(filters=32, kernel_size=2, padding='same', activation='relu'))\n",
    "model.add(MaxPooling2D(pool_size=2))\n",
    "\n",
    "model.add(Conv2D(filters=64, kernel_size=2, padding='same', activation='relu'))\n",
    "model.add(MaxPooling2D(pool_size=2))\n",
    "\n",
    "model.add(Dropout(0.3))\n",
    "model.add(Flatten())\n",
    "\n",
    "model.add(Dense(500, activation='relu'))\n",
    "model.add(Dropout(0.2))\n",
    "\n",
    "model.add(Dense(133, activation='softmax'))\n",
    "\n",
    "model.summary()"
   ]
  },
  {
   "cell_type": "markdown",
   "metadata": {},
   "source": [
    "### Compile the Model"
   ]
  },
  {
   "cell_type": "code",
   "execution_count": 90,
   "metadata": {},
   "outputs": [],
   "source": [
    "model.compile(optimizer='rmsprop', loss='categorical_crossentropy', metrics=['accuracy'])"
   ]
  },
  {
   "cell_type": "markdown",
   "metadata": {},
   "source": [
    "### (IMPLEMENTATION) Train the Model\n",
    "\n",
    "Train your model in the code cell below.  Use model checkpointing to save the model that attains the best validation loss.\n",
    "\n",
    "You are welcome to [augment the training data](https://blog.keras.io/building-powerful-image-classification-models-using-very-little-data.html), but this is not a requirement. "
   ]
  },
  {
   "cell_type": "code",
   "execution_count": 91,
   "metadata": {},
   "outputs": [
    {
     "name": "stdout",
     "output_type": "stream",
     "text": [
      "Train on 6680 samples, validate on 835 samples\n",
      "Epoch 1/5\n"
     ]
    },
    {
     "name": "stdout",
     "output_type": "stream",
     "text": [
      "4000/6680 [================>.............] - ETA: 1:52:47 - loss: 4.8894 - acc: 0.0000e+ - ETA: 59:12 - loss: 9.8570 - acc: 0.0000e+00 - ETA: 41:05 - loss: 11.7472 - acc: 0.0000e+0 - ETA: 32:20 - loss: 10.8651 - acc: 0.0000e+0 - ETA: 27:00 - loss: 9.7257 - acc: 0.0000e+0 - ETA: 23:19 - loss: 8.9019 - acc: 0.0000e+ - ETA: 20:42 - loss: 8.3467 - acc: 0.0000e+ - ETA: 18:43 - loss: 7.9239 - acc: 0.0000e+ - ETA: 17:12 - loss: 7.5818 - acc: 0.0000e+ - ETA: 16:03 - loss: 7.3177 - acc: 0.0000e+ - ETA: 15:01 - loss: 7.1047 - acc: 0.0000e+ - ETA: 14:16 - loss: 6.9225 - acc: 0.0000e+ - ETA: 13:37 - loss: 6.7697 - acc: 0.0000e+ - ETA: 13:02 - loss: 6.6380 - acc: 0.0000e+ - ETA: 12:33 - loss: 6.5183 - acc: 0.0000e+ - ETA: 12:05 - loss: 6.4159 - acc: 0.0000e+ - ETA: 11:40 - loss: 6.3223 - acc: 0.0000e+ - ETA: 11:20 - loss: 6.2386 - acc: 0.0000e+ - ETA: 10:58 - loss: 6.1678 - acc: 0.0000e+ - ETA: 10:39 - loss: 6.1076 - acc: 0.0000e+ - ETA: 10:24 - loss: 6.0491 - acc: 0.0024   - ETA: 10:08 - loss: 5.9947 - acc: 0.00 - ETA: 9:54 - loss: 5.9490 - acc: 0.0022 - ETA: 9:44 - loss: 5.9050 - acc: 0.002 - ETA: 9:32 - loss: 5.8662 - acc: 0.002 - ETA: 9:24 - loss: 5.8284 - acc: 0.001 - ETA: 9:12 - loss: 5.7930 - acc: 0.001 - ETA: 9:02 - loss: 5.7606 - acc: 0.001 - ETA: 8:54 - loss: 5.7308 - acc: 0.001 - ETA: 8:46 - loss: 5.7030 - acc: 0.001 - ETA: 8:38 - loss: 5.6795 - acc: 0.001 - ETA: 8:35 - loss: 5.6548 - acc: 0.004 - ETA: 8:26 - loss: 5.6310 - acc: 0.006 - ETA: 8:21 - loss: 5.6082 - acc: 0.005 - ETA: 8:15 - loss: 5.5885 - acc: 0.007 - ETA: 8:08 - loss: 5.5683 - acc: 0.009 - ETA: 8:01 - loss: 5.5520 - acc: 0.009 - ETA: 7:55 - loss: 5.5334 - acc: 0.009 - ETA: 7:49 - loss: 5.5188 - acc: 0.009 - ETA: 7:42 - loss: 5.5032 - acc: 0.008 - ETA: 7:37 - loss: 5.4881 - acc: 0.008 - ETA: 7:34 - loss: 5.4739 - acc: 0.008 - ETA: 7:29 - loss: 5.4596 - acc: 0.008 - ETA: 7:24 - loss: 5.4471 - acc: 0.008 - ETA: 7:23 - loss: 5.4356 - acc: 0.007 - ETA: 7:23 - loss: 5.4241 - acc: 0.007 - ETA: 7:20 - loss: 5.4130 - acc: 0.007 - ETA: 7:16 - loss: 5.4021 - acc: 0.007 - ETA: 7:12 - loss: 5.3917 - acc: 0.007 - ETA: 7:08 - loss: 5.3821 - acc: 0.007 - ETA: 7:05 - loss: 5.3723 - acc: 0.006 - ETA: 7:00 - loss: 5.3631 - acc: 0.006 - ETA: 6:56 - loss: 5.3543 - acc: 0.007 - ETA: 6:52 - loss: 5.3456 - acc: 0.007 - ETA: 6:49 - loss: 5.3375 - acc: 0.007 - ETA: 6:46 - loss: 5.3294 - acc: 0.007 - ETA: 6:42 - loss: 5.3220 - acc: 0.007 - ETA: 6:39 - loss: 5.3144 - acc: 0.006 - ETA: 6:36 - loss: 5.3073 - acc: 0.006 - ETA: 6:33 - loss: 5.3002 - acc: 0.006 - ETA: 6:29 - loss: 5.2932 - acc: 0.006 - ETA: 6:26 - loss: 5.2862 - acc: 0.006 - ETA: 6:23 - loss: 5.2810 - acc: 0.006 - ETA: 6:19 - loss: 5.2749 - acc: 0.007 - ETA: 6:16 - loss: 5.2686 - acc: 0.006 - ETA: 6:13 - loss: 5.2644 - acc: 0.006 - ETA: 6:10 - loss: 5.2587 - acc: 0.006 - ETA: 6:07 - loss: 5.2531 - acc: 0.006 - ETA: 6:04 - loss: 5.2479 - acc: 0.006 - ETA: 6:01 - loss: 5.2424 - acc: 0.006 - ETA: 5:58 - loss: 5.2371 - acc: 0.007 - ETA: 5:56 - loss: 5.2324 - acc: 0.007 - ETA: 5:53 - loss: 5.2278 - acc: 0.007 - ETA: 5:51 - loss: 5.2230 - acc: 0.007 - ETA: 5:48 - loss: 5.2188 - acc: 0.007 - ETA: 5:46 - loss: 5.2143 - acc: 0.007 - ETA: 5:43 - loss: 5.2099 - acc: 0.007 - ETA: 5:40 - loss: 5.2057 - acc: 0.007 - ETA: 5:38 - loss: 5.2016 - acc: 0.008 - ETA: 5:36 - loss: 5.1978 - acc: 0.008 - ETA: 5:34 - loss: 5.1939 - acc: 0.008 - ETA: 5:31 - loss: 5.1897 - acc: 0.008 - ETA: 5:29 - loss: 5.1860 - acc: 0.008 - ETA: 5:27 - loss: 5.1824 - acc: 0.008 - ETA: 5:24 - loss: 5.1790 - acc: 0.008 - ETA: 5:22 - loss: 5.1756 - acc: 0.008 - ETA: 5:20 - loss: 5.1724 - acc: 0.008 - ETA: 5:19 - loss: 5.1686 - acc: 0.008 - ETA: 5:17 - loss: 5.1667 - acc: 0.007 - ETA: 5:15 - loss: 5.1633 - acc: 0.007 - ETA: 5:13 - loss: 5.1609 - acc: 0.007 - ETA: 5:12 - loss: 5.1581 - acc: 0.007 - ETA: 5:09 - loss: 5.1554 - acc: 0.007 - ETA: 5:08 - loss: 5.1524 - acc: 0.008 - ETA: 5:06 - loss: 5.1495 - acc: 0.007 - ETA: 5:04 - loss: 5.1465 - acc: 0.008 - ETA: 5:02 - loss: 5.1443 - acc: 0.008 - ETA: 5:01 - loss: 5.1412 - acc: 0.008 - ETA: 4:59 - loss: 5.1397 - acc: 0.008 - ETA: 4:58 - loss: 5.1368 - acc: 0.008 - ETA: 4:56 - loss: 5.1347 - acc: 0.008 - ETA: 4:55 - loss: 5.1323 - acc: 0.008 - ETA: 4:53 - loss: 5.1299 - acc: 0.008 - ETA: 4:51 - loss: 5.1275 - acc: 0.008 - ETA: 4:50 - loss: 5.1252 - acc: 0.009 - ETA: 4:48 - loss: 5.1230 - acc: 0.009 - ETA: 4:46 - loss: 5.1210 - acc: 0.008 - ETA: 4:45 - loss: 5.1187 - acc: 0.008 - ETA: 4:43 - loss: 5.1163 - acc: 0.008 - ETA: 4:42 - loss: 5.1141 - acc: 0.008 - ETA: 4:41 - loss: 5.1115 - acc: 0.008 - ETA: 4:39 - loss: 5.1095 - acc: 0.008 - ETA: 4:38 - loss: 5.1072 - acc: 0.008 - ETA: 4:36 - loss: 5.1056 - acc: 0.008 - ETA: 4:34 - loss: 5.1037 - acc: 0.009 - ETA: 4:33 - loss: 5.1017 - acc: 0.009 - ETA: 4:31 - loss: 5.0997 - acc: 0.009 - ETA: 4:30 - loss: 5.0975 - acc: 0.008 - ETA: 4:29 - loss: 5.0954 - acc: 0.008 - ETA: 4:27 - loss: 5.0937 - acc: 0.008 - ETA: 4:25 - loss: 5.0919 - acc: 0.009 - ETA: 4:24 - loss: 5.0900 - acc: 0.009 - ETA: 4:22 - loss: 5.0884 - acc: 0.009 - ETA: 4:21 - loss: 5.0867 - acc: 0.009 - ETA: 4:19 - loss: 5.0849 - acc: 0.009 - ETA: 4:18 - loss: 5.0835 - acc: 0.009 - ETA: 4:16 - loss: 5.0817 - acc: 0.009 - ETA: 4:14 - loss: 5.0804 - acc: 0.009 - ETA: 4:14 - loss: 5.0789 - acc: 0.009 - ETA: 4:12 - loss: 5.0777 - acc: 0.009 - ETA: 4:11 - loss: 5.0764 - acc: 0.009 - ETA: 4:09 - loss: 5.0749 - acc: 0.009 - ETA: 4:08 - loss: 5.0733 - acc: 0.009 - ETA: 4:07 - loss: 5.0719 - acc: 0.009 - ETA: 4:05 - loss: 5.0707 - acc: 0.009 - ETA: 4:04 - loss: 5.0693 - acc: 0.009 - ETA: 4:02 - loss: 5.0678 - acc: 0.009 - ETA: 4:01 - loss: 5.0661 - acc: 0.009 - ETA: 3:59 - loss: 5.0654 - acc: 0.009 - ETA: 3:58 - loss: 5.0638 - acc: 0.009 - ETA: 3:56 - loss: 5.0628 - acc: 0.009 - ETA: 3:55 - loss: 5.0616 - acc: 0.009 - ETA: 3:53 - loss: 5.0603 - acc: 0.009 - ETA: 3:52 - loss: 5.0591 - acc: 0.009 - ETA: 3:50 - loss: 5.0576 - acc: 0.009 - ETA: 3:49 - loss: 5.0563 - acc: 0.009 - ETA: 3:48 - loss: 5.0543 - acc: 0.009 - ETA: 3:46 - loss: 5.0530 - acc: 0.009 - ETA: 3:44 - loss: 5.0515 - acc: 0.009 - ETA: 3:43 - loss: 5.0503 - acc: 0.009 - ETA: 3:42 - loss: 5.0496 - acc: 0.009 - ETA: 3:40 - loss: 5.0484 - acc: 0.009 - ETA: 3:39 - loss: 5.0479 - acc: 0.009 - ETA: 3:37 - loss: 5.0466 - acc: 0.009 - ETA: 3:36 - loss: 5.0455 - acc: 0.010 - ETA: 3:35 - loss: 5.0439 - acc: 0.009 - ETA: 3:34 - loss: 5.0425 - acc: 0.009 - ETA: 3:32 - loss: 5.0413 - acc: 0.009 - ETA: 3:31 - loss: 5.0406 - acc: 0.009 - ETA: 3:30 - loss: 5.0396 - acc: 0.009 - ETA: 3:29 - loss: 5.0384 - acc: 0.009 - ETA: 3:27 - loss: 5.0377 - acc: 0.009 - ETA: 3:26 - loss: 5.0366 - acc: 0.009 - ETA: 3:24 - loss: 5.0357 - acc: 0.009 - ETA: 3:23 - loss: 5.0346 - acc: 0.009 - ETA: 3:21 - loss: 5.0335 - acc: 0.009 - ETA: 3:20 - loss: 5.0325 - acc: 0.009 - ETA: 3:19 - loss: 5.0317 - acc: 0.009 - ETA: 3:17 - loss: 5.0316 - acc: 0.009 - ETA: 3:16 - loss: 5.0308 - acc: 0.009 - ETA: 3:14 - loss: 5.0296 - acc: 0.009 - ETA: 3:13 - loss: 5.0285 - acc: 0.009 - ETA: 3:12 - loss: 5.0275 - acc: 0.009 - ETA: 3:11 - loss: 5.0264 - acc: 0.009 - ETA: 3:10 - loss: 5.0258 - acc: 0.009 - ETA: 3:08 - loss: 5.0246 - acc: 0.009 - ETA: 3:07 - loss: 5.0237 - acc: 0.009 - ETA: 3:06 - loss: 5.0227 - acc: 0.009 - ETA: 3:04 - loss: 5.0218 - acc: 0.009 - ETA: 3:03 - loss: 5.0209 - acc: 0.009 - ETA: 3:02 - loss: 5.0195 - acc: 0.009 - ETA: 3:00 - loss: 5.0209 - acc: 0.009 - ETA: 2:59 - loss: 5.0200 - acc: 0.009 - ETA: 2:58 - loss: 5.0196 - acc: 0.009 - ETA: 2:56 - loss: 5.0187 - acc: 0.009 - ETA: 2:55 - loss: 5.0181 - acc: 0.009 - ETA: 2:54 - loss: 5.0172 - acc: 0.009 - ETA: 2:53 - loss: 5.0160 - acc: 0.009 - ETA: 2:52 - loss: 5.0151 - acc: 0.010 - ETA: 2:51 - loss: 5.0143 - acc: 0.010 - ETA: 2:49 - loss: 5.0137 - acc: 0.009 - ETA: 2:48 - loss: 5.0130 - acc: 0.010 - ETA: 2:46 - loss: 5.0122 - acc: 0.010 - ETA: 2:45 - loss: 5.0112 - acc: 0.010 - ETA: 2:44 - loss: 5.0103 - acc: 0.010 - ETA: 2:42 - loss: 5.0098 - acc: 0.010 - ETA: 2:41 - loss: 5.0091 - acc: 0.010 - ETA: 2:40 - loss: 5.0080 - acc: 0.010 - ETA: 2:39 - loss: 5.0073 - acc: 0.010 - ETA: 2:37 - loss: 5.0066 - acc: 0.0108\b\b\b\b\b\b\b\b\b\b\b\b\b\b\b\b\b\b\b\b\b\b\b\b\b\b\b\b\b\b\b\b\b\b\b\b\b\b\b\b\b\b\b\b\b\b\b\b\b\b\b\b\b\b\b\b\b\b\b\b\b\b\b\b\b\b\b\b\b\b\b\b\b\b\b\b\b\b\b\b\b\b\b"
     ]
    },
    {
     "name": "stdout",
     "output_type": "stream",
     "text": [
      "6680/6680 [==============================] - ETA: 2:36 - loss: 5.0051 - acc: 0.010 - ETA: 2:35 - loss: 5.0048 - acc: 0.010 - ETA: 2:33 - loss: 5.0042 - acc: 0.011 - ETA: 2:32 - loss: 5.0032 - acc: 0.011 - ETA: 2:31 - loss: 5.0025 - acc: 0.011 - ETA: 2:29 - loss: 5.0021 - acc: 0.011 - ETA: 2:28 - loss: 5.0015 - acc: 0.011 - ETA: 2:27 - loss: 5.0005 - acc: 0.011 - ETA: 2:26 - loss: 5.0001 - acc: 0.011 - ETA: 2:24 - loss: 4.9991 - acc: 0.011 - ETA: 2:23 - loss: 4.9986 - acc: 0.011 - ETA: 2:22 - loss: 4.9975 - acc: 0.011 - ETA: 2:20 - loss: 4.9978 - acc: 0.011 - ETA: 2:19 - loss: 4.9968 - acc: 0.011 - ETA: 2:18 - loss: 4.9960 - acc: 0.011 - ETA: 2:17 - loss: 4.9950 - acc: 0.011 - ETA: 2:15 - loss: 4.9936 - acc: 0.011 - ETA: 2:14 - loss: 4.9927 - acc: 0.011 - ETA: 2:13 - loss: 4.9914 - acc: 0.012 - ETA: 2:12 - loss: 4.9916 - acc: 0.012 - ETA: 2:10 - loss: 4.9913 - acc: 0.012 - ETA: 2:09 - loss: 4.9907 - acc: 0.012 - ETA: 2:08 - loss: 4.9898 - acc: 0.012 - ETA: 2:07 - loss: 4.9889 - acc: 0.012 - ETA: 2:05 - loss: 4.9884 - acc: 0.012 - ETA: 2:04 - loss: 4.9873 - acc: 0.012 - ETA: 2:03 - loss: 4.9869 - acc: 0.012 - ETA: 2:02 - loss: 4.9863 - acc: 0.012 - ETA: 2:00 - loss: 4.9855 - acc: 0.012 - ETA: 1:59 - loss: 4.9837 - acc: 0.012 - ETA: 1:58 - loss: 4.9842 - acc: 0.012 - ETA: 1:57 - loss: 4.9833 - acc: 0.012 - ETA: 1:56 - loss: 4.9825 - acc: 0.012 - ETA: 1:54 - loss: 4.9823 - acc: 0.012 - ETA: 1:53 - loss: 4.9809 - acc: 0.012 - ETA: 1:52 - loss: 4.9803 - acc: 0.012 - ETA: 1:51 - loss: 4.9798 - acc: 0.012 - ETA: 1:49 - loss: 4.9790 - acc: 0.012 - ETA: 1:48 - loss: 4.9780 - acc: 0.012 - ETA: 1:47 - loss: 4.9768 - acc: 0.012 - ETA: 1:46 - loss: 4.9761 - acc: 0.012 - ETA: 1:45 - loss: 4.9749 - acc: 0.012 - ETA: 1:43 - loss: 4.9739 - acc: 0.013 - ETA: 1:42 - loss: 4.9729 - acc: 0.012 - ETA: 1:41 - loss: 4.9718 - acc: 0.012 - ETA: 1:40 - loss: 4.9706 - acc: 0.013 - ETA: 1:39 - loss: 4.9701 - acc: 0.013 - ETA: 1:37 - loss: 4.9685 - acc: 0.013 - ETA: 1:36 - loss: 4.9698 - acc: 0.013 - ETA: 1:35 - loss: 4.9689 - acc: 0.013 - ETA: 1:34 - loss: 4.9675 - acc: 0.013 - ETA: 1:33 - loss: 4.9659 - acc: 0.013 - ETA: 1:32 - loss: 4.9645 - acc: 0.013 - ETA: 1:30 - loss: 4.9631 - acc: 0.013 - ETA: 1:29 - loss: 4.9621 - acc: 0.013 - ETA: 1:28 - loss: 4.9607 - acc: 0.013 - ETA: 1:27 - loss: 4.9607 - acc: 0.013 - ETA: 1:26 - loss: 4.9599 - acc: 0.013 - ETA: 1:25 - loss: 4.9595 - acc: 0.013 - ETA: 1:23 - loss: 4.9585 - acc: 0.013 - ETA: 1:22 - loss: 4.9580 - acc: 0.013 - ETA: 1:21 - loss: 4.9568 - acc: 0.013 - ETA: 1:20 - loss: 4.9557 - acc: 0.014 - ETA: 1:19 - loss: 4.9547 - acc: 0.014 - ETA: 1:18 - loss: 4.9536 - acc: 0.014 - ETA: 1:16 - loss: 4.9531 - acc: 0.014 - ETA: 1:15 - loss: 4.9527 - acc: 0.014 - ETA: 1:14 - loss: 4.9513 - acc: 0.014 - ETA: 1:13 - loss: 4.9513 - acc: 0.014 - ETA: 1:12 - loss: 4.9501 - acc: 0.014 - ETA: 1:11 - loss: 4.9491 - acc: 0.014 - ETA: 1:09 - loss: 4.9487 - acc: 0.014 - ETA: 1:08 - loss: 4.9477 - acc: 0.014 - ETA: 1:07 - loss: 4.9465 - acc: 0.014 - ETA: 1:06 - loss: 4.9455 - acc: 0.014 - ETA: 1:05 - loss: 4.9454 - acc: 0.014 - ETA: 1:04 - loss: 4.9448 - acc: 0.014 - ETA: 1:03 - loss: 4.9436 - acc: 0.014 - ETA: 1:02 - loss: 4.9422 - acc: 0.014 - ETA: 1:00 - loss: 4.9408 - acc: 0.014 - ETA: 59s - loss: 4.9403 - acc: 0.014 - ETA: 58s - loss: 4.9394 - acc: 0.01 - ETA: 57s - loss: 4.9395 - acc: 0.01 - ETA: 56s - loss: 4.9392 - acc: 0.01 - ETA: 55s - loss: 4.9374 - acc: 0.01 - ETA: 53s - loss: 4.9363 - acc: 0.01 - ETA: 52s - loss: 4.9358 - acc: 0.01 - ETA: 51s - loss: 4.9348 - acc: 0.01 - ETA: 50s - loss: 4.9339 - acc: 0.01 - ETA: 49s - loss: 4.9333 - acc: 0.01 - ETA: 48s - loss: 4.9325 - acc: 0.01 - ETA: 47s - loss: 4.9312 - acc: 0.01 - ETA: 45s - loss: 4.9305 - acc: 0.01 - ETA: 44s - loss: 4.9299 - acc: 0.01 - ETA: 43s - loss: 4.9294 - acc: 0.01 - ETA: 42s - loss: 4.9284 - acc: 0.01 - ETA: 41s - loss: 4.9282 - acc: 0.01 - ETA: 40s - loss: 4.9278 - acc: 0.01 - ETA: 39s - loss: 4.9266 - acc: 0.01 - ETA: 37s - loss: 4.9263 - acc: 0.01 - ETA: 36s - loss: 4.9261 - acc: 0.01 - ETA: 35s - loss: 4.9251 - acc: 0.01 - ETA: 34s - loss: 4.9248 - acc: 0.01 - ETA: 33s - loss: 4.9240 - acc: 0.01 - ETA: 32s - loss: 4.9233 - acc: 0.01 - ETA: 31s - loss: 4.9228 - acc: 0.01 - ETA: 30s - loss: 4.9217 - acc: 0.01 - ETA: 29s - loss: 4.9218 - acc: 0.01 - ETA: 27s - loss: 4.9214 - acc: 0.01 - ETA: 26s - loss: 4.9203 - acc: 0.01 - ETA: 25s - loss: 4.9195 - acc: 0.01 - ETA: 24s - loss: 4.9189 - acc: 0.01 - ETA: 23s - loss: 4.9177 - acc: 0.01 - ETA: 22s - loss: 4.9170 - acc: 0.01 - ETA: 21s - loss: 4.9159 - acc: 0.01 - ETA: 20s - loss: 4.9149 - acc: 0.01 - ETA: 18s - loss: 4.9139 - acc: 0.01 - ETA: 17s - loss: 4.9134 - acc: 0.01 - ETA: 16s - loss: 4.9128 - acc: 0.01 - ETA: 15s - loss: 4.9121 - acc: 0.01 - ETA: 14s - loss: 4.9104 - acc: 0.01 - ETA: 13s - loss: 4.9096 - acc: 0.01 - ETA: 12s - loss: 4.9082 - acc: 0.01 - ETA: 11s - loss: 4.9074 - acc: 0.01 - ETA: 10s - loss: 4.9064 - acc: 0.01 - ETA: 8s - loss: 4.9065 - acc: 0.0175 - ETA: 7s - loss: 4.9060 - acc: 0.017 - ETA: 6s - loss: 4.9051 - acc: 0.017 - ETA: 5s - loss: 4.9047 - acc: 0.017 - ETA: 4s - loss: 4.9040 - acc: 0.017 - ETA: 3s - loss: 4.9028 - acc: 0.017 - ETA: 2s - loss: 4.9021 - acc: 0.017 - ETA: 1s - loss: 4.9019 - acc: 0.017 - 390s 58ms/step - loss: 4.9017 - acc: 0.0177 - val_loss: 4.5963 - val_acc: 0.0335\n",
      "\n",
      "Epoch 00001: val_loss improved from inf to 4.59629, saving model to saved_models/weights.best.from_scratch.hdf5\n",
      "Epoch 2/5\n"
     ]
    },
    {
     "name": "stdout",
     "output_type": "stream",
     "text": [
      "4080/6680 [=================>............] - ETA: 5:58 - loss: 4.4130 - acc: 0.150 - ETA: 5:17 - loss: 4.4757 - acc: 0.100 - ETA: 5:03 - loss: 4.4685 - acc: 0.100 - ETA: 4:55 - loss: 4.4727 - acc: 0.100 - ETA: 4:51 - loss: 4.4290 - acc: 0.100 - ETA: 4:48 - loss: 4.4169 - acc: 0.091 - ETA: 4:45 - loss: 4.4206 - acc: 0.092 - ETA: 4:44 - loss: 4.4275 - acc: 0.093 - ETA: 4:42 - loss: 4.4497 - acc: 0.083 - ETA: 4:40 - loss: 4.4572 - acc: 0.075 - ETA: 4:38 - loss: 4.4802 - acc: 0.068 - ETA: 4:37 - loss: 4.4833 - acc: 0.070 - ETA: 4:36 - loss: 4.4903 - acc: 0.065 - ETA: 4:35 - loss: 4.4895 - acc: 0.067 - ETA: 4:34 - loss: 4.5143 - acc: 0.063 - ETA: 4:32 - loss: 4.5052 - acc: 0.062 - ETA: 4:31 - loss: 4.5060 - acc: 0.058 - ETA: 4:30 - loss: 4.5067 - acc: 0.061 - ETA: 4:29 - loss: 4.5007 - acc: 0.060 - ETA: 4:27 - loss: 4.4948 - acc: 0.060 - ETA: 4:26 - loss: 4.4702 - acc: 0.069 - ETA: 4:25 - loss: 4.4953 - acc: 0.065 - ETA: 4:24 - loss: 4.4892 - acc: 0.063 - ETA: 4:23 - loss: 4.4734 - acc: 0.068 - ETA: 4:22 - loss: 4.4682 - acc: 0.070 - ETA: 4:21 - loss: 4.4607 - acc: 0.069 - ETA: 4:20 - loss: 4.4658 - acc: 0.070 - ETA: 4:19 - loss: 4.4625 - acc: 0.067 - ETA: 4:18 - loss: 4.4707 - acc: 0.065 - ETA: 4:17 - loss: 4.4661 - acc: 0.066 - ETA: 4:16 - loss: 4.4655 - acc: 0.066 - ETA: 4:15 - loss: 4.4601 - acc: 0.065 - ETA: 4:15 - loss: 4.4625 - acc: 0.065 - ETA: 4:14 - loss: 4.4569 - acc: 0.067 - ETA: 4:13 - loss: 4.4476 - acc: 0.070 - ETA: 4:12 - loss: 4.4419 - acc: 0.069 - ETA: 4:12 - loss: 4.4311 - acc: 0.070 - ETA: 4:11 - loss: 4.4222 - acc: 0.072 - ETA: 4:10 - loss: 4.4331 - acc: 0.071 - ETA: 4:09 - loss: 4.4290 - acc: 0.073 - ETA: 4:08 - loss: 4.4325 - acc: 0.073 - ETA: 4:07 - loss: 4.4228 - acc: 0.076 - ETA: 4:06 - loss: 4.4136 - acc: 0.075 - ETA: 4:05 - loss: 4.4052 - acc: 0.077 - ETA: 4:04 - loss: 4.4115 - acc: 0.075 - ETA: 4:03 - loss: 4.4120 - acc: 0.075 - ETA: 4:02 - loss: 4.4099 - acc: 0.074 - ETA: 4:01 - loss: 4.4132 - acc: 0.074 - ETA: 4:00 - loss: 4.4160 - acc: 0.072 - ETA: 4:00 - loss: 4.4179 - acc: 0.073 - ETA: 3:59 - loss: 4.4187 - acc: 0.074 - ETA: 3:58 - loss: 4.4209 - acc: 0.073 - ETA: 3:57 - loss: 4.4213 - acc: 0.072 - ETA: 3:56 - loss: 4.4157 - acc: 0.073 - ETA: 3:55 - loss: 4.4194 - acc: 0.071 - ETA: 3:54 - loss: 4.4186 - acc: 0.070 - ETA: 3:53 - loss: 4.4203 - acc: 0.070 - ETA: 3:53 - loss: 4.4201 - acc: 0.069 - ETA: 3:52 - loss: 4.4258 - acc: 0.068 - ETA: 3:51 - loss: 4.4173 - acc: 0.069 - ETA: 3:50 - loss: 4.4178 - acc: 0.070 - ETA: 3:49 - loss: 4.4158 - acc: 0.069 - ETA: 3:48 - loss: 4.4134 - acc: 0.069 - ETA: 3:47 - loss: 4.4138 - acc: 0.068 - ETA: 3:46 - loss: 4.4260 - acc: 0.070 - ETA: 3:46 - loss: 4.4260 - acc: 0.069 - ETA: 3:45 - loss: 4.4261 - acc: 0.069 - ETA: 3:44 - loss: 4.4237 - acc: 0.069 - ETA: 3:43 - loss: 4.4223 - acc: 0.069 - ETA: 3:42 - loss: 4.4133 - acc: 0.070 - ETA: 3:41 - loss: 4.4129 - acc: 0.070 - ETA: 3:40 - loss: 4.4088 - acc: 0.070 - ETA: 3:40 - loss: 4.4063 - acc: 0.070 - ETA: 3:39 - loss: 4.4078 - acc: 0.070 - ETA: 3:38 - loss: 4.4084 - acc: 0.070 - ETA: 3:37 - loss: 4.4096 - acc: 0.069 - ETA: 3:36 - loss: 4.4069 - acc: 0.068 - ETA: 3:35 - loss: 4.4043 - acc: 0.068 - ETA: 3:35 - loss: 4.4026 - acc: 0.069 - ETA: 3:34 - loss: 4.3987 - acc: 0.069 - ETA: 3:33 - loss: 4.4031 - acc: 0.068 - ETA: 3:32 - loss: 4.4051 - acc: 0.070 - ETA: 3:32 - loss: 4.4088 - acc: 0.069 - ETA: 3:31 - loss: 4.4072 - acc: 0.069 - ETA: 3:30 - loss: 4.4043 - acc: 0.069 - ETA: 3:29 - loss: 4.3995 - acc: 0.070 - ETA: 3:29 - loss: 4.3966 - acc: 0.071 - ETA: 3:28 - loss: 4.3930 - acc: 0.070 - ETA: 3:27 - loss: 4.3940 - acc: 0.070 - ETA: 3:26 - loss: 4.3940 - acc: 0.070 - ETA: 3:25 - loss: 4.3948 - acc: 0.070 - ETA: 3:25 - loss: 4.3914 - acc: 0.071 - ETA: 3:24 - loss: 4.3950 - acc: 0.070 - ETA: 3:23 - loss: 4.3942 - acc: 0.070 - ETA: 3:22 - loss: 4.3976 - acc: 0.069 - ETA: 3:21 - loss: 4.3988 - acc: 0.069 - ETA: 3:20 - loss: 4.3984 - acc: 0.068 - ETA: 3:19 - loss: 4.3998 - acc: 0.067 - ETA: 3:19 - loss: 4.3982 - acc: 0.067 - ETA: 3:18 - loss: 4.3977 - acc: 0.066 - ETA: 3:17 - loss: 4.3982 - acc: 0.065 - ETA: 3:16 - loss: 4.3960 - acc: 0.065 - ETA: 3:15 - loss: 4.3970 - acc: 0.065 - ETA: 3:14 - loss: 4.3960 - acc: 0.065 - ETA: 3:13 - loss: 4.3945 - acc: 0.065 - ETA: 3:12 - loss: 4.3909 - acc: 0.065 - ETA: 3:12 - loss: 4.3850 - acc: 0.065 - ETA: 3:11 - loss: 4.3857 - acc: 0.066 - ETA: 3:10 - loss: 4.3871 - acc: 0.066 - ETA: 3:09 - loss: 4.3896 - acc: 0.065 - ETA: 3:08 - loss: 4.3884 - acc: 0.065 - ETA: 3:07 - loss: 4.3854 - acc: 0.065 - ETA: 3:06 - loss: 4.3813 - acc: 0.065 - ETA: 3:06 - loss: 4.3794 - acc: 0.066 - ETA: 3:05 - loss: 4.3774 - acc: 0.067 - ETA: 3:04 - loss: 4.3781 - acc: 0.066 - ETA: 3:03 - loss: 4.3794 - acc: 0.066 - ETA: 3:02 - loss: 4.3803 - acc: 0.066 - ETA: 3:01 - loss: 4.3797 - acc: 0.066 - ETA: 3:00 - loss: 4.3811 - acc: 0.065 - ETA: 3:00 - loss: 4.3818 - acc: 0.065 - ETA: 2:59 - loss: 4.3810 - acc: 0.065 - ETA: 2:58 - loss: 4.3794 - acc: 0.065 - ETA: 2:57 - loss: 4.3766 - acc: 0.066 - ETA: 2:56 - loss: 4.3783 - acc: 0.065 - ETA: 2:55 - loss: 4.3773 - acc: 0.066 - ETA: 2:54 - loss: 4.3759 - acc: 0.066 - ETA: 2:54 - loss: 4.3740 - acc: 0.066 - ETA: 2:53 - loss: 4.3703 - acc: 0.067 - ETA: 2:52 - loss: 4.3680 - acc: 0.066 - ETA: 2:51 - loss: 4.3658 - acc: 0.067 - ETA: 2:50 - loss: 4.3686 - acc: 0.067 - ETA: 2:49 - loss: 4.3717 - acc: 0.066 - ETA: 2:48 - loss: 4.3712 - acc: 0.066 - ETA: 2:48 - loss: 4.3696 - acc: 0.066 - ETA: 2:47 - loss: 4.3679 - acc: 0.066 - ETA: 2:46 - loss: 4.3650 - acc: 0.066 - ETA: 2:45 - loss: 4.3643 - acc: 0.065 - ETA: 2:44 - loss: 4.3628 - acc: 0.065 - ETA: 2:43 - loss: 4.3616 - acc: 0.066 - ETA: 2:42 - loss: 4.3608 - acc: 0.067 - ETA: 2:42 - loss: 4.3621 - acc: 0.066 - ETA: 2:41 - loss: 4.3614 - acc: 0.067 - ETA: 2:40 - loss: 4.3607 - acc: 0.068 - ETA: 2:39 - loss: 4.3620 - acc: 0.067 - ETA: 2:38 - loss: 4.3617 - acc: 0.068 - ETA: 2:37 - loss: 4.3616 - acc: 0.068 - ETA: 2:36 - loss: 4.3608 - acc: 0.068 - ETA: 2:36 - loss: 4.3627 - acc: 0.067 - ETA: 2:35 - loss: 4.3593 - acc: 0.069 - ETA: 2:34 - loss: 4.3620 - acc: 0.068 - ETA: 2:33 - loss: 4.3620 - acc: 0.068 - ETA: 2:32 - loss: 4.3615 - acc: 0.068 - ETA: 2:31 - loss: 4.3614 - acc: 0.068 - ETA: 2:30 - loss: 4.3566 - acc: 0.068 - ETA: 2:30 - loss: 4.3568 - acc: 0.068 - ETA: 2:29 - loss: 4.3613 - acc: 0.067 - ETA: 2:28 - loss: 4.3601 - acc: 0.068 - ETA: 2:27 - loss: 4.3611 - acc: 0.068 - ETA: 2:26 - loss: 4.3612 - acc: 0.067 - ETA: 2:25 - loss: 4.3587 - acc: 0.067 - ETA: 2:25 - loss: 4.3595 - acc: 0.067 - ETA: 2:24 - loss: 4.3581 - acc: 0.067 - ETA: 2:23 - loss: 4.3596 - acc: 0.067 - ETA: 2:22 - loss: 4.3586 - acc: 0.067 - ETA: 2:21 - loss: 4.3578 - acc: 0.067 - ETA: 2:20 - loss: 4.3555 - acc: 0.067 - ETA: 2:19 - loss: 4.3585 - acc: 0.067 - ETA: 2:19 - loss: 4.3577 - acc: 0.067 - ETA: 2:18 - loss: 4.3597 - acc: 0.067 - ETA: 2:17 - loss: 4.3584 - acc: 0.067 - ETA: 2:16 - loss: 4.3556 - acc: 0.067 - ETA: 2:15 - loss: 4.3576 - acc: 0.067 - ETA: 2:14 - loss: 4.3562 - acc: 0.067 - ETA: 2:13 - loss: 4.3560 - acc: 0.067 - ETA: 2:13 - loss: 4.3543 - acc: 0.067 - ETA: 2:12 - loss: 4.3537 - acc: 0.068 - ETA: 2:11 - loss: 4.3540 - acc: 0.067 - ETA: 2:10 - loss: 4.3528 - acc: 0.067 - ETA: 2:09 - loss: 4.3525 - acc: 0.067 - ETA: 2:09 - loss: 4.3516 - acc: 0.067 - ETA: 2:08 - loss: 4.3502 - acc: 0.067 - ETA: 2:07 - loss: 4.3469 - acc: 0.067 - ETA: 2:06 - loss: 4.3469 - acc: 0.067 - ETA: 2:05 - loss: 4.3471 - acc: 0.068 - ETA: 2:04 - loss: 4.3479 - acc: 0.067 - ETA: 2:04 - loss: 4.3465 - acc: 0.067 - ETA: 2:03 - loss: 4.3458 - acc: 0.067 - ETA: 2:02 - loss: 4.3421 - acc: 0.068 - ETA: 2:01 - loss: 4.3429 - acc: 0.068 - ETA: 2:00 - loss: 4.3436 - acc: 0.068 - ETA: 1:59 - loss: 4.3453 - acc: 0.068 - ETA: 1:59 - loss: 4.3444 - acc: 0.068 - ETA: 1:58 - loss: 4.3435 - acc: 0.068 - ETA: 1:57 - loss: 4.3401 - acc: 0.068 - ETA: 1:56 - loss: 4.3404 - acc: 0.069 - ETA: 1:55 - loss: 4.3400 - acc: 0.069 - ETA: 1:54 - loss: 4.3375 - acc: 0.068 - ETA: 1:53 - loss: 4.3372 - acc: 0.068 - ETA: 1:53 - loss: 4.3375 - acc: 0.068 - ETA: 1:52 - loss: 4.3369 - acc: 0.068 - ETA: 1:51 - loss: 4.3344 - acc: 0.068 - ETA: 1:50 - loss: 4.3334 - acc: 0.068 - ETA: 1:49 - loss: 4.3316 - acc: 0.0686"
     ]
    },
    {
     "name": "stdout",
     "output_type": "stream",
     "text": [
      "6680/6680 [==============================] - ETA: 1:48 - loss: 4.3298 - acc: 0.069 - ETA: 1:48 - loss: 4.3288 - acc: 0.068 - ETA: 1:47 - loss: 4.3268 - acc: 0.068 - ETA: 1:46 - loss: 4.3268 - acc: 0.068 - ETA: 1:45 - loss: 4.3259 - acc: 0.068 - ETA: 1:44 - loss: 4.3256 - acc: 0.068 - ETA: 1:43 - loss: 4.3251 - acc: 0.068 - ETA: 1:42 - loss: 4.3245 - acc: 0.068 - ETA: 1:42 - loss: 4.3248 - acc: 0.068 - ETA: 1:41 - loss: 4.3245 - acc: 0.068 - ETA: 1:40 - loss: 4.3249 - acc: 0.068 - ETA: 1:39 - loss: 4.3262 - acc: 0.068 - ETA: 1:38 - loss: 4.3251 - acc: 0.069 - ETA: 1:37 - loss: 4.3271 - acc: 0.069 - ETA: 1:37 - loss: 4.3269 - acc: 0.069 - ETA: 1:36 - loss: 4.3268 - acc: 0.069 - ETA: 1:35 - loss: 4.3254 - acc: 0.069 - ETA: 1:34 - loss: 4.3258 - acc: 0.068 - ETA: 1:33 - loss: 4.3264 - acc: 0.068 - ETA: 1:32 - loss: 4.3251 - acc: 0.068 - ETA: 1:31 - loss: 4.3249 - acc: 0.068 - ETA: 1:31 - loss: 4.3250 - acc: 0.068 - ETA: 1:30 - loss: 4.3252 - acc: 0.068 - ETA: 1:29 - loss: 4.3236 - acc: 0.069 - ETA: 1:28 - loss: 4.3227 - acc: 0.069 - ETA: 1:27 - loss: 4.3228 - acc: 0.069 - ETA: 1:26 - loss: 4.3230 - acc: 0.069 - ETA: 1:26 - loss: 4.3220 - acc: 0.069 - ETA: 1:25 - loss: 4.3196 - acc: 0.070 - ETA: 1:24 - loss: 4.3219 - acc: 0.070 - ETA: 1:23 - loss: 4.3229 - acc: 0.070 - ETA: 1:22 - loss: 4.3238 - acc: 0.070 - ETA: 1:21 - loss: 4.3232 - acc: 0.070 - ETA: 1:20 - loss: 4.3234 - acc: 0.069 - ETA: 1:20 - loss: 4.3223 - acc: 0.069 - ETA: 1:19 - loss: 4.3211 - acc: 0.069 - ETA: 1:18 - loss: 4.3214 - acc: 0.069 - ETA: 1:17 - loss: 4.3197 - acc: 0.069 - ETA: 1:16 - loss: 4.3191 - acc: 0.069 - ETA: 1:15 - loss: 4.3187 - acc: 0.069 - ETA: 1:15 - loss: 4.3181 - acc: 0.069 - ETA: 1:14 - loss: 4.3188 - acc: 0.069 - ETA: 1:13 - loss: 4.3182 - acc: 0.069 - ETA: 1:12 - loss: 4.3172 - acc: 0.069 - ETA: 1:11 - loss: 4.3173 - acc: 0.069 - ETA: 1:10 - loss: 4.3166 - acc: 0.070 - ETA: 1:09 - loss: 4.3160 - acc: 0.069 - ETA: 1:09 - loss: 4.3156 - acc: 0.069 - ETA: 1:08 - loss: 4.3151 - acc: 0.069 - ETA: 1:07 - loss: 4.3150 - acc: 0.069 - ETA: 1:06 - loss: 4.3150 - acc: 0.069 - ETA: 1:05 - loss: 4.3155 - acc: 0.068 - ETA: 1:04 - loss: 4.3153 - acc: 0.069 - ETA: 1:04 - loss: 4.3147 - acc: 0.068 - ETA: 1:03 - loss: 4.3128 - acc: 0.069 - ETA: 1:02 - loss: 4.3130 - acc: 0.068 - ETA: 1:01 - loss: 4.3107 - acc: 0.069 - ETA: 1:00 - loss: 4.3120 - acc: 0.068 - ETA: 59s - loss: 4.3120 - acc: 0.068 - ETA: 58s - loss: 4.3103 - acc: 0.06 - ETA: 58s - loss: 4.3082 - acc: 0.06 - ETA: 57s - loss: 4.3085 - acc: 0.06 - ETA: 56s - loss: 4.3090 - acc: 0.06 - ETA: 55s - loss: 4.3091 - acc: 0.06 - ETA: 54s - loss: 4.3077 - acc: 0.06 - ETA: 53s - loss: 4.3069 - acc: 0.06 - ETA: 53s - loss: 4.3059 - acc: 0.06 - ETA: 52s - loss: 4.3042 - acc: 0.06 - ETA: 51s - loss: 4.3049 - acc: 0.06 - ETA: 50s - loss: 4.3032 - acc: 0.07 - ETA: 49s - loss: 4.3028 - acc: 0.06 - ETA: 48s - loss: 4.3016 - acc: 0.06 - ETA: 47s - loss: 4.3003 - acc: 0.06 - ETA: 47s - loss: 4.2990 - acc: 0.06 - ETA: 46s - loss: 4.2979 - acc: 0.06 - ETA: 45s - loss: 4.2979 - acc: 0.07 - ETA: 44s - loss: 4.2991 - acc: 0.06 - ETA: 43s - loss: 4.2993 - acc: 0.06 - ETA: 42s - loss: 4.3011 - acc: 0.06 - ETA: 42s - loss: 4.2994 - acc: 0.06 - ETA: 41s - loss: 4.3004 - acc: 0.06 - ETA: 40s - loss: 4.3003 - acc: 0.06 - ETA: 39s - loss: 4.2994 - acc: 0.07 - ETA: 38s - loss: 4.2982 - acc: 0.07 - ETA: 37s - loss: 4.2992 - acc: 0.07 - ETA: 37s - loss: 4.2987 - acc: 0.07 - ETA: 36s - loss: 4.2973 - acc: 0.07 - ETA: 35s - loss: 4.2975 - acc: 0.07 - ETA: 34s - loss: 4.2981 - acc: 0.07 - ETA: 33s - loss: 4.2972 - acc: 0.07 - ETA: 32s - loss: 4.2953 - acc: 0.07 - ETA: 31s - loss: 4.2951 - acc: 0.07 - ETA: 31s - loss: 4.2942 - acc: 0.07 - ETA: 30s - loss: 4.2943 - acc: 0.07 - ETA: 29s - loss: 4.2931 - acc: 0.07 - ETA: 28s - loss: 4.2928 - acc: 0.07 - ETA: 27s - loss: 4.2928 - acc: 0.07 - ETA: 26s - loss: 4.2926 - acc: 0.07 - ETA: 26s - loss: 4.2939 - acc: 0.07 - ETA: 25s - loss: 4.2917 - acc: 0.07 - ETA: 24s - loss: 4.2914 - acc: 0.07 - ETA: 23s - loss: 4.2931 - acc: 0.07 - ETA: 22s - loss: 4.2929 - acc: 0.07 - ETA: 21s - loss: 4.2919 - acc: 0.07 - ETA: 21s - loss: 4.2905 - acc: 0.07 - ETA: 20s - loss: 4.2890 - acc: 0.07 - ETA: 19s - loss: 4.2887 - acc: 0.07 - ETA: 18s - loss: 4.2872 - acc: 0.07 - ETA: 17s - loss: 4.2865 - acc: 0.07 - ETA: 16s - loss: 4.2857 - acc: 0.07 - ETA: 15s - loss: 4.2858 - acc: 0.07 - ETA: 15s - loss: 4.2862 - acc: 0.07 - ETA: 14s - loss: 4.2859 - acc: 0.07 - ETA: 13s - loss: 4.2849 - acc: 0.07 - ETA: 12s - loss: 4.2849 - acc: 0.07 - ETA: 11s - loss: 4.2842 - acc: 0.07 - ETA: 10s - loss: 4.2817 - acc: 0.07 - ETA: 10s - loss: 4.2820 - acc: 0.07 - ETA: 9s - loss: 4.2809 - acc: 0.0709 - ETA: 8s - loss: 4.2816 - acc: 0.070 - ETA: 7s - loss: 4.2815 - acc: 0.070 - ETA: 6s - loss: 4.2815 - acc: 0.070 - ETA: 5s - loss: 4.2806 - acc: 0.070 - ETA: 5s - loss: 4.2783 - acc: 0.071 - ETA: 4s - loss: 4.2777 - acc: 0.071 - ETA: 3s - loss: 4.2767 - acc: 0.071 - ETA: 2s - loss: 4.2755 - acc: 0.072 - ETA: 1s - loss: 4.2766 - acc: 0.072 - ETA: 0s - loss: 4.2756 - acc: 0.072 - 290s 43ms/step - loss: 4.2737 - acc: 0.0723 - val_loss: 4.2096 - val_acc: 0.0719\n",
      "\n",
      "Epoch 00002: val_loss improved from 4.59629 to 4.20959, saving model to saved_models/weights.best.from_scratch.hdf5\n",
      "Epoch 3/5\n"
     ]
    },
    {
     "name": "stdout",
     "output_type": "stream",
     "text": [
      "4080/6680 [=================>............] - ETA: 4:59 - loss: 4.0232 - acc: 0.150 - ETA: 4:45 - loss: 3.6539 - acc: 0.150 - ETA: 4:42 - loss: 3.5849 - acc: 0.166 - ETA: 4:39 - loss: 3.5977 - acc: 0.187 - ETA: 4:37 - loss: 3.5796 - acc: 0.220 - ETA: 4:36 - loss: 3.5340 - acc: 0.233 - ETA: 4:34 - loss: 3.5527 - acc: 0.214 - ETA: 4:34 - loss: 3.5116 - acc: 0.212 - ETA: 4:33 - loss: 3.5304 - acc: 0.200 - ETA: 4:31 - loss: 3.5328 - acc: 0.195 - ETA: 4:30 - loss: 3.4277 - acc: 0.218 - ETA: 4:30 - loss: 3.4458 - acc: 0.216 - ETA: 4:29 - loss: 3.4725 - acc: 0.215 - ETA: 4:29 - loss: 3.4985 - acc: 0.203 - ETA: 4:28 - loss: 3.4703 - acc: 0.210 - ETA: 4:27 - loss: 3.4284 - acc: 0.218 - ETA: 4:26 - loss: 3.4307 - acc: 0.211 - ETA: 4:25 - loss: 3.4665 - acc: 0.211 - ETA: 4:24 - loss: 3.4473 - acc: 0.207 - ETA: 4:23 - loss: 3.4299 - acc: 0.210 - ETA: 4:22 - loss: 3.4225 - acc: 0.211 - ETA: 4:21 - loss: 3.4350 - acc: 0.209 - ETA: 4:20 - loss: 3.4106 - acc: 0.215 - ETA: 4:19 - loss: 3.4411 - acc: 0.210 - ETA: 4:18 - loss: 3.4841 - acc: 0.204 - ETA: 4:17 - loss: 3.4554 - acc: 0.211 - ETA: 4:16 - loss: 3.4507 - acc: 0.211 - ETA: 4:15 - loss: 3.4419 - acc: 0.210 - ETA: 4:15 - loss: 3.4392 - acc: 0.208 - ETA: 4:14 - loss: 3.4482 - acc: 0.205 - ETA: 4:13 - loss: 3.4462 - acc: 0.201 - ETA: 4:12 - loss: 3.4239 - acc: 0.210 - ETA: 4:11 - loss: 3.4179 - acc: 0.212 - ETA: 4:10 - loss: 3.4193 - acc: 0.213 - ETA: 4:10 - loss: 3.4147 - acc: 0.212 - ETA: 4:09 - loss: 3.3991 - acc: 0.216 - ETA: 4:08 - loss: 3.4035 - acc: 0.214 - ETA: 4:07 - loss: 3.4107 - acc: 0.214 - ETA: 4:06 - loss: 3.3979 - acc: 0.215 - ETA: 4:05 - loss: 3.3865 - acc: 0.221 - ETA: 4:04 - loss: 3.3967 - acc: 0.218 - ETA: 4:04 - loss: 3.4071 - acc: 0.216 - ETA: 4:03 - loss: 3.4117 - acc: 0.215 - ETA: 4:02 - loss: 3.4182 - acc: 0.212 - ETA: 4:01 - loss: 3.4239 - acc: 0.211 - ETA: 4:00 - loss: 3.4242 - acc: 0.209 - ETA: 3:59 - loss: 3.4254 - acc: 0.208 - ETA: 3:58 - loss: 3.4198 - acc: 0.209 - ETA: 3:58 - loss: 3.4096 - acc: 0.211 - ETA: 3:57 - loss: 3.4104 - acc: 0.209 - ETA: 3:56 - loss: 3.3980 - acc: 0.210 - ETA: 3:55 - loss: 3.4038 - acc: 0.210 - ETA: 3:54 - loss: 3.3954 - acc: 0.214 - ETA: 3:53 - loss: 3.4028 - acc: 0.213 - ETA: 3:53 - loss: 3.3932 - acc: 0.215 - ETA: 3:52 - loss: 3.3941 - acc: 0.215 - ETA: 3:51 - loss: 3.3935 - acc: 0.215 - ETA: 3:50 - loss: 3.3833 - acc: 0.216 - ETA: 3:49 - loss: 3.3794 - acc: 0.216 - ETA: 3:48 - loss: 3.3747 - acc: 0.217 - ETA: 3:48 - loss: 3.3813 - acc: 0.216 - ETA: 3:47 - loss: 3.3898 - acc: 0.215 - ETA: 3:46 - loss: 3.3902 - acc: 0.215 - ETA: 3:45 - loss: 3.3877 - acc: 0.214 - ETA: 3:44 - loss: 3.3811 - acc: 0.216 - ETA: 3:43 - loss: 3.3766 - acc: 0.218 - ETA: 3:43 - loss: 3.3737 - acc: 0.218 - ETA: 3:42 - loss: 3.3641 - acc: 0.219 - ETA: 3:41 - loss: 3.3622 - acc: 0.220 - ETA: 3:40 - loss: 3.3659 - acc: 0.220 - ETA: 3:39 - loss: 3.3646 - acc: 0.221 - ETA: 3:38 - loss: 3.3635 - acc: 0.222 - ETA: 3:38 - loss: 3.3630 - acc: 0.222 - ETA: 3:37 - loss: 3.3656 - acc: 0.224 - ETA: 3:36 - loss: 3.3598 - acc: 0.226 - ETA: 3:35 - loss: 3.3530 - acc: 0.229 - ETA: 3:34 - loss: 3.3518 - acc: 0.229 - ETA: 3:33 - loss: 3.3465 - acc: 0.229 - ETA: 3:33 - loss: 3.3448 - acc: 0.229 - ETA: 3:32 - loss: 3.3475 - acc: 0.228 - ETA: 3:31 - loss: 3.3471 - acc: 0.227 - ETA: 3:30 - loss: 3.3509 - acc: 0.226 - ETA: 3:29 - loss: 3.3569 - acc: 0.226 - ETA: 3:28 - loss: 3.3580 - acc: 0.226 - ETA: 3:28 - loss: 3.3566 - acc: 0.224 - ETA: 3:27 - loss: 3.3541 - acc: 0.225 - ETA: 3:26 - loss: 3.3500 - acc: 0.224 - ETA: 3:25 - loss: 3.3459 - acc: 0.225 - ETA: 3:24 - loss: 3.3441 - acc: 0.226 - ETA: 3:23 - loss: 3.3400 - acc: 0.226 - ETA: 3:22 - loss: 3.3354 - acc: 0.226 - ETA: 3:22 - loss: 3.3326 - acc: 0.226 - ETA: 3:21 - loss: 3.3266 - acc: 0.226 - ETA: 3:20 - loss: 3.3275 - acc: 0.225 - ETA: 3:19 - loss: 3.3221 - acc: 0.227 - ETA: 3:18 - loss: 3.3206 - acc: 0.229 - ETA: 3:18 - loss: 3.3203 - acc: 0.228 - ETA: 3:17 - loss: 3.3172 - acc: 0.229 - ETA: 3:16 - loss: 3.3196 - acc: 0.229 - ETA: 3:15 - loss: 3.3227 - acc: 0.230 - ETA: 3:14 - loss: 3.3239 - acc: 0.229 - ETA: 3:13 - loss: 3.3233 - acc: 0.229 - ETA: 3:13 - loss: 3.3237 - acc: 0.229 - ETA: 3:12 - loss: 3.3201 - acc: 0.230 - ETA: 3:11 - loss: 3.3226 - acc: 0.230 - ETA: 3:10 - loss: 3.3224 - acc: 0.230 - ETA: 3:09 - loss: 3.3204 - acc: 0.230 - ETA: 3:08 - loss: 3.3221 - acc: 0.230 - ETA: 3:08 - loss: 3.3204 - acc: 0.232 - ETA: 3:07 - loss: 3.3189 - acc: 0.232 - ETA: 3:06 - loss: 3.3203 - acc: 0.231 - ETA: 3:05 - loss: 3.3240 - acc: 0.229 - ETA: 3:04 - loss: 3.3265 - acc: 0.229 - ETA: 3:03 - loss: 3.3265 - acc: 0.229 - ETA: 3:03 - loss: 3.3251 - acc: 0.230 - ETA: 3:02 - loss: 3.3245 - acc: 0.231 - ETA: 3:01 - loss: 3.3253 - acc: 0.229 - ETA: 3:00 - loss: 3.3219 - acc: 0.229 - ETA: 2:59 - loss: 3.3181 - acc: 0.229 - ETA: 2:58 - loss: 3.3236 - acc: 0.229 - ETA: 2:58 - loss: 3.3235 - acc: 0.229 - ETA: 2:57 - loss: 3.3199 - acc: 0.229 - ETA: 2:56 - loss: 3.3205 - acc: 0.228 - ETA: 2:55 - loss: 3.3161 - acc: 0.230 - ETA: 2:54 - loss: 3.3195 - acc: 0.229 - ETA: 2:53 - loss: 3.3177 - acc: 0.229 - ETA: 2:53 - loss: 3.3181 - acc: 0.230 - ETA: 2:52 - loss: 3.3158 - acc: 0.230 - ETA: 2:51 - loss: 3.3176 - acc: 0.229 - ETA: 2:50 - loss: 3.3181 - acc: 0.228 - ETA: 2:49 - loss: 3.3161 - acc: 0.228 - ETA: 2:48 - loss: 3.3167 - acc: 0.228 - ETA: 2:48 - loss: 3.3172 - acc: 0.228 - ETA: 2:47 - loss: 3.3144 - acc: 0.228 - ETA: 2:46 - loss: 3.3166 - acc: 0.228 - ETA: 2:45 - loss: 3.3130 - acc: 0.228 - ETA: 2:44 - loss: 3.3129 - acc: 0.228 - ETA: 2:43 - loss: 3.3172 - acc: 0.228 - ETA: 2:43 - loss: 3.3170 - acc: 0.229 - ETA: 2:42 - loss: 3.3161 - acc: 0.229 - ETA: 2:41 - loss: 3.3130 - acc: 0.229 - ETA: 2:40 - loss: 3.3099 - acc: 0.229 - ETA: 2:39 - loss: 3.3088 - acc: 0.230 - ETA: 2:38 - loss: 3.3065 - acc: 0.231 - ETA: 2:37 - loss: 3.3062 - acc: 0.231 - ETA: 2:37 - loss: 3.3089 - acc: 0.231 - ETA: 2:36 - loss: 3.3122 - acc: 0.231 - ETA: 2:35 - loss: 3.3147 - acc: 0.230 - ETA: 2:34 - loss: 3.3134 - acc: 0.230 - ETA: 2:33 - loss: 3.3145 - acc: 0.230 - ETA: 2:32 - loss: 3.3165 - acc: 0.230 - ETA: 2:32 - loss: 3.3187 - acc: 0.229 - ETA: 2:31 - loss: 3.3152 - acc: 0.230 - ETA: 2:30 - loss: 3.3131 - acc: 0.231 - ETA: 2:29 - loss: 3.3143 - acc: 0.231 - ETA: 2:28 - loss: 3.3139 - acc: 0.231 - ETA: 2:27 - loss: 3.3104 - acc: 0.231 - ETA: 2:27 - loss: 3.3111 - acc: 0.231 - ETA: 2:26 - loss: 3.3109 - acc: 0.231 - ETA: 2:25 - loss: 3.3162 - acc: 0.230 - ETA: 2:24 - loss: 3.3165 - acc: 0.230 - ETA: 2:23 - loss: 3.3200 - acc: 0.229 - ETA: 2:22 - loss: 3.3212 - acc: 0.230 - ETA: 2:22 - loss: 3.3210 - acc: 0.229 - ETA: 2:21 - loss: 3.3170 - acc: 0.230 - ETA: 2:20 - loss: 3.3187 - acc: 0.230 - ETA: 2:19 - loss: 3.3168 - acc: 0.231 - ETA: 2:18 - loss: 3.3162 - acc: 0.231 - ETA: 2:17 - loss: 3.3163 - acc: 0.231 - ETA: 2:17 - loss: 3.3159 - acc: 0.231 - ETA: 2:16 - loss: 3.3122 - acc: 0.232 - ETA: 2:15 - loss: 3.3103 - acc: 0.232 - ETA: 2:14 - loss: 3.3093 - acc: 0.232 - ETA: 2:13 - loss: 3.3089 - acc: 0.232 - ETA: 2:12 - loss: 3.3093 - acc: 0.232 - ETA: 2:12 - loss: 3.3079 - acc: 0.233 - ETA: 2:11 - loss: 3.3088 - acc: 0.232 - ETA: 2:10 - loss: 3.3052 - acc: 0.233 - ETA: 2:09 - loss: 3.3069 - acc: 0.233 - ETA: 2:08 - loss: 3.3042 - acc: 0.233 - ETA: 2:07 - loss: 3.3036 - acc: 0.234 - ETA: 2:07 - loss: 3.3044 - acc: 0.234 - ETA: 2:06 - loss: 3.3051 - acc: 0.233 - ETA: 2:05 - loss: 3.3039 - acc: 0.233 - ETA: 2:04 - loss: 3.3043 - acc: 0.232 - ETA: 2:03 - loss: 3.3047 - acc: 0.233 - ETA: 2:02 - loss: 3.3082 - acc: 0.232 - ETA: 2:02 - loss: 3.3066 - acc: 0.232 - ETA: 2:01 - loss: 3.3057 - acc: 0.233 - ETA: 2:00 - loss: 3.3116 - acc: 0.233 - ETA: 1:59 - loss: 3.3126 - acc: 0.234 - ETA: 1:58 - loss: 3.3131 - acc: 0.233 - ETA: 1:57 - loss: 3.3131 - acc: 0.233 - ETA: 1:57 - loss: 3.3116 - acc: 0.234 - ETA: 1:56 - loss: 3.3130 - acc: 0.233 - ETA: 1:55 - loss: 3.3140 - acc: 0.233 - ETA: 1:54 - loss: 3.3138 - acc: 0.233 - ETA: 1:53 - loss: 3.3114 - acc: 0.234 - ETA: 1:52 - loss: 3.3079 - acc: 0.234 - ETA: 1:51 - loss: 3.3097 - acc: 0.234 - ETA: 1:51 - loss: 3.3102 - acc: 0.234 - ETA: 1:50 - loss: 3.3098 - acc: 0.234 - ETA: 1:49 - loss: 3.3092 - acc: 0.235 - ETA: 1:48 - loss: 3.3078 - acc: 0.2350"
     ]
    },
    {
     "name": "stdout",
     "output_type": "stream",
     "text": [
      "6680/6680 [==============================] - ETA: 1:47 - loss: 3.3069 - acc: 0.235 - ETA: 1:46 - loss: 3.3088 - acc: 0.235 - ETA: 1:46 - loss: 3.3084 - acc: 0.235 - ETA: 1:45 - loss: 3.3095 - acc: 0.235 - ETA: 1:44 - loss: 3.3066 - acc: 0.235 - ETA: 1:43 - loss: 3.3037 - acc: 0.235 - ETA: 1:42 - loss: 3.3028 - acc: 0.235 - ETA: 1:41 - loss: 3.3014 - acc: 0.235 - ETA: 1:41 - loss: 3.2969 - acc: 0.237 - ETA: 1:40 - loss: 3.2968 - acc: 0.237 - ETA: 1:39 - loss: 3.2988 - acc: 0.236 - ETA: 1:38 - loss: 3.2979 - acc: 0.236 - ETA: 1:37 - loss: 3.2995 - acc: 0.236 - ETA: 1:36 - loss: 3.3008 - acc: 0.237 - ETA: 1:36 - loss: 3.2998 - acc: 0.237 - ETA: 1:35 - loss: 3.3000 - acc: 0.237 - ETA: 1:34 - loss: 3.2979 - acc: 0.238 - ETA: 1:33 - loss: 3.3011 - acc: 0.238 - ETA: 1:32 - loss: 3.3001 - acc: 0.238 - ETA: 1:31 - loss: 3.2989 - acc: 0.238 - ETA: 1:31 - loss: 3.2970 - acc: 0.238 - ETA: 1:30 - loss: 3.2993 - acc: 0.237 - ETA: 1:29 - loss: 3.2967 - acc: 0.238 - ETA: 1:28 - loss: 3.2970 - acc: 0.239 - ETA: 1:27 - loss: 3.2960 - acc: 0.239 - ETA: 1:26 - loss: 3.2983 - acc: 0.238 - ETA: 1:26 - loss: 3.2968 - acc: 0.239 - ETA: 1:25 - loss: 3.2964 - acc: 0.238 - ETA: 1:24 - loss: 3.2985 - acc: 0.238 - ETA: 1:23 - loss: 3.2977 - acc: 0.238 - ETA: 1:22 - loss: 3.2984 - acc: 0.239 - ETA: 1:21 - loss: 3.2982 - acc: 0.239 - ETA: 1:21 - loss: 3.2975 - acc: 0.239 - ETA: 1:20 - loss: 3.2989 - acc: 0.239 - ETA: 1:19 - loss: 3.2981 - acc: 0.239 - ETA: 1:18 - loss: 3.3031 - acc: 0.239 - ETA: 1:17 - loss: 3.3016 - acc: 0.239 - ETA: 1:16 - loss: 3.3028 - acc: 0.239 - ETA: 1:16 - loss: 3.3029 - acc: 0.239 - ETA: 1:15 - loss: 3.3025 - acc: 0.239 - ETA: 1:14 - loss: 3.3003 - acc: 0.239 - ETA: 1:13 - loss: 3.3013 - acc: 0.239 - ETA: 1:12 - loss: 3.3004 - acc: 0.239 - ETA: 1:11 - loss: 3.3010 - acc: 0.239 - ETA: 1:11 - loss: 3.3012 - acc: 0.239 - ETA: 1:10 - loss: 3.3028 - acc: 0.239 - ETA: 1:09 - loss: 3.3003 - acc: 0.239 - ETA: 1:08 - loss: 3.3003 - acc: 0.239 - ETA: 1:07 - loss: 3.3017 - acc: 0.238 - ETA: 1:06 - loss: 3.3007 - acc: 0.239 - ETA: 1:05 - loss: 3.3001 - acc: 0.239 - ETA: 1:05 - loss: 3.3005 - acc: 0.239 - ETA: 1:04 - loss: 3.2979 - acc: 0.240 - ETA: 1:03 - loss: 3.2985 - acc: 0.239 - ETA: 1:02 - loss: 3.2982 - acc: 0.239 - ETA: 1:01 - loss: 3.2964 - acc: 0.239 - ETA: 1:00 - loss: 3.2947 - acc: 0.239 - ETA: 1:00 - loss: 3.2958 - acc: 0.239 - ETA: 59s - loss: 3.2960 - acc: 0.239 - ETA: 58s - loss: 3.2976 - acc: 0.23 - ETA: 57s - loss: 3.2980 - acc: 0.23 - ETA: 56s - loss: 3.2990 - acc: 0.23 - ETA: 55s - loss: 3.3014 - acc: 0.23 - ETA: 55s - loss: 3.3008 - acc: 0.23 - ETA: 54s - loss: 3.3013 - acc: 0.23 - ETA: 53s - loss: 3.3000 - acc: 0.23 - ETA: 52s - loss: 3.3007 - acc: 0.23 - ETA: 51s - loss: 3.3020 - acc: 0.23 - ETA: 50s - loss: 3.3030 - acc: 0.23 - ETA: 50s - loss: 3.3010 - acc: 0.23 - ETA: 49s - loss: 3.2990 - acc: 0.24 - ETA: 48s - loss: 3.2985 - acc: 0.24 - ETA: 47s - loss: 3.3008 - acc: 0.23 - ETA: 46s - loss: 3.2987 - acc: 0.23 - ETA: 45s - loss: 3.2991 - acc: 0.23 - ETA: 45s - loss: 3.3002 - acc: 0.23 - ETA: 44s - loss: 3.3002 - acc: 0.23 - ETA: 43s - loss: 3.2986 - acc: 0.23 - ETA: 42s - loss: 3.2976 - acc: 0.23 - ETA: 41s - loss: 3.2991 - acc: 0.23 - ETA: 40s - loss: 3.3012 - acc: 0.23 - ETA: 40s - loss: 3.2990 - acc: 0.23 - ETA: 39s - loss: 3.2989 - acc: 0.23 - ETA: 38s - loss: 3.3003 - acc: 0.23 - ETA: 37s - loss: 3.3009 - acc: 0.23 - ETA: 36s - loss: 3.3000 - acc: 0.23 - ETA: 35s - loss: 3.3035 - acc: 0.23 - ETA: 35s - loss: 3.3030 - acc: 0.23 - ETA: 34s - loss: 3.3027 - acc: 0.23 - ETA: 33s - loss: 3.3029 - acc: 0.23 - ETA: 32s - loss: 3.3022 - acc: 0.23 - ETA: 31s - loss: 3.3012 - acc: 0.23 - ETA: 30s - loss: 3.3005 - acc: 0.23 - ETA: 30s - loss: 3.2979 - acc: 0.23 - ETA: 29s - loss: 3.2977 - acc: 0.23 - ETA: 28s - loss: 3.2981 - acc: 0.23 - ETA: 27s - loss: 3.2995 - acc: 0.23 - ETA: 26s - loss: 3.2998 - acc: 0.23 - ETA: 25s - loss: 3.3002 - acc: 0.23 - ETA: 25s - loss: 3.2988 - acc: 0.23 - ETA: 24s - loss: 3.2984 - acc: 0.23 - ETA: 23s - loss: 3.2985 - acc: 0.23 - ETA: 22s - loss: 3.2967 - acc: 0.23 - ETA: 21s - loss: 3.2956 - acc: 0.23 - ETA: 20s - loss: 3.2960 - acc: 0.23 - ETA: 20s - loss: 3.2949 - acc: 0.23 - ETA: 19s - loss: 3.2974 - acc: 0.23 - ETA: 18s - loss: 3.2965 - acc: 0.23 - ETA: 17s - loss: 3.2969 - acc: 0.23 - ETA: 16s - loss: 3.2978 - acc: 0.23 - ETA: 15s - loss: 3.2997 - acc: 0.23 - ETA: 15s - loss: 3.2992 - acc: 0.23 - ETA: 14s - loss: 3.2990 - acc: 0.23 - ETA: 13s - loss: 3.2992 - acc: 0.23 - ETA: 12s - loss: 3.2998 - acc: 0.23 - ETA: 11s - loss: 3.2987 - acc: 0.23 - ETA: 10s - loss: 3.2983 - acc: 0.23 - ETA: 10s - loss: 3.2991 - acc: 0.23 - ETA: 9s - loss: 3.2996 - acc: 0.2375 - ETA: 8s - loss: 3.2984 - acc: 0.237 - ETA: 7s - loss: 3.2985 - acc: 0.237 - ETA: 6s - loss: 3.2971 - acc: 0.237 - ETA: 5s - loss: 3.2969 - acc: 0.237 - ETA: 5s - loss: 3.2953 - acc: 0.237 - ETA: 4s - loss: 3.2962 - acc: 0.237 - ETA: 3s - loss: 3.2966 - acc: 0.237 - ETA: 2s - loss: 3.2956 - acc: 0.237 - ETA: 1s - loss: 3.2954 - acc: 0.237 - ETA: 0s - loss: 3.2943 - acc: 0.237 - 289s 43ms/step - loss: 3.2950 - acc: 0.2374 - val_loss: 4.3692 - val_acc: 0.0802\n",
      "\n",
      "Epoch 00003: val_loss did not improve from 4.20959\n",
      "Epoch 4/5\n"
     ]
    },
    {
     "name": "stdout",
     "output_type": "stream",
     "text": [
      "4080/6680 [=================>............] - ETA: 4:54 - loss: 2.3708 - acc: 0.500 - ETA: 4:46 - loss: 2.0885 - acc: 0.500 - ETA: 4:41 - loss: 2.0400 - acc: 0.533 - ETA: 4:39 - loss: 2.0004 - acc: 0.537 - ETA: 4:37 - loss: 1.9568 - acc: 0.540 - ETA: 4:36 - loss: 1.8923 - acc: 0.541 - ETA: 4:36 - loss: 1.9277 - acc: 0.535 - ETA: 4:35 - loss: 1.8945 - acc: 0.531 - ETA: 4:34 - loss: 1.8390 - acc: 0.533 - ETA: 4:32 - loss: 1.8848 - acc: 0.515 - ETA: 4:31 - loss: 1.8522 - acc: 0.531 - ETA: 4:30 - loss: 1.8345 - acc: 0.537 - ETA: 4:29 - loss: 1.8132 - acc: 0.542 - ETA: 4:28 - loss: 1.7922 - acc: 0.550 - ETA: 4:27 - loss: 1.7869 - acc: 0.553 - ETA: 4:26 - loss: 1.7698 - acc: 0.556 - ETA: 4:25 - loss: 1.7609 - acc: 0.555 - ETA: 4:25 - loss: 1.7464 - acc: 0.561 - ETA: 4:24 - loss: 1.7714 - acc: 0.555 - ETA: 4:23 - loss: 1.7986 - acc: 0.547 - ETA: 4:22 - loss: 1.7948 - acc: 0.550 - ETA: 4:21 - loss: 1.7774 - acc: 0.559 - ETA: 4:20 - loss: 1.7474 - acc: 0.563 - ETA: 4:20 - loss: 1.7261 - acc: 0.572 - ETA: 4:19 - loss: 1.7181 - acc: 0.578 - ETA: 4:18 - loss: 1.7262 - acc: 0.576 - ETA: 4:17 - loss: 1.7367 - acc: 0.574 - ETA: 4:16 - loss: 1.7515 - acc: 0.569 - ETA: 4:15 - loss: 1.7736 - acc: 0.565 - ETA: 4:15 - loss: 1.7595 - acc: 0.570 - ETA: 4:14 - loss: 1.7443 - acc: 0.577 - ETA: 4:13 - loss: 1.7402 - acc: 0.576 - ETA: 4:12 - loss: 1.7421 - acc: 0.575 - ETA: 4:11 - loss: 1.7432 - acc: 0.573 - ETA: 4:10 - loss: 1.7484 - acc: 0.570 - ETA: 4:09 - loss: 1.7336 - acc: 0.575 - ETA: 4:09 - loss: 1.7315 - acc: 0.577 - ETA: 4:08 - loss: 1.7228 - acc: 0.577 - ETA: 4:07 - loss: 1.7120 - acc: 0.582 - ETA: 4:06 - loss: 1.7363 - acc: 0.577 - ETA: 4:05 - loss: 1.7523 - acc: 0.575 - ETA: 4:05 - loss: 1.7493 - acc: 0.578 - ETA: 4:04 - loss: 1.7582 - acc: 0.574 - ETA: 4:03 - loss: 1.7698 - acc: 0.569 - ETA: 4:02 - loss: 1.7773 - acc: 0.568 - ETA: 4:01 - loss: 1.7772 - acc: 0.570 - ETA: 4:00 - loss: 1.7706 - acc: 0.573 - ETA: 3:59 - loss: 1.7854 - acc: 0.568 - ETA: 3:59 - loss: 1.7816 - acc: 0.569 - ETA: 3:58 - loss: 1.7724 - acc: 0.570 - ETA: 3:57 - loss: 1.7697 - acc: 0.570 - ETA: 3:56 - loss: 1.7904 - acc: 0.565 - ETA: 3:55 - loss: 1.7896 - acc: 0.563 - ETA: 3:54 - loss: 1.7841 - acc: 0.563 - ETA: 3:53 - loss: 1.7824 - acc: 0.562 - ETA: 3:53 - loss: 1.7790 - acc: 0.562 - ETA: 3:52 - loss: 1.7723 - acc: 0.564 - ETA: 3:51 - loss: 1.7772 - acc: 0.562 - ETA: 3:50 - loss: 1.7680 - acc: 0.564 - ETA: 3:50 - loss: 1.7712 - acc: 0.563 - ETA: 3:49 - loss: 1.7652 - acc: 0.563 - ETA: 3:48 - loss: 1.7562 - acc: 0.566 - ETA: 3:47 - loss: 1.7444 - acc: 0.570 - ETA: 3:46 - loss: 1.7335 - acc: 0.572 - ETA: 3:45 - loss: 1.7318 - acc: 0.571 - ETA: 3:44 - loss: 1.7238 - acc: 0.572 - ETA: 3:43 - loss: 1.7120 - acc: 0.575 - ETA: 3:43 - loss: 1.7166 - acc: 0.575 - ETA: 3:42 - loss: 1.7207 - acc: 0.574 - ETA: 3:41 - loss: 1.7353 - acc: 0.571 - ETA: 3:40 - loss: 1.7378 - acc: 0.570 - ETA: 3:39 - loss: 1.7289 - acc: 0.571 - ETA: 3:38 - loss: 1.7317 - acc: 0.571 - ETA: 3:38 - loss: 1.7372 - acc: 0.568 - ETA: 3:37 - loss: 1.7317 - acc: 0.568 - ETA: 3:36 - loss: 1.7303 - acc: 0.569 - ETA: 3:35 - loss: 1.7285 - acc: 0.568 - ETA: 3:34 - loss: 1.7293 - acc: 0.567 - ETA: 3:33 - loss: 1.7291 - acc: 0.567 - ETA: 3:32 - loss: 1.7308 - acc: 0.567 - ETA: 3:32 - loss: 1.7287 - acc: 0.568 - ETA: 3:31 - loss: 1.7265 - acc: 0.570 - ETA: 3:30 - loss: 1.7244 - acc: 0.571 - ETA: 3:29 - loss: 1.7234 - acc: 0.570 - ETA: 3:28 - loss: 1.7220 - acc: 0.571 - ETA: 3:27 - loss: 1.7220 - acc: 0.570 - ETA: 3:27 - loss: 1.7263 - acc: 0.571 - ETA: 3:26 - loss: 1.7310 - acc: 0.570 - ETA: 3:25 - loss: 1.7272 - acc: 0.570 - ETA: 3:24 - loss: 1.7314 - acc: 0.570 - ETA: 3:23 - loss: 1.7320 - acc: 0.570 - ETA: 3:22 - loss: 1.7356 - acc: 0.571 - ETA: 3:22 - loss: 1.7403 - acc: 0.572 - ETA: 3:21 - loss: 1.7415 - acc: 0.571 - ETA: 3:20 - loss: 1.7405 - acc: 0.570 - ETA: 3:19 - loss: 1.7450 - acc: 0.568 - ETA: 3:18 - loss: 1.7476 - acc: 0.567 - ETA: 3:17 - loss: 1.7418 - acc: 0.568 - ETA: 3:16 - loss: 1.7369 - acc: 0.569 - ETA: 3:16 - loss: 1.7373 - acc: 0.568 - ETA: 3:15 - loss: 1.7351 - acc: 0.568 - ETA: 3:14 - loss: 1.7389 - acc: 0.568 - ETA: 3:13 - loss: 1.7381 - acc: 0.568 - ETA: 3:12 - loss: 1.7490 - acc: 0.566 - ETA: 3:11 - loss: 1.7466 - acc: 0.566 - ETA: 3:11 - loss: 1.7561 - acc: 0.565 - ETA: 3:10 - loss: 1.7504 - acc: 0.568 - ETA: 3:09 - loss: 1.7562 - acc: 0.568 - ETA: 3:08 - loss: 1.7614 - acc: 0.567 - ETA: 3:07 - loss: 1.7566 - acc: 0.567 - ETA: 3:06 - loss: 1.7573 - acc: 0.566 - ETA: 3:06 - loss: 1.7575 - acc: 0.565 - ETA: 3:05 - loss: 1.7586 - acc: 0.563 - ETA: 3:04 - loss: 1.7584 - acc: 0.563 - ETA: 3:03 - loss: 1.7565 - acc: 0.563 - ETA: 3:02 - loss: 1.7565 - acc: 0.564 - ETA: 3:01 - loss: 1.7550 - acc: 0.563 - ETA: 3:01 - loss: 1.7556 - acc: 0.564 - ETA: 3:00 - loss: 1.7570 - acc: 0.565 - ETA: 2:59 - loss: 1.7570 - acc: 0.566 - ETA: 2:58 - loss: 1.7593 - acc: 0.565 - ETA: 2:57 - loss: 1.7561 - acc: 0.565 - ETA: 2:57 - loss: 1.7576 - acc: 0.565 - ETA: 2:56 - loss: 1.7576 - acc: 0.564 - ETA: 2:55 - loss: 1.7554 - acc: 0.566 - ETA: 2:54 - loss: 1.7578 - acc: 0.564 - ETA: 2:53 - loss: 1.7549 - acc: 0.566 - ETA: 2:53 - loss: 1.7519 - acc: 0.566 - ETA: 2:52 - loss: 1.7528 - acc: 0.566 - ETA: 2:51 - loss: 1.7580 - acc: 0.564 - ETA: 2:50 - loss: 1.7653 - acc: 0.562 - ETA: 2:49 - loss: 1.7657 - acc: 0.562 - ETA: 2:48 - loss: 1.7677 - acc: 0.561 - ETA: 2:47 - loss: 1.7699 - acc: 0.560 - ETA: 2:47 - loss: 1.7743 - acc: 0.558 - ETA: 2:46 - loss: 1.7734 - acc: 0.559 - ETA: 2:45 - loss: 1.7770 - acc: 0.557 - ETA: 2:44 - loss: 1.7794 - acc: 0.557 - ETA: 2:43 - loss: 1.7790 - acc: 0.557 - ETA: 2:42 - loss: 1.7796 - acc: 0.557 - ETA: 2:42 - loss: 1.7778 - acc: 0.557 - ETA: 2:41 - loss: 1.7772 - acc: 0.557 - ETA: 2:40 - loss: 1.7781 - acc: 0.557 - ETA: 2:39 - loss: 1.7798 - acc: 0.556 - ETA: 2:38 - loss: 1.7751 - acc: 0.557 - ETA: 2:37 - loss: 1.7737 - acc: 0.557 - ETA: 2:36 - loss: 1.7718 - acc: 0.558 - ETA: 2:36 - loss: 1.7744 - acc: 0.557 - ETA: 2:35 - loss: 1.7742 - acc: 0.557 - ETA: 2:34 - loss: 1.7768 - acc: 0.556 - ETA: 2:33 - loss: 1.7810 - acc: 0.557 - ETA: 2:32 - loss: 1.7822 - acc: 0.556 - ETA: 2:31 - loss: 1.7826 - acc: 0.556 - ETA: 2:31 - loss: 1.7868 - acc: 0.556 - ETA: 2:30 - loss: 1.7882 - acc: 0.555 - ETA: 2:29 - loss: 1.7852 - acc: 0.556 - ETA: 2:28 - loss: 1.7813 - acc: 0.557 - ETA: 2:27 - loss: 1.7844 - acc: 0.555 - ETA: 2:27 - loss: 1.7829 - acc: 0.555 - ETA: 2:26 - loss: 1.7857 - acc: 0.554 - ETA: 2:25 - loss: 1.7812 - acc: 0.555 - ETA: 2:24 - loss: 1.7795 - acc: 0.555 - ETA: 2:23 - loss: 1.7786 - acc: 0.555 - ETA: 2:23 - loss: 1.7830 - acc: 0.555 - ETA: 2:22 - loss: 1.7824 - acc: 0.555 - ETA: 2:21 - loss: 1.7792 - acc: 0.555 - ETA: 2:20 - loss: 1.7787 - acc: 0.555 - ETA: 2:19 - loss: 1.7813 - acc: 0.555 - ETA: 2:18 - loss: 1.7784 - acc: 0.555 - ETA: 2:18 - loss: 1.7772 - acc: 0.555 - ETA: 2:17 - loss: 1.7773 - acc: 0.555 - ETA: 2:16 - loss: 1.7741 - acc: 0.555 - ETA: 2:15 - loss: 1.7731 - acc: 0.555 - ETA: 2:14 - loss: 1.7744 - acc: 0.555 - ETA: 2:14 - loss: 1.7763 - acc: 0.554 - ETA: 2:13 - loss: 1.7741 - acc: 0.555 - ETA: 2:12 - loss: 1.7763 - acc: 0.554 - ETA: 2:11 - loss: 1.7781 - acc: 0.554 - ETA: 2:10 - loss: 1.7790 - acc: 0.554 - ETA: 2:10 - loss: 1.7826 - acc: 0.553 - ETA: 2:09 - loss: 1.7825 - acc: 0.553 - ETA: 2:08 - loss: 1.7790 - acc: 0.554 - ETA: 2:07 - loss: 1.7792 - acc: 0.554 - ETA: 2:06 - loss: 1.7793 - acc: 0.553 - ETA: 2:05 - loss: 1.7817 - acc: 0.553 - ETA: 2:04 - loss: 1.7871 - acc: 0.553 - ETA: 2:04 - loss: 1.7870 - acc: 0.553 - ETA: 2:03 - loss: 1.7853 - acc: 0.554 - ETA: 2:02 - loss: 1.7873 - acc: 0.553 - ETA: 2:01 - loss: 1.7910 - acc: 0.552 - ETA: 2:00 - loss: 1.7917 - acc: 0.552 - ETA: 1:59 - loss: 1.7901 - acc: 0.553 - ETA: 1:59 - loss: 1.7897 - acc: 0.552 - ETA: 1:58 - loss: 1.7935 - acc: 0.552 - ETA: 1:57 - loss: 1.7967 - acc: 0.551 - ETA: 1:56 - loss: 1.7948 - acc: 0.552 - ETA: 1:55 - loss: 1.7920 - acc: 0.553 - ETA: 1:54 - loss: 1.7893 - acc: 0.553 - ETA: 1:53 - loss: 1.7896 - acc: 0.554 - ETA: 1:53 - loss: 1.7895 - acc: 0.553 - ETA: 1:52 - loss: 1.7866 - acc: 0.554 - ETA: 1:51 - loss: 1.7894 - acc: 0.553 - ETA: 1:50 - loss: 1.7927 - acc: 0.553 - ETA: 1:49 - loss: 1.7943 - acc: 0.5534"
     ]
    },
    {
     "name": "stdout",
     "output_type": "stream",
     "text": [
      "6680/6680 [==============================] - ETA: 1:48 - loss: 1.7962 - acc: 0.553 - ETA: 1:48 - loss: 1.7976 - acc: 0.552 - ETA: 1:47 - loss: 1.7988 - acc: 0.552 - ETA: 1:46 - loss: 1.7984 - acc: 0.552 - ETA: 1:45 - loss: 1.7960 - acc: 0.553 - ETA: 1:44 - loss: 1.7934 - acc: 0.554 - ETA: 1:43 - loss: 1.7951 - acc: 0.554 - ETA: 1:42 - loss: 1.7938 - acc: 0.554 - ETA: 1:42 - loss: 1.7931 - acc: 0.554 - ETA: 1:41 - loss: 1.7940 - acc: 0.554 - ETA: 1:40 - loss: 1.7949 - acc: 0.554 - ETA: 1:39 - loss: 1.7989 - acc: 0.554 - ETA: 1:38 - loss: 1.8017 - acc: 0.553 - ETA: 1:37 - loss: 1.8002 - acc: 0.553 - ETA: 1:37 - loss: 1.8020 - acc: 0.553 - ETA: 1:36 - loss: 1.8028 - acc: 0.553 - ETA: 1:35 - loss: 1.7991 - acc: 0.555 - ETA: 1:34 - loss: 1.8014 - acc: 0.554 - ETA: 1:33 - loss: 1.8011 - acc: 0.554 - ETA: 1:32 - loss: 1.7990 - acc: 0.554 - ETA: 1:31 - loss: 1.7985 - acc: 0.554 - ETA: 1:31 - loss: 1.8018 - acc: 0.554 - ETA: 1:30 - loss: 1.8008 - acc: 0.554 - ETA: 1:29 - loss: 1.7980 - acc: 0.555 - ETA: 1:28 - loss: 1.7989 - acc: 0.555 - ETA: 1:27 - loss: 1.8008 - acc: 0.554 - ETA: 1:26 - loss: 1.8014 - acc: 0.555 - ETA: 1:26 - loss: 1.8042 - acc: 0.554 - ETA: 1:25 - loss: 1.8043 - acc: 0.554 - ETA: 1:24 - loss: 1.8074 - acc: 0.553 - ETA: 1:23 - loss: 1.8062 - acc: 0.553 - ETA: 1:22 - loss: 1.8096 - acc: 0.553 - ETA: 1:21 - loss: 1.8080 - acc: 0.553 - ETA: 1:20 - loss: 1.8071 - acc: 0.553 - ETA: 1:20 - loss: 1.8074 - acc: 0.552 - ETA: 1:19 - loss: 1.8059 - acc: 0.552 - ETA: 1:18 - loss: 1.8039 - acc: 0.553 - ETA: 1:17 - loss: 1.8043 - acc: 0.553 - ETA: 1:16 - loss: 1.8028 - acc: 0.553 - ETA: 1:15 - loss: 1.8028 - acc: 0.553 - ETA: 1:15 - loss: 1.8064 - acc: 0.553 - ETA: 1:14 - loss: 1.8054 - acc: 0.553 - ETA: 1:13 - loss: 1.8034 - acc: 0.554 - ETA: 1:12 - loss: 1.8005 - acc: 0.554 - ETA: 1:11 - loss: 1.7993 - acc: 0.555 - ETA: 1:10 - loss: 1.7976 - acc: 0.555 - ETA: 1:09 - loss: 1.7980 - acc: 0.555 - ETA: 1:09 - loss: 1.7999 - acc: 0.555 - ETA: 1:08 - loss: 1.7996 - acc: 0.555 - ETA: 1:07 - loss: 1.8004 - acc: 0.555 - ETA: 1:06 - loss: 1.7988 - acc: 0.555 - ETA: 1:05 - loss: 1.7971 - acc: 0.555 - ETA: 1:04 - loss: 1.7970 - acc: 0.555 - ETA: 1:04 - loss: 1.7966 - acc: 0.555 - ETA: 1:03 - loss: 1.7968 - acc: 0.555 - ETA: 1:02 - loss: 1.7978 - acc: 0.555 - ETA: 1:01 - loss: 1.7976 - acc: 0.555 - ETA: 1:00 - loss: 1.7975 - acc: 0.555 - ETA: 59s - loss: 1.7990 - acc: 0.554 - ETA: 58s - loss: 1.7988 - acc: 0.55 - ETA: 58s - loss: 1.7992 - acc: 0.55 - ETA: 57s - loss: 1.8007 - acc: 0.55 - ETA: 56s - loss: 1.7987 - acc: 0.55 - ETA: 55s - loss: 1.8004 - acc: 0.55 - ETA: 54s - loss: 1.7985 - acc: 0.55 - ETA: 53s - loss: 1.7987 - acc: 0.55 - ETA: 53s - loss: 1.7968 - acc: 0.55 - ETA: 52s - loss: 1.7970 - acc: 0.55 - ETA: 51s - loss: 1.7941 - acc: 0.55 - ETA: 50s - loss: 1.7958 - acc: 0.55 - ETA: 49s - loss: 1.7946 - acc: 0.55 - ETA: 48s - loss: 1.7942 - acc: 0.55 - ETA: 48s - loss: 1.7942 - acc: 0.55 - ETA: 47s - loss: 1.7943 - acc: 0.55 - ETA: 46s - loss: 1.7959 - acc: 0.55 - ETA: 45s - loss: 1.7951 - acc: 0.55 - ETA: 44s - loss: 1.7951 - acc: 0.55 - ETA: 43s - loss: 1.7957 - acc: 0.55 - ETA: 42s - loss: 1.7963 - acc: 0.55 - ETA: 42s - loss: 1.7936 - acc: 0.55 - ETA: 41s - loss: 1.7933 - acc: 0.55 - ETA: 40s - loss: 1.7949 - acc: 0.55 - ETA: 39s - loss: 1.7944 - acc: 0.55 - ETA: 38s - loss: 1.7949 - acc: 0.55 - ETA: 37s - loss: 1.7993 - acc: 0.55 - ETA: 37s - loss: 1.7982 - acc: 0.55 - ETA: 36s - loss: 1.7991 - acc: 0.55 - ETA: 35s - loss: 1.7979 - acc: 0.55 - ETA: 34s - loss: 1.7978 - acc: 0.55 - ETA: 33s - loss: 1.7960 - acc: 0.55 - ETA: 32s - loss: 1.7969 - acc: 0.55 - ETA: 31s - loss: 1.8000 - acc: 0.55 - ETA: 31s - loss: 1.8014 - acc: 0.55 - ETA: 30s - loss: 1.7999 - acc: 0.55 - ETA: 29s - loss: 1.7991 - acc: 0.55 - ETA: 28s - loss: 1.7988 - acc: 0.55 - ETA: 27s - loss: 1.7989 - acc: 0.55 - ETA: 26s - loss: 1.7976 - acc: 0.55 - ETA: 26s - loss: 1.7950 - acc: 0.55 - ETA: 25s - loss: 1.7956 - acc: 0.55 - ETA: 24s - loss: 1.7974 - acc: 0.55 - ETA: 23s - loss: 1.7966 - acc: 0.55 - ETA: 22s - loss: 1.7964 - acc: 0.55 - ETA: 21s - loss: 1.7941 - acc: 0.55 - ETA: 21s - loss: 1.7923 - acc: 0.55 - ETA: 20s - loss: 1.7924 - acc: 0.55 - ETA: 19s - loss: 1.7906 - acc: 0.55 - ETA: 18s - loss: 1.7898 - acc: 0.55 - ETA: 17s - loss: 1.7899 - acc: 0.55 - ETA: 16s - loss: 1.7911 - acc: 0.55 - ETA: 15s - loss: 1.7923 - acc: 0.55 - ETA: 15s - loss: 1.7910 - acc: 0.55 - ETA: 14s - loss: 1.7908 - acc: 0.55 - ETA: 13s - loss: 1.7898 - acc: 0.55 - ETA: 12s - loss: 1.7913 - acc: 0.55 - ETA: 11s - loss: 1.7929 - acc: 0.55 - ETA: 10s - loss: 1.7918 - acc: 0.55 - ETA: 10s - loss: 1.7902 - acc: 0.55 - ETA: 9s - loss: 1.7915 - acc: 0.5557 - ETA: 8s - loss: 1.7908 - acc: 0.556 - ETA: 7s - loss: 1.7920 - acc: 0.555 - ETA: 6s - loss: 1.7914 - acc: 0.556 - ETA: 5s - loss: 1.7921 - acc: 0.556 - ETA: 5s - loss: 1.7935 - acc: 0.556 - ETA: 4s - loss: 1.7932 - acc: 0.556 - ETA: 3s - loss: 1.7955 - acc: 0.556 - ETA: 2s - loss: 1.7955 - acc: 0.556 - ETA: 1s - loss: 1.7949 - acc: 0.556 - ETA: 0s - loss: 1.7935 - acc: 0.556 - 290s 43ms/step - loss: 1.7922 - acc: 0.5570 - val_loss: 5.2499 - val_acc: 0.0898\n",
      "\n",
      "Epoch 00004: val_loss did not improve from 4.20959\n",
      "Epoch 5/5\n"
     ]
    },
    {
     "name": "stdout",
     "output_type": "stream",
     "text": [
      "4080/6680 [=================>............] - ETA: 4:41 - loss: 0.9481 - acc: 0.900 - ETA: 4:38 - loss: 0.8699 - acc: 0.900 - ETA: 4:38 - loss: 0.7958 - acc: 0.866 - ETA: 4:37 - loss: 0.8175 - acc: 0.862 - ETA: 4:36 - loss: 0.8700 - acc: 0.840 - ETA: 4:35 - loss: 0.8001 - acc: 0.858 - ETA: 4:34 - loss: 0.8482 - acc: 0.835 - ETA: 4:33 - loss: 0.7960 - acc: 0.843 - ETA: 4:32 - loss: 0.7775 - acc: 0.844 - ETA: 4:32 - loss: 0.7298 - acc: 0.850 - ETA: 4:31 - loss: 0.6964 - acc: 0.854 - ETA: 4:30 - loss: 0.7251 - acc: 0.833 - ETA: 4:29 - loss: 0.7082 - acc: 0.842 - ETA: 4:28 - loss: 0.6950 - acc: 0.842 - ETA: 4:27 - loss: 0.6836 - acc: 0.846 - ETA: 4:26 - loss: 0.6634 - acc: 0.850 - ETA: 4:25 - loss: 0.6605 - acc: 0.850 - ETA: 4:24 - loss: 0.6645 - acc: 0.844 - ETA: 4:23 - loss: 0.6626 - acc: 0.844 - ETA: 4:22 - loss: 0.6514 - acc: 0.847 - ETA: 4:21 - loss: 0.6531 - acc: 0.850 - ETA: 4:20 - loss: 0.6504 - acc: 0.850 - ETA: 4:20 - loss: 0.6472 - acc: 0.847 - ETA: 4:19 - loss: 0.6581 - acc: 0.839 - ETA: 4:18 - loss: 0.6597 - acc: 0.836 - ETA: 4:17 - loss: 0.6589 - acc: 0.832 - ETA: 4:16 - loss: 0.6603 - acc: 0.831 - ETA: 4:15 - loss: 0.6623 - acc: 0.832 - ETA: 4:15 - loss: 0.6638 - acc: 0.831 - ETA: 4:14 - loss: 0.6625 - acc: 0.828 - ETA: 4:13 - loss: 0.6529 - acc: 0.830 - ETA: 4:12 - loss: 0.6553 - acc: 0.829 - ETA: 4:11 - loss: 0.6533 - acc: 0.828 - ETA: 4:10 - loss: 0.6432 - acc: 0.830 - ETA: 4:09 - loss: 0.6531 - acc: 0.827 - ETA: 4:09 - loss: 0.6746 - acc: 0.822 - ETA: 4:08 - loss: 0.6775 - acc: 0.821 - ETA: 4:07 - loss: 0.6866 - acc: 0.817 - ETA: 4:06 - loss: 0.6829 - acc: 0.820 - ETA: 4:05 - loss: 0.6899 - acc: 0.818 - ETA: 4:04 - loss: 0.6795 - acc: 0.822 - ETA: 4:04 - loss: 0.6782 - acc: 0.823 - ETA: 4:03 - loss: 0.6861 - acc: 0.820 - ETA: 4:02 - loss: 0.6824 - acc: 0.820 - ETA: 4:01 - loss: 0.7024 - acc: 0.817 - ETA: 4:00 - loss: 0.6986 - acc: 0.818 - ETA: 3:59 - loss: 0.7006 - acc: 0.820 - ETA: 3:59 - loss: 0.7023 - acc: 0.818 - ETA: 3:58 - loss: 0.7039 - acc: 0.817 - ETA: 3:57 - loss: 0.7015 - acc: 0.819 - ETA: 3:56 - loss: 0.7031 - acc: 0.819 - ETA: 3:55 - loss: 0.6992 - acc: 0.822 - ETA: 3:54 - loss: 0.6915 - acc: 0.824 - ETA: 3:53 - loss: 0.6850 - acc: 0.826 - ETA: 3:53 - loss: 0.6836 - acc: 0.826 - ETA: 3:52 - loss: 0.6769 - acc: 0.827 - ETA: 3:51 - loss: 0.6756 - acc: 0.828 - ETA: 3:50 - loss: 0.6708 - acc: 0.829 - ETA: 3:49 - loss: 0.6685 - acc: 0.830 - ETA: 3:48 - loss: 0.6647 - acc: 0.831 - ETA: 3:47 - loss: 0.6613 - acc: 0.831 - ETA: 3:47 - loss: 0.6626 - acc: 0.829 - ETA: 3:46 - loss: 0.6687 - acc: 0.827 - ETA: 3:45 - loss: 0.6638 - acc: 0.828 - ETA: 3:44 - loss: 0.6820 - acc: 0.825 - ETA: 3:43 - loss: 0.6845 - acc: 0.823 - ETA: 3:42 - loss: 0.6810 - acc: 0.824 - ETA: 3:42 - loss: 0.6812 - acc: 0.823 - ETA: 3:41 - loss: 0.6796 - acc: 0.823 - ETA: 3:40 - loss: 0.6757 - acc: 0.825 - ETA: 3:39 - loss: 0.6750 - acc: 0.824 - ETA: 3:38 - loss: 0.6744 - acc: 0.823 - ETA: 3:37 - loss: 0.6724 - acc: 0.824 - ETA: 3:36 - loss: 0.6693 - acc: 0.825 - ETA: 3:36 - loss: 0.6678 - acc: 0.825 - ETA: 3:35 - loss: 0.6662 - acc: 0.825 - ETA: 3:34 - loss: 0.6692 - acc: 0.824 - ETA: 3:33 - loss: 0.6704 - acc: 0.825 - ETA: 3:32 - loss: 0.6650 - acc: 0.826 - ETA: 3:31 - loss: 0.6652 - acc: 0.826 - ETA: 3:31 - loss: 0.6630 - acc: 0.827 - ETA: 3:30 - loss: 0.6624 - acc: 0.826 - ETA: 3:29 - loss: 0.6599 - acc: 0.827 - ETA: 3:28 - loss: 0.6598 - acc: 0.828 - ETA: 3:27 - loss: 0.6686 - acc: 0.826 - ETA: 3:26 - loss: 0.6688 - acc: 0.825 - ETA: 3:26 - loss: 0.6695 - acc: 0.825 - ETA: 3:25 - loss: 0.6705 - acc: 0.825 - ETA: 3:24 - loss: 0.6687 - acc: 0.825 - ETA: 3:23 - loss: 0.6678 - acc: 0.825 - ETA: 3:22 - loss: 0.6701 - acc: 0.825 - ETA: 3:21 - loss: 0.6713 - acc: 0.825 - ETA: 3:21 - loss: 0.6650 - acc: 0.827 - ETA: 3:20 - loss: 0.6645 - acc: 0.828 - ETA: 3:19 - loss: 0.6648 - acc: 0.827 - ETA: 3:18 - loss: 0.6642 - acc: 0.828 - ETA: 3:17 - loss: 0.6642 - acc: 0.828 - ETA: 3:16 - loss: 0.6635 - acc: 0.829 - ETA: 3:15 - loss: 0.6683 - acc: 0.828 - ETA: 3:15 - loss: 0.6642 - acc: 0.829 - ETA: 3:14 - loss: 0.6645 - acc: 0.828 - ETA: 3:13 - loss: 0.6617 - acc: 0.828 - ETA: 3:12 - loss: 0.6625 - acc: 0.828 - ETA: 3:11 - loss: 0.6617 - acc: 0.828 - ETA: 3:11 - loss: 0.6590 - acc: 0.829 - ETA: 3:10 - loss: 0.6565 - acc: 0.830 - ETA: 3:09 - loss: 0.6549 - acc: 0.830 - ETA: 3:08 - loss: 0.6574 - acc: 0.829 - ETA: 3:07 - loss: 0.6574 - acc: 0.830 - ETA: 3:06 - loss: 0.6577 - acc: 0.830 - ETA: 3:06 - loss: 0.6550 - acc: 0.831 - ETA: 3:05 - loss: 0.6540 - acc: 0.832 - ETA: 3:04 - loss: 0.6587 - acc: 0.831 - ETA: 3:03 - loss: 0.6571 - acc: 0.832 - ETA: 3:02 - loss: 0.6603 - acc: 0.831 - ETA: 3:01 - loss: 0.6663 - acc: 0.829 - ETA: 3:01 - loss: 0.6645 - acc: 0.830 - ETA: 3:00 - loss: 0.6650 - acc: 0.830 - ETA: 2:59 - loss: 0.6639 - acc: 0.830 - ETA: 2:58 - loss: 0.6637 - acc: 0.830 - ETA: 2:57 - loss: 0.6638 - acc: 0.831 - ETA: 2:57 - loss: 0.6645 - acc: 0.830 - ETA: 2:56 - loss: 0.6641 - acc: 0.830 - ETA: 2:55 - loss: 0.6631 - acc: 0.830 - ETA: 2:54 - loss: 0.6610 - acc: 0.830 - ETA: 2:53 - loss: 0.6616 - acc: 0.830 - ETA: 2:52 - loss: 0.6614 - acc: 0.830 - ETA: 2:52 - loss: 0.6603 - acc: 0.830 - ETA: 2:51 - loss: 0.6591 - acc: 0.831 - ETA: 2:50 - loss: 0.6615 - acc: 0.830 - ETA: 2:49 - loss: 0.6623 - acc: 0.830 - ETA: 2:48 - loss: 0.6646 - acc: 0.830 - ETA: 2:47 - loss: 0.6621 - acc: 0.830 - ETA: 2:46 - loss: 0.6656 - acc: 0.829 - ETA: 2:46 - loss: 0.6636 - acc: 0.830 - ETA: 2:45 - loss: 0.6624 - acc: 0.829 - ETA: 2:44 - loss: 0.6599 - acc: 0.830 - ETA: 2:43 - loss: 0.6625 - acc: 0.829 - ETA: 2:42 - loss: 0.6635 - acc: 0.829 - ETA: 2:41 - loss: 0.6636 - acc: 0.830 - ETA: 2:41 - loss: 0.6641 - acc: 0.829 - ETA: 2:40 - loss: 0.6662 - acc: 0.828 - ETA: 2:39 - loss: 0.6667 - acc: 0.828 - ETA: 2:38 - loss: 0.6685 - acc: 0.827 - ETA: 2:37 - loss: 0.6680 - acc: 0.827 - ETA: 2:37 - loss: 0.6670 - acc: 0.828 - ETA: 2:36 - loss: 0.6669 - acc: 0.828 - ETA: 2:35 - loss: 0.6673 - acc: 0.828 - ETA: 2:34 - loss: 0.6679 - acc: 0.827 - ETA: 2:33 - loss: 0.6676 - acc: 0.827 - ETA: 2:32 - loss: 0.6677 - acc: 0.827 - ETA: 2:32 - loss: 0.6690 - acc: 0.827 - ETA: 2:31 - loss: 0.6687 - acc: 0.827 - ETA: 2:30 - loss: 0.6665 - acc: 0.827 - ETA: 2:29 - loss: 0.6683 - acc: 0.826 - ETA: 2:28 - loss: 0.6713 - acc: 0.826 - ETA: 2:27 - loss: 0.6713 - acc: 0.826 - ETA: 2:27 - loss: 0.6715 - acc: 0.826 - ETA: 2:26 - loss: 0.6706 - acc: 0.826 - ETA: 2:25 - loss: 0.6741 - acc: 0.825 - ETA: 2:24 - loss: 0.6755 - acc: 0.825 - ETA: 2:23 - loss: 0.6717 - acc: 0.826 - ETA: 2:22 - loss: 0.6720 - acc: 0.825 - ETA: 2:21 - loss: 0.6734 - acc: 0.825 - ETA: 2:21 - loss: 0.6732 - acc: 0.825 - ETA: 2:20 - loss: 0.6772 - acc: 0.824 - ETA: 2:19 - loss: 0.6791 - acc: 0.823 - ETA: 2:18 - loss: 0.6794 - acc: 0.824 - ETA: 2:17 - loss: 0.6795 - acc: 0.824 - ETA: 2:16 - loss: 0.6799 - acc: 0.823 - ETA: 2:16 - loss: 0.6784 - acc: 0.824 - ETA: 2:15 - loss: 0.6773 - acc: 0.824 - ETA: 2:14 - loss: 0.6780 - acc: 0.824 - ETA: 2:13 - loss: 0.6777 - acc: 0.823 - ETA: 2:12 - loss: 0.6778 - acc: 0.823 - ETA: 2:11 - loss: 0.6806 - acc: 0.823 - ETA: 2:11 - loss: 0.6813 - acc: 0.822 - ETA: 2:10 - loss: 0.6857 - acc: 0.821 - ETA: 2:09 - loss: 0.6851 - acc: 0.822 - ETA: 2:08 - loss: 0.6877 - acc: 0.821 - ETA: 2:07 - loss: 0.6887 - acc: 0.820 - ETA: 2:06 - loss: 0.6903 - acc: 0.820 - ETA: 2:06 - loss: 0.6894 - acc: 0.820 - ETA: 2:05 - loss: 0.6899 - acc: 0.820 - ETA: 2:04 - loss: 0.6921 - acc: 0.819 - ETA: 2:03 - loss: 0.6940 - acc: 0.818 - ETA: 2:02 - loss: 0.6946 - acc: 0.818 - ETA: 2:01 - loss: 0.6950 - acc: 0.818 - ETA: 2:01 - loss: 0.6961 - acc: 0.818 - ETA: 2:00 - loss: 0.6943 - acc: 0.819 - ETA: 1:59 - loss: 0.6936 - acc: 0.819 - ETA: 1:58 - loss: 0.6934 - acc: 0.819 - ETA: 1:57 - loss: 0.6950 - acc: 0.818 - ETA: 1:56 - loss: 0.6978 - acc: 0.817 - ETA: 1:56 - loss: 0.7013 - acc: 0.816 - ETA: 1:55 - loss: 0.7096 - acc: 0.814 - ETA: 1:54 - loss: 0.7152 - acc: 0.813 - ETA: 1:53 - loss: 0.7145 - acc: 0.813 - ETA: 1:52 - loss: 0.7115 - acc: 0.814 - ETA: 1:51 - loss: 0.7138 - acc: 0.814 - ETA: 1:51 - loss: 0.7140 - acc: 0.813 - ETA: 1:50 - loss: 0.7148 - acc: 0.813 - ETA: 1:49 - loss: 0.7164 - acc: 0.813 - ETA: 1:48 - loss: 0.7160 - acc: 0.8132"
     ]
    },
    {
     "name": "stdout",
     "output_type": "stream",
     "text": [
      "6680/6680 [==============================] - ETA: 1:47 - loss: 0.7184 - acc: 0.812 - ETA: 1:46 - loss: 0.7190 - acc: 0.812 - ETA: 1:46 - loss: 0.7190 - acc: 0.812 - ETA: 1:45 - loss: 0.7180 - acc: 0.812 - ETA: 1:44 - loss: 0.7226 - acc: 0.810 - ETA: 1:43 - loss: 0.7216 - acc: 0.811 - ETA: 1:42 - loss: 0.7238 - acc: 0.810 - ETA: 1:41 - loss: 0.7230 - acc: 0.810 - ETA: 1:41 - loss: 0.7220 - acc: 0.811 - ETA: 1:40 - loss: 0.7207 - acc: 0.811 - ETA: 1:39 - loss: 0.7235 - acc: 0.810 - ETA: 1:38 - loss: 0.7237 - acc: 0.810 - ETA: 1:37 - loss: 0.7259 - acc: 0.810 - ETA: 1:36 - loss: 0.7268 - acc: 0.810 - ETA: 1:36 - loss: 0.7253 - acc: 0.810 - ETA: 1:35 - loss: 0.7271 - acc: 0.810 - ETA: 1:34 - loss: 0.7275 - acc: 0.810 - ETA: 1:33 - loss: 0.7271 - acc: 0.810 - ETA: 1:32 - loss: 0.7300 - acc: 0.810 - ETA: 1:31 - loss: 0.7324 - acc: 0.809 - ETA: 1:31 - loss: 0.7311 - acc: 0.810 - ETA: 1:30 - loss: 0.7321 - acc: 0.810 - ETA: 1:29 - loss: 0.7325 - acc: 0.809 - ETA: 1:28 - loss: 0.7326 - acc: 0.809 - ETA: 1:27 - loss: 0.7329 - acc: 0.809 - ETA: 1:26 - loss: 0.7323 - acc: 0.809 - ETA: 1:26 - loss: 0.7330 - acc: 0.809 - ETA: 1:25 - loss: 0.7323 - acc: 0.810 - ETA: 1:24 - loss: 0.7324 - acc: 0.810 - ETA: 1:23 - loss: 0.7335 - acc: 0.810 - ETA: 1:22 - loss: 0.7324 - acc: 0.810 - ETA: 1:21 - loss: 0.7330 - acc: 0.810 - ETA: 1:21 - loss: 0.7326 - acc: 0.810 - ETA: 1:20 - loss: 0.7328 - acc: 0.810 - ETA: 1:19 - loss: 0.7319 - acc: 0.810 - ETA: 1:18 - loss: 0.7318 - acc: 0.810 - ETA: 1:17 - loss: 0.7346 - acc: 0.810 - ETA: 1:16 - loss: 0.7363 - acc: 0.809 - ETA: 1:16 - loss: 0.7360 - acc: 0.809 - ETA: 1:15 - loss: 0.7353 - acc: 0.809 - ETA: 1:14 - loss: 0.7329 - acc: 0.810 - ETA: 1:13 - loss: 0.7310 - acc: 0.811 - ETA: 1:12 - loss: 0.7302 - acc: 0.811 - ETA: 1:11 - loss: 0.7283 - acc: 0.811 - ETA: 1:10 - loss: 0.7278 - acc: 0.811 - ETA: 1:10 - loss: 0.7309 - acc: 0.811 - ETA: 1:09 - loss: 0.7303 - acc: 0.811 - ETA: 1:08 - loss: 0.7303 - acc: 0.811 - ETA: 1:07 - loss: 0.7295 - acc: 0.811 - ETA: 1:06 - loss: 0.7310 - acc: 0.810 - ETA: 1:05 - loss: 0.7293 - acc: 0.810 - ETA: 1:05 - loss: 0.7284 - acc: 0.810 - ETA: 1:04 - loss: 0.7275 - acc: 0.811 - ETA: 1:03 - loss: 0.7282 - acc: 0.811 - ETA: 1:02 - loss: 0.7268 - acc: 0.811 - ETA: 1:01 - loss: 0.7273 - acc: 0.811 - ETA: 1:00 - loss: 0.7304 - acc: 0.810 - ETA: 1:00 - loss: 0.7330 - acc: 0.809 - ETA: 59s - loss: 0.7323 - acc: 0.809 - ETA: 58s - loss: 0.7335 - acc: 0.80 - ETA: 57s - loss: 0.7325 - acc: 0.80 - ETA: 56s - loss: 0.7344 - acc: 0.80 - ETA: 55s - loss: 0.7342 - acc: 0.80 - ETA: 55s - loss: 0.7356 - acc: 0.80 - ETA: 54s - loss: 0.7367 - acc: 0.80 - ETA: 53s - loss: 0.7375 - acc: 0.80 - ETA: 52s - loss: 0.7361 - acc: 0.80 - ETA: 51s - loss: 0.7376 - acc: 0.80 - ETA: 50s - loss: 0.7388 - acc: 0.80 - ETA: 50s - loss: 0.7389 - acc: 0.80 - ETA: 49s - loss: 0.7405 - acc: 0.80 - ETA: 48s - loss: 0.7403 - acc: 0.80 - ETA: 47s - loss: 0.7403 - acc: 0.80 - ETA: 46s - loss: 0.7467 - acc: 0.80 - ETA: 45s - loss: 0.7467 - acc: 0.80 - ETA: 45s - loss: 0.7465 - acc: 0.80 - ETA: 44s - loss: 0.7463 - acc: 0.80 - ETA: 43s - loss: 0.7452 - acc: 0.80 - ETA: 42s - loss: 0.7441 - acc: 0.80 - ETA: 41s - loss: 0.7441 - acc: 0.80 - ETA: 40s - loss: 0.7460 - acc: 0.80 - ETA: 40s - loss: 0.7466 - acc: 0.80 - ETA: 39s - loss: 0.7456 - acc: 0.80 - ETA: 38s - loss: 0.7462 - acc: 0.80 - ETA: 37s - loss: 0.7476 - acc: 0.80 - ETA: 36s - loss: 0.7482 - acc: 0.80 - ETA: 35s - loss: 0.7479 - acc: 0.80 - ETA: 35s - loss: 0.7485 - acc: 0.80 - ETA: 34s - loss: 0.7474 - acc: 0.80 - ETA: 33s - loss: 0.7472 - acc: 0.80 - ETA: 32s - loss: 0.7480 - acc: 0.80 - ETA: 31s - loss: 0.7472 - acc: 0.80 - ETA: 30s - loss: 0.7469 - acc: 0.80 - ETA: 30s - loss: 0.7476 - acc: 0.80 - ETA: 29s - loss: 0.7490 - acc: 0.80 - ETA: 28s - loss: 0.7488 - acc: 0.80 - ETA: 27s - loss: 0.7490 - acc: 0.80 - ETA: 26s - loss: 0.7474 - acc: 0.80 - ETA: 25s - loss: 0.7471 - acc: 0.80 - ETA: 25s - loss: 0.7464 - acc: 0.80 - ETA: 24s - loss: 0.7450 - acc: 0.80 - ETA: 23s - loss: 0.7437 - acc: 0.80 - ETA: 22s - loss: 0.7451 - acc: 0.80 - ETA: 21s - loss: 0.7470 - acc: 0.80 - ETA: 20s - loss: 0.7479 - acc: 0.80 - ETA: 20s - loss: 0.7482 - acc: 0.80 - ETA: 19s - loss: 0.7495 - acc: 0.80 - ETA: 18s - loss: 0.7499 - acc: 0.80 - ETA: 17s - loss: 0.7500 - acc: 0.80 - ETA: 16s - loss: 0.7488 - acc: 0.80 - ETA: 15s - loss: 0.7484 - acc: 0.80 - ETA: 15s - loss: 0.7496 - acc: 0.80 - ETA: 14s - loss: 0.7506 - acc: 0.80 - ETA: 13s - loss: 0.7511 - acc: 0.80 - ETA: 12s - loss: 0.7513 - acc: 0.80 - ETA: 11s - loss: 0.7517 - acc: 0.80 - ETA: 10s - loss: 0.7513 - acc: 0.80 - ETA: 10s - loss: 0.7508 - acc: 0.80 - ETA: 9s - loss: 0.7503 - acc: 0.8042 - ETA: 8s - loss: 0.7493 - acc: 0.804 - ETA: 7s - loss: 0.7489 - acc: 0.804 - ETA: 6s - loss: 0.7481 - acc: 0.804 - ETA: 5s - loss: 0.7484 - acc: 0.805 - ETA: 5s - loss: 0.7481 - acc: 0.805 - ETA: 4s - loss: 0.7489 - acc: 0.804 - ETA: 3s - loss: 0.7489 - acc: 0.804 - ETA: 2s - loss: 0.7488 - acc: 0.804 - ETA: 1s - loss: 0.7481 - acc: 0.804 - ETA: 0s - loss: 0.7481 - acc: 0.804 - 288s 43ms/step - loss: 0.7482 - acc: 0.8040 - val_loss: 7.2829 - val_acc: 0.0671\n",
      "\n",
      "Epoch 00005: val_loss did not improve from 4.20959\n"
     ]
    },
    {
     "data": {
      "text/plain": [
       "<keras.callbacks.History at 0x39019b358>"
      ]
     },
     "execution_count": 91,
     "metadata": {},
     "output_type": "execute_result"
    }
   ],
   "source": [
    "from keras.callbacks import ModelCheckpoint  \n",
    "\n",
    "### TODO: specify the number of epochs that you would like to use to train the model.\n",
    "\n",
    "epochs = 5\n",
    "\n",
    "### Do NOT modify the code below this line.\n",
    "\n",
    "checkpointer = ModelCheckpoint(filepath='saved_models/weights.best.from_scratch.hdf5', \n",
    "                               verbose=1, save_best_only=True)\n",
    "\n",
    "model.fit(train_tensors, train_targets, \n",
    "          validation_data=(valid_tensors, valid_targets),\n",
    "          epochs=epochs, batch_size=20, callbacks=[checkpointer], verbose=1)"
   ]
  },
  {
   "cell_type": "markdown",
   "metadata": {},
   "source": [
    "### Load the Model with the Best Validation Loss"
   ]
  },
  {
   "cell_type": "code",
   "execution_count": 92,
   "metadata": {},
   "outputs": [],
   "source": [
    "model.load_weights('saved_models/weights.best.from_scratch.hdf5')"
   ]
  },
  {
   "cell_type": "markdown",
   "metadata": {},
   "source": [
    "### Test the Model\n",
    "\n",
    "Try out your model on the test dataset of dog images.  Ensure that your test accuracy is greater than 1%."
   ]
  },
  {
   "cell_type": "code",
   "execution_count": 93,
   "metadata": {},
   "outputs": [
    {
     "name": "stdout",
     "output_type": "stream",
     "text": [
      "Test accuracy: 6.6986%\n"
     ]
    }
   ],
   "source": [
    "# get index of predicted dog breed for each image in test set\n",
    "dog_breed_predictions = [np.argmax(model.predict(np.expand_dims(tensor, axis=0))) for tensor in test_tensors]\n",
    "\n",
    "# report test accuracy\n",
    "test_accuracy = 100*np.sum(np.array(dog_breed_predictions)==np.argmax(test_targets, axis=1))/len(dog_breed_predictions)\n",
    "print('Test accuracy: %.4f%%' % test_accuracy)"
   ]
  },
  {
   "cell_type": "markdown",
   "metadata": {},
   "source": [
    "---\n",
    "<a id='step4'></a>\n",
    "## Step 4: Use a CNN to Classify Dog Breeds\n",
    "\n",
    "To reduce training time without sacrificing accuracy, we show you how to train a CNN using transfer learning.  In the following step, you will get a chance to use transfer learning to train your own CNN.\n",
    "\n",
    "### Obtain Bottleneck Features"
   ]
  },
  {
   "cell_type": "code",
   "execution_count": 94,
   "metadata": {},
   "outputs": [],
   "source": [
    "bottleneck_features = np.load('bottleneck_features/DogVGG16Data.npz')\n",
    "train_VGG16 = bottleneck_features['train']\n",
    "valid_VGG16 = bottleneck_features['valid']\n",
    "test_VGG16 = bottleneck_features['test']"
   ]
  },
  {
   "cell_type": "markdown",
   "metadata": {},
   "source": [
    "### Model Architecture\n",
    "\n",
    "The model uses the the pre-trained VGG-16 model as a fixed feature extractor, where the last convolutional output of VGG-16 is fed as input to our model.  We only add a global average pooling layer and a fully connected layer, where the latter contains one node for each dog category and is equipped with a softmax."
   ]
  },
  {
   "cell_type": "code",
   "execution_count": 95,
   "metadata": {},
   "outputs": [
    {
     "name": "stdout",
     "output_type": "stream",
     "text": [
      "_________________________________________________________________\n",
      "Layer (type)                 Output Shape              Param #   \n",
      "=================================================================\n",
      "global_average_pooling2d_3 ( (None, 512)               0         \n",
      "_________________________________________________________________\n",
      "dense_7 (Dense)              (None, 133)               68229     \n",
      "=================================================================\n",
      "Total params: 68,229\n",
      "Trainable params: 68,229\n",
      "Non-trainable params: 0\n",
      "_________________________________________________________________\n"
     ]
    }
   ],
   "source": [
    "VGG16_model = Sequential()\n",
    "VGG16_model.add(GlobalAveragePooling2D(input_shape=train_VGG16.shape[1:]))\n",
    "VGG16_model.add(Dense(133, activation='softmax'))\n",
    "\n",
    "VGG16_model.summary()"
   ]
  },
  {
   "cell_type": "markdown",
   "metadata": {},
   "source": [
    "### Compile the Model"
   ]
  },
  {
   "cell_type": "code",
   "execution_count": 96,
   "metadata": {},
   "outputs": [],
   "source": [
    "VGG16_model.compile(loss='categorical_crossentropy', optimizer='rmsprop', metrics=['accuracy'])"
   ]
  },
  {
   "cell_type": "markdown",
   "metadata": {},
   "source": [
    "### Train the Model"
   ]
  },
  {
   "cell_type": "code",
   "execution_count": 97,
   "metadata": {},
   "outputs": [
    {
     "name": "stdout",
     "output_type": "stream",
     "text": [
      "Train on 6680 samples, validate on 835 samples\n",
      "Epoch 1/20\n",
      "6680/6680 [==============================] - ETA: 1:27:48 - loss: 13.6978 - acc: 0.0000e+0 - ETA: 29:12 - loss: 14.3592 - acc: 0.0000e+00  - ETA: 14:31 - loss: 14.6396 - acc: 0.0167    - ETA: 8:39 - loss: 14.3059 - acc: 0.025 - ETA: 6:07 - loss: 14.5289 - acc: 0.02 - ETA: 5:01 - loss: 14.4345 - acc: 0.02 - ETA: 4:01 - loss: 14.3355 - acc: 0.03 - ETA: 3:30 - loss: 14.3322 - acc: 0.03 - ETA: 3:13 - loss: 14.3227 - acc: 0.03 - ETA: 2:52 - loss: 14.2756 - acc: 0.03 - ETA: 2:41 - loss: 14.2858 - acc: 0.03 - ETA: 2:25 - loss: 14.1629 - acc: 0.03 - ETA: 2:09 - loss: 14.1405 - acc: 0.03 - ETA: 1:55 - loss: 14.0995 - acc: 0.03 - ETA: 1:44 - loss: 14.0343 - acc: 0.03 - ETA: 1:37 - loss: 14.0190 - acc: 0.03 - ETA: 1:29 - loss: 13.9649 - acc: 0.03 - ETA: 1:22 - loss: 13.8961 - acc: 0.03 - ETA: 1:15 - loss: 13.8363 - acc: 0.03 - ETA: 1:11 - loss: 13.7849 - acc: 0.03 - ETA: 1:07 - loss: 13.7846 - acc: 0.03 - ETA: 1:04 - loss: 13.7081 - acc: 0.04 - ETA: 1:01 - loss: 13.7075 - acc: 0.03 - ETA: 57s - loss: 13.6440 - acc: 0.0409 - ETA: 53s - loss: 13.5766 - acc: 0.042 - ETA: 50s - loss: 13.5251 - acc: 0.046 - ETA: 47s - loss: 13.4936 - acc: 0.048 - ETA: 45s - loss: 13.4676 - acc: 0.048 - ETA: 42s - loss: 13.4003 - acc: 0.052 - ETA: 40s - loss: 13.3548 - acc: 0.053 - ETA: 38s - loss: 13.3003 - acc: 0.054 - ETA: 36s - loss: 13.2947 - acc: 0.054 - ETA: 35s - loss: 13.2547 - acc: 0.057 - ETA: 33s - loss: 13.2258 - acc: 0.058 - ETA: 32s - loss: 13.1817 - acc: 0.059 - ETA: 30s - loss: 13.1382 - acc: 0.059 - ETA: 29s - loss: 13.1085 - acc: 0.061 - ETA: 28s - loss: 13.0849 - acc: 0.061 - ETA: 27s - loss: 13.0413 - acc: 0.062 - ETA: 26s - loss: 13.0030 - acc: 0.064 - ETA: 24s - loss: 12.9433 - acc: 0.065 - ETA: 23s - loss: 12.9052 - acc: 0.066 - ETA: 22s - loss: 12.8486 - acc: 0.069 - ETA: 22s - loss: 12.8150 - acc: 0.070 - ETA: 21s - loss: 12.7304 - acc: 0.072 - ETA: 20s - loss: 12.6950 - acc: 0.074 - ETA: 19s - loss: 12.6356 - acc: 0.075 - ETA: 18s - loss: 12.6165 - acc: 0.076 - ETA: 17s - loss: 12.5602 - acc: 0.078 - ETA: 17s - loss: 12.5249 - acc: 0.080 - ETA: 16s - loss: 12.4798 - acc: 0.082 - ETA: 15s - loss: 12.4171 - acc: 0.084 - ETA: 15s - loss: 12.3907 - acc: 0.084 - ETA: 14s - loss: 12.3725 - acc: 0.085 - ETA: 14s - loss: 12.3534 - acc: 0.085 - ETA: 13s - loss: 12.2883 - acc: 0.089 - ETA: 12s - loss: 12.2594 - acc: 0.090 - ETA: 12s - loss: 12.2224 - acc: 0.091 - ETA: 11s - loss: 12.1969 - acc: 0.092 - ETA: 11s - loss: 12.1618 - acc: 0.094 - ETA: 10s - loss: 12.1263 - acc: 0.096 - ETA: 10s - loss: 12.0966 - acc: 0.098 - ETA: 9s - loss: 12.0438 - acc: 0.100 - ETA: 9s - loss: 11.9866 - acc: 0.10 - ETA: 8s - loss: 11.9546 - acc: 0.10 - ETA: 8s - loss: 11.9371 - acc: 0.10 - ETA: 7s - loss: 11.9209 - acc: 0.10 - ETA: 7s - loss: 11.9026 - acc: 0.10 - ETA: 7s - loss: 11.8704 - acc: 0.11 - ETA: 6s - loss: 11.8378 - acc: 0.11 - ETA: 6s - loss: 11.7910 - acc: 0.11 - ETA: 6s - loss: 11.7588 - acc: 0.11 - ETA: 5s - loss: 11.7190 - acc: 0.11 - ETA: 5s - loss: 11.7138 - acc: 0.11 - ETA: 5s - loss: 11.6846 - acc: 0.11 - ETA: 4s - loss: 11.6556 - acc: 0.12 - ETA: 4s - loss: 11.6234 - acc: 0.12 - ETA: 4s - loss: 11.5934 - acc: 0.12 - ETA: 3s - loss: 11.5510 - acc: 0.12 - ETA: 3s - loss: 11.5054 - acc: 0.12 - ETA: 3s - loss: 11.4818 - acc: 0.13 - ETA: 2s - loss: 11.4514 - acc: 0.13 - ETA: 2s - loss: 11.4239 - acc: 0.13 - ETA: 2s - loss: 11.4070 - acc: 0.13 - ETA: 1s - loss: 11.3905 - acc: 0.13 - ETA: 1s - loss: 11.3735 - acc: 0.13 - ETA: 1s - loss: 11.3499 - acc: 0.13 - ETA: 1s - loss: 11.3222 - acc: 0.14 - ETA: 0s - loss: 11.3006 - acc: 0.14 - ETA: 0s - loss: 11.2747 - acc: 0.14 - ETA: 0s - loss: 11.2472 - acc: 0.14 - ETA: 0s - loss: 11.1996 - acc: 0.14 - 22s 3ms/step - loss: 11.1844 - acc: 0.1493 - val_loss: 9.0739 - val_acc: 0.2850\n",
      "\n",
      "Epoch 00001: val_loss improved from inf to 9.07389, saving model to saved_models/weights.best.VGG16.hdf5\n",
      "Epoch 2/20\n",
      "6680/6680 [==============================] - ETA: 8s - loss: 9.5622 - acc: 0.350 - ETA: 7s - loss: 8.0990 - acc: 0.375 - ETA: 6s - loss: 7.8023 - acc: 0.385 - ETA: 6s - loss: 8.6683 - acc: 0.331 - ETA: 5s - loss: 8.4555 - acc: 0.336 - ETA: 5s - loss: 8.7402 - acc: 0.326 - ETA: 5s - loss: 8.7487 - acc: 0.326 - ETA: 5s - loss: 8.8186 - acc: 0.320 - ETA: 5s - loss: 8.8512 - acc: 0.321 - ETA: 4s - loss: 8.8943 - acc: 0.323 - ETA: 4s - loss: 8.8672 - acc: 0.322 - ETA: 4s - loss: 8.8303 - acc: 0.322 - ETA: 4s - loss: 8.7795 - acc: 0.322 - ETA: 4s - loss: 8.6822 - acc: 0.329 - ETA: 4s - loss: 8.6493 - acc: 0.331 - ETA: 4s - loss: 8.6228 - acc: 0.331 - ETA: 4s - loss: 8.6778 - acc: 0.327 - ETA: 4s - loss: 8.6342 - acc: 0.329 - ETA: 4s - loss: 8.6213 - acc: 0.330 - ETA: 4s - loss: 8.6369 - acc: 0.332 - ETA: 4s - loss: 8.6505 - acc: 0.334 - ETA: 4s - loss: 8.6019 - acc: 0.338 - ETA: 4s - loss: 8.5478 - acc: 0.341 - ETA: 3s - loss: 8.5139 - acc: 0.342 - ETA: 3s - loss: 8.5029 - acc: 0.345 - ETA: 3s - loss: 8.4776 - acc: 0.346 - ETA: 3s - loss: 8.4849 - acc: 0.346 - ETA: 3s - loss: 8.5187 - acc: 0.343 - ETA: 3s - loss: 8.5072 - acc: 0.342 - ETA: 3s - loss: 8.4917 - acc: 0.343 - ETA: 3s - loss: 8.4868 - acc: 0.343 - ETA: 3s - loss: 8.4919 - acc: 0.343 - ETA: 3s - loss: 8.4669 - acc: 0.344 - ETA: 3s - loss: 8.4799 - acc: 0.344 - ETA: 3s - loss: 8.4951 - acc: 0.341 - ETA: 3s - loss: 8.4671 - acc: 0.345 - ETA: 3s - loss: 8.4593 - acc: 0.346 - ETA: 3s - loss: 8.4623 - acc: 0.347 - ETA: 2s - loss: 8.5082 - acc: 0.346 - ETA: 2s - loss: 8.4604 - acc: 0.349 - ETA: 2s - loss: 8.4447 - acc: 0.351 - ETA: 2s - loss: 8.4078 - acc: 0.353 - ETA: 2s - loss: 8.3817 - acc: 0.354 - ETA: 2s - loss: 8.3552 - acc: 0.355 - ETA: 2s - loss: 8.3635 - acc: 0.354 - ETA: 2s - loss: 8.3428 - acc: 0.356 - ETA: 2s - loss: 8.3334 - acc: 0.357 - ETA: 2s - loss: 8.3353 - acc: 0.356 - ETA: 2s - loss: 8.3184 - acc: 0.357 - ETA: 2s - loss: 8.3148 - acc: 0.358 - ETA: 2s - loss: 8.3156 - acc: 0.358 - ETA: 2s - loss: 8.3097 - acc: 0.359 - ETA: 2s - loss: 8.3056 - acc: 0.359 - ETA: 2s - loss: 8.3106 - acc: 0.359 - ETA: 2s - loss: 8.3208 - acc: 0.359 - ETA: 1s - loss: 8.3352 - acc: 0.358 - ETA: 1s - loss: 8.3294 - acc: 0.359 - ETA: 1s - loss: 8.3412 - acc: 0.359 - ETA: 1s - loss: 8.3041 - acc: 0.361 - ETA: 1s - loss: 8.3135 - acc: 0.361 - ETA: 1s - loss: 8.3187 - acc: 0.361 - ETA: 1s - loss: 8.3228 - acc: 0.361 - ETA: 1s - loss: 8.3092 - acc: 0.362 - ETA: 1s - loss: 8.2892 - acc: 0.363 - ETA: 1s - loss: 8.2836 - acc: 0.363 - ETA: 1s - loss: 8.2744 - acc: 0.363 - ETA: 1s - loss: 8.2786 - acc: 0.364 - ETA: 1s - loss: 8.2916 - acc: 0.363 - ETA: 1s - loss: 8.2773 - acc: 0.364 - ETA: 1s - loss: 8.2735 - acc: 0.365 - ETA: 1s - loss: 8.2593 - acc: 0.366 - ETA: 1s - loss: 8.2346 - acc: 0.369 - ETA: 0s - loss: 8.2209 - acc: 0.370 - ETA: 0s - loss: 8.2084 - acc: 0.370 - ETA: 0s - loss: 8.2033 - acc: 0.371 - ETA: 0s - loss: 8.1979 - acc: 0.371 - ETA: 0s - loss: 8.2046 - acc: 0.371 - ETA: 0s - loss: 8.1939 - acc: 0.371 - ETA: 0s - loss: 8.1830 - acc: 0.371 - ETA: 0s - loss: 8.1911 - acc: 0.371 - ETA: 0s - loss: 8.1839 - acc: 0.371 - ETA: 0s - loss: 8.1803 - acc: 0.372 - ETA: 0s - loss: 8.1869 - acc: 0.371 - ETA: 0s - loss: 8.1939 - acc: 0.371 - ETA: 0s - loss: 8.1876 - acc: 0.372 - ETA: 0s - loss: 8.1762 - acc: 0.373 - ETA: 0s - loss: 8.1848 - acc: 0.372 - ETA: 0s - loss: 8.1936 - acc: 0.372 - 6s 845us/step - loss: 8.1868 - acc: 0.3725 - val_loss: 8.0588 - val_acc: 0.3820\n",
      "\n",
      "Epoch 00002: val_loss improved from 9.07389 to 8.05877, saving model to saved_models/weights.best.VGG16.hdf5\n",
      "Epoch 3/20\n"
     ]
    },
    {
     "name": "stdout",
     "output_type": "stream",
     "text": [
      "6680/6680 [==============================] - ETA: 4s - loss: 8.2986 - acc: 0.350 - ETA: 5s - loss: 7.0053 - acc: 0.470 - ETA: 4s - loss: 7.2724 - acc: 0.450 - ETA: 5s - loss: 6.8672 - acc: 0.475 - ETA: 5s - loss: 6.7848 - acc: 0.480 - ETA: 5s - loss: 7.0697 - acc: 0.468 - ETA: 4s - loss: 7.3462 - acc: 0.454 - ETA: 4s - loss: 7.3277 - acc: 0.457 - ETA: 4s - loss: 7.2036 - acc: 0.465 - ETA: 4s - loss: 7.0781 - acc: 0.472 - ETA: 4s - loss: 7.0703 - acc: 0.472 - ETA: 4s - loss: 7.1789 - acc: 0.468 - ETA: 4s - loss: 7.2681 - acc: 0.467 - ETA: 4s - loss: 7.2060 - acc: 0.471 - ETA: 4s - loss: 7.0519 - acc: 0.478 - ETA: 4s - loss: 7.1052 - acc: 0.472 - ETA: 4s - loss: 7.1623 - acc: 0.467 - ETA: 4s - loss: 7.2190 - acc: 0.461 - ETA: 4s - loss: 7.3133 - acc: 0.457 - ETA: 4s - loss: 7.2897 - acc: 0.456 - ETA: 4s - loss: 7.2873 - acc: 0.455 - ETA: 4s - loss: 7.2604 - acc: 0.458 - ETA: 4s - loss: 7.2499 - acc: 0.459 - ETA: 4s - loss: 7.2097 - acc: 0.463 - ETA: 3s - loss: 7.2234 - acc: 0.461 - ETA: 3s - loss: 7.2516 - acc: 0.461 - ETA: 3s - loss: 7.2741 - acc: 0.461 - ETA: 3s - loss: 7.3167 - acc: 0.458 - ETA: 3s - loss: 7.2933 - acc: 0.459 - ETA: 3s - loss: 7.3220 - acc: 0.456 - ETA: 3s - loss: 7.3199 - acc: 0.455 - ETA: 3s - loss: 7.3338 - acc: 0.454 - ETA: 3s - loss: 7.3625 - acc: 0.453 - ETA: 3s - loss: 7.3723 - acc: 0.453 - ETA: 3s - loss: 7.3734 - acc: 0.453 - ETA: 3s - loss: 7.3682 - acc: 0.454 - ETA: 3s - loss: 7.3748 - acc: 0.454 - ETA: 3s - loss: 7.3960 - acc: 0.453 - ETA: 3s - loss: 7.4080 - acc: 0.453 - ETA: 3s - loss: 7.4444 - acc: 0.450 - ETA: 3s - loss: 7.4496 - acc: 0.448 - ETA: 3s - loss: 7.4454 - acc: 0.448 - ETA: 3s - loss: 7.4456 - acc: 0.448 - ETA: 2s - loss: 7.4375 - acc: 0.449 - ETA: 2s - loss: 7.4256 - acc: 0.450 - ETA: 2s - loss: 7.4496 - acc: 0.448 - ETA: 2s - loss: 7.4757 - acc: 0.447 - ETA: 2s - loss: 7.4481 - acc: 0.448 - ETA: 2s - loss: 7.4036 - acc: 0.452 - ETA: 2s - loss: 7.4239 - acc: 0.451 - ETA: 2s - loss: 7.4356 - acc: 0.450 - ETA: 2s - loss: 7.4049 - acc: 0.450 - ETA: 2s - loss: 7.4147 - acc: 0.451 - ETA: 2s - loss: 7.4066 - acc: 0.451 - ETA: 2s - loss: 7.4133 - acc: 0.451 - ETA: 2s - loss: 7.4223 - acc: 0.450 - ETA: 2s - loss: 7.4225 - acc: 0.451 - ETA: 2s - loss: 7.4271 - acc: 0.451 - ETA: 2s - loss: 7.4493 - acc: 0.450 - ETA: 1s - loss: 7.4624 - acc: 0.450 - ETA: 1s - loss: 7.4587 - acc: 0.450 - ETA: 1s - loss: 7.4404 - acc: 0.451 - ETA: 1s - loss: 7.4428 - acc: 0.450 - ETA: 1s - loss: 7.4411 - acc: 0.450 - ETA: 1s - loss: 7.4507 - acc: 0.450 - ETA: 1s - loss: 7.4635 - acc: 0.449 - ETA: 1s - loss: 7.4723 - acc: 0.449 - ETA: 1s - loss: 7.4632 - acc: 0.450 - ETA: 1s - loss: 7.4704 - acc: 0.450 - ETA: 1s - loss: 7.4790 - acc: 0.449 - ETA: 1s - loss: 7.4801 - acc: 0.449 - ETA: 1s - loss: 7.4768 - acc: 0.449 - ETA: 1s - loss: 7.4582 - acc: 0.450 - ETA: 1s - loss: 7.4631 - acc: 0.451 - ETA: 0s - loss: 7.4381 - acc: 0.453 - ETA: 0s - loss: 7.4555 - acc: 0.452 - ETA: 0s - loss: 7.4507 - acc: 0.452 - ETA: 0s - loss: 7.4414 - acc: 0.452 - ETA: 0s - loss: 7.4276 - acc: 0.453 - ETA: 0s - loss: 7.4107 - acc: 0.453 - ETA: 0s - loss: 7.4076 - acc: 0.453 - ETA: 0s - loss: 7.4163 - acc: 0.453 - ETA: 0s - loss: 7.4228 - acc: 0.453 - ETA: 0s - loss: 7.4007 - acc: 0.454 - ETA: 0s - loss: 7.3898 - acc: 0.455 - ETA: 0s - loss: 7.4041 - acc: 0.454 - ETA: 0s - loss: 7.4081 - acc: 0.454 - ETA: 0s - loss: 7.4346 - acc: 0.453 - ETA: 0s - loss: 7.4386 - acc: 0.453 - ETA: 0s - loss: 7.4344 - acc: 0.452 - ETA: 0s - loss: 7.4322 - acc: 0.452 - ETA: 0s - loss: 7.4219 - acc: 0.453 - 6s 852us/step - loss: 7.4178 - acc: 0.4531 - val_loss: 7.6813 - val_acc: 0.4168\n",
      "\n",
      "Epoch 00003: val_loss improved from 8.05877 to 7.68134, saving model to saved_models/weights.best.VGG16.hdf5\n",
      "Epoch 4/20\n",
      "6680/6680 [==============================] - ETA: 4s - loss: 6.6773 - acc: 0.550 - ETA: 5s - loss: 7.1607 - acc: 0.520 - ETA: 5s - loss: 7.1210 - acc: 0.522 - ETA: 4s - loss: 6.8962 - acc: 0.519 - ETA: 4s - loss: 7.0439 - acc: 0.508 - ETA: 4s - loss: 7.1462 - acc: 0.495 - ETA: 4s - loss: 7.2012 - acc: 0.493 - ETA: 4s - loss: 7.0807 - acc: 0.500 - ETA: 4s - loss: 6.9711 - acc: 0.508 - ETA: 4s - loss: 6.9796 - acc: 0.508 - ETA: 4s - loss: 6.8557 - acc: 0.515 - ETA: 4s - loss: 6.7881 - acc: 0.523 - ETA: 4s - loss: 6.8314 - acc: 0.520 - ETA: 4s - loss: 6.9666 - acc: 0.510 - ETA: 4s - loss: 6.9511 - acc: 0.510 - ETA: 4s - loss: 6.9224 - acc: 0.514 - ETA: 4s - loss: 6.9001 - acc: 0.513 - ETA: 4s - loss: 7.0032 - acc: 0.506 - ETA: 4s - loss: 6.9807 - acc: 0.506 - ETA: 4s - loss: 6.9694 - acc: 0.506 - ETA: 4s - loss: 6.9139 - acc: 0.511 - ETA: 3s - loss: 6.9477 - acc: 0.508 - ETA: 3s - loss: 6.9351 - acc: 0.506 - ETA: 3s - loss: 6.9392 - acc: 0.506 - ETA: 3s - loss: 6.9866 - acc: 0.502 - ETA: 3s - loss: 6.9567 - acc: 0.504 - ETA: 3s - loss: 7.0219 - acc: 0.501 - ETA: 3s - loss: 7.0491 - acc: 0.499 - ETA: 3s - loss: 7.0332 - acc: 0.501 - ETA: 3s - loss: 7.0044 - acc: 0.504 - ETA: 3s - loss: 6.9972 - acc: 0.505 - ETA: 3s - loss: 7.0284 - acc: 0.503 - ETA: 3s - loss: 6.9785 - acc: 0.506 - ETA: 3s - loss: 6.9394 - acc: 0.509 - ETA: 3s - loss: 6.9397 - acc: 0.508 - ETA: 3s - loss: 6.9439 - acc: 0.507 - ETA: 3s - loss: 6.9354 - acc: 0.508 - ETA: 2s - loss: 6.9689 - acc: 0.506 - ETA: 2s - loss: 6.9903 - acc: 0.504 - ETA: 2s - loss: 7.0216 - acc: 0.502 - ETA: 2s - loss: 7.0227 - acc: 0.502 - ETA: 2s - loss: 7.0158 - acc: 0.503 - ETA: 2s - loss: 6.9872 - acc: 0.505 - ETA: 2s - loss: 6.9937 - acc: 0.504 - ETA: 2s - loss: 7.0099 - acc: 0.503 - ETA: 2s - loss: 7.0309 - acc: 0.501 - ETA: 2s - loss: 7.0317 - acc: 0.501 - ETA: 2s - loss: 7.0067 - acc: 0.503 - ETA: 2s - loss: 7.0015 - acc: 0.503 - ETA: 2s - loss: 6.9846 - acc: 0.503 - ETA: 2s - loss: 7.0005 - acc: 0.502 - ETA: 2s - loss: 6.9977 - acc: 0.502 - ETA: 2s - loss: 6.9869 - acc: 0.503 - ETA: 2s - loss: 6.9472 - acc: 0.505 - ETA: 1s - loss: 6.9596 - acc: 0.504 - ETA: 1s - loss: 6.9321 - acc: 0.506 - ETA: 1s - loss: 6.9214 - acc: 0.506 - ETA: 1s - loss: 6.9209 - acc: 0.506 - ETA: 1s - loss: 6.9388 - acc: 0.505 - ETA: 1s - loss: 6.9490 - acc: 0.505 - ETA: 1s - loss: 6.9389 - acc: 0.504 - ETA: 1s - loss: 6.9336 - acc: 0.503 - ETA: 1s - loss: 6.9133 - acc: 0.504 - ETA: 1s - loss: 6.8927 - acc: 0.506 - ETA: 1s - loss: 6.8900 - acc: 0.505 - ETA: 1s - loss: 6.8957 - acc: 0.505 - ETA: 1s - loss: 6.9072 - acc: 0.505 - ETA: 1s - loss: 6.9061 - acc: 0.505 - ETA: 1s - loss: 6.9070 - acc: 0.505 - ETA: 1s - loss: 6.9188 - acc: 0.504 - ETA: 1s - loss: 6.9418 - acc: 0.502 - ETA: 0s - loss: 6.9412 - acc: 0.502 - ETA: 0s - loss: 6.9361 - acc: 0.502 - ETA: 0s - loss: 6.9282 - acc: 0.502 - ETA: 0s - loss: 6.9022 - acc: 0.504 - ETA: 0s - loss: 6.9087 - acc: 0.504 - ETA: 0s - loss: 6.9177 - acc: 0.503 - ETA: 0s - loss: 6.9072 - acc: 0.504 - ETA: 0s - loss: 6.8917 - acc: 0.505 - ETA: 0s - loss: 6.8898 - acc: 0.504 - ETA: 0s - loss: 6.8771 - acc: 0.505 - ETA: 0s - loss: 6.8714 - acc: 0.506 - ETA: 0s - loss: 6.8600 - acc: 0.506 - ETA: 0s - loss: 6.8633 - acc: 0.507 - ETA: 0s - loss: 6.8555 - acc: 0.507 - ETA: 0s - loss: 6.8713 - acc: 0.506 - ETA: 0s - loss: 6.8732 - acc: 0.506 - 6s 926us/step - loss: 6.8874 - acc: 0.5049 - val_loss: 7.2540 - val_acc: 0.4407\n",
      "\n",
      "Epoch 00004: val_loss improved from 7.68134 to 7.25397, saving model to saved_models/weights.best.VGG16.hdf5\n",
      "Epoch 5/20\n"
     ]
    },
    {
     "name": "stdout",
     "output_type": "stream",
     "text": [
      "6680/6680 [==============================] - ETA: 4s - loss: 4.9319 - acc: 0.650 - ETA: 4s - loss: 6.4404 - acc: 0.560 - ETA: 4s - loss: 6.4600 - acc: 0.527 - ETA: 4s - loss: 6.2604 - acc: 0.534 - ETA: 4s - loss: 6.2130 - acc: 0.541 - ETA: 4s - loss: 6.5263 - acc: 0.533 - ETA: 4s - loss: 6.7115 - acc: 0.528 - ETA: 4s - loss: 6.5596 - acc: 0.536 - ETA: 4s - loss: 6.5888 - acc: 0.531 - ETA: 4s - loss: 6.5833 - acc: 0.533 - ETA: 4s - loss: 6.5247 - acc: 0.531 - ETA: 4s - loss: 6.5444 - acc: 0.528 - ETA: 4s - loss: 6.4529 - acc: 0.533 - ETA: 4s - loss: 6.3817 - acc: 0.539 - ETA: 4s - loss: 6.4827 - acc: 0.532 - ETA: 4s - loss: 6.4658 - acc: 0.533 - ETA: 3s - loss: 6.4258 - acc: 0.536 - ETA: 3s - loss: 6.4584 - acc: 0.534 - ETA: 3s - loss: 6.4402 - acc: 0.537 - ETA: 3s - loss: 6.4735 - acc: 0.536 - ETA: 3s - loss: 6.5830 - acc: 0.532 - ETA: 3s - loss: 6.6032 - acc: 0.530 - ETA: 3s - loss: 6.6452 - acc: 0.527 - ETA: 3s - loss: 6.6597 - acc: 0.526 - ETA: 3s - loss: 6.6652 - acc: 0.526 - ETA: 3s - loss: 6.6712 - acc: 0.526 - ETA: 3s - loss: 6.6782 - acc: 0.526 - ETA: 3s - loss: 6.6558 - acc: 0.528 - ETA: 3s - loss: 6.6816 - acc: 0.526 - ETA: 3s - loss: 6.7301 - acc: 0.523 - ETA: 3s - loss: 6.6933 - acc: 0.525 - ETA: 3s - loss: 6.7184 - acc: 0.523 - ETA: 3s - loss: 6.6719 - acc: 0.526 - ETA: 2s - loss: 6.6696 - acc: 0.526 - ETA: 2s - loss: 6.6675 - acc: 0.526 - ETA: 2s - loss: 6.6807 - acc: 0.526 - ETA: 2s - loss: 6.6554 - acc: 0.527 - ETA: 2s - loss: 6.6671 - acc: 0.526 - ETA: 2s - loss: 6.6792 - acc: 0.526 - ETA: 2s - loss: 6.6626 - acc: 0.526 - ETA: 2s - loss: 6.6309 - acc: 0.528 - ETA: 2s - loss: 6.6244 - acc: 0.528 - ETA: 2s - loss: 6.6596 - acc: 0.526 - ETA: 2s - loss: 6.6556 - acc: 0.526 - ETA: 2s - loss: 6.6307 - acc: 0.528 - ETA: 2s - loss: 6.6231 - acc: 0.528 - ETA: 2s - loss: 6.6029 - acc: 0.530 - ETA: 2s - loss: 6.5952 - acc: 0.530 - ETA: 2s - loss: 6.5413 - acc: 0.534 - ETA: 2s - loss: 6.5414 - acc: 0.534 - ETA: 1s - loss: 6.5429 - acc: 0.534 - ETA: 1s - loss: 6.5234 - acc: 0.536 - ETA: 1s - loss: 6.4876 - acc: 0.538 - ETA: 1s - loss: 6.5120 - acc: 0.536 - ETA: 1s - loss: 6.4867 - acc: 0.537 - ETA: 1s - loss: 6.5022 - acc: 0.535 - ETA: 1s - loss: 6.5155 - acc: 0.535 - ETA: 1s - loss: 6.5240 - acc: 0.534 - ETA: 1s - loss: 6.5209 - acc: 0.534 - ETA: 1s - loss: 6.5012 - acc: 0.535 - ETA: 1s - loss: 6.5131 - acc: 0.535 - ETA: 1s - loss: 6.5190 - acc: 0.534 - ETA: 1s - loss: 6.5311 - acc: 0.533 - ETA: 1s - loss: 6.5099 - acc: 0.534 - ETA: 1s - loss: 6.5168 - acc: 0.534 - ETA: 1s - loss: 6.5365 - acc: 0.533 - ETA: 1s - loss: 6.5454 - acc: 0.533 - ETA: 0s - loss: 6.5472 - acc: 0.533 - ETA: 0s - loss: 6.5594 - acc: 0.531 - ETA: 0s - loss: 6.5595 - acc: 0.531 - ETA: 0s - loss: 6.5429 - acc: 0.532 - ETA: 0s - loss: 6.5316 - acc: 0.533 - ETA: 0s - loss: 6.5410 - acc: 0.532 - ETA: 0s - loss: 6.5453 - acc: 0.532 - ETA: 0s - loss: 6.5481 - acc: 0.532 - ETA: 0s - loss: 6.5380 - acc: 0.532 - ETA: 0s - loss: 6.5310 - acc: 0.532 - ETA: 0s - loss: 6.5232 - acc: 0.532 - ETA: 0s - loss: 6.5433 - acc: 0.531 - ETA: 0s - loss: 6.5522 - acc: 0.531 - ETA: 0s - loss: 6.5421 - acc: 0.531 - ETA: 0s - loss: 6.5275 - acc: 0.531 - ETA: 0s - loss: 6.5270 - acc: 0.531 - ETA: 0s - loss: 6.5041 - acc: 0.532 - ETA: 0s - loss: 6.5047 - acc: 0.533 - 5s 817us/step - loss: 6.5026 - acc: 0.5332 - val_loss: 6.9884 - val_acc: 0.4551\n",
      "\n",
      "Epoch 00005: val_loss improved from 7.25397 to 6.98840, saving model to saved_models/weights.best.VGG16.hdf5\n",
      "Epoch 6/20\n",
      "6680/6680 [==============================] - ETA: 5s - loss: 7.4396 - acc: 0.500 - ETA: 5s - loss: 7.5331 - acc: 0.462 - ETA: 5s - loss: 6.9446 - acc: 0.514 - ETA: 5s - loss: 6.6638 - acc: 0.536 - ETA: 5s - loss: 7.0292 - acc: 0.516 - ETA: 5s - loss: 6.6318 - acc: 0.528 - ETA: 4s - loss: 6.4083 - acc: 0.541 - ETA: 4s - loss: 6.5413 - acc: 0.537 - ETA: 4s - loss: 6.4003 - acc: 0.543 - ETA: 4s - loss: 6.3091 - acc: 0.552 - ETA: 4s - loss: 6.3796 - acc: 0.547 - ETA: 4s - loss: 6.3174 - acc: 0.552 - ETA: 4s - loss: 6.3264 - acc: 0.554 - ETA: 4s - loss: 6.2537 - acc: 0.560 - ETA: 4s - loss: 6.2333 - acc: 0.562 - ETA: 4s - loss: 6.2024 - acc: 0.565 - ETA: 4s - loss: 6.1259 - acc: 0.570 - ETA: 4s - loss: 6.1694 - acc: 0.568 - ETA: 3s - loss: 6.2432 - acc: 0.564 - ETA: 3s - loss: 6.2160 - acc: 0.566 - ETA: 3s - loss: 6.2295 - acc: 0.567 - ETA: 3s - loss: 6.2225 - acc: 0.568 - ETA: 3s - loss: 6.2596 - acc: 0.564 - ETA: 3s - loss: 6.2428 - acc: 0.566 - ETA: 3s - loss: 6.1918 - acc: 0.570 - ETA: 3s - loss: 6.1745 - acc: 0.571 - ETA: 3s - loss: 6.1459 - acc: 0.571 - ETA: 3s - loss: 6.1649 - acc: 0.569 - ETA: 3s - loss: 6.1430 - acc: 0.571 - ETA: 3s - loss: 6.1748 - acc: 0.570 - ETA: 3s - loss: 6.1304 - acc: 0.571 - ETA: 3s - loss: 6.0906 - acc: 0.574 - ETA: 3s - loss: 6.1484 - acc: 0.571 - ETA: 3s - loss: 6.1437 - acc: 0.571 - ETA: 2s - loss: 6.1206 - acc: 0.573 - ETA: 2s - loss: 6.1260 - acc: 0.572 - ETA: 2s - loss: 6.1530 - acc: 0.572 - ETA: 2s - loss: 6.1641 - acc: 0.571 - ETA: 2s - loss: 6.1728 - acc: 0.571 - ETA: 2s - loss: 6.1927 - acc: 0.570 - ETA: 2s - loss: 6.2124 - acc: 0.568 - ETA: 2s - loss: 6.1963 - acc: 0.567 - ETA: 2s - loss: 6.1739 - acc: 0.569 - ETA: 2s - loss: 6.1958 - acc: 0.568 - ETA: 2s - loss: 6.2356 - acc: 0.566 - ETA: 2s - loss: 6.2226 - acc: 0.566 - ETA: 2s - loss: 6.2069 - acc: 0.566 - ETA: 2s - loss: 6.1807 - acc: 0.569 - ETA: 2s - loss: 6.2059 - acc: 0.568 - ETA: 2s - loss: 6.2124 - acc: 0.567 - ETA: 2s - loss: 6.2135 - acc: 0.568 - ETA: 1s - loss: 6.1958 - acc: 0.569 - ETA: 1s - loss: 6.2292 - acc: 0.567 - ETA: 1s - loss: 6.2234 - acc: 0.568 - ETA: 1s - loss: 6.1997 - acc: 0.569 - ETA: 1s - loss: 6.2298 - acc: 0.566 - ETA: 1s - loss: 6.2366 - acc: 0.567 - ETA: 1s - loss: 6.2288 - acc: 0.568 - ETA: 1s - loss: 6.2144 - acc: 0.569 - ETA: 1s - loss: 6.2039 - acc: 0.569 - ETA: 1s - loss: 6.2165 - acc: 0.569 - ETA: 1s - loss: 6.2092 - acc: 0.568 - ETA: 1s - loss: 6.2150 - acc: 0.568 - ETA: 1s - loss: 6.2200 - acc: 0.567 - ETA: 1s - loss: 6.2190 - acc: 0.566 - ETA: 1s - loss: 6.2159 - acc: 0.567 - ETA: 1s - loss: 6.2138 - acc: 0.567 - ETA: 1s - loss: 6.2088 - acc: 0.568 - ETA: 0s - loss: 6.2208 - acc: 0.567 - ETA: 0s - loss: 6.2211 - acc: 0.567 - ETA: 0s - loss: 6.2089 - acc: 0.568 - ETA: 0s - loss: 6.2031 - acc: 0.568 - ETA: 0s - loss: 6.1956 - acc: 0.569 - ETA: 0s - loss: 6.1855 - acc: 0.569 - ETA: 0s - loss: 6.1771 - acc: 0.570 - ETA: 0s - loss: 6.1762 - acc: 0.569 - ETA: 0s - loss: 6.1673 - acc: 0.570 - ETA: 0s - loss: 6.1720 - acc: 0.569 - ETA: 0s - loss: 6.1916 - acc: 0.568 - ETA: 0s - loss: 6.1810 - acc: 0.568 - ETA: 0s - loss: 6.1811 - acc: 0.568 - ETA: 0s - loss: 6.1994 - acc: 0.567 - ETA: 0s - loss: 6.2120 - acc: 0.566 - ETA: 0s - loss: 6.2182 - acc: 0.566 - 5s 811us/step - loss: 6.2187 - acc: 0.5659 - val_loss: 6.8885 - val_acc: 0.4659\n",
      "\n",
      "Epoch 00006: val_loss improved from 6.98840 to 6.88849, saving model to saved_models/weights.best.VGG16.hdf5\n",
      "Epoch 7/20\n"
     ]
    },
    {
     "name": "stdout",
     "output_type": "stream",
     "text": [
      "6680/6680 [==============================] - ETA: 5s - loss: 7.4197 - acc: 0.500 - ETA: 5s - loss: 6.6681 - acc: 0.520 - ETA: 4s - loss: 6.7782 - acc: 0.533 - ETA: 5s - loss: 6.2279 - acc: 0.570 - ETA: 4s - loss: 6.0519 - acc: 0.587 - ETA: 4s - loss: 6.2809 - acc: 0.575 - ETA: 4s - loss: 6.1612 - acc: 0.585 - ETA: 4s - loss: 6.1094 - acc: 0.591 - ETA: 4s - loss: 6.0751 - acc: 0.587 - ETA: 4s - loss: 6.1051 - acc: 0.587 - ETA: 4s - loss: 5.9544 - acc: 0.596 - ETA: 4s - loss: 5.9197 - acc: 0.597 - ETA: 4s - loss: 6.0630 - acc: 0.590 - ETA: 4s - loss: 6.0675 - acc: 0.590 - ETA: 4s - loss: 6.0841 - acc: 0.590 - ETA: 4s - loss: 6.0614 - acc: 0.590 - ETA: 4s - loss: 5.9850 - acc: 0.595 - ETA: 3s - loss: 6.0297 - acc: 0.592 - ETA: 3s - loss: 6.1116 - acc: 0.588 - ETA: 3s - loss: 6.0761 - acc: 0.590 - ETA: 3s - loss: 6.1440 - acc: 0.586 - ETA: 3s - loss: 6.1699 - acc: 0.586 - ETA: 3s - loss: 6.1776 - acc: 0.585 - ETA: 3s - loss: 6.1835 - acc: 0.585 - ETA: 3s - loss: 6.1372 - acc: 0.587 - ETA: 3s - loss: 6.1530 - acc: 0.586 - ETA: 3s - loss: 6.1544 - acc: 0.585 - ETA: 3s - loss: 6.1870 - acc: 0.582 - ETA: 3s - loss: 6.1779 - acc: 0.582 - ETA: 3s - loss: 6.1713 - acc: 0.582 - ETA: 3s - loss: 6.1321 - acc: 0.585 - ETA: 3s - loss: 6.1498 - acc: 0.585 - ETA: 3s - loss: 6.1270 - acc: 0.585 - ETA: 3s - loss: 6.1042 - acc: 0.586 - ETA: 3s - loss: 6.0515 - acc: 0.589 - ETA: 3s - loss: 6.0660 - acc: 0.589 - ETA: 2s - loss: 6.0807 - acc: 0.588 - ETA: 2s - loss: 6.0600 - acc: 0.590 - ETA: 2s - loss: 6.0281 - acc: 0.591 - ETA: 2s - loss: 6.0109 - acc: 0.593 - ETA: 2s - loss: 6.0176 - acc: 0.592 - ETA: 2s - loss: 6.0034 - acc: 0.593 - ETA: 2s - loss: 6.0347 - acc: 0.591 - ETA: 2s - loss: 6.0536 - acc: 0.590 - ETA: 2s - loss: 6.0247 - acc: 0.591 - ETA: 2s - loss: 6.0032 - acc: 0.593 - ETA: 2s - loss: 5.9928 - acc: 0.593 - ETA: 2s - loss: 5.9966 - acc: 0.593 - ETA: 2s - loss: 5.9764 - acc: 0.594 - ETA: 2s - loss: 5.9644 - acc: 0.594 - ETA: 2s - loss: 5.9880 - acc: 0.593 - ETA: 2s - loss: 5.9648 - acc: 0.594 - ETA: 2s - loss: 5.9695 - acc: 0.595 - ETA: 1s - loss: 5.9921 - acc: 0.593 - ETA: 1s - loss: 6.0095 - acc: 0.592 - ETA: 1s - loss: 5.9964 - acc: 0.592 - ETA: 1s - loss: 6.0054 - acc: 0.591 - ETA: 1s - loss: 6.0065 - acc: 0.591 - ETA: 1s - loss: 6.0153 - acc: 0.590 - ETA: 1s - loss: 6.0091 - acc: 0.591 - ETA: 1s - loss: 6.0198 - acc: 0.590 - ETA: 1s - loss: 6.0198 - acc: 0.590 - ETA: 1s - loss: 6.0425 - acc: 0.589 - ETA: 1s - loss: 6.0542 - acc: 0.588 - ETA: 1s - loss: 6.0691 - acc: 0.587 - ETA: 1s - loss: 6.0620 - acc: 0.587 - ETA: 1s - loss: 6.0542 - acc: 0.588 - ETA: 1s - loss: 6.0733 - acc: 0.587 - ETA: 1s - loss: 6.0802 - acc: 0.586 - ETA: 1s - loss: 6.0994 - acc: 0.585 - ETA: 0s - loss: 6.1172 - acc: 0.583 - ETA: 0s - loss: 6.1212 - acc: 0.583 - ETA: 0s - loss: 6.1132 - acc: 0.584 - ETA: 0s - loss: 6.0995 - acc: 0.585 - ETA: 0s - loss: 6.0856 - acc: 0.586 - ETA: 0s - loss: 6.0893 - acc: 0.585 - ETA: 0s - loss: 6.0891 - acc: 0.586 - ETA: 0s - loss: 6.0906 - acc: 0.586 - ETA: 0s - loss: 6.0932 - acc: 0.585 - ETA: 0s - loss: 6.0762 - acc: 0.586 - ETA: 0s - loss: 6.0629 - acc: 0.587 - ETA: 0s - loss: 6.0722 - acc: 0.586 - ETA: 0s - loss: 6.0710 - acc: 0.585 - ETA: 0s - loss: 6.0764 - acc: 0.585 - ETA: 0s - loss: 6.0670 - acc: 0.585 - ETA: 0s - loss: 6.0661 - acc: 0.585 - 5s 815us/step - loss: 6.0584 - acc: 0.5852 - val_loss: 6.8085 - val_acc: 0.4814\n",
      "\n",
      "Epoch 00007: val_loss improved from 6.88849 to 6.80854, saving model to saved_models/weights.best.VGG16.hdf5\n",
      "Epoch 8/20\n",
      "6680/6680 [==============================] - ETA: 5s - loss: 4.2754 - acc: 0.700 - ETA: 5s - loss: 5.3361 - acc: 0.640 - ETA: 4s - loss: 5.2278 - acc: 0.650 - ETA: 4s - loss: 5.5585 - acc: 0.630 - ETA: 4s - loss: 5.7828 - acc: 0.608 - ETA: 4s - loss: 5.6971 - acc: 0.610 - ETA: 4s - loss: 5.6459 - acc: 0.617 - ETA: 4s - loss: 5.7285 - acc: 0.613 - ETA: 4s - loss: 5.8223 - acc: 0.611 - ETA: 4s - loss: 5.6774 - acc: 0.618 - ETA: 4s - loss: 5.6085 - acc: 0.619 - ETA: 4s - loss: 5.4942 - acc: 0.625 - ETA: 4s - loss: 5.5208 - acc: 0.625 - ETA: 4s - loss: 5.6366 - acc: 0.619 - ETA: 4s - loss: 5.5953 - acc: 0.623 - ETA: 4s - loss: 5.6271 - acc: 0.622 - ETA: 4s - loss: 5.7615 - acc: 0.614 - ETA: 4s - loss: 5.7141 - acc: 0.614 - ETA: 4s - loss: 5.7353 - acc: 0.612 - ETA: 3s - loss: 5.7490 - acc: 0.609 - ETA: 3s - loss: 5.8065 - acc: 0.606 - ETA: 3s - loss: 5.8132 - acc: 0.606 - ETA: 3s - loss: 5.7531 - acc: 0.608 - ETA: 3s - loss: 5.7078 - acc: 0.610 - ETA: 3s - loss: 5.6924 - acc: 0.611 - ETA: 3s - loss: 5.7161 - acc: 0.609 - ETA: 3s - loss: 5.6805 - acc: 0.611 - ETA: 3s - loss: 5.6711 - acc: 0.612 - ETA: 3s - loss: 5.6743 - acc: 0.611 - ETA: 3s - loss: 5.6431 - acc: 0.614 - ETA: 3s - loss: 5.6895 - acc: 0.610 - ETA: 3s - loss: 5.6788 - acc: 0.610 - ETA: 3s - loss: 5.6616 - acc: 0.610 - ETA: 3s - loss: 5.6727 - acc: 0.609 - ETA: 3s - loss: 5.6555 - acc: 0.610 - ETA: 3s - loss: 5.6583 - acc: 0.610 - ETA: 2s - loss: 5.7085 - acc: 0.606 - ETA: 2s - loss: 5.6921 - acc: 0.608 - ETA: 2s - loss: 5.6934 - acc: 0.608 - ETA: 2s - loss: 5.7061 - acc: 0.607 - ETA: 2s - loss: 5.6713 - acc: 0.608 - ETA: 2s - loss: 5.6766 - acc: 0.607 - ETA: 2s - loss: 5.6762 - acc: 0.607 - ETA: 2s - loss: 5.6615 - acc: 0.608 - ETA: 2s - loss: 5.6309 - acc: 0.610 - ETA: 2s - loss: 5.6634 - acc: 0.608 - ETA: 2s - loss: 5.6890 - acc: 0.607 - ETA: 2s - loss: 5.7267 - acc: 0.605 - ETA: 2s - loss: 5.7214 - acc: 0.605 - ETA: 2s - loss: 5.7257 - acc: 0.604 - ETA: 2s - loss: 5.7135 - acc: 0.605 - ETA: 2s - loss: 5.7196 - acc: 0.605 - ETA: 1s - loss: 5.7245 - acc: 0.605 - ETA: 1s - loss: 5.7399 - acc: 0.603 - ETA: 1s - loss: 5.7595 - acc: 0.603 - ETA: 1s - loss: 5.7728 - acc: 0.602 - ETA: 1s - loss: 5.7733 - acc: 0.602 - ETA: 1s - loss: 5.8076 - acc: 0.600 - ETA: 1s - loss: 5.8210 - acc: 0.599 - ETA: 1s - loss: 5.8177 - acc: 0.599 - ETA: 1s - loss: 5.8290 - acc: 0.598 - ETA: 1s - loss: 5.8421 - acc: 0.598 - ETA: 1s - loss: 5.8451 - acc: 0.598 - ETA: 1s - loss: 5.8359 - acc: 0.598 - ETA: 1s - loss: 5.8244 - acc: 0.599 - ETA: 1s - loss: 5.8298 - acc: 0.599 - ETA: 1s - loss: 5.8320 - acc: 0.598 - ETA: 1s - loss: 5.8366 - acc: 0.597 - ETA: 0s - loss: 5.8462 - acc: 0.597 - ETA: 0s - loss: 5.8565 - acc: 0.596 - ETA: 0s - loss: 5.8694 - acc: 0.595 - ETA: 0s - loss: 5.8887 - acc: 0.594 - ETA: 0s - loss: 5.8758 - acc: 0.595 - ETA: 0s - loss: 5.9050 - acc: 0.593 - ETA: 0s - loss: 5.9001 - acc: 0.594 - ETA: 0s - loss: 5.8790 - acc: 0.595 - ETA: 0s - loss: 5.8790 - acc: 0.595 - ETA: 0s - loss: 5.8946 - acc: 0.594 - ETA: 0s - loss: 5.9000 - acc: 0.594 - ETA: 0s - loss: 5.8818 - acc: 0.595 - ETA: 0s - loss: 5.8677 - acc: 0.596 - ETA: 0s - loss: 5.8612 - acc: 0.597 - ETA: 0s - loss: 5.8547 - acc: 0.597 - ETA: 0s - loss: 5.8657 - acc: 0.597 - ETA: 0s - loss: 5.8663 - acc: 0.597 - 5s 812us/step - loss: 5.8570 - acc: 0.5978 - val_loss: 6.6518 - val_acc: 0.4958\n",
      "\n",
      "Epoch 00008: val_loss improved from 6.80854 to 6.65180, saving model to saved_models/weights.best.VGG16.hdf5\n",
      "Epoch 9/20\n"
     ]
    },
    {
     "name": "stdout",
     "output_type": "stream",
     "text": [
      "6680/6680 [==============================] - ETA: 5s - loss: 2.4563 - acc: 0.800 - ETA: 5s - loss: 4.7044 - acc: 0.690 - ETA: 4s - loss: 5.0568 - acc: 0.655 - ETA: 4s - loss: 5.4826 - acc: 0.626 - ETA: 4s - loss: 5.4455 - acc: 0.629 - ETA: 4s - loss: 5.3124 - acc: 0.642 - ETA: 4s - loss: 5.5793 - acc: 0.624 - ETA: 4s - loss: 5.7326 - acc: 0.617 - ETA: 4s - loss: 5.5055 - acc: 0.633 - ETA: 4s - loss: 5.6090 - acc: 0.629 - ETA: 4s - loss: 5.6933 - acc: 0.625 - ETA: 4s - loss: 5.6219 - acc: 0.631 - ETA: 4s - loss: 5.4642 - acc: 0.639 - ETA: 4s - loss: 5.4711 - acc: 0.637 - ETA: 4s - loss: 5.4855 - acc: 0.636 - ETA: 4s - loss: 5.4964 - acc: 0.637 - ETA: 3s - loss: 5.4505 - acc: 0.640 - ETA: 3s - loss: 5.5794 - acc: 0.632 - ETA: 3s - loss: 5.6443 - acc: 0.627 - ETA: 3s - loss: 5.6005 - acc: 0.629 - ETA: 3s - loss: 5.5870 - acc: 0.629 - ETA: 3s - loss: 5.5862 - acc: 0.628 - ETA: 3s - loss: 5.5497 - acc: 0.631 - ETA: 3s - loss: 5.5481 - acc: 0.631 - ETA: 3s - loss: 5.5848 - acc: 0.628 - ETA: 3s - loss: 5.5796 - acc: 0.627 - ETA: 3s - loss: 5.5428 - acc: 0.629 - ETA: 3s - loss: 5.5180 - acc: 0.631 - ETA: 3s - loss: 5.5616 - acc: 0.629 - ETA: 3s - loss: 5.5928 - acc: 0.627 - ETA: 3s - loss: 5.5559 - acc: 0.630 - ETA: 3s - loss: 5.6397 - acc: 0.625 - ETA: 3s - loss: 5.6318 - acc: 0.625 - ETA: 2s - loss: 5.6471 - acc: 0.624 - ETA: 2s - loss: 5.6693 - acc: 0.622 - ETA: 2s - loss: 5.6636 - acc: 0.623 - ETA: 2s - loss: 5.6387 - acc: 0.624 - ETA: 2s - loss: 5.6411 - acc: 0.623 - ETA: 2s - loss: 5.6419 - acc: 0.622 - ETA: 2s - loss: 5.6512 - acc: 0.622 - ETA: 2s - loss: 5.6560 - acc: 0.622 - ETA: 2s - loss: 5.6371 - acc: 0.623 - ETA: 2s - loss: 5.6212 - acc: 0.625 - ETA: 2s - loss: 5.6240 - acc: 0.624 - ETA: 2s - loss: 5.5897 - acc: 0.626 - ETA: 2s - loss: 5.5943 - acc: 0.626 - ETA: 2s - loss: 5.6147 - acc: 0.625 - ETA: 2s - loss: 5.6020 - acc: 0.625 - ETA: 2s - loss: 5.6013 - acc: 0.625 - ETA: 2s - loss: 5.6096 - acc: 0.624 - ETA: 1s - loss: 5.6165 - acc: 0.624 - ETA: 1s - loss: 5.6271 - acc: 0.623 - ETA: 1s - loss: 5.6346 - acc: 0.622 - ETA: 1s - loss: 5.6362 - acc: 0.621 - ETA: 1s - loss: 5.6475 - acc: 0.621 - ETA: 1s - loss: 5.6522 - acc: 0.621 - ETA: 1s - loss: 5.6729 - acc: 0.619 - ETA: 1s - loss: 5.6695 - acc: 0.620 - ETA: 1s - loss: 5.6814 - acc: 0.619 - ETA: 1s - loss: 5.7015 - acc: 0.618 - ETA: 1s - loss: 5.6919 - acc: 0.619 - ETA: 1s - loss: 5.6895 - acc: 0.619 - ETA: 1s - loss: 5.6905 - acc: 0.619 - ETA: 1s - loss: 5.7003 - acc: 0.618 - ETA: 1s - loss: 5.6887 - acc: 0.618 - ETA: 1s - loss: 5.6793 - acc: 0.619 - ETA: 1s - loss: 5.6831 - acc: 0.619 - ETA: 0s - loss: 5.6791 - acc: 0.619 - ETA: 0s - loss: 5.6718 - acc: 0.619 - ETA: 0s - loss: 5.6726 - acc: 0.619 - ETA: 0s - loss: 5.6806 - acc: 0.619 - ETA: 0s - loss: 5.7106 - acc: 0.617 - ETA: 0s - loss: 5.7132 - acc: 0.617 - ETA: 0s - loss: 5.7127 - acc: 0.617 - ETA: 0s - loss: 5.7209 - acc: 0.616 - ETA: 0s - loss: 5.7150 - acc: 0.617 - ETA: 0s - loss: 5.7211 - acc: 0.617 - ETA: 0s - loss: 5.7183 - acc: 0.617 - ETA: 0s - loss: 5.7208 - acc: 0.617 - ETA: 0s - loss: 5.7124 - acc: 0.617 - ETA: 0s - loss: 5.7136 - acc: 0.617 - ETA: 0s - loss: 5.7290 - acc: 0.616 - ETA: 0s - loss: 5.7325 - acc: 0.616 - ETA: 0s - loss: 5.7341 - acc: 0.616 - 5s 813us/step - loss: 5.7377 - acc: 0.6162 - val_loss: 6.6021 - val_acc: 0.4922\n",
      "\n",
      "Epoch 00009: val_loss improved from 6.65180 to 6.60206, saving model to saved_models/weights.best.VGG16.hdf5\n",
      "Epoch 10/20\n",
      "6680/6680 [==============================] - ETA: 4s - loss: 3.9362 - acc: 0.750 - ETA: 5s - loss: 5.0183 - acc: 0.675 - ETA: 5s - loss: 5.1949 - acc: 0.657 - ETA: 5s - loss: 5.4922 - acc: 0.645 - ETA: 5s - loss: 5.9668 - acc: 0.620 - ETA: 5s - loss: 6.1073 - acc: 0.605 - ETA: 5s - loss: 6.0665 - acc: 0.606 - ETA: 4s - loss: 6.0170 - acc: 0.607 - ETA: 4s - loss: 5.9818 - acc: 0.611 - ETA: 4s - loss: 5.8981 - acc: 0.615 - ETA: 4s - loss: 5.9223 - acc: 0.610 - ETA: 4s - loss: 5.8346 - acc: 0.614 - ETA: 4s - loss: 5.7301 - acc: 0.621 - ETA: 4s - loss: 5.7995 - acc: 0.616 - ETA: 4s - loss: 5.7003 - acc: 0.621 - ETA: 4s - loss: 5.6623 - acc: 0.623 - ETA: 4s - loss: 5.6308 - acc: 0.626 - ETA: 4s - loss: 5.5012 - acc: 0.634 - ETA: 4s - loss: 5.4656 - acc: 0.636 - ETA: 4s - loss: 5.5371 - acc: 0.632 - ETA: 4s - loss: 5.5503 - acc: 0.631 - ETA: 3s - loss: 5.5689 - acc: 0.631 - ETA: 3s - loss: 5.5389 - acc: 0.633 - ETA: 3s - loss: 5.5228 - acc: 0.633 - ETA: 3s - loss: 5.5269 - acc: 0.633 - ETA: 3s - loss: 5.4742 - acc: 0.636 - ETA: 3s - loss: 5.4885 - acc: 0.634 - ETA: 3s - loss: 5.5189 - acc: 0.631 - ETA: 3s - loss: 5.4596 - acc: 0.635 - ETA: 3s - loss: 5.5106 - acc: 0.632 - ETA: 3s - loss: 5.4826 - acc: 0.634 - ETA: 3s - loss: 5.5186 - acc: 0.632 - ETA: 3s - loss: 5.5347 - acc: 0.631 - ETA: 3s - loss: 5.5706 - acc: 0.629 - ETA: 3s - loss: 5.6047 - acc: 0.628 - ETA: 3s - loss: 5.6080 - acc: 0.628 - ETA: 2s - loss: 5.5742 - acc: 0.631 - ETA: 2s - loss: 5.5995 - acc: 0.628 - ETA: 2s - loss: 5.6118 - acc: 0.627 - ETA: 2s - loss: 5.6417 - acc: 0.625 - ETA: 2s - loss: 5.6741 - acc: 0.622 - ETA: 2s - loss: 5.6843 - acc: 0.621 - ETA: 2s - loss: 5.6956 - acc: 0.621 - ETA: 2s - loss: 5.7459 - acc: 0.618 - ETA: 2s - loss: 5.7170 - acc: 0.620 - ETA: 2s - loss: 5.7045 - acc: 0.621 - ETA: 2s - loss: 5.6999 - acc: 0.621 - ETA: 2s - loss: 5.7188 - acc: 0.620 - ETA: 2s - loss: 5.6936 - acc: 0.621 - ETA: 2s - loss: 5.6944 - acc: 0.621 - ETA: 2s - loss: 5.6907 - acc: 0.621 - ETA: 2s - loss: 5.6761 - acc: 0.622 - ETA: 2s - loss: 5.6767 - acc: 0.622 - ETA: 2s - loss: 5.6617 - acc: 0.623 - ETA: 1s - loss: 5.6794 - acc: 0.622 - ETA: 1s - loss: 5.6509 - acc: 0.624 - ETA: 1s - loss: 5.6632 - acc: 0.622 - ETA: 1s - loss: 5.6726 - acc: 0.622 - ETA: 1s - loss: 5.6569 - acc: 0.623 - ETA: 1s - loss: 5.6462 - acc: 0.623 - ETA: 1s - loss: 5.6420 - acc: 0.623 - ETA: 1s - loss: 5.6680 - acc: 0.621 - ETA: 1s - loss: 5.6621 - acc: 0.621 - ETA: 1s - loss: 5.6572 - acc: 0.622 - ETA: 1s - loss: 5.6347 - acc: 0.623 - ETA: 1s - loss: 5.6040 - acc: 0.625 - ETA: 1s - loss: 5.6016 - acc: 0.625 - ETA: 1s - loss: 5.6263 - acc: 0.624 - ETA: 1s - loss: 5.6400 - acc: 0.623 - ETA: 1s - loss: 5.6397 - acc: 0.623 - ETA: 0s - loss: 5.6576 - acc: 0.622 - ETA: 0s - loss: 5.6577 - acc: 0.622 - ETA: 0s - loss: 5.6541 - acc: 0.622 - ETA: 0s - loss: 5.6399 - acc: 0.623 - ETA: 0s - loss: 5.6384 - acc: 0.623 - ETA: 0s - loss: 5.6359 - acc: 0.624 - ETA: 0s - loss: 5.6307 - acc: 0.624 - ETA: 0s - loss: 5.6237 - acc: 0.624 - ETA: 0s - loss: 5.6367 - acc: 0.624 - ETA: 0s - loss: 5.6348 - acc: 0.623 - ETA: 0s - loss: 5.6483 - acc: 0.622 - ETA: 0s - loss: 5.6465 - acc: 0.622 - ETA: 0s - loss: 5.6416 - acc: 0.622 - ETA: 0s - loss: 5.6541 - acc: 0.621 - ETA: 0s - loss: 5.6510 - acc: 0.621 - ETA: 0s - loss: 5.6495 - acc: 0.621 - 5s 813us/step - loss: 5.6356 - acc: 0.6222 - val_loss: 6.4613 - val_acc: 0.5042\n",
      "\n",
      "Epoch 00010: val_loss improved from 6.60206 to 6.46131, saving model to saved_models/weights.best.VGG16.hdf5\n",
      "Epoch 11/20\n"
     ]
    },
    {
     "name": "stdout",
     "output_type": "stream",
     "text": [
      "6680/6680 [==============================] - ETA: 6s - loss: 4.9277 - acc: 0.650 - ETA: 5s - loss: 4.6687 - acc: 0.700 - ETA: 5s - loss: 5.1584 - acc: 0.668 - ETA: 5s - loss: 5.2885 - acc: 0.658 - ETA: 4s - loss: 4.8871 - acc: 0.684 - ETA: 4s - loss: 5.1649 - acc: 0.665 - ETA: 4s - loss: 5.0479 - acc: 0.672 - ETA: 4s - loss: 4.7947 - acc: 0.687 - ETA: 4s - loss: 4.8748 - acc: 0.681 - ETA: 4s - loss: 4.9673 - acc: 0.673 - ETA: 4s - loss: 4.9942 - acc: 0.671 - ETA: 4s - loss: 5.1169 - acc: 0.663 - ETA: 4s - loss: 5.2291 - acc: 0.655 - ETA: 4s - loss: 5.2117 - acc: 0.654 - ETA: 4s - loss: 5.2957 - acc: 0.650 - ETA: 4s - loss: 5.2925 - acc: 0.651 - ETA: 4s - loss: 5.2804 - acc: 0.652 - ETA: 3s - loss: 5.3331 - acc: 0.646 - ETA: 3s - loss: 5.4315 - acc: 0.640 - ETA: 3s - loss: 5.4017 - acc: 0.642 - ETA: 3s - loss: 5.4180 - acc: 0.640 - ETA: 3s - loss: 5.4097 - acc: 0.642 - ETA: 3s - loss: 5.3569 - acc: 0.646 - ETA: 3s - loss: 5.3610 - acc: 0.647 - ETA: 3s - loss: 5.3480 - acc: 0.649 - ETA: 3s - loss: 5.3015 - acc: 0.651 - ETA: 3s - loss: 5.3192 - acc: 0.649 - ETA: 3s - loss: 5.3413 - acc: 0.647 - ETA: 3s - loss: 5.3181 - acc: 0.649 - ETA: 3s - loss: 5.3475 - acc: 0.646 - ETA: 3s - loss: 5.3546 - acc: 0.645 - ETA: 3s - loss: 5.3848 - acc: 0.644 - ETA: 3s - loss: 5.4260 - acc: 0.642 - ETA: 3s - loss: 5.4384 - acc: 0.641 - ETA: 2s - loss: 5.4450 - acc: 0.641 - ETA: 2s - loss: 5.4444 - acc: 0.641 - ETA: 2s - loss: 5.4361 - acc: 0.641 - ETA: 2s - loss: 5.3940 - acc: 0.644 - ETA: 2s - loss: 5.3809 - acc: 0.645 - ETA: 2s - loss: 5.3861 - acc: 0.644 - ETA: 2s - loss: 5.3626 - acc: 0.645 - ETA: 2s - loss: 5.3490 - acc: 0.645 - ETA: 2s - loss: 5.3195 - acc: 0.647 - ETA: 2s - loss: 5.3085 - acc: 0.649 - ETA: 2s - loss: 5.3289 - acc: 0.648 - ETA: 2s - loss: 5.3577 - acc: 0.646 - ETA: 2s - loss: 5.3751 - acc: 0.645 - ETA: 2s - loss: 5.3818 - acc: 0.644 - ETA: 2s - loss: 5.3792 - acc: 0.645 - ETA: 2s - loss: 5.3811 - acc: 0.644 - ETA: 1s - loss: 5.3742 - acc: 0.645 - ETA: 1s - loss: 5.3977 - acc: 0.643 - ETA: 1s - loss: 5.4315 - acc: 0.639 - ETA: 1s - loss: 5.4375 - acc: 0.639 - ETA: 1s - loss: 5.4221 - acc: 0.639 - ETA: 1s - loss: 5.4272 - acc: 0.639 - ETA: 1s - loss: 5.4377 - acc: 0.638 - ETA: 1s - loss: 5.4363 - acc: 0.638 - ETA: 1s - loss: 5.4493 - acc: 0.637 - ETA: 1s - loss: 5.4394 - acc: 0.638 - ETA: 1s - loss: 5.4351 - acc: 0.638 - ETA: 1s - loss: 5.4470 - acc: 0.638 - ETA: 1s - loss: 5.4470 - acc: 0.638 - ETA: 1s - loss: 5.4380 - acc: 0.639 - ETA: 1s - loss: 5.4349 - acc: 0.639 - ETA: 1s - loss: 5.4336 - acc: 0.639 - ETA: 1s - loss: 5.4388 - acc: 0.638 - ETA: 0s - loss: 5.4470 - acc: 0.637 - ETA: 0s - loss: 5.4514 - acc: 0.637 - ETA: 0s - loss: 5.4580 - acc: 0.636 - ETA: 0s - loss: 5.4592 - acc: 0.636 - ETA: 0s - loss: 5.4782 - acc: 0.635 - ETA: 0s - loss: 5.4704 - acc: 0.635 - ETA: 0s - loss: 5.4628 - acc: 0.636 - ETA: 0s - loss: 5.4470 - acc: 0.637 - ETA: 0s - loss: 5.4641 - acc: 0.636 - ETA: 0s - loss: 5.4660 - acc: 0.636 - ETA: 0s - loss: 5.4570 - acc: 0.636 - ETA: 0s - loss: 5.4709 - acc: 0.636 - ETA: 0s - loss: 5.4847 - acc: 0.635 - ETA: 0s - loss: 5.4958 - acc: 0.634 - ETA: 0s - loss: 5.5027 - acc: 0.634 - ETA: 0s - loss: 5.5124 - acc: 0.633 - ETA: 0s - loss: 5.5109 - acc: 0.633 - 5s 810us/step - loss: 5.4950 - acc: 0.6346 - val_loss: 6.3765 - val_acc: 0.5126\n",
      "\n",
      "Epoch 00011: val_loss improved from 6.46131 to 6.37647, saving model to saved_models/weights.best.VGG16.hdf5\n",
      "Epoch 12/20\n",
      "6680/6680 [==============================] - ETA: 5s - loss: 8.1277 - acc: 0.450 - ETA: 5s - loss: 4.4616 - acc: 0.710 - ETA: 5s - loss: 4.8150 - acc: 0.688 - ETA: 4s - loss: 5.5189 - acc: 0.646 - ETA: 4s - loss: 5.4689 - acc: 0.650 - ETA: 4s - loss: 5.3884 - acc: 0.657 - ETA: 4s - loss: 5.4618 - acc: 0.650 - ETA: 4s - loss: 5.3307 - acc: 0.651 - ETA: 4s - loss: 5.1738 - acc: 0.663 - ETA: 4s - loss: 5.1468 - acc: 0.664 - ETA: 4s - loss: 5.1396 - acc: 0.664 - ETA: 4s - loss: 5.2440 - acc: 0.657 - ETA: 4s - loss: 5.2158 - acc: 0.659 - ETA: 4s - loss: 5.1141 - acc: 0.665 - ETA: 4s - loss: 5.2226 - acc: 0.659 - ETA: 4s - loss: 5.2962 - acc: 0.653 - ETA: 4s - loss: 5.1855 - acc: 0.660 - ETA: 4s - loss: 5.2546 - acc: 0.656 - ETA: 3s - loss: 5.2876 - acc: 0.655 - ETA: 3s - loss: 5.2535 - acc: 0.658 - ETA: 3s - loss: 5.3239 - acc: 0.655 - ETA: 3s - loss: 5.3435 - acc: 0.653 - ETA: 3s - loss: 5.3024 - acc: 0.655 - ETA: 3s - loss: 5.2632 - acc: 0.656 - ETA: 3s - loss: 5.2892 - acc: 0.654 - ETA: 3s - loss: 5.2501 - acc: 0.656 - ETA: 3s - loss: 5.2513 - acc: 0.656 - ETA: 3s - loss: 5.2381 - acc: 0.657 - ETA: 3s - loss: 5.2487 - acc: 0.657 - ETA: 3s - loss: 5.2975 - acc: 0.654 - ETA: 3s - loss: 5.2771 - acc: 0.655 - ETA: 3s - loss: 5.2770 - acc: 0.655 - ETA: 3s - loss: 5.2590 - acc: 0.656 - ETA: 3s - loss: 5.2587 - acc: 0.656 - ETA: 2s - loss: 5.2963 - acc: 0.654 - ETA: 2s - loss: 5.3255 - acc: 0.652 - ETA: 2s - loss: 5.3407 - acc: 0.651 - ETA: 2s - loss: 5.2953 - acc: 0.654 - ETA: 2s - loss: 5.2862 - acc: 0.654 - ETA: 2s - loss: 5.2667 - acc: 0.654 - ETA: 2s - loss: 5.2720 - acc: 0.654 - ETA: 2s - loss: 5.2831 - acc: 0.653 - ETA: 2s - loss: 5.2487 - acc: 0.656 - ETA: 2s - loss: 5.2549 - acc: 0.655 - ETA: 2s - loss: 5.2478 - acc: 0.656 - ETA: 2s - loss: 5.2467 - acc: 0.655 - ETA: 2s - loss: 5.2602 - acc: 0.654 - ETA: 2s - loss: 5.2646 - acc: 0.654 - ETA: 2s - loss: 5.2631 - acc: 0.654 - ETA: 2s - loss: 5.2514 - acc: 0.655 - ETA: 2s - loss: 5.2807 - acc: 0.653 - ETA: 1s - loss: 5.2793 - acc: 0.653 - ETA: 1s - loss: 5.2890 - acc: 0.652 - ETA: 1s - loss: 5.2966 - acc: 0.651 - ETA: 1s - loss: 5.3252 - acc: 0.650 - ETA: 1s - loss: 5.3387 - acc: 0.649 - ETA: 1s - loss: 5.3135 - acc: 0.650 - ETA: 1s - loss: 5.3165 - acc: 0.650 - ETA: 1s - loss: 5.3380 - acc: 0.649 - ETA: 1s - loss: 5.3439 - acc: 0.648 - ETA: 1s - loss: 5.3453 - acc: 0.649 - ETA: 1s - loss: 5.3352 - acc: 0.649 - ETA: 1s - loss: 5.3440 - acc: 0.649 - ETA: 1s - loss: 5.3522 - acc: 0.649 - ETA: 1s - loss: 5.3497 - acc: 0.649 - ETA: 1s - loss: 5.3496 - acc: 0.649 - ETA: 1s - loss: 5.3396 - acc: 0.649 - ETA: 1s - loss: 5.3605 - acc: 0.647 - ETA: 0s - loss: 5.3637 - acc: 0.647 - ETA: 0s - loss: 5.3478 - acc: 0.648 - ETA: 0s - loss: 5.3299 - acc: 0.649 - ETA: 0s - loss: 5.3344 - acc: 0.649 - ETA: 0s - loss: 5.3367 - acc: 0.649 - ETA: 0s - loss: 5.3442 - acc: 0.649 - ETA: 0s - loss: 5.3692 - acc: 0.647 - ETA: 0s - loss: 5.3785 - acc: 0.647 - ETA: 0s - loss: 5.3742 - acc: 0.647 - ETA: 0s - loss: 5.3776 - acc: 0.647 - ETA: 0s - loss: 5.3737 - acc: 0.647 - ETA: 0s - loss: 5.3755 - acc: 0.647 - ETA: 0s - loss: 5.3725 - acc: 0.648 - ETA: 0s - loss: 5.3717 - acc: 0.647 - ETA: 0s - loss: 5.3877 - acc: 0.646 - ETA: 0s - loss: 5.3986 - acc: 0.646 - 5s 811us/step - loss: 5.3987 - acc: 0.6461 - val_loss: 6.4199 - val_acc: 0.5114\n",
      "\n",
      "Epoch 00012: val_loss did not improve from 6.37647\n",
      "Epoch 13/20\n"
     ]
    },
    {
     "name": "stdout",
     "output_type": "stream",
     "text": [
      "6680/6680 [==============================] - ETA: 5s - loss: 3.4447 - acc: 0.750 - ETA: 5s - loss: 5.5936 - acc: 0.630 - ETA: 4s - loss: 5.5856 - acc: 0.627 - ETA: 4s - loss: 5.3474 - acc: 0.646 - ETA: 4s - loss: 5.7086 - acc: 0.620 - ETA: 4s - loss: 5.3243 - acc: 0.642 - ETA: 4s - loss: 5.4762 - acc: 0.638 - ETA: 4s - loss: 5.3797 - acc: 0.646 - ETA: 4s - loss: 5.3403 - acc: 0.651 - ETA: 4s - loss: 5.3611 - acc: 0.650 - ETA: 4s - loss: 5.3899 - acc: 0.648 - ETA: 4s - loss: 5.3393 - acc: 0.651 - ETA: 4s - loss: 5.3668 - acc: 0.650 - ETA: 4s - loss: 5.4348 - acc: 0.646 - ETA: 4s - loss: 5.4041 - acc: 0.646 - ETA: 4s - loss: 5.3566 - acc: 0.649 - ETA: 3s - loss: 5.3627 - acc: 0.650 - ETA: 3s - loss: 5.3780 - acc: 0.648 - ETA: 3s - loss: 5.3607 - acc: 0.650 - ETA: 3s - loss: 5.4107 - acc: 0.646 - ETA: 3s - loss: 5.4382 - acc: 0.645 - ETA: 3s - loss: 5.4489 - acc: 0.644 - ETA: 3s - loss: 5.4587 - acc: 0.643 - ETA: 3s - loss: 5.4730 - acc: 0.641 - ETA: 3s - loss: 5.5018 - acc: 0.640 - ETA: 3s - loss: 5.5451 - acc: 0.636 - ETA: 3s - loss: 5.5199 - acc: 0.638 - ETA: 3s - loss: 5.5392 - acc: 0.636 - ETA: 3s - loss: 5.4701 - acc: 0.641 - ETA: 3s - loss: 5.4369 - acc: 0.643 - ETA: 3s - loss: 5.4128 - acc: 0.644 - ETA: 3s - loss: 5.3976 - acc: 0.645 - ETA: 3s - loss: 5.4287 - acc: 0.643 - ETA: 2s - loss: 5.4545 - acc: 0.641 - ETA: 2s - loss: 5.4230 - acc: 0.643 - ETA: 2s - loss: 5.4346 - acc: 0.642 - ETA: 2s - loss: 5.4318 - acc: 0.643 - ETA: 2s - loss: 5.4492 - acc: 0.642 - ETA: 2s - loss: 5.4362 - acc: 0.643 - ETA: 2s - loss: 5.3855 - acc: 0.646 - ETA: 2s - loss: 5.3667 - acc: 0.647 - ETA: 2s - loss: 5.3923 - acc: 0.645 - ETA: 2s - loss: 5.3841 - acc: 0.646 - ETA: 2s - loss: 5.3533 - acc: 0.648 - ETA: 2s - loss: 5.3619 - acc: 0.648 - ETA: 2s - loss: 5.3830 - acc: 0.646 - ETA: 2s - loss: 5.3637 - acc: 0.647 - ETA: 2s - loss: 5.3510 - acc: 0.648 - ETA: 2s - loss: 5.3195 - acc: 0.650 - ETA: 2s - loss: 5.3500 - acc: 0.649 - ETA: 1s - loss: 5.3616 - acc: 0.648 - ETA: 1s - loss: 5.3472 - acc: 0.649 - ETA: 1s - loss: 5.3318 - acc: 0.650 - ETA: 1s - loss: 5.3308 - acc: 0.650 - ETA: 1s - loss: 5.3159 - acc: 0.650 - ETA: 1s - loss: 5.3203 - acc: 0.650 - ETA: 1s - loss: 5.3222 - acc: 0.650 - ETA: 1s - loss: 5.3273 - acc: 0.649 - ETA: 1s - loss: 5.3269 - acc: 0.649 - ETA: 1s - loss: 5.3286 - acc: 0.648 - ETA: 1s - loss: 5.3204 - acc: 0.649 - ETA: 1s - loss: 5.3028 - acc: 0.650 - ETA: 1s - loss: 5.3052 - acc: 0.650 - ETA: 1s - loss: 5.3021 - acc: 0.650 - ETA: 1s - loss: 5.3015 - acc: 0.650 - ETA: 1s - loss: 5.3071 - acc: 0.650 - ETA: 1s - loss: 5.3192 - acc: 0.649 - ETA: 0s - loss: 5.3189 - acc: 0.649 - ETA: 0s - loss: 5.3213 - acc: 0.649 - ETA: 0s - loss: 5.3393 - acc: 0.648 - ETA: 0s - loss: 5.3447 - acc: 0.648 - ETA: 0s - loss: 5.3466 - acc: 0.648 - ETA: 0s - loss: 5.3438 - acc: 0.647 - ETA: 0s - loss: 5.3372 - acc: 0.648 - ETA: 0s - loss: 5.3375 - acc: 0.647 - ETA: 0s - loss: 5.3481 - acc: 0.647 - ETA: 0s - loss: 5.3443 - acc: 0.647 - ETA: 0s - loss: 5.3490 - acc: 0.647 - ETA: 0s - loss: 5.3474 - acc: 0.647 - ETA: 0s - loss: 5.3210 - acc: 0.648 - ETA: 0s - loss: 5.3415 - acc: 0.647 - ETA: 0s - loss: 5.3334 - acc: 0.647 - ETA: 0s - loss: 5.3166 - acc: 0.648 - ETA: 0s - loss: 5.2968 - acc: 0.649 - 5s 792us/step - loss: 5.2980 - acc: 0.6497 - val_loss: 6.1612 - val_acc: 0.5305\n",
      "\n",
      "Epoch 00013: val_loss improved from 6.37647 to 6.16117, saving model to saved_models/weights.best.VGG16.hdf5\n",
      "Epoch 14/20\n",
      "6680/6680 [==============================] - ETA: 5s - loss: 5.6423 - acc: 0.650 - ETA: 5s - loss: 5.3400 - acc: 0.660 - ETA: 5s - loss: 5.6062 - acc: 0.638 - ETA: 4s - loss: 5.0360 - acc: 0.669 - ETA: 4s - loss: 5.4160 - acc: 0.650 - ETA: 4s - loss: 5.5868 - acc: 0.638 - ETA: 4s - loss: 5.7394 - acc: 0.628 - ETA: 4s - loss: 5.6461 - acc: 0.634 - ETA: 4s - loss: 5.4579 - acc: 0.647 - ETA: 4s - loss: 5.3161 - acc: 0.655 - ETA: 4s - loss: 5.2513 - acc: 0.659 - ETA: 4s - loss: 5.2690 - acc: 0.660 - ETA: 4s - loss: 5.1690 - acc: 0.666 - ETA: 4s - loss: 5.2207 - acc: 0.664 - ETA: 4s - loss: 5.1939 - acc: 0.666 - ETA: 3s - loss: 5.1596 - acc: 0.668 - ETA: 3s - loss: 5.2110 - acc: 0.665 - ETA: 3s - loss: 5.1564 - acc: 0.668 - ETA: 3s - loss: 5.1481 - acc: 0.669 - ETA: 3s - loss: 5.1772 - acc: 0.666 - ETA: 3s - loss: 5.2376 - acc: 0.663 - ETA: 3s - loss: 5.1399 - acc: 0.668 - ETA: 3s - loss: 5.1355 - acc: 0.666 - ETA: 3s - loss: 5.1411 - acc: 0.666 - ETA: 3s - loss: 5.1104 - acc: 0.668 - ETA: 3s - loss: 5.1644 - acc: 0.664 - ETA: 3s - loss: 5.1788 - acc: 0.663 - ETA: 3s - loss: 5.1882 - acc: 0.662 - ETA: 3s - loss: 5.1520 - acc: 0.664 - ETA: 3s - loss: 5.1990 - acc: 0.661 - ETA: 3s - loss: 5.2270 - acc: 0.659 - ETA: 3s - loss: 5.2148 - acc: 0.661 - ETA: 2s - loss: 5.2106 - acc: 0.661 - ETA: 2s - loss: 5.2195 - acc: 0.660 - ETA: 2s - loss: 5.2132 - acc: 0.660 - ETA: 2s - loss: 5.1975 - acc: 0.662 - ETA: 2s - loss: 5.2100 - acc: 0.661 - ETA: 2s - loss: 5.1540 - acc: 0.664 - ETA: 2s - loss: 5.2190 - acc: 0.660 - ETA: 2s - loss: 5.2253 - acc: 0.660 - ETA: 2s - loss: 5.2291 - acc: 0.660 - ETA: 2s - loss: 5.1857 - acc: 0.662 - ETA: 2s - loss: 5.1908 - acc: 0.662 - ETA: 2s - loss: 5.1699 - acc: 0.663 - ETA: 2s - loss: 5.1825 - acc: 0.663 - ETA: 2s - loss: 5.1991 - acc: 0.661 - ETA: 2s - loss: 5.2430 - acc: 0.659 - ETA: 2s - loss: 5.2479 - acc: 0.659 - ETA: 2s - loss: 5.2314 - acc: 0.660 - ETA: 1s - loss: 5.2016 - acc: 0.662 - ETA: 1s - loss: 5.2012 - acc: 0.662 - ETA: 1s - loss: 5.2374 - acc: 0.660 - ETA: 1s - loss: 5.2417 - acc: 0.660 - ETA: 1s - loss: 5.2812 - acc: 0.657 - ETA: 1s - loss: 5.2960 - acc: 0.656 - ETA: 1s - loss: 5.2666 - acc: 0.658 - ETA: 1s - loss: 5.2707 - acc: 0.657 - ETA: 1s - loss: 5.2710 - acc: 0.657 - ETA: 1s - loss: 5.2765 - acc: 0.656 - ETA: 1s - loss: 5.2898 - acc: 0.656 - ETA: 1s - loss: 5.2929 - acc: 0.656 - ETA: 1s - loss: 5.2892 - acc: 0.656 - ETA: 1s - loss: 5.2825 - acc: 0.656 - ETA: 1s - loss: 5.2914 - acc: 0.656 - ETA: 1s - loss: 5.2972 - acc: 0.656 - ETA: 1s - loss: 5.2719 - acc: 0.657 - ETA: 0s - loss: 5.2509 - acc: 0.659 - ETA: 0s - loss: 5.2330 - acc: 0.660 - ETA: 0s - loss: 5.2223 - acc: 0.660 - ETA: 0s - loss: 5.2267 - acc: 0.660 - ETA: 0s - loss: 5.2279 - acc: 0.660 - ETA: 0s - loss: 5.2236 - acc: 0.660 - ETA: 0s - loss: 5.2212 - acc: 0.660 - ETA: 0s - loss: 5.2240 - acc: 0.660 - ETA: 0s - loss: 5.2371 - acc: 0.659 - ETA: 0s - loss: 5.2282 - acc: 0.660 - ETA: 0s - loss: 5.2378 - acc: 0.659 - ETA: 0s - loss: 5.2264 - acc: 0.660 - ETA: 0s - loss: 5.2016 - acc: 0.661 - ETA: 0s - loss: 5.2147 - acc: 0.661 - ETA: 0s - loss: 5.2160 - acc: 0.661 - ETA: 0s - loss: 5.1967 - acc: 0.662 - ETA: 0s - loss: 5.1753 - acc: 0.663 - ETA: 0s - loss: 5.1817 - acc: 0.663 - 5s 785us/step - loss: 5.1926 - acc: 0.6624 - val_loss: 6.1997 - val_acc: 0.5210\n",
      "\n",
      "Epoch 00014: val_loss did not improve from 6.16117\n",
      "Epoch 15/20\n"
     ]
    },
    {
     "name": "stdout",
     "output_type": "stream",
     "text": [
      "6680/6680 [==============================] - ETA: 5s - loss: 6.6652 - acc: 0.550 - ETA: 5s - loss: 6.1002 - acc: 0.612 - ETA: 5s - loss: 5.8100 - acc: 0.625 - ETA: 5s - loss: 6.0605 - acc: 0.612 - ETA: 4s - loss: 6.0123 - acc: 0.618 - ETA: 4s - loss: 5.9524 - acc: 0.620 - ETA: 4s - loss: 5.7348 - acc: 0.633 - ETA: 4s - loss: 5.7100 - acc: 0.633 - ETA: 4s - loss: 5.6011 - acc: 0.640 - ETA: 4s - loss: 5.5888 - acc: 0.641 - ETA: 4s - loss: 5.4367 - acc: 0.650 - ETA: 4s - loss: 5.3714 - acc: 0.654 - ETA: 4s - loss: 5.2662 - acc: 0.660 - ETA: 4s - loss: 5.2023 - acc: 0.665 - ETA: 4s - loss: 5.1059 - acc: 0.671 - ETA: 4s - loss: 5.2659 - acc: 0.661 - ETA: 4s - loss: 5.2401 - acc: 0.663 - ETA: 4s - loss: 5.2296 - acc: 0.664 - ETA: 4s - loss: 5.2641 - acc: 0.662 - ETA: 3s - loss: 5.2471 - acc: 0.664 - ETA: 3s - loss: 5.2734 - acc: 0.662 - ETA: 3s - loss: 5.2816 - acc: 0.661 - ETA: 3s - loss: 5.2692 - acc: 0.662 - ETA: 3s - loss: 5.2377 - acc: 0.662 - ETA: 3s - loss: 5.2376 - acc: 0.663 - ETA: 3s - loss: 5.2480 - acc: 0.662 - ETA: 3s - loss: 5.2191 - acc: 0.664 - ETA: 3s - loss: 5.1730 - acc: 0.667 - ETA: 3s - loss: 5.1523 - acc: 0.669 - ETA: 3s - loss: 5.1444 - acc: 0.668 - ETA: 3s - loss: 5.1233 - acc: 0.669 - ETA: 3s - loss: 5.0980 - acc: 0.671 - ETA: 3s - loss: 5.0782 - acc: 0.672 - ETA: 3s - loss: 5.0858 - acc: 0.671 - ETA: 3s - loss: 5.0923 - acc: 0.670 - ETA: 3s - loss: 5.0782 - acc: 0.671 - ETA: 3s - loss: 5.1050 - acc: 0.669 - ETA: 2s - loss: 5.1257 - acc: 0.667 - ETA: 2s - loss: 5.0876 - acc: 0.669 - ETA: 2s - loss: 5.1187 - acc: 0.668 - ETA: 2s - loss: 5.1232 - acc: 0.668 - ETA: 2s - loss: 5.0881 - acc: 0.669 - ETA: 2s - loss: 5.1331 - acc: 0.666 - ETA: 2s - loss: 5.1307 - acc: 0.667 - ETA: 2s - loss: 5.1158 - acc: 0.668 - ETA: 2s - loss: 5.1158 - acc: 0.668 - ETA: 2s - loss: 5.1249 - acc: 0.667 - ETA: 2s - loss: 5.0829 - acc: 0.670 - ETA: 2s - loss: 5.1038 - acc: 0.669 - ETA: 2s - loss: 5.0933 - acc: 0.669 - ETA: 2s - loss: 5.1186 - acc: 0.668 - ETA: 2s - loss: 5.1049 - acc: 0.669 - ETA: 2s - loss: 5.1076 - acc: 0.669 - ETA: 2s - loss: 5.1241 - acc: 0.668 - ETA: 1s - loss: 5.1228 - acc: 0.668 - ETA: 1s - loss: 5.1227 - acc: 0.668 - ETA: 1s - loss: 5.1406 - acc: 0.667 - ETA: 1s - loss: 5.1452 - acc: 0.666 - ETA: 1s - loss: 5.1297 - acc: 0.667 - ETA: 1s - loss: 5.1234 - acc: 0.667 - ETA: 1s - loss: 5.0982 - acc: 0.669 - ETA: 1s - loss: 5.1027 - acc: 0.668 - ETA: 1s - loss: 5.0990 - acc: 0.669 - ETA: 1s - loss: 5.0814 - acc: 0.670 - ETA: 1s - loss: 5.1024 - acc: 0.669 - ETA: 1s - loss: 5.0932 - acc: 0.670 - ETA: 1s - loss: 5.1091 - acc: 0.668 - ETA: 1s - loss: 5.0876 - acc: 0.670 - ETA: 1s - loss: 5.0639 - acc: 0.671 - ETA: 1s - loss: 5.0743 - acc: 0.670 - ETA: 1s - loss: 5.0745 - acc: 0.671 - ETA: 0s - loss: 5.0653 - acc: 0.671 - ETA: 0s - loss: 5.0679 - acc: 0.671 - ETA: 0s - loss: 5.0473 - acc: 0.673 - ETA: 0s - loss: 5.0477 - acc: 0.673 - ETA: 0s - loss: 5.0508 - acc: 0.672 - ETA: 0s - loss: 5.0551 - acc: 0.672 - ETA: 0s - loss: 5.0516 - acc: 0.673 - ETA: 0s - loss: 5.0490 - acc: 0.673 - ETA: 0s - loss: 5.0577 - acc: 0.672 - ETA: 0s - loss: 5.0637 - acc: 0.672 - ETA: 0s - loss: 5.0752 - acc: 0.671 - ETA: 0s - loss: 5.0810 - acc: 0.671 - ETA: 0s - loss: 5.0669 - acc: 0.672 - ETA: 0s - loss: 5.0796 - acc: 0.671 - ETA: 0s - loss: 5.0876 - acc: 0.670 - ETA: 0s - loss: 5.0967 - acc: 0.670 - ETA: 0s - loss: 5.0932 - acc: 0.670 - 6s 836us/step - loss: 5.1013 - acc: 0.6699 - val_loss: 6.1247 - val_acc: 0.5257\n",
      "\n",
      "Epoch 00015: val_loss improved from 6.16117 to 6.12474, saving model to saved_models/weights.best.VGG16.hdf5\n",
      "Epoch 16/20\n",
      "6680/6680 [==============================] - ETA: 5s - loss: 5.7658 - acc: 0.600 - ETA: 5s - loss: 4.7198 - acc: 0.675 - ETA: 5s - loss: 4.2266 - acc: 0.706 - ETA: 5s - loss: 4.3342 - acc: 0.695 - ETA: 5s - loss: 4.2737 - acc: 0.696 - ETA: 4s - loss: 4.3672 - acc: 0.694 - ETA: 4s - loss: 4.4442 - acc: 0.691 - ETA: 4s - loss: 4.7256 - acc: 0.677 - ETA: 4s - loss: 4.7570 - acc: 0.675 - ETA: 4s - loss: 4.9034 - acc: 0.665 - ETA: 4s - loss: 4.9088 - acc: 0.665 - ETA: 4s - loss: 4.9215 - acc: 0.667 - ETA: 4s - loss: 4.9830 - acc: 0.666 - ETA: 4s - loss: 5.0349 - acc: 0.664 - ETA: 4s - loss: 4.9778 - acc: 0.670 - ETA: 4s - loss: 4.9796 - acc: 0.670 - ETA: 4s - loss: 4.9223 - acc: 0.674 - ETA: 4s - loss: 4.8512 - acc: 0.677 - ETA: 3s - loss: 4.8252 - acc: 0.678 - ETA: 3s - loss: 4.7766 - acc: 0.682 - ETA: 3s - loss: 4.8304 - acc: 0.679 - ETA: 3s - loss: 4.8778 - acc: 0.675 - ETA: 3s - loss: 4.9496 - acc: 0.671 - ETA: 3s - loss: 4.9423 - acc: 0.671 - ETA: 3s - loss: 4.9591 - acc: 0.670 - ETA: 3s - loss: 4.9206 - acc: 0.671 - ETA: 3s - loss: 4.9103 - acc: 0.672 - ETA: 3s - loss: 4.9467 - acc: 0.670 - ETA: 3s - loss: 4.9627 - acc: 0.669 - ETA: 3s - loss: 4.9666 - acc: 0.669 - ETA: 3s - loss: 4.9574 - acc: 0.669 - ETA: 3s - loss: 4.9278 - acc: 0.671 - ETA: 3s - loss: 4.8889 - acc: 0.674 - ETA: 3s - loss: 4.8939 - acc: 0.674 - ETA: 3s - loss: 4.8880 - acc: 0.674 - ETA: 3s - loss: 4.9007 - acc: 0.674 - ETA: 2s - loss: 4.9274 - acc: 0.672 - ETA: 2s - loss: 4.9648 - acc: 0.670 - ETA: 2s - loss: 4.9506 - acc: 0.671 - ETA: 2s - loss: 4.9322 - acc: 0.672 - ETA: 2s - loss: 4.9337 - acc: 0.672 - ETA: 2s - loss: 4.9193 - acc: 0.673 - ETA: 2s - loss: 4.9263 - acc: 0.671 - ETA: 2s - loss: 4.9185 - acc: 0.672 - ETA: 2s - loss: 4.9222 - acc: 0.672 - ETA: 2s - loss: 4.9035 - acc: 0.673 - ETA: 2s - loss: 4.8898 - acc: 0.674 - ETA: 2s - loss: 4.8933 - acc: 0.673 - ETA: 2s - loss: 4.8877 - acc: 0.673 - ETA: 2s - loss: 4.9003 - acc: 0.672 - ETA: 2s - loss: 4.8925 - acc: 0.672 - ETA: 2s - loss: 4.8925 - acc: 0.672 - ETA: 1s - loss: 4.9364 - acc: 0.669 - ETA: 1s - loss: 4.9205 - acc: 0.670 - ETA: 1s - loss: 4.8943 - acc: 0.672 - ETA: 1s - loss: 4.9029 - acc: 0.672 - ETA: 1s - loss: 4.9291 - acc: 0.670 - ETA: 1s - loss: 4.9075 - acc: 0.671 - ETA: 1s - loss: 4.9050 - acc: 0.671 - ETA: 1s - loss: 4.9082 - acc: 0.671 - ETA: 1s - loss: 4.9144 - acc: 0.671 - ETA: 1s - loss: 4.9037 - acc: 0.672 - ETA: 1s - loss: 4.9062 - acc: 0.672 - ETA: 1s - loss: 4.9219 - acc: 0.670 - ETA: 1s - loss: 4.9114 - acc: 0.671 - ETA: 1s - loss: 4.9207 - acc: 0.670 - ETA: 1s - loss: 4.9310 - acc: 0.670 - ETA: 1s - loss: 4.9217 - acc: 0.670 - ETA: 1s - loss: 4.9346 - acc: 0.670 - ETA: 0s - loss: 4.9381 - acc: 0.670 - ETA: 0s - loss: 4.9353 - acc: 0.670 - ETA: 0s - loss: 4.9327 - acc: 0.670 - ETA: 0s - loss: 4.9558 - acc: 0.669 - ETA: 0s - loss: 4.9478 - acc: 0.669 - ETA: 0s - loss: 4.9411 - acc: 0.669 - ETA: 0s - loss: 4.9365 - acc: 0.669 - ETA: 0s - loss: 4.9469 - acc: 0.668 - ETA: 0s - loss: 4.9329 - acc: 0.669 - ETA: 0s - loss: 4.9298 - acc: 0.669 - ETA: 0s - loss: 4.9299 - acc: 0.670 - ETA: 0s - loss: 4.8950 - acc: 0.672 - ETA: 0s - loss: 4.8892 - acc: 0.672 - ETA: 0s - loss: 4.8817 - acc: 0.673 - ETA: 0s - loss: 4.8843 - acc: 0.673 - ETA: 0s - loss: 4.8688 - acc: 0.674 - ETA: 0s - loss: 4.8639 - acc: 0.674 - 6s 828us/step - loss: 4.8565 - acc: 0.6750 - val_loss: 5.7724 - val_acc: 0.5521\n",
      "\n",
      "Epoch 00016: val_loss improved from 6.12474 to 5.77243, saving model to saved_models/weights.best.VGG16.hdf5\n",
      "Epoch 17/20\n"
     ]
    },
    {
     "name": "stdout",
     "output_type": "stream",
     "text": [
      "6680/6680 [==============================] - ETA: 5s - loss: 1.2252 - acc: 0.900 - ETA: 5s - loss: 3.9579 - acc: 0.737 - ETA: 5s - loss: 3.6454 - acc: 0.764 - ETA: 5s - loss: 3.8612 - acc: 0.754 - ETA: 5s - loss: 4.2197 - acc: 0.726 - ETA: 5s - loss: 4.0591 - acc: 0.736 - ETA: 4s - loss: 4.1265 - acc: 0.730 - ETA: 4s - loss: 4.3826 - acc: 0.716 - ETA: 4s - loss: 4.5193 - acc: 0.709 - ETA: 4s - loss: 4.6337 - acc: 0.700 - ETA: 4s - loss: 4.6818 - acc: 0.697 - ETA: 4s - loss: 4.7735 - acc: 0.691 - ETA: 4s - loss: 4.6561 - acc: 0.698 - ETA: 4s - loss: 4.6289 - acc: 0.701 - ETA: 4s - loss: 4.6184 - acc: 0.700 - ETA: 4s - loss: 4.6227 - acc: 0.699 - ETA: 4s - loss: 4.6477 - acc: 0.697 - ETA: 4s - loss: 4.6877 - acc: 0.695 - ETA: 4s - loss: 4.6867 - acc: 0.694 - ETA: 3s - loss: 4.6076 - acc: 0.697 - ETA: 3s - loss: 4.6226 - acc: 0.696 - ETA: 3s - loss: 4.6638 - acc: 0.694 - ETA: 3s - loss: 4.6014 - acc: 0.698 - ETA: 3s - loss: 4.6126 - acc: 0.697 - ETA: 3s - loss: 4.6779 - acc: 0.693 - ETA: 3s - loss: 4.6692 - acc: 0.693 - ETA: 3s - loss: 4.6839 - acc: 0.693 - ETA: 3s - loss: 4.6926 - acc: 0.693 - ETA: 3s - loss: 4.6432 - acc: 0.696 - ETA: 3s - loss: 4.6370 - acc: 0.696 - ETA: 3s - loss: 4.6383 - acc: 0.696 - ETA: 3s - loss: 4.5930 - acc: 0.698 - ETA: 3s - loss: 4.6217 - acc: 0.696 - ETA: 3s - loss: 4.6600 - acc: 0.694 - ETA: 2s - loss: 4.6371 - acc: 0.695 - ETA: 2s - loss: 4.6696 - acc: 0.693 - ETA: 2s - loss: 4.6975 - acc: 0.691 - ETA: 2s - loss: 4.7023 - acc: 0.691 - ETA: 2s - loss: 4.6908 - acc: 0.691 - ETA: 2s - loss: 4.7159 - acc: 0.690 - ETA: 2s - loss: 4.7187 - acc: 0.690 - ETA: 2s - loss: 4.7320 - acc: 0.689 - ETA: 2s - loss: 4.7019 - acc: 0.691 - ETA: 2s - loss: 4.7006 - acc: 0.691 - ETA: 2s - loss: 4.7105 - acc: 0.690 - ETA: 2s - loss: 4.7280 - acc: 0.689 - ETA: 2s - loss: 4.7210 - acc: 0.689 - ETA: 2s - loss: 4.7274 - acc: 0.689 - ETA: 2s - loss: 4.7140 - acc: 0.690 - ETA: 2s - loss: 4.7136 - acc: 0.689 - ETA: 2s - loss: 4.7410 - acc: 0.688 - ETA: 2s - loss: 4.7593 - acc: 0.687 - ETA: 2s - loss: 4.7770 - acc: 0.686 - ETA: 2s - loss: 4.7738 - acc: 0.687 - ETA: 2s - loss: 4.7718 - acc: 0.686 - ETA: 1s - loss: 4.7451 - acc: 0.688 - ETA: 1s - loss: 4.7313 - acc: 0.689 - ETA: 1s - loss: 4.7262 - acc: 0.690 - ETA: 1s - loss: 4.7211 - acc: 0.690 - ETA: 1s - loss: 4.7140 - acc: 0.691 - ETA: 1s - loss: 4.6858 - acc: 0.692 - ETA: 1s - loss: 4.7100 - acc: 0.691 - ETA: 1s - loss: 4.7228 - acc: 0.690 - ETA: 1s - loss: 4.7194 - acc: 0.690 - ETA: 1s - loss: 4.7253 - acc: 0.690 - ETA: 1s - loss: 4.7705 - acc: 0.687 - ETA: 1s - loss: 4.7554 - acc: 0.688 - ETA: 1s - loss: 4.7599 - acc: 0.688 - ETA: 1s - loss: 4.7678 - acc: 0.687 - ETA: 1s - loss: 4.7505 - acc: 0.688 - ETA: 1s - loss: 4.7429 - acc: 0.689 - ETA: 1s - loss: 4.7355 - acc: 0.689 - ETA: 0s - loss: 4.7134 - acc: 0.691 - ETA: 0s - loss: 4.7158 - acc: 0.691 - ETA: 0s - loss: 4.7135 - acc: 0.691 - ETA: 0s - loss: 4.7228 - acc: 0.690 - ETA: 0s - loss: 4.7147 - acc: 0.691 - ETA: 0s - loss: 4.7019 - acc: 0.692 - ETA: 0s - loss: 4.6929 - acc: 0.692 - ETA: 0s - loss: 4.7070 - acc: 0.691 - ETA: 0s - loss: 4.7110 - acc: 0.691 - ETA: 0s - loss: 4.7205 - acc: 0.691 - ETA: 0s - loss: 4.7221 - acc: 0.691 - ETA: 0s - loss: 4.7290 - acc: 0.690 - ETA: 0s - loss: 4.7391 - acc: 0.690 - ETA: 0s - loss: 4.7431 - acc: 0.690 - ETA: 0s - loss: 4.7351 - acc: 0.690 - ETA: 0s - loss: 4.7244 - acc: 0.690 - 6s 839us/step - loss: 4.7299 - acc: 0.6906 - val_loss: 5.7636 - val_acc: 0.5545\n",
      "\n",
      "Epoch 00017: val_loss improved from 5.77243 to 5.76359, saving model to saved_models/weights.best.VGG16.hdf5\n",
      "Epoch 18/20\n",
      "6680/6680 [==============================] - ETA: 5s - loss: 4.8433 - acc: 0.700 - ETA: 5s - loss: 5.1501 - acc: 0.675 - ETA: 5s - loss: 4.7903 - acc: 0.700 - ETA: 5s - loss: 4.8819 - acc: 0.695 - ETA: 5s - loss: 4.7638 - acc: 0.700 - ETA: 5s - loss: 4.7654 - acc: 0.697 - ETA: 5s - loss: 4.5728 - acc: 0.706 - ETA: 4s - loss: 4.6643 - acc: 0.698 - ETA: 4s - loss: 4.6319 - acc: 0.698 - ETA: 4s - loss: 4.5545 - acc: 0.702 - ETA: 4s - loss: 4.7048 - acc: 0.689 - ETA: 4s - loss: 4.8422 - acc: 0.681 - ETA: 4s - loss: 4.8426 - acc: 0.679 - ETA: 4s - loss: 4.7305 - acc: 0.688 - ETA: 4s - loss: 4.6451 - acc: 0.691 - ETA: 4s - loss: 4.5681 - acc: 0.694 - ETA: 4s - loss: 4.5183 - acc: 0.697 - ETA: 4s - loss: 4.5517 - acc: 0.695 - ETA: 4s - loss: 4.5929 - acc: 0.693 - ETA: 4s - loss: 4.5908 - acc: 0.694 - ETA: 3s - loss: 4.6043 - acc: 0.694 - ETA: 3s - loss: 4.6454 - acc: 0.692 - ETA: 3s - loss: 4.6362 - acc: 0.692 - ETA: 3s - loss: 4.6081 - acc: 0.692 - ETA: 3s - loss: 4.5791 - acc: 0.694 - ETA: 3s - loss: 4.5583 - acc: 0.696 - ETA: 3s - loss: 4.6156 - acc: 0.693 - ETA: 3s - loss: 4.6280 - acc: 0.691 - ETA: 3s - loss: 4.6251 - acc: 0.690 - ETA: 3s - loss: 4.5957 - acc: 0.692 - ETA: 3s - loss: 4.5631 - acc: 0.694 - ETA: 3s - loss: 4.5738 - acc: 0.694 - ETA: 3s - loss: 4.5540 - acc: 0.696 - ETA: 3s - loss: 4.5374 - acc: 0.697 - ETA: 3s - loss: 4.5040 - acc: 0.700 - ETA: 3s - loss: 4.5087 - acc: 0.700 - ETA: 2s - loss: 4.5073 - acc: 0.700 - ETA: 2s - loss: 4.5292 - acc: 0.699 - ETA: 2s - loss: 4.5092 - acc: 0.700 - ETA: 2s - loss: 4.5216 - acc: 0.699 - ETA: 2s - loss: 4.5047 - acc: 0.700 - ETA: 2s - loss: 4.5334 - acc: 0.698 - ETA: 2s - loss: 4.5518 - acc: 0.697 - ETA: 2s - loss: 4.5638 - acc: 0.697 - ETA: 2s - loss: 4.6028 - acc: 0.695 - ETA: 2s - loss: 4.5924 - acc: 0.696 - ETA: 2s - loss: 4.5830 - acc: 0.696 - ETA: 2s - loss: 4.5595 - acc: 0.698 - ETA: 2s - loss: 4.5700 - acc: 0.697 - ETA: 2s - loss: 4.5628 - acc: 0.697 - ETA: 2s - loss: 4.5616 - acc: 0.697 - ETA: 2s - loss: 4.5706 - acc: 0.697 - ETA: 2s - loss: 4.5693 - acc: 0.696 - ETA: 1s - loss: 4.5787 - acc: 0.696 - ETA: 1s - loss: 4.5977 - acc: 0.695 - ETA: 1s - loss: 4.5949 - acc: 0.696 - ETA: 1s - loss: 4.5889 - acc: 0.696 - ETA: 1s - loss: 4.5891 - acc: 0.695 - ETA: 1s - loss: 4.5641 - acc: 0.696 - ETA: 1s - loss: 4.5856 - acc: 0.695 - ETA: 1s - loss: 4.5798 - acc: 0.695 - ETA: 1s - loss: 4.5961 - acc: 0.694 - ETA: 1s - loss: 4.5779 - acc: 0.695 - ETA: 1s - loss: 4.5781 - acc: 0.695 - ETA: 1s - loss: 4.5875 - acc: 0.695 - ETA: 1s - loss: 4.6076 - acc: 0.693 - ETA: 1s - loss: 4.5993 - acc: 0.694 - ETA: 1s - loss: 4.6106 - acc: 0.693 - ETA: 1s - loss: 4.5842 - acc: 0.694 - ETA: 0s - loss: 4.5845 - acc: 0.694 - ETA: 0s - loss: 4.5943 - acc: 0.694 - ETA: 0s - loss: 4.5805 - acc: 0.695 - ETA: 0s - loss: 4.5969 - acc: 0.694 - ETA: 0s - loss: 4.5921 - acc: 0.694 - ETA: 0s - loss: 4.5827 - acc: 0.694 - ETA: 0s - loss: 4.5836 - acc: 0.694 - ETA: 0s - loss: 4.5966 - acc: 0.694 - ETA: 0s - loss: 4.6036 - acc: 0.693 - ETA: 0s - loss: 4.5990 - acc: 0.693 - ETA: 0s - loss: 4.5967 - acc: 0.693 - ETA: 0s - loss: 4.5860 - acc: 0.694 - ETA: 0s - loss: 4.5872 - acc: 0.694 - ETA: 0s - loss: 4.5932 - acc: 0.694 - ETA: 0s - loss: 4.5937 - acc: 0.694 - ETA: 0s - loss: 4.5931 - acc: 0.694 - 6s 830us/step - loss: 4.5833 - acc: 0.6952 - val_loss: 5.6092 - val_acc: 0.5581\n",
      "\n",
      "Epoch 00018: val_loss improved from 5.76359 to 5.60924, saving model to saved_models/weights.best.VGG16.hdf5\n",
      "Epoch 19/20\n"
     ]
    },
    {
     "name": "stdout",
     "output_type": "stream",
     "text": [
      "6680/6680 [==============================] - ETA: 5s - loss: 4.8357 - acc: 0.700 - ETA: 5s - loss: 4.8356 - acc: 0.700 - ETA: 5s - loss: 4.3600 - acc: 0.718 - ETA: 4s - loss: 4.1676 - acc: 0.725 - ETA: 4s - loss: 4.2849 - acc: 0.721 - ETA: 4s - loss: 4.2752 - acc: 0.725 - ETA: 4s - loss: 4.0256 - acc: 0.739 - ETA: 4s - loss: 4.2697 - acc: 0.723 - ETA: 4s - loss: 4.1528 - acc: 0.728 - ETA: 4s - loss: 3.9684 - acc: 0.740 - ETA: 4s - loss: 4.0043 - acc: 0.737 - ETA: 4s - loss: 4.0105 - acc: 0.737 - ETA: 4s - loss: 4.0059 - acc: 0.737 - ETA: 4s - loss: 4.0550 - acc: 0.734 - ETA: 4s - loss: 4.1159 - acc: 0.730 - ETA: 4s - loss: 4.2181 - acc: 0.725 - ETA: 3s - loss: 4.2070 - acc: 0.726 - ETA: 3s - loss: 4.2233 - acc: 0.725 - ETA: 3s - loss: 4.2772 - acc: 0.720 - ETA: 3s - loss: 4.2857 - acc: 0.721 - ETA: 3s - loss: 4.3372 - acc: 0.718 - ETA: 3s - loss: 4.3130 - acc: 0.719 - ETA: 3s - loss: 4.3487 - acc: 0.717 - ETA: 3s - loss: 4.4150 - acc: 0.713 - ETA: 3s - loss: 4.4418 - acc: 0.711 - ETA: 3s - loss: 4.4878 - acc: 0.708 - ETA: 3s - loss: 4.4582 - acc: 0.710 - ETA: 3s - loss: 4.4518 - acc: 0.710 - ETA: 3s - loss: 4.4553 - acc: 0.710 - ETA: 3s - loss: 4.4501 - acc: 0.710 - ETA: 3s - loss: 4.4966 - acc: 0.708 - ETA: 3s - loss: 4.4973 - acc: 0.708 - ETA: 3s - loss: 4.4890 - acc: 0.709 - ETA: 2s - loss: 4.4758 - acc: 0.710 - ETA: 2s - loss: 4.5054 - acc: 0.708 - ETA: 2s - loss: 4.4778 - acc: 0.709 - ETA: 2s - loss: 4.5133 - acc: 0.706 - ETA: 2s - loss: 4.5060 - acc: 0.707 - ETA: 2s - loss: 4.5365 - acc: 0.705 - ETA: 2s - loss: 4.5546 - acc: 0.704 - ETA: 2s - loss: 4.5473 - acc: 0.705 - ETA: 2s - loss: 4.5575 - acc: 0.704 - ETA: 2s - loss: 4.5434 - acc: 0.705 - ETA: 2s - loss: 4.5505 - acc: 0.704 - ETA: 2s - loss: 4.5617 - acc: 0.704 - ETA: 2s - loss: 4.5297 - acc: 0.705 - ETA: 2s - loss: 4.5291 - acc: 0.705 - ETA: 2s - loss: 4.5241 - acc: 0.705 - ETA: 2s - loss: 4.5388 - acc: 0.705 - ETA: 2s - loss: 4.5493 - acc: 0.704 - ETA: 1s - loss: 4.5439 - acc: 0.705 - ETA: 1s - loss: 4.5260 - acc: 0.706 - ETA: 1s - loss: 4.5312 - acc: 0.706 - ETA: 1s - loss: 4.5301 - acc: 0.706 - ETA: 1s - loss: 4.5211 - acc: 0.706 - ETA: 1s - loss: 4.4938 - acc: 0.708 - ETA: 1s - loss: 4.5183 - acc: 0.707 - ETA: 1s - loss: 4.5312 - acc: 0.706 - ETA: 1s - loss: 4.5332 - acc: 0.706 - ETA: 1s - loss: 4.5257 - acc: 0.707 - ETA: 1s - loss: 4.5395 - acc: 0.705 - ETA: 1s - loss: 4.5387 - acc: 0.705 - ETA: 1s - loss: 4.5241 - acc: 0.706 - ETA: 1s - loss: 4.5207 - acc: 0.707 - ETA: 1s - loss: 4.5267 - acc: 0.706 - ETA: 1s - loss: 4.5275 - acc: 0.706 - ETA: 1s - loss: 4.5334 - acc: 0.706 - ETA: 0s - loss: 4.5246 - acc: 0.706 - ETA: 0s - loss: 4.5321 - acc: 0.706 - ETA: 0s - loss: 4.5249 - acc: 0.707 - ETA: 0s - loss: 4.5248 - acc: 0.706 - ETA: 0s - loss: 4.5300 - acc: 0.706 - ETA: 0s - loss: 4.5259 - acc: 0.706 - ETA: 0s - loss: 4.5249 - acc: 0.706 - ETA: 0s - loss: 4.5215 - acc: 0.707 - ETA: 0s - loss: 4.5065 - acc: 0.708 - ETA: 0s - loss: 4.5230 - acc: 0.707 - ETA: 0s - loss: 4.5023 - acc: 0.708 - ETA: 0s - loss: 4.5009 - acc: 0.708 - ETA: 0s - loss: 4.5081 - acc: 0.707 - ETA: 0s - loss: 4.4946 - acc: 0.708 - ETA: 0s - loss: 4.4919 - acc: 0.709 - ETA: 0s - loss: 4.5002 - acc: 0.708 - ETA: 0s - loss: 4.5012 - acc: 0.708 - 5s 802us/step - loss: 4.4928 - acc: 0.7088 - val_loss: 5.6993 - val_acc: 0.5629\n",
      "\n",
      "Epoch 00019: val_loss did not improve from 5.60924\n",
      "Epoch 20/20\n",
      "6680/6680 [==============================] - ETA: 5s - loss: 3.2388 - acc: 0.800 - ETA: 5s - loss: 3.4436 - acc: 0.775 - ETA: 5s - loss: 4.3479 - acc: 0.725 - ETA: 5s - loss: 4.5785 - acc: 0.712 - ETA: 5s - loss: 4.5475 - acc: 0.715 - ETA: 4s - loss: 4.5107 - acc: 0.712 - ETA: 4s - loss: 4.5903 - acc: 0.704 - ETA: 4s - loss: 4.6542 - acc: 0.701 - ETA: 4s - loss: 4.5587 - acc: 0.707 - ETA: 4s - loss: 4.5743 - acc: 0.705 - ETA: 4s - loss: 4.5440 - acc: 0.707 - ETA: 4s - loss: 4.4608 - acc: 0.713 - ETA: 4s - loss: 4.4317 - acc: 0.713 - ETA: 4s - loss: 4.4449 - acc: 0.713 - ETA: 4s - loss: 4.3577 - acc: 0.719 - ETA: 4s - loss: 4.3425 - acc: 0.720 - ETA: 4s - loss: 4.3018 - acc: 0.722 - ETA: 3s - loss: 4.2752 - acc: 0.724 - ETA: 3s - loss: 4.2844 - acc: 0.724 - ETA: 3s - loss: 4.2720 - acc: 0.725 - ETA: 3s - loss: 4.2646 - acc: 0.725 - ETA: 3s - loss: 4.3058 - acc: 0.723 - ETA: 3s - loss: 4.3207 - acc: 0.722 - ETA: 3s - loss: 4.3177 - acc: 0.722 - ETA: 3s - loss: 4.3485 - acc: 0.720 - ETA: 3s - loss: 4.3397 - acc: 0.720 - ETA: 3s - loss: 4.3561 - acc: 0.719 - ETA: 3s - loss: 4.3670 - acc: 0.718 - ETA: 3s - loss: 4.3496 - acc: 0.719 - ETA: 3s - loss: 4.3687 - acc: 0.717 - ETA: 3s - loss: 4.4187 - acc: 0.714 - ETA: 3s - loss: 4.4391 - acc: 0.713 - ETA: 3s - loss: 4.4722 - acc: 0.710 - ETA: 2s - loss: 4.4929 - acc: 0.709 - ETA: 2s - loss: 4.4631 - acc: 0.711 - ETA: 2s - loss: 4.4165 - acc: 0.714 - ETA: 2s - loss: 4.4000 - acc: 0.714 - ETA: 2s - loss: 4.4081 - acc: 0.714 - ETA: 2s - loss: 4.4068 - acc: 0.714 - ETA: 2s - loss: 4.3945 - acc: 0.714 - ETA: 2s - loss: 4.3556 - acc: 0.717 - ETA: 2s - loss: 4.3772 - acc: 0.716 - ETA: 2s - loss: 4.3785 - acc: 0.716 - ETA: 2s - loss: 4.3767 - acc: 0.716 - ETA: 2s - loss: 4.4018 - acc: 0.714 - ETA: 2s - loss: 4.3811 - acc: 0.715 - ETA: 2s - loss: 4.3959 - acc: 0.714 - ETA: 2s - loss: 4.3497 - acc: 0.717 - ETA: 2s - loss: 4.3408 - acc: 0.718 - ETA: 2s - loss: 4.3599 - acc: 0.717 - ETA: 1s - loss: 4.3494 - acc: 0.717 - ETA: 1s - loss: 4.3859 - acc: 0.715 - ETA: 1s - loss: 4.3600 - acc: 0.717 - ETA: 1s - loss: 4.3793 - acc: 0.716 - ETA: 1s - loss: 4.3810 - acc: 0.716 - ETA: 1s - loss: 4.4116 - acc: 0.714 - ETA: 1s - loss: 4.4021 - acc: 0.714 - ETA: 1s - loss: 4.4110 - acc: 0.713 - ETA: 1s - loss: 4.3907 - acc: 0.715 - ETA: 1s - loss: 4.3916 - acc: 0.714 - ETA: 1s - loss: 4.3890 - acc: 0.715 - ETA: 1s - loss: 4.3948 - acc: 0.714 - ETA: 1s - loss: 4.4075 - acc: 0.714 - ETA: 1s - loss: 4.4047 - acc: 0.714 - ETA: 1s - loss: 4.4023 - acc: 0.714 - ETA: 1s - loss: 4.4152 - acc: 0.714 - ETA: 1s - loss: 4.4048 - acc: 0.714 - ETA: 0s - loss: 4.3983 - acc: 0.714 - ETA: 0s - loss: 4.3892 - acc: 0.715 - ETA: 0s - loss: 4.3967 - acc: 0.714 - ETA: 0s - loss: 4.4105 - acc: 0.713 - ETA: 0s - loss: 4.4273 - acc: 0.713 - ETA: 0s - loss: 4.4193 - acc: 0.713 - ETA: 0s - loss: 4.4221 - acc: 0.713 - ETA: 0s - loss: 4.4125 - acc: 0.713 - ETA: 0s - loss: 4.4179 - acc: 0.712 - ETA: 0s - loss: 4.4166 - acc: 0.713 - ETA: 0s - loss: 4.4215 - acc: 0.712 - ETA: 0s - loss: 4.4357 - acc: 0.711 - ETA: 0s - loss: 4.4487 - acc: 0.711 - ETA: 0s - loss: 4.4566 - acc: 0.710 - ETA: 0s - loss: 4.4672 - acc: 0.709 - ETA: 0s - loss: 4.4588 - acc: 0.710 - ETA: 0s - loss: 4.4592 - acc: 0.709 - 5s 799us/step - loss: 4.4499 - acc: 0.7103 - val_loss: 5.7753 - val_acc: 0.5557\n",
      "\n",
      "Epoch 00020: val_loss did not improve from 5.60924\n"
     ]
    },
    {
     "data": {
      "text/plain": [
       "<keras.callbacks.History at 0x28d715668>"
      ]
     },
     "execution_count": 97,
     "metadata": {},
     "output_type": "execute_result"
    }
   ],
   "source": [
    "checkpointer = ModelCheckpoint(filepath='saved_models/weights.best.VGG16.hdf5', \n",
    "                               verbose=1, save_best_only=True)\n",
    "\n",
    "VGG16_model.fit(train_VGG16, train_targets, \n",
    "          validation_data=(valid_VGG16, valid_targets),\n",
    "          epochs=20, batch_size=20, callbacks=[checkpointer], verbose=1)"
   ]
  },
  {
   "cell_type": "markdown",
   "metadata": {},
   "source": [
    "### Load the Model with the Best Validation Loss"
   ]
  },
  {
   "cell_type": "code",
   "execution_count": 98,
   "metadata": {},
   "outputs": [],
   "source": [
    "VGG16_model.load_weights('saved_models/weights.best.VGG16.hdf5')"
   ]
  },
  {
   "cell_type": "markdown",
   "metadata": {},
   "source": [
    "### Test the Model\n",
    "\n",
    "Now, we can use the CNN to test how well it identifies breed within our test dataset of dog images.  We print the test accuracy below."
   ]
  },
  {
   "cell_type": "code",
   "execution_count": 99,
   "metadata": {},
   "outputs": [
    {
     "name": "stdout",
     "output_type": "stream",
     "text": [
      "Test accuracy: 56.1005%\n"
     ]
    }
   ],
   "source": [
    "# get index of predicted dog breed for each image in test set\n",
    "VGG16_predictions = [np.argmax(VGG16_model.predict(np.expand_dims(feature, axis=0))) for feature in test_VGG16]\n",
    "\n",
    "# report test accuracy\n",
    "test_accuracy = 100*np.sum(np.array(VGG16_predictions)==np.argmax(test_targets, axis=1))/len(VGG16_predictions)\n",
    "print('Test accuracy: %.4f%%' % test_accuracy)"
   ]
  },
  {
   "cell_type": "markdown",
   "metadata": {},
   "source": [
    "### Predict Dog Breed with the Model"
   ]
  },
  {
   "cell_type": "code",
   "execution_count": 100,
   "metadata": {},
   "outputs": [],
   "source": [
    "from extract_bottleneck_features import *\n",
    "\n",
    "def VGG16_predict_breed(img_path):\n",
    "    # extract bottleneck features\n",
    "    bottleneck_feature = extract_VGG16(path_to_tensor(img_path))\n",
    "    # obtain predicted vector\n",
    "    predicted_vector = VGG16_model.predict(bottleneck_feature)\n",
    "    # return dog breed that is predicted by the model\n",
    "    return dog_names[np.argmax(predicted_vector)]"
   ]
  },
  {
   "cell_type": "markdown",
   "metadata": {},
   "source": [
    "---\n",
    "<a id='step5'></a>\n",
    "## Step 5: Create a CNN to Classify Dog Breeds (using Transfer Learning)\n",
    "\n",
    "You will now use transfer learning to create a CNN that can identify dog breed from images.  Your CNN must attain at least 60% accuracy on the test set.\n",
    "\n",
    "In Step 4, we used transfer learning to create a CNN using VGG-16 bottleneck features.  In this section, you must use the bottleneck features from a different pre-trained model.  To make things easier for you, we have pre-computed the features for all of the networks that are currently available in Keras:\n",
    "- [VGG-19](https://s3-us-west-1.amazonaws.com/udacity-aind/dog-project/DogVGG19Data.npz) bottleneck features\n",
    "- [ResNet-50](https://s3-us-west-1.amazonaws.com/udacity-aind/dog-project/DogResnet50Data.npz) bottleneck features\n",
    "- [Inception](https://s3-us-west-1.amazonaws.com/udacity-aind/dog-project/DogInceptionV3Data.npz) bottleneck features\n",
    "- [Xception](https://s3-us-west-1.amazonaws.com/udacity-aind/dog-project/DogXceptionData.npz) bottleneck features\n",
    "\n",
    "The files are encoded as such:\n",
    "\n",
    "    Dog{network}Data.npz\n",
    "    \n",
    "where `{network}`, in the above filename, can be one of `VGG19`, `Resnet50`, `InceptionV3`, or `Xception`.  Pick one of the above architectures, download the corresponding bottleneck features, and store the downloaded file in the `bottleneck_features/` folder in the repository.\n",
    "\n",
    "### (IMPLEMENTATION) Obtain Bottleneck Features\n",
    "\n",
    "In the code block below, extract the bottleneck features corresponding to the train, test, and validation sets by running the following:\n",
    "\n",
    "    bottleneck_features = np.load('bottleneck_features/Dog{network}Data.npz')\n",
    "    train_{network} = bottleneck_features['train']\n",
    "    valid_{network} = bottleneck_features['valid']\n",
    "    test_{network} = bottleneck_features['test']"
   ]
  },
  {
   "cell_type": "code",
   "execution_count": 101,
   "metadata": {},
   "outputs": [],
   "source": [
    "### TODO: Obtain bottleneck features from another pre-trained CNN.\n",
    "bottleneck_features = np.load('bottleneck_features/DogInceptionV3Data.npz')\n",
    "train_inception = bottleneck_features['train']\n",
    "valid_inception = bottleneck_features['valid']\n",
    "test_inception = bottleneck_features['test']"
   ]
  },
  {
   "cell_type": "code",
   "execution_count": 28,
   "metadata": {},
   "outputs": [
    {
     "data": {
      "text/plain": [
       "(6680, 5, 5, 2048)"
      ]
     },
     "execution_count": 28,
     "metadata": {},
     "output_type": "execute_result"
    }
   ],
   "source": [
    "train_inception.shape"
   ]
  },
  {
   "cell_type": "code",
   "execution_count": 29,
   "metadata": {},
   "outputs": [
    {
     "data": {
      "text/plain": [
       "(836, 5, 5, 2048)"
      ]
     },
     "execution_count": 29,
     "metadata": {},
     "output_type": "execute_result"
    }
   ],
   "source": [
    "test_inception.shape"
   ]
  },
  {
   "cell_type": "code",
   "execution_count": 30,
   "metadata": {},
   "outputs": [
    {
     "data": {
      "text/plain": [
       "(835, 5, 5, 2048)"
      ]
     },
     "execution_count": 30,
     "metadata": {},
     "output_type": "execute_result"
    }
   ],
   "source": [
    "valid_inception.shape"
   ]
  },
  {
   "cell_type": "markdown",
   "metadata": {},
   "source": [
    "### (IMPLEMENTATION) Model Architecture\n",
    "\n",
    "Create a CNN to classify dog breed.  At the end of your code cell block, summarize the layers of your model by executing the line:\n",
    "    \n",
    "        <your model's name>.summary()\n",
    "   \n",
    "__Question 5:__ Outline the steps you took to get to your final CNN architecture and your reasoning at each step.  Describe why you think the architecture is suitable for the current problem.\n",
    "\n",
    "__Answer:__ Initially I have tried with Resnet which threw an exception when I try to predict the dog breed of input images which I pass after spending sometime in debugging the issue, I opened slack channel to see if anyone has faced this kind of issue and then I found few of them faced the similar issue and then they have moved to inception model which lead me to use inception model. Then I have followed the same steps as followed for VGG16 model. My model has given 77.5% accuracy which is greater than VGG16 model. I have also used softmax to classify the output into 133 categories.\n",
    "\n"
   ]
  },
  {
   "cell_type": "code",
   "execution_count": 102,
   "metadata": {},
   "outputs": [
    {
     "name": "stdout",
     "output_type": "stream",
     "text": [
      "_________________________________________________________________\n",
      "Layer (type)                 Output Shape              Param #   \n",
      "=================================================================\n",
      "global_average_pooling2d_4 ( (None, 2048)              0         \n",
      "_________________________________________________________________\n",
      "dense_8 (Dense)              (None, 133)               272517    \n",
      "=================================================================\n",
      "Total params: 272,517\n",
      "Trainable params: 272,517\n",
      "Non-trainable params: 0\n",
      "_________________________________________________________________\n"
     ]
    }
   ],
   "source": [
    "### TODO: Define your architecture.\n",
    "\n",
    "DogInception_model  = Sequential()\n",
    "DogInception_model.add(GlobalAveragePooling2D(input_shape=train_inception.shape[1:]))\n",
    "DogInception_model.add(Dense(133, activation='softmax'))\n",
    "\n",
    "DogInception_model.summary()"
   ]
  },
  {
   "cell_type": "markdown",
   "metadata": {},
   "source": [
    "### (IMPLEMENTATION) Compile the Model"
   ]
  },
  {
   "cell_type": "code",
   "execution_count": 103,
   "metadata": {},
   "outputs": [],
   "source": [
    "### TODO: Compile the model.\n",
    "\n",
    "DogInception_model.compile(loss='categorical_crossentropy', optimizer='rmsprop', metrics=['accuracy'])"
   ]
  },
  {
   "cell_type": "markdown",
   "metadata": {},
   "source": [
    "### (IMPLEMENTATION) Train the Model\n",
    "\n",
    "Train your model in the code cell below.  Use model checkpointing to save the model that attains the best validation loss.  \n",
    "\n",
    "You are welcome to [augment the training data](https://blog.keras.io/building-powerful-image-classification-models-using-very-little-data.html), but this is not a requirement. "
   ]
  },
  {
   "cell_type": "code",
   "execution_count": 104,
   "metadata": {},
   "outputs": [
    {
     "name": "stdout",
     "output_type": "stream",
     "text": [
      "Train on 6680 samples, validate on 835 samples\n",
      "Epoch 1/20\n",
      " - 22s - loss: 1.1736 - acc: 0.7048 - val_loss: 0.6590 - val_acc: 0.8072\n",
      "\n",
      "Epoch 00001: val_loss improved from inf to 0.65902, saving model to saved_models/weights.best.InceptionV3.hdf5\n",
      "Epoch 2/20\n",
      " - 6s - loss: 0.4704 - acc: 0.8591 - val_loss: 0.6685 - val_acc: 0.8144\n",
      "\n",
      "Epoch 00002: val_loss did not improve from 0.65902\n",
      "Epoch 3/20\n",
      " - 6s - loss: 0.3775 - acc: 0.8859 - val_loss: 0.6654 - val_acc: 0.8347\n",
      "\n",
      "Epoch 00003: val_loss did not improve from 0.65902\n",
      "Epoch 4/20\n",
      " - 6s - loss: 0.2971 - acc: 0.9081 - val_loss: 0.7147 - val_acc: 0.8395\n",
      "\n",
      "Epoch 00004: val_loss did not improve from 0.65902\n",
      "Epoch 5/20\n",
      " - 6s - loss: 0.2451 - acc: 0.9254 - val_loss: 0.6981 - val_acc: 0.8467\n",
      "\n",
      "Epoch 00005: val_loss did not improve from 0.65902\n",
      "Epoch 6/20\n",
      " - 6s - loss: 0.2025 - acc: 0.9398 - val_loss: 0.7276 - val_acc: 0.8515\n",
      "\n",
      "Epoch 00006: val_loss did not improve from 0.65902\n",
      "Epoch 7/20\n",
      " - 6s - loss: 0.1728 - acc: 0.9455 - val_loss: 0.7780 - val_acc: 0.8515\n",
      "\n",
      "Epoch 00007: val_loss did not improve from 0.65902\n",
      "Epoch 8/20\n",
      " - 6s - loss: 0.1480 - acc: 0.9524 - val_loss: 0.7420 - val_acc: 0.8527\n",
      "\n",
      "Epoch 00008: val_loss did not improve from 0.65902\n",
      "Epoch 9/20\n",
      " - 6s - loss: 0.1265 - acc: 0.9599 - val_loss: 0.7552 - val_acc: 0.8563\n",
      "\n",
      "Epoch 00009: val_loss did not improve from 0.65902\n",
      "Epoch 10/20\n",
      " - 6s - loss: 0.1167 - acc: 0.9656 - val_loss: 0.7987 - val_acc: 0.8623\n",
      "\n",
      "Epoch 00010: val_loss did not improve from 0.65902\n",
      "Epoch 11/20\n",
      " - 6s - loss: 0.0953 - acc: 0.9710 - val_loss: 0.8403 - val_acc: 0.8515\n",
      "\n",
      "Epoch 00011: val_loss did not improve from 0.65902\n",
      "Epoch 12/20\n",
      " - 6s - loss: 0.0839 - acc: 0.9744 - val_loss: 0.8180 - val_acc: 0.8611\n",
      "\n",
      "Epoch 00012: val_loss did not improve from 0.65902\n",
      "Epoch 13/20\n",
      " - 6s - loss: 0.0728 - acc: 0.9792 - val_loss: 0.8408 - val_acc: 0.8515\n",
      "\n",
      "Epoch 00013: val_loss did not improve from 0.65902\n",
      "Epoch 14/20\n",
      " - 6s - loss: 0.0647 - acc: 0.9813 - val_loss: 0.8580 - val_acc: 0.8551\n",
      "\n",
      "Epoch 00014: val_loss did not improve from 0.65902\n",
      "Epoch 15/20\n",
      " - 6s - loss: 0.0574 - acc: 0.9831 - val_loss: 0.8803 - val_acc: 0.8575\n",
      "\n",
      "Epoch 00015: val_loss did not improve from 0.65902\n",
      "Epoch 16/20\n",
      " - 6s - loss: 0.0477 - acc: 0.9858 - val_loss: 0.9317 - val_acc: 0.8467\n",
      "\n",
      "Epoch 00016: val_loss did not improve from 0.65902\n",
      "Epoch 17/20\n",
      " - 6s - loss: 0.0426 - acc: 0.9877 - val_loss: 0.9294 - val_acc: 0.8587\n",
      "\n",
      "Epoch 00017: val_loss did not improve from 0.65902\n",
      "Epoch 18/20\n",
      " - 6s - loss: 0.0398 - acc: 0.9868 - val_loss: 0.9384 - val_acc: 0.8563\n",
      "\n",
      "Epoch 00018: val_loss did not improve from 0.65902\n",
      "Epoch 19/20\n",
      " - 6s - loss: 0.0320 - acc: 0.9885 - val_loss: 0.9582 - val_acc: 0.8467\n",
      "\n",
      "Epoch 00019: val_loss did not improve from 0.65902\n",
      "Epoch 20/20\n",
      " - 6s - loss: 0.0299 - acc: 0.9906 - val_loss: 0.9307 - val_acc: 0.8551\n",
      "\n",
      "Epoch 00020: val_loss did not improve from 0.65902\n"
     ]
    },
    {
     "data": {
      "text/plain": [
       "<keras.callbacks.History at 0x28d7e6630>"
      ]
     },
     "execution_count": 104,
     "metadata": {},
     "output_type": "execute_result"
    }
   ],
   "source": [
    "\n",
    "checkpointer = ModelCheckpoint(filepath='saved_models/weights.best.InceptionV3.hdf5', \n",
    "                               verbose=2, save_best_only=True)\n",
    "\n",
    "DogInception_model.fit(train_inception, train_targets, \n",
    "          validation_data=(valid_inception, valid_targets),\n",
    "          epochs=20, batch_size=20, callbacks=[checkpointer], verbose=2)"
   ]
  },
  {
   "cell_type": "markdown",
   "metadata": {},
   "source": [
    "### (IMPLEMENTATION) Load the Model with the Best Validation Loss"
   ]
  },
  {
   "cell_type": "code",
   "execution_count": 105,
   "metadata": {},
   "outputs": [],
   "source": [
    "### TODO: Load the model weights with the best validation loss.\n",
    "DogInception_model.load_weights('saved_models/weights.best.InceptionV3.hdf5')"
   ]
  },
  {
   "cell_type": "markdown",
   "metadata": {},
   "source": [
    "### (IMPLEMENTATION) Test the Model\n",
    "\n",
    "Try out your model on the test dataset of dog images. Ensure that your test accuracy is greater than 60%."
   ]
  },
  {
   "cell_type": "code",
   "execution_count": 106,
   "metadata": {},
   "outputs": [
    {
     "name": "stdout",
     "output_type": "stream",
     "text": [
      "Test accuracy: 77.5120%\n"
     ]
    }
   ],
   "source": [
    "### TODO: Calculate classification accuracy on the test dataset.\n",
    "DogInception_predictions = [np.argmax(DogInception_model.predict(np.expand_dims(feature, axis=0))) for feature in test_inception]\n",
    "\n",
    "# report test accuracy\n",
    "test_accuracy = 100*np.sum(np.array(DogInception_predictions)==np.argmax(test_targets, axis=1))/len(DogInception_predictions)\n",
    "print('Test accuracy: %.4f%%' % test_accuracy)"
   ]
  },
  {
   "cell_type": "markdown",
   "metadata": {},
   "source": [
    "### (IMPLEMENTATION) Predict Dog Breed with the Model\n",
    "\n",
    "Write a function that takes an image path as input and returns the dog breed (`Affenpinscher`, `Afghan_hound`, etc) that is predicted by your model.  \n",
    "\n",
    "Similar to the analogous function in Step 5, your function should have three steps:\n",
    "1. Extract the bottleneck features corresponding to the chosen CNN model.\n",
    "2. Supply the bottleneck features as input to the model to return the predicted vector.  Note that the argmax of this prediction vector gives the index of the predicted dog breed.\n",
    "3. Use the `dog_names` array defined in Step 0 of this notebook to return the corresponding breed.\n",
    "\n",
    "The functions to extract the bottleneck features can be found in `extract_bottleneck_features.py`, and they have been imported in an earlier code cell.  To obtain the bottleneck features corresponding to your chosen CNN architecture, you need to use the function\n",
    "\n",
    "    extract_{network}\n",
    "    \n",
    "where `{network}`, in the above filename, should be one of `VGG19`, `Resnet50`, `InceptionV3`, or `Xception`."
   ]
  },
  {
   "cell_type": "code",
   "execution_count": 107,
   "metadata": {},
   "outputs": [],
   "source": [
    "### TODO: Write a function that takes a path to an image as input\n",
    "### and returns the dog breed that is predicted by the model.\n",
    "from extract_bottleneck_features import *\n",
    "from keras.preprocessing import image        \n",
    "\n",
    "def dog_breed_predictor(img_path):\n",
    "    # Extract the bottleneck features for Resnet CNN model\n",
    "    bottleneck_feature = extract_InceptionV3(path_to_tensor(img_path))\n",
    "   \n",
    "    #Load the best model\n",
    "    DogInception_model.load_weights('saved_models/weights.best.InceptionV3.hdf5')\n",
    "     # obtain predicted vector\n",
    "    predicted_vector = DogInception_model.predict(bottleneck_feature)\n",
    "    # return dog breed that is predicted by the model\n",
    "    return dog_names[np.argmax(predicted_vector)]"
   ]
  },
  {
   "cell_type": "markdown",
   "metadata": {},
   "source": [
    "---\n",
    "<a id='step6'></a>\n",
    "## Step 6: Write your Algorithm\n",
    "\n",
    "Write an algorithm that accepts a file path to an image and first determines whether the image contains a human, dog, or neither.  Then,\n",
    "- if a __dog__ is detected in the image, return the predicted breed.\n",
    "- if a __human__ is detected in the image, return the resembling dog breed.\n",
    "- if __neither__ is detected in the image, provide output that indicates an error.\n",
    "\n",
    "You are welcome to write your own functions for detecting humans and dogs in images, but feel free to use the `face_detector` and `dog_detector` functions developed above.  You are __required__ to use your CNN from Step 5 to predict dog breed.  \n",
    "\n",
    "Some sample output for our algorithm is provided below, but feel free to design your own user experience!\n",
    "\n",
    "![Sample Human Output](images/sample_human_output.png)\n",
    "\n",
    "\n",
    "### (IMPLEMENTATION) Write your Algorithm"
   ]
  },
  {
   "cell_type": "code",
   "execution_count": 108,
   "metadata": {},
   "outputs": [],
   "source": [
    "### TODO: Write your algorithm.\n",
    "### Feel free to use as many code cells as needed.\n",
    "        \n",
    "def my_classifier(img_path):\n",
    "    if dog_detector(img_path):\n",
    "        print(\"Predicted dog breed is {dog_breed}\".format(dog_breed=dog_breed_predictor(img_path)))\n",
    "        \n",
    "    elif face_detector(img_path):\n",
    "        print(\"HUman detected, Resembling Dog breed is {dog_breed}\".format(dog_breed=dog_breed_predictor(img_path)))\n",
    "    \n",
    "    else:\n",
    "        print(\"Neither a dog nor human is detected, please pass another image as input\")"
   ]
  },
  {
   "cell_type": "markdown",
   "metadata": {},
   "source": [
    "---\n",
    "<a id='step7'></a>\n",
    "## Step 7: Test Your Algorithm\n",
    "\n",
    "In this section, you will take your new algorithm for a spin!  What kind of dog does the algorithm think that __you__ look like?  If you have a dog, does it predict your dog's breed accurately?  If you have a cat, does it mistakenly think that your cat is a dog?\n",
    "\n",
    "### (IMPLEMENTATION) Test Your Algorithm on Sample Images!\n",
    "\n",
    "Test your algorithm at least six images on your computer.  Feel free to use any images you like.  Use at least two human and two dog images.  \n",
    "\n",
    "__Question 6:__ Is the output better than you expected :) ?  Or worse :( ?  Provide at least three possible points of improvement for your algorithm.\n",
    "\n",
    "__Answer:__ The output is far better than what I expected. \n",
    "1. Percentage of the first 100 images in dog_files with detected human face is 12% so may be if we can improve this percentage we can have a more accurate alogirthm.\n",
    "2. If we get any input of mixed breeds or an photo with half of one dog and other half of different breed then we may have to throw an error/exception. \n",
    "3. In the training data there are few do breed classes which has less than 10 images which can lead to lower accuracy.\n",
    "4. May be we have to explore more to reduce the time being taken by algorith to run."
   ]
  },
  {
   "cell_type": "code",
   "execution_count": 46,
   "metadata": {},
   "outputs": [],
   "source": [
    "%matplotlib inline"
   ]
  },
  {
   "cell_type": "markdown",
   "metadata": {},
   "source": [
    "# Initally passing all dog images"
   ]
  },
  {
   "cell_type": "code",
   "execution_count": 109,
   "metadata": {
    "scrolled": true
   },
   "outputs": [
    {
     "name": "stdout",
     "output_type": "stream",
     "text": [
      "Predicted dog breed is Labrador_retriever\n"
     ]
    }
   ],
   "source": [
    "my_classifier('Labrador_retriever_06449.jpg')"
   ]
  },
  {
   "cell_type": "code",
   "execution_count": 110,
   "metadata": {},
   "outputs": [
    {
     "name": "stdout",
     "output_type": "stream",
     "text": [
      "Predicted dog breed is American_water_spaniel\n"
     ]
    }
   ],
   "source": [
    "my_classifier('American_water_spaniel_00648.jpg')"
   ]
  },
  {
   "cell_type": "code",
   "execution_count": 111,
   "metadata": {},
   "outputs": [
    {
     "name": "stdout",
     "output_type": "stream",
     "text": [
      "Predicted dog breed is Welsh_springer_spaniel\n"
     ]
    }
   ],
   "source": [
    "my_classifier('Welsh_springer_spaniel_08203.jpg')"
   ]
  },
  {
   "cell_type": "code",
   "execution_count": 114,
   "metadata": {},
   "outputs": [
    {
     "name": "stdout",
     "output_type": "stream",
     "text": [
      "Predicted dog breed is Beagle\n"
     ]
    }
   ],
   "source": [
    "my_classifier('Beagle.jpg')"
   ]
  },
  {
   "cell_type": "markdown",
   "metadata": {},
   "source": [
    "# passing few human images"
   ]
  },
  {
   "cell_type": "code",
   "execution_count": 115,
   "metadata": {},
   "outputs": [
    {
     "name": "stdout",
     "output_type": "stream",
     "text": [
      "HUman detected, Resembling Dog breed is Icelandic_sheepdog\n"
     ]
    }
   ],
   "source": [
    "my_classifier('human1.jpeg')"
   ]
  },
  {
   "cell_type": "code",
   "execution_count": 116,
   "metadata": {
    "scrolled": true
   },
   "outputs": [
    {
     "name": "stdout",
     "output_type": "stream",
     "text": [
      "HUman detected, Resembling Dog breed is Icelandic_sheepdog\n"
     ]
    }
   ],
   "source": [
    "my_classifier('human2.jpeg')"
   ]
  },
  {
   "cell_type": "code",
   "execution_count": 117,
   "metadata": {},
   "outputs": [
    {
     "name": "stdout",
     "output_type": "stream",
     "text": [
      "Predicted dog breed is Labrador_retriever\n"
     ]
    }
   ],
   "source": [
    "my_classifier('haldandhalf.jpg')"
   ]
  }
 ],
 "metadata": {
  "anaconda-cloud": {},
  "kernelspec": {
   "display_name": "Python 3",
   "language": "python",
   "name": "python3"
  },
  "language_info": {
   "codemirror_mode": {
    "name": "ipython",
    "version": 3
   },
   "file_extension": ".py",
   "mimetype": "text/x-python",
   "name": "python",
   "nbconvert_exporter": "python",
   "pygments_lexer": "ipython3",
   "version": "3.6.5"
  }
 },
 "nbformat": 4,
 "nbformat_minor": 1
}
